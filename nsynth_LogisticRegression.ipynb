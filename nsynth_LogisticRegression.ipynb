{
  "nbformat": 4,
  "nbformat_minor": 0,
  "metadata": {
    "colab": {
      "provenance": [],
      "toc_visible": true,
      "authorship_tag": "ABX9TyPdEvIgG6ho1VfLJ+NqvBoh",
      "include_colab_link": true
    },
    "kernelspec": {
      "name": "python3",
      "display_name": "Python 3"
    },
    "language_info": {
      "name": "python"
    }
  },
  "cells": [
    {
      "cell_type": "markdown",
      "metadata": {
        "id": "view-in-github",
        "colab_type": "text"
      },
      "source": [
        "<a href=\"https://colab.research.google.com/github/Yanaput/EGCI463-pattern-recognition-project/blob/main/nsynth_LogisticRegression.ipynb\" target=\"_parent\"><img src=\"https://colab.research.google.com/assets/colab-badge.svg\" alt=\"Open In Colab\"/></a>"
      ]
    },
    {
      "cell_type": "code",
      "source": [
        "# https://huggingface.co/datasets/TwinkStart/Nsynth"
      ],
      "metadata": {
        "id": "ZQKxvxRYYtgn"
      },
      "execution_count": null,
      "outputs": []
    },
    {
      "cell_type": "code",
      "source": [
        "import numpy as np\n",
        "import os\n",
        "import pandas as pd\n",
        "from google.colab import drive\n",
        "drive.mount('/content/drive')"
      ],
      "metadata": {
        "id": "7VRujvENKGvs",
        "colab": {
          "base_uri": "https://localhost:8080/"
        },
        "outputId": "f2cc4c02-6ca3-4975-dfc9-a70af9172124"
      },
      "execution_count": null,
      "outputs": [
        {
          "output_type": "stream",
          "name": "stdout",
          "text": [
            "Drive already mounted at /content/drive; to attempt to forcibly remount, call drive.mount(\"/content/drive\", force_remount=True).\n"
          ]
        }
      ]
    },
    {
      "cell_type": "code",
      "source": [
        "!pip install librosa keras tensorflow"
      ],
      "metadata": {
        "colab": {
          "base_uri": "https://localhost:8080/"
        },
        "id": "5NoCQvz8YbQ3",
        "outputId": "a540ce95-2052-46a7-8588-ed41b844cd7e",
        "collapsed": true
      },
      "execution_count": null,
      "outputs": [
        {
          "output_type": "stream",
          "name": "stdout",
          "text": [
            "Requirement already satisfied: librosa in /usr/local/lib/python3.10/dist-packages (0.10.2.post1)\n",
            "Requirement already satisfied: keras in /usr/local/lib/python3.10/dist-packages (3.5.0)\n",
            "Requirement already satisfied: tensorflow in /usr/local/lib/python3.10/dist-packages (2.17.1)\n",
            "Requirement already satisfied: audioread>=2.1.9 in /usr/local/lib/python3.10/dist-packages (from librosa) (3.0.1)\n",
            "Requirement already satisfied: numpy!=1.22.0,!=1.22.1,!=1.22.2,>=1.20.3 in /usr/local/lib/python3.10/dist-packages (from librosa) (1.26.4)\n",
            "Requirement already satisfied: scipy>=1.2.0 in /usr/local/lib/python3.10/dist-packages (from librosa) (1.13.1)\n",
            "Requirement already satisfied: scikit-learn>=0.20.0 in /usr/local/lib/python3.10/dist-packages (from librosa) (1.5.2)\n",
            "Requirement already satisfied: joblib>=0.14 in /usr/local/lib/python3.10/dist-packages (from librosa) (1.4.2)\n",
            "Requirement already satisfied: decorator>=4.3.0 in /usr/local/lib/python3.10/dist-packages (from librosa) (4.4.2)\n",
            "Requirement already satisfied: numba>=0.51.0 in /usr/local/lib/python3.10/dist-packages (from librosa) (0.60.0)\n",
            "Requirement already satisfied: soundfile>=0.12.1 in /usr/local/lib/python3.10/dist-packages (from librosa) (0.12.1)\n",
            "Requirement already satisfied: pooch>=1.1 in /usr/local/lib/python3.10/dist-packages (from librosa) (1.8.2)\n",
            "Requirement already satisfied: soxr>=0.3.2 in /usr/local/lib/python3.10/dist-packages (from librosa) (0.5.0.post1)\n",
            "Requirement already satisfied: typing-extensions>=4.1.1 in /usr/local/lib/python3.10/dist-packages (from librosa) (4.12.2)\n",
            "Requirement already satisfied: lazy-loader>=0.1 in /usr/local/lib/python3.10/dist-packages (from librosa) (0.4)\n",
            "Requirement already satisfied: msgpack>=1.0 in /usr/local/lib/python3.10/dist-packages (from librosa) (1.1.0)\n",
            "Requirement already satisfied: absl-py in /usr/local/lib/python3.10/dist-packages (from keras) (1.4.0)\n",
            "Requirement already satisfied: rich in /usr/local/lib/python3.10/dist-packages (from keras) (13.9.4)\n",
            "Requirement already satisfied: namex in /usr/local/lib/python3.10/dist-packages (from keras) (0.0.8)\n",
            "Requirement already satisfied: h5py in /usr/local/lib/python3.10/dist-packages (from keras) (3.12.1)\n",
            "Requirement already satisfied: optree in /usr/local/lib/python3.10/dist-packages (from keras) (0.13.1)\n",
            "Requirement already satisfied: ml-dtypes in /usr/local/lib/python3.10/dist-packages (from keras) (0.4.1)\n",
            "Requirement already satisfied: packaging in /usr/local/lib/python3.10/dist-packages (from keras) (24.2)\n",
            "Requirement already satisfied: astunparse>=1.6.0 in /usr/local/lib/python3.10/dist-packages (from tensorflow) (1.6.3)\n",
            "Requirement already satisfied: flatbuffers>=24.3.25 in /usr/local/lib/python3.10/dist-packages (from tensorflow) (24.3.25)\n",
            "Requirement already satisfied: gast!=0.5.0,!=0.5.1,!=0.5.2,>=0.2.1 in /usr/local/lib/python3.10/dist-packages (from tensorflow) (0.6.0)\n",
            "Requirement already satisfied: google-pasta>=0.1.1 in /usr/local/lib/python3.10/dist-packages (from tensorflow) (0.2.0)\n",
            "Requirement already satisfied: libclang>=13.0.0 in /usr/local/lib/python3.10/dist-packages (from tensorflow) (18.1.1)\n",
            "Requirement already satisfied: opt-einsum>=2.3.2 in /usr/local/lib/python3.10/dist-packages (from tensorflow) (3.4.0)\n",
            "Requirement already satisfied: protobuf!=4.21.0,!=4.21.1,!=4.21.2,!=4.21.3,!=4.21.4,!=4.21.5,<5.0.0dev,>=3.20.3 in /usr/local/lib/python3.10/dist-packages (from tensorflow) (4.25.5)\n",
            "Requirement already satisfied: requests<3,>=2.21.0 in /usr/local/lib/python3.10/dist-packages (from tensorflow) (2.32.3)\n",
            "Requirement already satisfied: setuptools in /usr/local/lib/python3.10/dist-packages (from tensorflow) (75.1.0)\n",
            "Requirement already satisfied: six>=1.12.0 in /usr/local/lib/python3.10/dist-packages (from tensorflow) (1.16.0)\n",
            "Requirement already satisfied: termcolor>=1.1.0 in /usr/local/lib/python3.10/dist-packages (from tensorflow) (2.5.0)\n",
            "Requirement already satisfied: wrapt>=1.11.0 in /usr/local/lib/python3.10/dist-packages (from tensorflow) (1.16.0)\n",
            "Requirement already satisfied: grpcio<2.0,>=1.24.3 in /usr/local/lib/python3.10/dist-packages (from tensorflow) (1.67.1)\n",
            "Requirement already satisfied: tensorboard<2.18,>=2.17 in /usr/local/lib/python3.10/dist-packages (from tensorflow) (2.17.1)\n",
            "Requirement already satisfied: tensorflow-io-gcs-filesystem>=0.23.1 in /usr/local/lib/python3.10/dist-packages (from tensorflow) (0.37.1)\n",
            "Requirement already satisfied: wheel<1.0,>=0.23.0 in /usr/local/lib/python3.10/dist-packages (from astunparse>=1.6.0->tensorflow) (0.45.0)\n",
            "Requirement already satisfied: llvmlite<0.44,>=0.43.0dev0 in /usr/local/lib/python3.10/dist-packages (from numba>=0.51.0->librosa) (0.43.0)\n",
            "Requirement already satisfied: platformdirs>=2.5.0 in /usr/local/lib/python3.10/dist-packages (from pooch>=1.1->librosa) (4.3.6)\n",
            "Requirement already satisfied: charset-normalizer<4,>=2 in /usr/local/lib/python3.10/dist-packages (from requests<3,>=2.21.0->tensorflow) (3.4.0)\n",
            "Requirement already satisfied: idna<4,>=2.5 in /usr/local/lib/python3.10/dist-packages (from requests<3,>=2.21.0->tensorflow) (3.10)\n",
            "Requirement already satisfied: urllib3<3,>=1.21.1 in /usr/local/lib/python3.10/dist-packages (from requests<3,>=2.21.0->tensorflow) (2.2.3)\n",
            "Requirement already satisfied: certifi>=2017.4.17 in /usr/local/lib/python3.10/dist-packages (from requests<3,>=2.21.0->tensorflow) (2024.8.30)\n",
            "Requirement already satisfied: threadpoolctl>=3.1.0 in /usr/local/lib/python3.10/dist-packages (from scikit-learn>=0.20.0->librosa) (3.5.0)\n",
            "Requirement already satisfied: cffi>=1.0 in /usr/local/lib/python3.10/dist-packages (from soundfile>=0.12.1->librosa) (1.17.1)\n",
            "Requirement already satisfied: markdown>=2.6.8 in /usr/local/lib/python3.10/dist-packages (from tensorboard<2.18,>=2.17->tensorflow) (3.7)\n",
            "Requirement already satisfied: tensorboard-data-server<0.8.0,>=0.7.0 in /usr/local/lib/python3.10/dist-packages (from tensorboard<2.18,>=2.17->tensorflow) (0.7.2)\n",
            "Requirement already satisfied: werkzeug>=1.0.1 in /usr/local/lib/python3.10/dist-packages (from tensorboard<2.18,>=2.17->tensorflow) (3.1.3)\n",
            "Requirement already satisfied: markdown-it-py>=2.2.0 in /usr/local/lib/python3.10/dist-packages (from rich->keras) (3.0.0)\n",
            "Requirement already satisfied: pygments<3.0.0,>=2.13.0 in /usr/local/lib/python3.10/dist-packages (from rich->keras) (2.18.0)\n",
            "Requirement already satisfied: pycparser in /usr/local/lib/python3.10/dist-packages (from cffi>=1.0->soundfile>=0.12.1->librosa) (2.22)\n",
            "Requirement already satisfied: mdurl~=0.1 in /usr/local/lib/python3.10/dist-packages (from markdown-it-py>=2.2.0->rich->keras) (0.1.2)\n",
            "Requirement already satisfied: MarkupSafe>=2.1.1 in /usr/local/lib/python3.10/dist-packages (from werkzeug>=1.0.1->tensorboard<2.18,>=2.17->tensorflow) (3.0.2)\n"
          ]
        }
      ]
    },
    {
      "cell_type": "code",
      "source": [
        "from google.colab import userdata\n",
        "projPath  = userdata.get('driveProjDir') #replace this with your csv path"
      ],
      "metadata": {
        "id": "LGpnBOfkbdcV"
      },
      "execution_count": null,
      "outputs": []
    },
    {
      "cell_type": "code",
      "source": [
        "features_label = pd.read_csv(f\"/content/drive/MyDrive/{projPath}/features_label.csv\")"
      ],
      "metadata": {
        "id": "IR_alQ4aatKt"
      },
      "execution_count": null,
      "outputs": []
    },
    {
      "cell_type": "code",
      "source": [
        "features_label"
      ],
      "metadata": {
        "colab": {
          "base_uri": "https://localhost:8080/",
          "height": 443
        },
        "id": "7WnDmbKBb2pd",
        "outputId": "17d8caa3-fd77-4018-ccb3-e4836a31c467"
      },
      "execution_count": null,
      "outputs": [
        {
          "output_type": "execute_result",
          "data": {
            "text/plain": [
              "              0          1          2          3          4          5  \\\n",
              "0    -53.803909 -57.194024 -80.000000 -80.000000 -80.000000 -80.000000   \n",
              "1    -41.581627 -41.147030 -50.666237 -64.943981 -60.756839 -60.464744   \n",
              "2    -16.751124 -14.606224 -14.500415 -14.003709 -14.280511 -14.614283   \n",
              "3     -2.217868   0.000000  -2.265561  -4.262692  -5.280903  -6.297461   \n",
              "4    -39.486546 -30.101491 -29.918419 -34.714702 -49.770357 -55.999469   \n",
              "...         ...        ...        ...        ...        ...        ...   \n",
              "4091 -22.894519 -21.310778 -27.454087 -33.497683 -33.068524 -32.833817   \n",
              "4092 -50.416488 -42.023727 -39.495096 -41.555525 -51.454520 -54.918152   \n",
              "4093 -22.917634 -27.114879 -52.179479 -67.841889 -68.402644 -65.043253   \n",
              "4094 -68.290314 -59.045592 -54.324949 -57.203160 -57.954304 -56.753415   \n",
              "4095 -37.334291 -35.500615 -45.551480 -78.679007 -80.000000 -80.000000   \n",
              "\n",
              "              6          7          8          9  ...  12023  12024  12025  \\\n",
              "0    -80.000000 -80.000000 -80.000000 -80.000000  ...  -80.0  -80.0  -80.0   \n",
              "1    -60.993004 -63.912845 -61.711862 -62.382845  ...  -80.0  -80.0  -80.0   \n",
              "2    -15.854235 -16.143106 -17.500415 -20.172544  ...  -80.0  -80.0  -80.0   \n",
              "3     -7.342139  -8.409485  -9.516589 -10.664447  ...  -80.0  -80.0  -80.0   \n",
              "4    -55.860402 -53.477410 -59.263462 -60.489511  ...  -80.0  -80.0  -80.0   \n",
              "...         ...        ...        ...        ...  ...    ...    ...    ...   \n",
              "4091 -32.720519 -32.592567 -32.394799 -32.219643  ...  -80.0  -80.0  -80.0   \n",
              "4092 -60.328524 -69.375597 -73.076184 -73.600458  ...  -80.0  -80.0  -80.0   \n",
              "4093 -62.685682 -72.406796 -67.885038 -63.723752  ...  -80.0  -80.0  -80.0   \n",
              "4094 -57.259861 -60.041177 -60.289779 -60.373389  ...  -80.0  -80.0  -80.0   \n",
              "4095 -80.000000 -80.000000 -80.000000 -80.000000  ...  -80.0  -80.0  -80.0   \n",
              "\n",
              "         12026  12027  12028  12029  12030      12031  instrument_family  \n",
              "0    -80.00000  -80.0  -80.0  -80.0  -80.0 -80.000000                  3  \n",
              "1    -80.00000  -80.0  -80.0  -80.0  -80.0 -80.000000                  6  \n",
              "2    -80.00000  -80.0  -80.0  -80.0  -80.0 -74.445993                  0  \n",
              "3    -80.00000  -80.0  -80.0  -80.0  -80.0 -80.000000                  0  \n",
              "4    -80.00000  -80.0  -80.0  -80.0  -80.0 -80.000000                  4  \n",
              "...        ...    ...    ...    ...    ...        ...                ...  \n",
              "4091 -80.00000  -80.0  -80.0  -80.0  -80.0 -80.000000                  4  \n",
              "4092 -80.00000  -80.0  -80.0  -80.0  -80.0 -80.000000                  0  \n",
              "4093 -80.00000  -80.0  -80.0  -80.0  -80.0 -80.000000                  5  \n",
              "4094 -78.91858  -80.0  -80.0  -80.0  -80.0 -63.326588                  9  \n",
              "4095 -80.00000  -80.0  -80.0  -80.0  -80.0 -80.000000                  0  \n",
              "\n",
              "[4096 rows x 12033 columns]"
            ],
            "text/html": [
              "\n",
              "  <div id=\"df-79315c47-9b2e-41fa-a8a7-e15c7eb510ad\" class=\"colab-df-container\">\n",
              "    <div>\n",
              "<style scoped>\n",
              "    .dataframe tbody tr th:only-of-type {\n",
              "        vertical-align: middle;\n",
              "    }\n",
              "\n",
              "    .dataframe tbody tr th {\n",
              "        vertical-align: top;\n",
              "    }\n",
              "\n",
              "    .dataframe thead th {\n",
              "        text-align: right;\n",
              "    }\n",
              "</style>\n",
              "<table border=\"1\" class=\"dataframe\">\n",
              "  <thead>\n",
              "    <tr style=\"text-align: right;\">\n",
              "      <th></th>\n",
              "      <th>0</th>\n",
              "      <th>1</th>\n",
              "      <th>2</th>\n",
              "      <th>3</th>\n",
              "      <th>4</th>\n",
              "      <th>5</th>\n",
              "      <th>6</th>\n",
              "      <th>7</th>\n",
              "      <th>8</th>\n",
              "      <th>9</th>\n",
              "      <th>...</th>\n",
              "      <th>12023</th>\n",
              "      <th>12024</th>\n",
              "      <th>12025</th>\n",
              "      <th>12026</th>\n",
              "      <th>12027</th>\n",
              "      <th>12028</th>\n",
              "      <th>12029</th>\n",
              "      <th>12030</th>\n",
              "      <th>12031</th>\n",
              "      <th>instrument_family</th>\n",
              "    </tr>\n",
              "  </thead>\n",
              "  <tbody>\n",
              "    <tr>\n",
              "      <th>0</th>\n",
              "      <td>-53.803909</td>\n",
              "      <td>-57.194024</td>\n",
              "      <td>-80.000000</td>\n",
              "      <td>-80.000000</td>\n",
              "      <td>-80.000000</td>\n",
              "      <td>-80.000000</td>\n",
              "      <td>-80.000000</td>\n",
              "      <td>-80.000000</td>\n",
              "      <td>-80.000000</td>\n",
              "      <td>-80.000000</td>\n",
              "      <td>...</td>\n",
              "      <td>-80.0</td>\n",
              "      <td>-80.0</td>\n",
              "      <td>-80.0</td>\n",
              "      <td>-80.00000</td>\n",
              "      <td>-80.0</td>\n",
              "      <td>-80.0</td>\n",
              "      <td>-80.0</td>\n",
              "      <td>-80.0</td>\n",
              "      <td>-80.000000</td>\n",
              "      <td>3</td>\n",
              "    </tr>\n",
              "    <tr>\n",
              "      <th>1</th>\n",
              "      <td>-41.581627</td>\n",
              "      <td>-41.147030</td>\n",
              "      <td>-50.666237</td>\n",
              "      <td>-64.943981</td>\n",
              "      <td>-60.756839</td>\n",
              "      <td>-60.464744</td>\n",
              "      <td>-60.993004</td>\n",
              "      <td>-63.912845</td>\n",
              "      <td>-61.711862</td>\n",
              "      <td>-62.382845</td>\n",
              "      <td>...</td>\n",
              "      <td>-80.0</td>\n",
              "      <td>-80.0</td>\n",
              "      <td>-80.0</td>\n",
              "      <td>-80.00000</td>\n",
              "      <td>-80.0</td>\n",
              "      <td>-80.0</td>\n",
              "      <td>-80.0</td>\n",
              "      <td>-80.0</td>\n",
              "      <td>-80.000000</td>\n",
              "      <td>6</td>\n",
              "    </tr>\n",
              "    <tr>\n",
              "      <th>2</th>\n",
              "      <td>-16.751124</td>\n",
              "      <td>-14.606224</td>\n",
              "      <td>-14.500415</td>\n",
              "      <td>-14.003709</td>\n",
              "      <td>-14.280511</td>\n",
              "      <td>-14.614283</td>\n",
              "      <td>-15.854235</td>\n",
              "      <td>-16.143106</td>\n",
              "      <td>-17.500415</td>\n",
              "      <td>-20.172544</td>\n",
              "      <td>...</td>\n",
              "      <td>-80.0</td>\n",
              "      <td>-80.0</td>\n",
              "      <td>-80.0</td>\n",
              "      <td>-80.00000</td>\n",
              "      <td>-80.0</td>\n",
              "      <td>-80.0</td>\n",
              "      <td>-80.0</td>\n",
              "      <td>-80.0</td>\n",
              "      <td>-74.445993</td>\n",
              "      <td>0</td>\n",
              "    </tr>\n",
              "    <tr>\n",
              "      <th>3</th>\n",
              "      <td>-2.217868</td>\n",
              "      <td>0.000000</td>\n",
              "      <td>-2.265561</td>\n",
              "      <td>-4.262692</td>\n",
              "      <td>-5.280903</td>\n",
              "      <td>-6.297461</td>\n",
              "      <td>-7.342139</td>\n",
              "      <td>-8.409485</td>\n",
              "      <td>-9.516589</td>\n",
              "      <td>-10.664447</td>\n",
              "      <td>...</td>\n",
              "      <td>-80.0</td>\n",
              "      <td>-80.0</td>\n",
              "      <td>-80.0</td>\n",
              "      <td>-80.00000</td>\n",
              "      <td>-80.0</td>\n",
              "      <td>-80.0</td>\n",
              "      <td>-80.0</td>\n",
              "      <td>-80.0</td>\n",
              "      <td>-80.000000</td>\n",
              "      <td>0</td>\n",
              "    </tr>\n",
              "    <tr>\n",
              "      <th>4</th>\n",
              "      <td>-39.486546</td>\n",
              "      <td>-30.101491</td>\n",
              "      <td>-29.918419</td>\n",
              "      <td>-34.714702</td>\n",
              "      <td>-49.770357</td>\n",
              "      <td>-55.999469</td>\n",
              "      <td>-55.860402</td>\n",
              "      <td>-53.477410</td>\n",
              "      <td>-59.263462</td>\n",
              "      <td>-60.489511</td>\n",
              "      <td>...</td>\n",
              "      <td>-80.0</td>\n",
              "      <td>-80.0</td>\n",
              "      <td>-80.0</td>\n",
              "      <td>-80.00000</td>\n",
              "      <td>-80.0</td>\n",
              "      <td>-80.0</td>\n",
              "      <td>-80.0</td>\n",
              "      <td>-80.0</td>\n",
              "      <td>-80.000000</td>\n",
              "      <td>4</td>\n",
              "    </tr>\n",
              "    <tr>\n",
              "      <th>...</th>\n",
              "      <td>...</td>\n",
              "      <td>...</td>\n",
              "      <td>...</td>\n",
              "      <td>...</td>\n",
              "      <td>...</td>\n",
              "      <td>...</td>\n",
              "      <td>...</td>\n",
              "      <td>...</td>\n",
              "      <td>...</td>\n",
              "      <td>...</td>\n",
              "      <td>...</td>\n",
              "      <td>...</td>\n",
              "      <td>...</td>\n",
              "      <td>...</td>\n",
              "      <td>...</td>\n",
              "      <td>...</td>\n",
              "      <td>...</td>\n",
              "      <td>...</td>\n",
              "      <td>...</td>\n",
              "      <td>...</td>\n",
              "      <td>...</td>\n",
              "    </tr>\n",
              "    <tr>\n",
              "      <th>4091</th>\n",
              "      <td>-22.894519</td>\n",
              "      <td>-21.310778</td>\n",
              "      <td>-27.454087</td>\n",
              "      <td>-33.497683</td>\n",
              "      <td>-33.068524</td>\n",
              "      <td>-32.833817</td>\n",
              "      <td>-32.720519</td>\n",
              "      <td>-32.592567</td>\n",
              "      <td>-32.394799</td>\n",
              "      <td>-32.219643</td>\n",
              "      <td>...</td>\n",
              "      <td>-80.0</td>\n",
              "      <td>-80.0</td>\n",
              "      <td>-80.0</td>\n",
              "      <td>-80.00000</td>\n",
              "      <td>-80.0</td>\n",
              "      <td>-80.0</td>\n",
              "      <td>-80.0</td>\n",
              "      <td>-80.0</td>\n",
              "      <td>-80.000000</td>\n",
              "      <td>4</td>\n",
              "    </tr>\n",
              "    <tr>\n",
              "      <th>4092</th>\n",
              "      <td>-50.416488</td>\n",
              "      <td>-42.023727</td>\n",
              "      <td>-39.495096</td>\n",
              "      <td>-41.555525</td>\n",
              "      <td>-51.454520</td>\n",
              "      <td>-54.918152</td>\n",
              "      <td>-60.328524</td>\n",
              "      <td>-69.375597</td>\n",
              "      <td>-73.076184</td>\n",
              "      <td>-73.600458</td>\n",
              "      <td>...</td>\n",
              "      <td>-80.0</td>\n",
              "      <td>-80.0</td>\n",
              "      <td>-80.0</td>\n",
              "      <td>-80.00000</td>\n",
              "      <td>-80.0</td>\n",
              "      <td>-80.0</td>\n",
              "      <td>-80.0</td>\n",
              "      <td>-80.0</td>\n",
              "      <td>-80.000000</td>\n",
              "      <td>0</td>\n",
              "    </tr>\n",
              "    <tr>\n",
              "      <th>4093</th>\n",
              "      <td>-22.917634</td>\n",
              "      <td>-27.114879</td>\n",
              "      <td>-52.179479</td>\n",
              "      <td>-67.841889</td>\n",
              "      <td>-68.402644</td>\n",
              "      <td>-65.043253</td>\n",
              "      <td>-62.685682</td>\n",
              "      <td>-72.406796</td>\n",
              "      <td>-67.885038</td>\n",
              "      <td>-63.723752</td>\n",
              "      <td>...</td>\n",
              "      <td>-80.0</td>\n",
              "      <td>-80.0</td>\n",
              "      <td>-80.0</td>\n",
              "      <td>-80.00000</td>\n",
              "      <td>-80.0</td>\n",
              "      <td>-80.0</td>\n",
              "      <td>-80.0</td>\n",
              "      <td>-80.0</td>\n",
              "      <td>-80.000000</td>\n",
              "      <td>5</td>\n",
              "    </tr>\n",
              "    <tr>\n",
              "      <th>4094</th>\n",
              "      <td>-68.290314</td>\n",
              "      <td>-59.045592</td>\n",
              "      <td>-54.324949</td>\n",
              "      <td>-57.203160</td>\n",
              "      <td>-57.954304</td>\n",
              "      <td>-56.753415</td>\n",
              "      <td>-57.259861</td>\n",
              "      <td>-60.041177</td>\n",
              "      <td>-60.289779</td>\n",
              "      <td>-60.373389</td>\n",
              "      <td>...</td>\n",
              "      <td>-80.0</td>\n",
              "      <td>-80.0</td>\n",
              "      <td>-80.0</td>\n",
              "      <td>-78.91858</td>\n",
              "      <td>-80.0</td>\n",
              "      <td>-80.0</td>\n",
              "      <td>-80.0</td>\n",
              "      <td>-80.0</td>\n",
              "      <td>-63.326588</td>\n",
              "      <td>9</td>\n",
              "    </tr>\n",
              "    <tr>\n",
              "      <th>4095</th>\n",
              "      <td>-37.334291</td>\n",
              "      <td>-35.500615</td>\n",
              "      <td>-45.551480</td>\n",
              "      <td>-78.679007</td>\n",
              "      <td>-80.000000</td>\n",
              "      <td>-80.000000</td>\n",
              "      <td>-80.000000</td>\n",
              "      <td>-80.000000</td>\n",
              "      <td>-80.000000</td>\n",
              "      <td>-80.000000</td>\n",
              "      <td>...</td>\n",
              "      <td>-80.0</td>\n",
              "      <td>-80.0</td>\n",
              "      <td>-80.0</td>\n",
              "      <td>-80.00000</td>\n",
              "      <td>-80.0</td>\n",
              "      <td>-80.0</td>\n",
              "      <td>-80.0</td>\n",
              "      <td>-80.0</td>\n",
              "      <td>-80.000000</td>\n",
              "      <td>0</td>\n",
              "    </tr>\n",
              "  </tbody>\n",
              "</table>\n",
              "<p>4096 rows × 12033 columns</p>\n",
              "</div>\n",
              "    <div class=\"colab-df-buttons\">\n",
              "\n",
              "  <div class=\"colab-df-container\">\n",
              "    <button class=\"colab-df-convert\" onclick=\"convertToInteractive('df-79315c47-9b2e-41fa-a8a7-e15c7eb510ad')\"\n",
              "            title=\"Convert this dataframe to an interactive table.\"\n",
              "            style=\"display:none;\">\n",
              "\n",
              "  <svg xmlns=\"http://www.w3.org/2000/svg\" height=\"24px\" viewBox=\"0 -960 960 960\">\n",
              "    <path d=\"M120-120v-720h720v720H120Zm60-500h600v-160H180v160Zm220 220h160v-160H400v160Zm0 220h160v-160H400v160ZM180-400h160v-160H180v160Zm440 0h160v-160H620v160ZM180-180h160v-160H180v160Zm440 0h160v-160H620v160Z\"/>\n",
              "  </svg>\n",
              "    </button>\n",
              "\n",
              "  <style>\n",
              "    .colab-df-container {\n",
              "      display:flex;\n",
              "      gap: 12px;\n",
              "    }\n",
              "\n",
              "    .colab-df-convert {\n",
              "      background-color: #E8F0FE;\n",
              "      border: none;\n",
              "      border-radius: 50%;\n",
              "      cursor: pointer;\n",
              "      display: none;\n",
              "      fill: #1967D2;\n",
              "      height: 32px;\n",
              "      padding: 0 0 0 0;\n",
              "      width: 32px;\n",
              "    }\n",
              "\n",
              "    .colab-df-convert:hover {\n",
              "      background-color: #E2EBFA;\n",
              "      box-shadow: 0px 1px 2px rgba(60, 64, 67, 0.3), 0px 1px 3px 1px rgba(60, 64, 67, 0.15);\n",
              "      fill: #174EA6;\n",
              "    }\n",
              "\n",
              "    .colab-df-buttons div {\n",
              "      margin-bottom: 4px;\n",
              "    }\n",
              "\n",
              "    [theme=dark] .colab-df-convert {\n",
              "      background-color: #3B4455;\n",
              "      fill: #D2E3FC;\n",
              "    }\n",
              "\n",
              "    [theme=dark] .colab-df-convert:hover {\n",
              "      background-color: #434B5C;\n",
              "      box-shadow: 0px 1px 3px 1px rgba(0, 0, 0, 0.15);\n",
              "      filter: drop-shadow(0px 1px 2px rgba(0, 0, 0, 0.3));\n",
              "      fill: #FFFFFF;\n",
              "    }\n",
              "  </style>\n",
              "\n",
              "    <script>\n",
              "      const buttonEl =\n",
              "        document.querySelector('#df-79315c47-9b2e-41fa-a8a7-e15c7eb510ad button.colab-df-convert');\n",
              "      buttonEl.style.display =\n",
              "        google.colab.kernel.accessAllowed ? 'block' : 'none';\n",
              "\n",
              "      async function convertToInteractive(key) {\n",
              "        const element = document.querySelector('#df-79315c47-9b2e-41fa-a8a7-e15c7eb510ad');\n",
              "        const dataTable =\n",
              "          await google.colab.kernel.invokeFunction('convertToInteractive',\n",
              "                                                    [key], {});\n",
              "        if (!dataTable) return;\n",
              "\n",
              "        const docLinkHtml = 'Like what you see? Visit the ' +\n",
              "          '<a target=\"_blank\" href=https://colab.research.google.com/notebooks/data_table.ipynb>data table notebook</a>'\n",
              "          + ' to learn more about interactive tables.';\n",
              "        element.innerHTML = '';\n",
              "        dataTable['output_type'] = 'display_data';\n",
              "        await google.colab.output.renderOutput(dataTable, element);\n",
              "        const docLink = document.createElement('div');\n",
              "        docLink.innerHTML = docLinkHtml;\n",
              "        element.appendChild(docLink);\n",
              "      }\n",
              "    </script>\n",
              "  </div>\n",
              "\n",
              "\n",
              "<div id=\"df-c995f5f4-4b6c-4317-8a8b-4b79ba46df67\">\n",
              "  <button class=\"colab-df-quickchart\" onclick=\"quickchart('df-c995f5f4-4b6c-4317-8a8b-4b79ba46df67')\"\n",
              "            title=\"Suggest charts\"\n",
              "            style=\"display:none;\">\n",
              "\n",
              "<svg xmlns=\"http://www.w3.org/2000/svg\" height=\"24px\"viewBox=\"0 0 24 24\"\n",
              "     width=\"24px\">\n",
              "    <g>\n",
              "        <path d=\"M19 3H5c-1.1 0-2 .9-2 2v14c0 1.1.9 2 2 2h14c1.1 0 2-.9 2-2V5c0-1.1-.9-2-2-2zM9 17H7v-7h2v7zm4 0h-2V7h2v10zm4 0h-2v-4h2v4z\"/>\n",
              "    </g>\n",
              "</svg>\n",
              "  </button>\n",
              "\n",
              "<style>\n",
              "  .colab-df-quickchart {\n",
              "      --bg-color: #E8F0FE;\n",
              "      --fill-color: #1967D2;\n",
              "      --hover-bg-color: #E2EBFA;\n",
              "      --hover-fill-color: #174EA6;\n",
              "      --disabled-fill-color: #AAA;\n",
              "      --disabled-bg-color: #DDD;\n",
              "  }\n",
              "\n",
              "  [theme=dark] .colab-df-quickchart {\n",
              "      --bg-color: #3B4455;\n",
              "      --fill-color: #D2E3FC;\n",
              "      --hover-bg-color: #434B5C;\n",
              "      --hover-fill-color: #FFFFFF;\n",
              "      --disabled-bg-color: #3B4455;\n",
              "      --disabled-fill-color: #666;\n",
              "  }\n",
              "\n",
              "  .colab-df-quickchart {\n",
              "    background-color: var(--bg-color);\n",
              "    border: none;\n",
              "    border-radius: 50%;\n",
              "    cursor: pointer;\n",
              "    display: none;\n",
              "    fill: var(--fill-color);\n",
              "    height: 32px;\n",
              "    padding: 0;\n",
              "    width: 32px;\n",
              "  }\n",
              "\n",
              "  .colab-df-quickchart:hover {\n",
              "    background-color: var(--hover-bg-color);\n",
              "    box-shadow: 0 1px 2px rgba(60, 64, 67, 0.3), 0 1px 3px 1px rgba(60, 64, 67, 0.15);\n",
              "    fill: var(--button-hover-fill-color);\n",
              "  }\n",
              "\n",
              "  .colab-df-quickchart-complete:disabled,\n",
              "  .colab-df-quickchart-complete:disabled:hover {\n",
              "    background-color: var(--disabled-bg-color);\n",
              "    fill: var(--disabled-fill-color);\n",
              "    box-shadow: none;\n",
              "  }\n",
              "\n",
              "  .colab-df-spinner {\n",
              "    border: 2px solid var(--fill-color);\n",
              "    border-color: transparent;\n",
              "    border-bottom-color: var(--fill-color);\n",
              "    animation:\n",
              "      spin 1s steps(1) infinite;\n",
              "  }\n",
              "\n",
              "  @keyframes spin {\n",
              "    0% {\n",
              "      border-color: transparent;\n",
              "      border-bottom-color: var(--fill-color);\n",
              "      border-left-color: var(--fill-color);\n",
              "    }\n",
              "    20% {\n",
              "      border-color: transparent;\n",
              "      border-left-color: var(--fill-color);\n",
              "      border-top-color: var(--fill-color);\n",
              "    }\n",
              "    30% {\n",
              "      border-color: transparent;\n",
              "      border-left-color: var(--fill-color);\n",
              "      border-top-color: var(--fill-color);\n",
              "      border-right-color: var(--fill-color);\n",
              "    }\n",
              "    40% {\n",
              "      border-color: transparent;\n",
              "      border-right-color: var(--fill-color);\n",
              "      border-top-color: var(--fill-color);\n",
              "    }\n",
              "    60% {\n",
              "      border-color: transparent;\n",
              "      border-right-color: var(--fill-color);\n",
              "    }\n",
              "    80% {\n",
              "      border-color: transparent;\n",
              "      border-right-color: var(--fill-color);\n",
              "      border-bottom-color: var(--fill-color);\n",
              "    }\n",
              "    90% {\n",
              "      border-color: transparent;\n",
              "      border-bottom-color: var(--fill-color);\n",
              "    }\n",
              "  }\n",
              "</style>\n",
              "\n",
              "  <script>\n",
              "    async function quickchart(key) {\n",
              "      const quickchartButtonEl =\n",
              "        document.querySelector('#' + key + ' button');\n",
              "      quickchartButtonEl.disabled = true;  // To prevent multiple clicks.\n",
              "      quickchartButtonEl.classList.add('colab-df-spinner');\n",
              "      try {\n",
              "        const charts = await google.colab.kernel.invokeFunction(\n",
              "            'suggestCharts', [key], {});\n",
              "      } catch (error) {\n",
              "        console.error('Error during call to suggestCharts:', error);\n",
              "      }\n",
              "      quickchartButtonEl.classList.remove('colab-df-spinner');\n",
              "      quickchartButtonEl.classList.add('colab-df-quickchart-complete');\n",
              "    }\n",
              "    (() => {\n",
              "      let quickchartButtonEl =\n",
              "        document.querySelector('#df-c995f5f4-4b6c-4317-8a8b-4b79ba46df67 button');\n",
              "      quickchartButtonEl.style.display =\n",
              "        google.colab.kernel.accessAllowed ? 'block' : 'none';\n",
              "    })();\n",
              "  </script>\n",
              "</div>\n",
              "\n",
              "  <div id=\"id_4bffafcf-cc7e-4975-9e65-4e60cb32741e\">\n",
              "    <style>\n",
              "      .colab-df-generate {\n",
              "        background-color: #E8F0FE;\n",
              "        border: none;\n",
              "        border-radius: 50%;\n",
              "        cursor: pointer;\n",
              "        display: none;\n",
              "        fill: #1967D2;\n",
              "        height: 32px;\n",
              "        padding: 0 0 0 0;\n",
              "        width: 32px;\n",
              "      }\n",
              "\n",
              "      .colab-df-generate:hover {\n",
              "        background-color: #E2EBFA;\n",
              "        box-shadow: 0px 1px 2px rgba(60, 64, 67, 0.3), 0px 1px 3px 1px rgba(60, 64, 67, 0.15);\n",
              "        fill: #174EA6;\n",
              "      }\n",
              "\n",
              "      [theme=dark] .colab-df-generate {\n",
              "        background-color: #3B4455;\n",
              "        fill: #D2E3FC;\n",
              "      }\n",
              "\n",
              "      [theme=dark] .colab-df-generate:hover {\n",
              "        background-color: #434B5C;\n",
              "        box-shadow: 0px 1px 3px 1px rgba(0, 0, 0, 0.15);\n",
              "        filter: drop-shadow(0px 1px 2px rgba(0, 0, 0, 0.3));\n",
              "        fill: #FFFFFF;\n",
              "      }\n",
              "    </style>\n",
              "    <button class=\"colab-df-generate\" onclick=\"generateWithVariable('features_label')\"\n",
              "            title=\"Generate code using this dataframe.\"\n",
              "            style=\"display:none;\">\n",
              "\n",
              "  <svg xmlns=\"http://www.w3.org/2000/svg\" height=\"24px\"viewBox=\"0 0 24 24\"\n",
              "       width=\"24px\">\n",
              "    <path d=\"M7,19H8.4L18.45,9,17,7.55,7,17.6ZM5,21V16.75L18.45,3.32a2,2,0,0,1,2.83,0l1.4,1.43a1.91,1.91,0,0,1,.58,1.4,1.91,1.91,0,0,1-.58,1.4L9.25,21ZM18.45,9,17,7.55Zm-12,3A5.31,5.31,0,0,0,4.9,8.1,5.31,5.31,0,0,0,1,6.5,5.31,5.31,0,0,0,4.9,4.9,5.31,5.31,0,0,0,6.5,1,5.31,5.31,0,0,0,8.1,4.9,5.31,5.31,0,0,0,12,6.5,5.46,5.46,0,0,0,6.5,12Z\"/>\n",
              "  </svg>\n",
              "    </button>\n",
              "    <script>\n",
              "      (() => {\n",
              "      const buttonEl =\n",
              "        document.querySelector('#id_4bffafcf-cc7e-4975-9e65-4e60cb32741e button.colab-df-generate');\n",
              "      buttonEl.style.display =\n",
              "        google.colab.kernel.accessAllowed ? 'block' : 'none';\n",
              "\n",
              "      buttonEl.onclick = () => {\n",
              "        google.colab.notebook.generateWithVariable('features_label');\n",
              "      }\n",
              "      })();\n",
              "    </script>\n",
              "  </div>\n",
              "\n",
              "    </div>\n",
              "  </div>\n"
            ],
            "application/vnd.google.colaboratory.intrinsic+json": {
              "type": "dataframe",
              "variable_name": "features_label"
            }
          },
          "metadata": {},
          "execution_count": 20
        }
      ]
    },
    {
      "cell_type": "markdown",
      "source": [
        "# Model training with traditional way"
      ],
      "metadata": {
        "id": "xkGDGuhMpbwd"
      }
    },
    {
      "cell_type": "code",
      "source": [
        "from sklearn.model_selection import train_test_split\n",
        "from sklearn.linear_model import LogisticRegression"
      ],
      "metadata": {
        "id": "ZWX7Rqsa-nHp"
      },
      "execution_count": null,
      "outputs": []
    },
    {
      "cell_type": "code",
      "source": [
        "x_train, x_test, y_train, y_test = train_test_split(features_label.iloc[:, :-1], features_label.iloc[:,-1], test_size=0.2, random_state=3213123)"
      ],
      "metadata": {
        "id": "tDUetkmJ-gNy"
      },
      "execution_count": null,
      "outputs": []
    },
    {
      "cell_type": "code",
      "source": [
        "lr = LogisticRegression(max_iter=20000)"
      ],
      "metadata": {
        "id": "LcR2whAJ_NT4"
      },
      "execution_count": null,
      "outputs": []
    },
    {
      "cell_type": "code",
      "source": [
        "lr.fit(x_train, y_train)"
      ],
      "metadata": {
        "colab": {
          "base_uri": "https://localhost:8080/",
          "height": 80
        },
        "id": "AkG1rq1R_PBj",
        "outputId": "e26b4516-9065-4493-9f2d-489bca0a5315"
      },
      "execution_count": null,
      "outputs": [
        {
          "output_type": "execute_result",
          "data": {
            "text/plain": [
              "LogisticRegression(max_iter=20000)"
            ],
            "text/html": [
              "<style>#sk-container-id-1 {\n",
              "  /* Definition of color scheme common for light and dark mode */\n",
              "  --sklearn-color-text: black;\n",
              "  --sklearn-color-line: gray;\n",
              "  /* Definition of color scheme for unfitted estimators */\n",
              "  --sklearn-color-unfitted-level-0: #fff5e6;\n",
              "  --sklearn-color-unfitted-level-1: #f6e4d2;\n",
              "  --sklearn-color-unfitted-level-2: #ffe0b3;\n",
              "  --sklearn-color-unfitted-level-3: chocolate;\n",
              "  /* Definition of color scheme for fitted estimators */\n",
              "  --sklearn-color-fitted-level-0: #f0f8ff;\n",
              "  --sklearn-color-fitted-level-1: #d4ebff;\n",
              "  --sklearn-color-fitted-level-2: #b3dbfd;\n",
              "  --sklearn-color-fitted-level-3: cornflowerblue;\n",
              "\n",
              "  /* Specific color for light theme */\n",
              "  --sklearn-color-text-on-default-background: var(--sg-text-color, var(--theme-code-foreground, var(--jp-content-font-color1, black)));\n",
              "  --sklearn-color-background: var(--sg-background-color, var(--theme-background, var(--jp-layout-color0, white)));\n",
              "  --sklearn-color-border-box: var(--sg-text-color, var(--theme-code-foreground, var(--jp-content-font-color1, black)));\n",
              "  --sklearn-color-icon: #696969;\n",
              "\n",
              "  @media (prefers-color-scheme: dark) {\n",
              "    /* Redefinition of color scheme for dark theme */\n",
              "    --sklearn-color-text-on-default-background: var(--sg-text-color, var(--theme-code-foreground, var(--jp-content-font-color1, white)));\n",
              "    --sklearn-color-background: var(--sg-background-color, var(--theme-background, var(--jp-layout-color0, #111)));\n",
              "    --sklearn-color-border-box: var(--sg-text-color, var(--theme-code-foreground, var(--jp-content-font-color1, white)));\n",
              "    --sklearn-color-icon: #878787;\n",
              "  }\n",
              "}\n",
              "\n",
              "#sk-container-id-1 {\n",
              "  color: var(--sklearn-color-text);\n",
              "}\n",
              "\n",
              "#sk-container-id-1 pre {\n",
              "  padding: 0;\n",
              "}\n",
              "\n",
              "#sk-container-id-1 input.sk-hidden--visually {\n",
              "  border: 0;\n",
              "  clip: rect(1px 1px 1px 1px);\n",
              "  clip: rect(1px, 1px, 1px, 1px);\n",
              "  height: 1px;\n",
              "  margin: -1px;\n",
              "  overflow: hidden;\n",
              "  padding: 0;\n",
              "  position: absolute;\n",
              "  width: 1px;\n",
              "}\n",
              "\n",
              "#sk-container-id-1 div.sk-dashed-wrapped {\n",
              "  border: 1px dashed var(--sklearn-color-line);\n",
              "  margin: 0 0.4em 0.5em 0.4em;\n",
              "  box-sizing: border-box;\n",
              "  padding-bottom: 0.4em;\n",
              "  background-color: var(--sklearn-color-background);\n",
              "}\n",
              "\n",
              "#sk-container-id-1 div.sk-container {\n",
              "  /* jupyter's `normalize.less` sets `[hidden] { display: none; }`\n",
              "     but bootstrap.min.css set `[hidden] { display: none !important; }`\n",
              "     so we also need the `!important` here to be able to override the\n",
              "     default hidden behavior on the sphinx rendered scikit-learn.org.\n",
              "     See: https://github.com/scikit-learn/scikit-learn/issues/21755 */\n",
              "  display: inline-block !important;\n",
              "  position: relative;\n",
              "}\n",
              "\n",
              "#sk-container-id-1 div.sk-text-repr-fallback {\n",
              "  display: none;\n",
              "}\n",
              "\n",
              "div.sk-parallel-item,\n",
              "div.sk-serial,\n",
              "div.sk-item {\n",
              "  /* draw centered vertical line to link estimators */\n",
              "  background-image: linear-gradient(var(--sklearn-color-text-on-default-background), var(--sklearn-color-text-on-default-background));\n",
              "  background-size: 2px 100%;\n",
              "  background-repeat: no-repeat;\n",
              "  background-position: center center;\n",
              "}\n",
              "\n",
              "/* Parallel-specific style estimator block */\n",
              "\n",
              "#sk-container-id-1 div.sk-parallel-item::after {\n",
              "  content: \"\";\n",
              "  width: 100%;\n",
              "  border-bottom: 2px solid var(--sklearn-color-text-on-default-background);\n",
              "  flex-grow: 1;\n",
              "}\n",
              "\n",
              "#sk-container-id-1 div.sk-parallel {\n",
              "  display: flex;\n",
              "  align-items: stretch;\n",
              "  justify-content: center;\n",
              "  background-color: var(--sklearn-color-background);\n",
              "  position: relative;\n",
              "}\n",
              "\n",
              "#sk-container-id-1 div.sk-parallel-item {\n",
              "  display: flex;\n",
              "  flex-direction: column;\n",
              "}\n",
              "\n",
              "#sk-container-id-1 div.sk-parallel-item:first-child::after {\n",
              "  align-self: flex-end;\n",
              "  width: 50%;\n",
              "}\n",
              "\n",
              "#sk-container-id-1 div.sk-parallel-item:last-child::after {\n",
              "  align-self: flex-start;\n",
              "  width: 50%;\n",
              "}\n",
              "\n",
              "#sk-container-id-1 div.sk-parallel-item:only-child::after {\n",
              "  width: 0;\n",
              "}\n",
              "\n",
              "/* Serial-specific style estimator block */\n",
              "\n",
              "#sk-container-id-1 div.sk-serial {\n",
              "  display: flex;\n",
              "  flex-direction: column;\n",
              "  align-items: center;\n",
              "  background-color: var(--sklearn-color-background);\n",
              "  padding-right: 1em;\n",
              "  padding-left: 1em;\n",
              "}\n",
              "\n",
              "\n",
              "/* Toggleable style: style used for estimator/Pipeline/ColumnTransformer box that is\n",
              "clickable and can be expanded/collapsed.\n",
              "- Pipeline and ColumnTransformer use this feature and define the default style\n",
              "- Estimators will overwrite some part of the style using the `sk-estimator` class\n",
              "*/\n",
              "\n",
              "/* Pipeline and ColumnTransformer style (default) */\n",
              "\n",
              "#sk-container-id-1 div.sk-toggleable {\n",
              "  /* Default theme specific background. It is overwritten whether we have a\n",
              "  specific estimator or a Pipeline/ColumnTransformer */\n",
              "  background-color: var(--sklearn-color-background);\n",
              "}\n",
              "\n",
              "/* Toggleable label */\n",
              "#sk-container-id-1 label.sk-toggleable__label {\n",
              "  cursor: pointer;\n",
              "  display: block;\n",
              "  width: 100%;\n",
              "  margin-bottom: 0;\n",
              "  padding: 0.5em;\n",
              "  box-sizing: border-box;\n",
              "  text-align: center;\n",
              "}\n",
              "\n",
              "#sk-container-id-1 label.sk-toggleable__label-arrow:before {\n",
              "  /* Arrow on the left of the label */\n",
              "  content: \"▸\";\n",
              "  float: left;\n",
              "  margin-right: 0.25em;\n",
              "  color: var(--sklearn-color-icon);\n",
              "}\n",
              "\n",
              "#sk-container-id-1 label.sk-toggleable__label-arrow:hover:before {\n",
              "  color: var(--sklearn-color-text);\n",
              "}\n",
              "\n",
              "/* Toggleable content - dropdown */\n",
              "\n",
              "#sk-container-id-1 div.sk-toggleable__content {\n",
              "  max-height: 0;\n",
              "  max-width: 0;\n",
              "  overflow: hidden;\n",
              "  text-align: left;\n",
              "  /* unfitted */\n",
              "  background-color: var(--sklearn-color-unfitted-level-0);\n",
              "}\n",
              "\n",
              "#sk-container-id-1 div.sk-toggleable__content.fitted {\n",
              "  /* fitted */\n",
              "  background-color: var(--sklearn-color-fitted-level-0);\n",
              "}\n",
              "\n",
              "#sk-container-id-1 div.sk-toggleable__content pre {\n",
              "  margin: 0.2em;\n",
              "  border-radius: 0.25em;\n",
              "  color: var(--sklearn-color-text);\n",
              "  /* unfitted */\n",
              "  background-color: var(--sklearn-color-unfitted-level-0);\n",
              "}\n",
              "\n",
              "#sk-container-id-1 div.sk-toggleable__content.fitted pre {\n",
              "  /* unfitted */\n",
              "  background-color: var(--sklearn-color-fitted-level-0);\n",
              "}\n",
              "\n",
              "#sk-container-id-1 input.sk-toggleable__control:checked~div.sk-toggleable__content {\n",
              "  /* Expand drop-down */\n",
              "  max-height: 200px;\n",
              "  max-width: 100%;\n",
              "  overflow: auto;\n",
              "}\n",
              "\n",
              "#sk-container-id-1 input.sk-toggleable__control:checked~label.sk-toggleable__label-arrow:before {\n",
              "  content: \"▾\";\n",
              "}\n",
              "\n",
              "/* Pipeline/ColumnTransformer-specific style */\n",
              "\n",
              "#sk-container-id-1 div.sk-label input.sk-toggleable__control:checked~label.sk-toggleable__label {\n",
              "  color: var(--sklearn-color-text);\n",
              "  background-color: var(--sklearn-color-unfitted-level-2);\n",
              "}\n",
              "\n",
              "#sk-container-id-1 div.sk-label.fitted input.sk-toggleable__control:checked~label.sk-toggleable__label {\n",
              "  background-color: var(--sklearn-color-fitted-level-2);\n",
              "}\n",
              "\n",
              "/* Estimator-specific style */\n",
              "\n",
              "/* Colorize estimator box */\n",
              "#sk-container-id-1 div.sk-estimator input.sk-toggleable__control:checked~label.sk-toggleable__label {\n",
              "  /* unfitted */\n",
              "  background-color: var(--sklearn-color-unfitted-level-2);\n",
              "}\n",
              "\n",
              "#sk-container-id-1 div.sk-estimator.fitted input.sk-toggleable__control:checked~label.sk-toggleable__label {\n",
              "  /* fitted */\n",
              "  background-color: var(--sklearn-color-fitted-level-2);\n",
              "}\n",
              "\n",
              "#sk-container-id-1 div.sk-label label.sk-toggleable__label,\n",
              "#sk-container-id-1 div.sk-label label {\n",
              "  /* The background is the default theme color */\n",
              "  color: var(--sklearn-color-text-on-default-background);\n",
              "}\n",
              "\n",
              "/* On hover, darken the color of the background */\n",
              "#sk-container-id-1 div.sk-label:hover label.sk-toggleable__label {\n",
              "  color: var(--sklearn-color-text);\n",
              "  background-color: var(--sklearn-color-unfitted-level-2);\n",
              "}\n",
              "\n",
              "/* Label box, darken color on hover, fitted */\n",
              "#sk-container-id-1 div.sk-label.fitted:hover label.sk-toggleable__label.fitted {\n",
              "  color: var(--sklearn-color-text);\n",
              "  background-color: var(--sklearn-color-fitted-level-2);\n",
              "}\n",
              "\n",
              "/* Estimator label */\n",
              "\n",
              "#sk-container-id-1 div.sk-label label {\n",
              "  font-family: monospace;\n",
              "  font-weight: bold;\n",
              "  display: inline-block;\n",
              "  line-height: 1.2em;\n",
              "}\n",
              "\n",
              "#sk-container-id-1 div.sk-label-container {\n",
              "  text-align: center;\n",
              "}\n",
              "\n",
              "/* Estimator-specific */\n",
              "#sk-container-id-1 div.sk-estimator {\n",
              "  font-family: monospace;\n",
              "  border: 1px dotted var(--sklearn-color-border-box);\n",
              "  border-radius: 0.25em;\n",
              "  box-sizing: border-box;\n",
              "  margin-bottom: 0.5em;\n",
              "  /* unfitted */\n",
              "  background-color: var(--sklearn-color-unfitted-level-0);\n",
              "}\n",
              "\n",
              "#sk-container-id-1 div.sk-estimator.fitted {\n",
              "  /* fitted */\n",
              "  background-color: var(--sklearn-color-fitted-level-0);\n",
              "}\n",
              "\n",
              "/* on hover */\n",
              "#sk-container-id-1 div.sk-estimator:hover {\n",
              "  /* unfitted */\n",
              "  background-color: var(--sklearn-color-unfitted-level-2);\n",
              "}\n",
              "\n",
              "#sk-container-id-1 div.sk-estimator.fitted:hover {\n",
              "  /* fitted */\n",
              "  background-color: var(--sklearn-color-fitted-level-2);\n",
              "}\n",
              "\n",
              "/* Specification for estimator info (e.g. \"i\" and \"?\") */\n",
              "\n",
              "/* Common style for \"i\" and \"?\" */\n",
              "\n",
              ".sk-estimator-doc-link,\n",
              "a:link.sk-estimator-doc-link,\n",
              "a:visited.sk-estimator-doc-link {\n",
              "  float: right;\n",
              "  font-size: smaller;\n",
              "  line-height: 1em;\n",
              "  font-family: monospace;\n",
              "  background-color: var(--sklearn-color-background);\n",
              "  border-radius: 1em;\n",
              "  height: 1em;\n",
              "  width: 1em;\n",
              "  text-decoration: none !important;\n",
              "  margin-left: 1ex;\n",
              "  /* unfitted */\n",
              "  border: var(--sklearn-color-unfitted-level-1) 1pt solid;\n",
              "  color: var(--sklearn-color-unfitted-level-1);\n",
              "}\n",
              "\n",
              ".sk-estimator-doc-link.fitted,\n",
              "a:link.sk-estimator-doc-link.fitted,\n",
              "a:visited.sk-estimator-doc-link.fitted {\n",
              "  /* fitted */\n",
              "  border: var(--sklearn-color-fitted-level-1) 1pt solid;\n",
              "  color: var(--sklearn-color-fitted-level-1);\n",
              "}\n",
              "\n",
              "/* On hover */\n",
              "div.sk-estimator:hover .sk-estimator-doc-link:hover,\n",
              ".sk-estimator-doc-link:hover,\n",
              "div.sk-label-container:hover .sk-estimator-doc-link:hover,\n",
              ".sk-estimator-doc-link:hover {\n",
              "  /* unfitted */\n",
              "  background-color: var(--sklearn-color-unfitted-level-3);\n",
              "  color: var(--sklearn-color-background);\n",
              "  text-decoration: none;\n",
              "}\n",
              "\n",
              "div.sk-estimator.fitted:hover .sk-estimator-doc-link.fitted:hover,\n",
              ".sk-estimator-doc-link.fitted:hover,\n",
              "div.sk-label-container:hover .sk-estimator-doc-link.fitted:hover,\n",
              ".sk-estimator-doc-link.fitted:hover {\n",
              "  /* fitted */\n",
              "  background-color: var(--sklearn-color-fitted-level-3);\n",
              "  color: var(--sklearn-color-background);\n",
              "  text-decoration: none;\n",
              "}\n",
              "\n",
              "/* Span, style for the box shown on hovering the info icon */\n",
              ".sk-estimator-doc-link span {\n",
              "  display: none;\n",
              "  z-index: 9999;\n",
              "  position: relative;\n",
              "  font-weight: normal;\n",
              "  right: .2ex;\n",
              "  padding: .5ex;\n",
              "  margin: .5ex;\n",
              "  width: min-content;\n",
              "  min-width: 20ex;\n",
              "  max-width: 50ex;\n",
              "  color: var(--sklearn-color-text);\n",
              "  box-shadow: 2pt 2pt 4pt #999;\n",
              "  /* unfitted */\n",
              "  background: var(--sklearn-color-unfitted-level-0);\n",
              "  border: .5pt solid var(--sklearn-color-unfitted-level-3);\n",
              "}\n",
              "\n",
              ".sk-estimator-doc-link.fitted span {\n",
              "  /* fitted */\n",
              "  background: var(--sklearn-color-fitted-level-0);\n",
              "  border: var(--sklearn-color-fitted-level-3);\n",
              "}\n",
              "\n",
              ".sk-estimator-doc-link:hover span {\n",
              "  display: block;\n",
              "}\n",
              "\n",
              "/* \"?\"-specific style due to the `<a>` HTML tag */\n",
              "\n",
              "#sk-container-id-1 a.estimator_doc_link {\n",
              "  float: right;\n",
              "  font-size: 1rem;\n",
              "  line-height: 1em;\n",
              "  font-family: monospace;\n",
              "  background-color: var(--sklearn-color-background);\n",
              "  border-radius: 1rem;\n",
              "  height: 1rem;\n",
              "  width: 1rem;\n",
              "  text-decoration: none;\n",
              "  /* unfitted */\n",
              "  color: var(--sklearn-color-unfitted-level-1);\n",
              "  border: var(--sklearn-color-unfitted-level-1) 1pt solid;\n",
              "}\n",
              "\n",
              "#sk-container-id-1 a.estimator_doc_link.fitted {\n",
              "  /* fitted */\n",
              "  border: var(--sklearn-color-fitted-level-1) 1pt solid;\n",
              "  color: var(--sklearn-color-fitted-level-1);\n",
              "}\n",
              "\n",
              "/* On hover */\n",
              "#sk-container-id-1 a.estimator_doc_link:hover {\n",
              "  /* unfitted */\n",
              "  background-color: var(--sklearn-color-unfitted-level-3);\n",
              "  color: var(--sklearn-color-background);\n",
              "  text-decoration: none;\n",
              "}\n",
              "\n",
              "#sk-container-id-1 a.estimator_doc_link.fitted:hover {\n",
              "  /* fitted */\n",
              "  background-color: var(--sklearn-color-fitted-level-3);\n",
              "}\n",
              "</style><div id=\"sk-container-id-1\" class=\"sk-top-container\"><div class=\"sk-text-repr-fallback\"><pre>LogisticRegression(max_iter=20000)</pre><b>In a Jupyter environment, please rerun this cell to show the HTML representation or trust the notebook. <br />On GitHub, the HTML representation is unable to render, please try loading this page with nbviewer.org.</b></div><div class=\"sk-container\" hidden><div class=\"sk-item\"><div class=\"sk-estimator fitted sk-toggleable\"><input class=\"sk-toggleable__control sk-hidden--visually\" id=\"sk-estimator-id-1\" type=\"checkbox\" checked><label for=\"sk-estimator-id-1\" class=\"sk-toggleable__label fitted sk-toggleable__label-arrow fitted\">&nbsp;&nbsp;LogisticRegression<a class=\"sk-estimator-doc-link fitted\" rel=\"noreferrer\" target=\"_blank\" href=\"https://scikit-learn.org/1.5/modules/generated/sklearn.linear_model.LogisticRegression.html\">?<span>Documentation for LogisticRegression</span></a><span class=\"sk-estimator-doc-link fitted\">i<span>Fitted</span></span></label><div class=\"sk-toggleable__content fitted\"><pre>LogisticRegression(max_iter=20000)</pre></div> </div></div></div></div>"
            ]
          },
          "metadata": {},
          "execution_count": 28
        }
      ]
    },
    {
      "cell_type": "code",
      "source": [
        "pred = lr.predict(x_test)"
      ],
      "metadata": {
        "id": "SNYa8gyRBCRU"
      },
      "execution_count": null,
      "outputs": []
    },
    {
      "cell_type": "code",
      "source": [
        "pred"
      ],
      "metadata": {
        "colab": {
          "base_uri": "https://localhost:8080/"
        },
        "id": "9NO_iG2ubqgg",
        "outputId": "99eaeabc-af9c-434c-8f7c-38bf0192bb90"
      },
      "execution_count": null,
      "outputs": [
        {
          "output_type": "execute_result",
          "data": {
            "text/plain": [
              "array([4, 1, 3, 6, 0, 1, 0, 8, 6, 3, 4, 6, 4, 9, 9, 3, 3, 0, 0, 0, 6, 1,\n",
              "       2, 4, 1, 0, 8, 6, 0, 8, 6, 9, 3, 5, 9, 4, 1, 4, 3, 1, 0, 4, 0, 0,\n",
              "       7, 0, 4, 3, 3, 1, 0, 6, 4, 3, 4, 6, 0, 6, 4, 2, 9, 0, 4, 0, 6, 4,\n",
              "       0, 3, 3, 0, 0, 3, 0, 6, 3, 0, 1, 1, 2, 3, 4, 0, 6, 0, 0, 8, 3, 4,\n",
              "       0, 0, 6, 0, 3, 8, 0, 0, 8, 4, 3, 2, 3, 6, 3, 5, 4, 3, 1, 4, 8, 0,\n",
              "       6, 2, 0, 6, 4, 7, 3, 0, 1, 3, 4, 4, 8, 7, 5, 0, 2, 0, 4, 9, 8, 8,\n",
              "       6, 4, 0, 0, 4, 7, 3, 0, 4, 0, 4, 2, 3, 1, 4, 4, 9, 3, 4, 7, 8, 3,\n",
              "       3, 4, 1, 0, 4, 0, 3, 2, 4, 4, 0, 0, 8, 4, 6, 5, 4, 4, 3, 2, 8, 3,\n",
              "       3, 0, 4, 3, 4, 0, 0, 2, 8, 3, 3, 4, 6, 3, 6, 4, 6, 7, 4, 2, 5, 0,\n",
              "       6, 4, 4, 8, 0, 3, 4, 4, 3, 4, 3, 7, 8, 0, 8, 0, 4, 3, 0, 0, 1, 3,\n",
              "       0, 3, 0, 6, 4, 4, 4, 4, 0, 3, 0, 3, 6, 3, 3, 0, 4, 7, 1, 0, 4, 3,\n",
              "       4, 1, 4, 7, 0, 0, 0, 0, 6, 0, 0, 3, 7, 6, 0, 5, 1, 4, 4, 4, 7, 3,\n",
              "       5, 0, 1, 0, 0, 6, 8, 6, 9, 6, 9, 0, 3, 6, 5, 6, 8, 4, 9, 3, 9, 3,\n",
              "       0, 4, 6, 3, 0, 4, 0, 2, 0, 0, 3, 0, 4, 3, 4, 7, 0, 1, 5, 7, 0, 3,\n",
              "       1, 8, 6, 4, 7, 0, 3, 0, 7, 4, 4, 6, 4, 3, 0, 3, 8, 4, 1, 6, 4, 1,\n",
              "       6, 1, 0, 2, 8, 8, 3, 1, 8, 6, 6, 3, 2, 1, 8, 4, 0, 3, 4, 3, 4, 3,\n",
              "       3, 2, 1, 3, 6, 0, 4, 4, 0, 7, 7, 5, 2, 0, 7, 1, 5, 6, 4, 4, 0, 0,\n",
              "       1, 7, 6, 3, 0, 7, 6, 0, 1, 4, 0, 3, 4, 2, 3, 3, 8, 3, 4, 0, 3, 0,\n",
              "       5, 0, 0, 4, 6, 0, 4, 9, 0, 1, 0, 8, 0, 4, 9, 9, 0, 3, 0, 0, 6, 6,\n",
              "       6, 0, 0, 0, 3, 6, 0, 3, 0, 5, 0, 8, 3, 4, 2, 0, 3, 8, 0, 0, 7, 0,\n",
              "       0, 0, 4, 8, 3, 5, 0, 3, 8, 4, 6, 1, 9, 2, 7, 4, 3, 4, 4, 4, 3, 8,\n",
              "       7, 9, 4, 0, 8, 2, 0, 0, 3, 4, 6, 4, 6, 4, 3, 7, 1, 4, 1, 5, 3, 4,\n",
              "       6, 0, 4, 5, 0, 6, 0, 4, 0, 7, 0, 0, 6, 6, 4, 5, 8, 5, 4, 7, 4, 4,\n",
              "       4, 0, 8, 2, 8, 3, 6, 3, 4, 9, 9, 0, 0, 3, 3, 8, 5, 9, 4, 4, 6, 5,\n",
              "       3, 1, 0, 6, 3, 8, 0, 3, 0, 0, 9, 3, 3, 9, 2, 4, 4, 3, 6, 8, 4, 3,\n",
              "       3, 0, 0, 7, 4, 6, 0, 3, 7, 6, 1, 1, 0, 4, 8, 0, 0, 3, 5, 3, 1, 0,\n",
              "       9, 3, 3, 0, 2, 0, 7, 6, 0, 6, 4, 4, 3, 1, 1, 1, 1, 4, 0, 9, 3, 8,\n",
              "       3, 2, 0, 6, 4, 0, 2, 3, 3, 0, 4, 4, 1, 4, 8, 6, 6, 1, 3, 4, 5, 6,\n",
              "       0, 5, 4, 3, 4, 0, 0, 3, 3, 0, 4, 4, 7, 6, 3, 5, 4, 3, 4, 4, 3, 6,\n",
              "       0, 2, 0, 3, 4, 3, 9, 8, 2, 7, 9, 4, 1, 4, 0, 0, 8, 3, 3, 0, 2, 8,\n",
              "       4, 0, 1, 0, 7, 0, 6, 6, 0, 3, 4, 0, 2, 9, 4, 5, 0, 4, 4, 0, 4, 0,\n",
              "       4, 4, 4, 3, 4, 0, 4, 0, 0, 3, 8, 3, 0, 4, 3, 6, 0, 9, 3, 7, 3, 5,\n",
              "       3, 2, 0, 0, 6, 4, 6, 1, 5, 3, 4, 0, 6, 0, 3, 0, 6, 0, 7, 4, 3, 3,\n",
              "       0, 3, 0, 6, 8, 0, 6, 1, 1, 6, 4, 3, 4, 3, 4, 2, 9, 3, 0, 8, 6, 3,\n",
              "       4, 3, 6, 3, 3, 0, 3, 3, 8, 3, 3, 0, 0, 3, 8, 5, 4, 0, 3, 4, 3, 5,\n",
              "       3, 3, 8, 7, 0, 1, 6, 0, 8, 3, 5, 0, 0, 1, 5, 0, 6, 6, 4, 3, 8, 4,\n",
              "       7, 6, 4, 1, 7, 4, 9, 2, 3, 6, 4, 6, 0, 1, 6, 4, 4, 4, 6, 4, 3, 5,\n",
              "       0, 8, 8, 6, 2, 4])"
            ]
          },
          "metadata": {},
          "execution_count": 30
        }
      ]
    },
    {
      "cell_type": "code",
      "source": [
        "lr.score(x_test, y_test)"
      ],
      "metadata": {
        "colab": {
          "base_uri": "https://localhost:8080/"
        },
        "id": "don5t3ng_QWv",
        "outputId": "6ac624d4-597d-4950-8234-ae25fd46c7e1"
      },
      "execution_count": null,
      "outputs": [
        {
          "output_type": "execute_result",
          "data": {
            "text/plain": [
              "0.8719512195121951"
            ]
          },
          "metadata": {},
          "execution_count": 31
        }
      ]
    },
    {
      "cell_type": "code",
      "source": [
        "np.shape(y_test)"
      ],
      "metadata": {
        "colab": {
          "base_uri": "https://localhost:8080/"
        },
        "id": "Dk0fFUn5b4Uy",
        "outputId": "c3a722a2-2ee7-4cae-b567-4b8445ad7af0"
      },
      "execution_count": null,
      "outputs": [
        {
          "output_type": "execute_result",
          "data": {
            "text/plain": [
              "(820,)"
            ]
          },
          "metadata": {},
          "execution_count": 32
        }
      ]
    },
    {
      "cell_type": "code",
      "source": [
        "np.shape(pred)"
      ],
      "metadata": {
        "colab": {
          "base_uri": "https://localhost:8080/"
        },
        "id": "U5U17u9Bb7Xt",
        "outputId": "19bccd82-5ed2-4747-b1ba-db3ebe528a91"
      },
      "execution_count": null,
      "outputs": [
        {
          "output_type": "execute_result",
          "data": {
            "text/plain": [
              "(820,)"
            ]
          },
          "metadata": {},
          "execution_count": 33
        }
      ]
    },
    {
      "cell_type": "code",
      "source": [
        "lr.classes_\n",
        "# no instrument Synth Lead in the test set of this Nsynth dataset"
      ],
      "metadata": {
        "colab": {
          "base_uri": "https://localhost:8080/"
        },
        "id": "pSqLKSD8CNux",
        "outputId": "1a5ea2f3-5d6a-4344-81b2-f6392d208d7c"
      },
      "execution_count": null,
      "outputs": [
        {
          "output_type": "execute_result",
          "data": {
            "text/plain": [
              "array([0, 1, 2, 3, 4, 5, 6, 7, 8, 9])"
            ]
          },
          "metadata": {},
          "execution_count": 34
        }
      ]
    },
    {
      "cell_type": "code",
      "source": [
        "from sklearn.metrics import confusion_matrix, ConfusionMatrixDisplay, f1_score\n",
        "import matplotlib.pyplot as plt\n",
        "\n",
        "confusion_matrix = confusion_matrix(y_test, pred)\n",
        "ConfusionMatrixDisplay = ConfusionMatrixDisplay(confusion_matrix=confusion_matrix, display_labels=class_list)\n",
        "fig, ax = plt.subplots(figsize=(10, 10))\n",
        "ConfusionMatrixDisplay.plot(ax=ax, cmap=\"afmhot\")\n",
        "plt.xticks(rotation=45, ha='right')\n",
        "plt.show()\n"
      ],
      "metadata": {
        "colab": {
          "base_uri": "https://localhost:8080/",
          "height": 816
        },
        "id": "RqIKAt7sBacM",
        "outputId": "43ac70e2-06bd-48ed-8191-a626d7b0057f"
      },
      "execution_count": null,
      "outputs": [
        {
          "output_type": "display_data",
          "data": {
            "text/plain": [
              "<Figure size 1000x1000 with 2 Axes>"
            ],
            "image/png": "[encoded data removed]"
          },
          "metadata": {}
        }
      ]
    },
    {
      "cell_type": "code",
      "source": [
        "f1_score(y_test, pred, average='macro')"
      ],
      "metadata": {
        "colab": {
          "base_uri": "https://localhost:8080/"
        },
        "id": "aDKyTzg9F8gP",
        "outputId": "3c445dd2-1ba7-48c3-8c58-83b775515cf9"
      },
      "execution_count": null,
      "outputs": [
        {
          "output_type": "execute_result",
          "data": {
            "text/plain": [
              "0.845802853313087"
            ]
          },
          "metadata": {},
          "execution_count": 63
        }
      ]
    },
    {
      "cell_type": "markdown",
      "source": [
        "# Deeplearning model test"
      ],
      "metadata": {
        "id": "jyLFwG8cpiIb"
      }
    },
    {
      "cell_type": "code",
      "source": [
        "import tensorflow as tf\n",
        "from tensorflow.keras import models\n",
        "from tensorflow.keras.layers import Conv2D, MaxPooling2D, Flatten, Dense, Dropout, Input"
      ],
      "metadata": {
        "id": "sZOX5WPuqGD7"
      },
      "execution_count": null,
      "outputs": []
    },
    {
      "cell_type": "code",
      "source": [
        "x_train_reshaped = x_train.values.reshape(-1, 128, 94, 1)\n",
        "x_test_reshaped = x_test.values.reshape(-1, 128, 94, 1)"
      ],
      "metadata": {
        "id": "q3spNnuBqQ9h"
      },
      "execution_count": null,
      "outputs": []
    },
    {
      "cell_type": "code",
      "source": [
        "np.shape(x_train_reshaped)"
      ],
      "metadata": {
        "colab": {
          "base_uri": "https://localhost:8080/"
        },
        "id": "YppwCJ1tYG0e",
        "outputId": "c9b34fcb-654e-48f3-e857-3dc064619a60"
      },
      "execution_count": null,
      "outputs": [
        {
          "output_type": "execute_result",
          "data": {
            "text/plain": [
              "(3276, 128, 94, 1)"
            ]
          },
          "metadata": {},
          "execution_count": 39
        }
      ]
    },
    {
      "cell_type": "code",
      "source": [
        "class_list"
      ],
      "metadata": {
        "colab": {
          "base_uri": "https://localhost:8080/"
        },
        "id": "jb7PS00RyEkI",
        "outputId": "7f9eb843-dbdd-4f5f-809e-817805497315"
      },
      "execution_count": null,
      "outputs": [
        {
          "output_type": "execute_result",
          "data": {
            "text/plain": [
              "['guitar',\n",
              " 'organ',\n",
              " 'bass',\n",
              " 'keyboard',\n",
              " 'reed',\n",
              " 'string',\n",
              " 'mallet',\n",
              " 'flute',\n",
              " 'brass',\n",
              " 'vocal']"
            ]
          },
          "metadata": {},
          "execution_count": 40
        }
      ]
    },
    {
      "cell_type": "code",
      "source": [
        "from keras.utils import to_categorical\n",
        "from keras.callbacks import EarlyStopping, ModelCheckpoint\n"
      ],
      "metadata": {
        "id": "oRyq-R1nzxWF"
      },
      "execution_count": null,
      "outputs": []
    },
    {
      "cell_type": "code",
      "source": [
        "num_labels = len(class_list)\n",
        "# one hot encoding using to_categorical\n",
        "y_train_encoded = tf.keras.utils.to_categorical(y_train, num_classes=num_labels)\n",
        "y_test_encoded = tf.keras.utils.to_categorical(y_test, num_classes=num_labels)"
      ],
      "metadata": {
        "id": "OdcyMXREC9dz"
      },
      "execution_count": null,
      "outputs": []
    },
    {
      "cell_type": "code",
      "source": [
        "input_shape = x_train_reshaped.shape[1:]"
      ],
      "metadata": {
        "id": "gdI2ZyXxyeZG"
      },
      "execution_count": null,
      "outputs": []
    },
    {
      "cell_type": "code",
      "source": [
        "model = models.Sequential([\n",
        "    # Input layer\n",
        "    Input(shape=(128, 94, 1)),\n",
        "    Conv2D(filters=32, kernel_size=(3, 3), activation='relu'),\n",
        "    MaxPooling2D(pool_size=(2, 2)),\n",
        "\n",
        "    # Hidden Conv2D layer\n",
        "    Conv2D(filters=64, kernel_size=(3, 3), activation='relu'),\n",
        "    MaxPooling2D(pool_size=(2, 2)),\n",
        "\n",
        "    # Hidden Conv2D layer\n",
        "    Conv2D(filters=128, kernel_size=(3, 3), activation='relu'),\n",
        "    MaxPooling2D(pool_size=(2, 2)),\n",
        "\n",
        "    # Flatten and dense layers\n",
        "    Flatten(),\n",
        "    Dense(128, activation='relu'),\n",
        "    Dropout(0.5),  # Prevent overfitting\n",
        "    Dense(10, activation='softmax')  # Output layer for 10 classes\n",
        "])"
      ],
      "metadata": {
        "colab": {
          "base_uri": "https://localhost:8080/"
        },
        "id": "ggoqpc5yhBPz",
        "outputId": "ad960892-5553-4ad7-bdc2-2b8631ef841a"
      },
      "execution_count": null,
      "outputs": [
        {
          "output_type": "stream",
          "name": "stderr",
          "text": [
            "/usr/local/lib/python3.10/dist-packages/keras/src/layers/convolutional/base_conv.py:107: UserWarning: Do not pass an `input_shape`/`input_dim` argument to a layer. When using Sequential models, prefer using an `Input(shape)` object as the first layer in the model instead.\n",
            "  super().__init__(activity_regularizer=activity_regularizer, **kwargs)\n"
          ]
        }
      ]
    },
    {
      "cell_type": "code",
      "source": [
        "model.summary()"
      ],
      "metadata": {
        "colab": {
          "base_uri": "https://localhost:8080/",
          "height": 459
        },
        "id": "LdicB3GaqVdz",
        "outputId": "f205c8ba-68a2-4c32-870e-788552ebef4c"
      },
      "execution_count": null,
      "outputs": [
        {
          "output_type": "display_data",
          "data": {
            "text/plain": [
              "\u001b[1mModel: \"sequential\"\u001b[0m\n"
            ],
            "text/html": [
              "<pre style=\"white-space:pre;overflow-x:auto;line-height:normal;font-family:Menlo,'DejaVu Sans Mono',consolas,'Courier New',monospace\"><span style=\"font-weight: bold\">Model: \"sequential\"</span>\n",
              "</pre>\n"
            ]
          },
          "metadata": {}
        },
        {
          "output_type": "display_data",
          "data": {
            "text/plain": [
              "┏━━━━━━━━━━━━━━━━━━━━━━━━━━━━━━━━━━━━━━┳━━━━━━━━━━━━━━━━━━━━━━━━━━━━━┳━━━━━━━━━━━━━━━━━┓\n",
              "┃\u001b[1m \u001b[0m\u001b[1mLayer (type)                        \u001b[0m\u001b[1m \u001b[0m┃\u001b[1m \u001b[0m\u001b[1mOutput Shape               \u001b[0m\u001b[1m \u001b[0m┃\u001b[1m \u001b[0m\u001b[1m        Param #\u001b[0m\u001b[1m \u001b[0m┃\n",
              "┡━━━━━━━━━━━━━━━━━━━━━━━━━━━━━━━━━━━━━━╇━━━━━━━━━━━━━━━━━━━━━━━━━━━━━╇━━━━━━━━━━━━━━━━━┩\n",
              "│ conv2d (\u001b[38;5;33mConv2D\u001b[0m)                      │ (\u001b[38;5;45mNone\u001b[0m, \u001b[38;5;34m126\u001b[0m, \u001b[38;5;34m92\u001b[0m, \u001b[38;5;34m32\u001b[0m)         │             \u001b[38;5;34m320\u001b[0m │\n",
              "├──────────────────────────────────────┼─────────────────────────────┼─────────────────┤\n",
              "│ max_pooling2d (\u001b[38;5;33mMaxPooling2D\u001b[0m)         │ (\u001b[38;5;45mNone\u001b[0m, \u001b[38;5;34m63\u001b[0m, \u001b[38;5;34m46\u001b[0m, \u001b[38;5;34m32\u001b[0m)          │               \u001b[38;5;34m0\u001b[0m │\n",
              "├──────────────────────────────────────┼─────────────────────────────┼─────────────────┤\n",
              "│ conv2d_1 (\u001b[38;5;33mConv2D\u001b[0m)                    │ (\u001b[38;5;45mNone\u001b[0m, \u001b[38;5;34m61\u001b[0m, \u001b[38;5;34m44\u001b[0m, \u001b[38;5;34m64\u001b[0m)          │          \u001b[38;5;34m18,496\u001b[0m │\n",
              "├──────────────────────────────────────┼─────────────────────────────┼─────────────────┤\n",
              "│ max_pooling2d_1 (\u001b[38;5;33mMaxPooling2D\u001b[0m)       │ (\u001b[38;5;45mNone\u001b[0m, \u001b[38;5;34m30\u001b[0m, \u001b[38;5;34m22\u001b[0m, \u001b[38;5;34m64\u001b[0m)          │               \u001b[38;5;34m0\u001b[0m │\n",
              "├──────────────────────────────────────┼─────────────────────────────┼─────────────────┤\n",
              "│ conv2d_2 (\u001b[38;5;33mConv2D\u001b[0m)                    │ (\u001b[38;5;45mNone\u001b[0m, \u001b[38;5;34m28\u001b[0m, \u001b[38;5;34m20\u001b[0m, \u001b[38;5;34m128\u001b[0m)         │          \u001b[38;5;34m73,856\u001b[0m │\n",
              "├──────────────────────────────────────┼─────────────────────────────┼─────────────────┤\n",
              "│ max_pooling2d_2 (\u001b[38;5;33mMaxPooling2D\u001b[0m)       │ (\u001b[38;5;45mNone\u001b[0m, \u001b[38;5;34m14\u001b[0m, \u001b[38;5;34m10\u001b[0m, \u001b[38;5;34m128\u001b[0m)         │               \u001b[38;5;34m0\u001b[0m │\n",
              "├──────────────────────────────────────┼─────────────────────────────┼─────────────────┤\n",
              "│ flatten (\u001b[38;5;33mFlatten\u001b[0m)                    │ (\u001b[38;5;45mNone\u001b[0m, \u001b[38;5;34m17920\u001b[0m)               │               \u001b[38;5;34m0\u001b[0m │\n",
              "├──────────────────────────────────────┼─────────────────────────────┼─────────────────┤\n",
              "│ dense (\u001b[38;5;33mDense\u001b[0m)                        │ (\u001b[38;5;45mNone\u001b[0m, \u001b[38;5;34m128\u001b[0m)                 │       \u001b[38;5;34m2,293,888\u001b[0m │\n",
              "├──────────────────────────────────────┼─────────────────────────────┼─────────────────┤\n",
              "│ dropout (\u001b[38;5;33mDropout\u001b[0m)                    │ (\u001b[38;5;45mNone\u001b[0m, \u001b[38;5;34m128\u001b[0m)                 │               \u001b[38;5;34m0\u001b[0m │\n",
              "├──────────────────────────────────────┼─────────────────────────────┼─────────────────┤\n",
              "│ dense_1 (\u001b[38;5;33mDense\u001b[0m)                      │ (\u001b[38;5;45mNone\u001b[0m, \u001b[38;5;34m10\u001b[0m)                  │           \u001b[38;5;34m1,290\u001b[0m │\n",
              "└──────────────────────────────────────┴─────────────────────────────┴─────────────────┘\n"
            ],
            "text/html": [
              "<pre style=\"white-space:pre;overflow-x:auto;line-height:normal;font-family:Menlo,'DejaVu Sans Mono',consolas,'Courier New',monospace\">┏━━━━━━━━━━━━━━━━━━━━━━━━━━━━━━━━━━━━━━┳━━━━━━━━━━━━━━━━━━━━━━━━━━━━━┳━━━━━━━━━━━━━━━━━┓\n",
              "┃<span style=\"font-weight: bold\"> Layer (type)                         </span>┃<span style=\"font-weight: bold\"> Output Shape                </span>┃<span style=\"font-weight: bold\">         Param # </span>┃\n",
              "┡━━━━━━━━━━━━━━━━━━━━━━━━━━━━━━━━━━━━━━╇━━━━━━━━━━━━━━━━━━━━━━━━━━━━━╇━━━━━━━━━━━━━━━━━┩\n",
              "│ conv2d (<span style=\"color: #0087ff; text-decoration-color: #0087ff\">Conv2D</span>)                      │ (<span style=\"color: #00d7ff; text-decoration-color: #00d7ff\">None</span>, <span style=\"color: #00af00; text-decoration-color: #00af00\">126</span>, <span style=\"color: #00af00; text-decoration-color: #00af00\">92</span>, <span style=\"color: #00af00; text-decoration-color: #00af00\">32</span>)         │             <span style=\"color: #00af00; text-decoration-color: #00af00\">320</span> │\n",
              "├──────────────────────────────────────┼─────────────────────────────┼─────────────────┤\n",
              "│ max_pooling2d (<span style=\"color: #0087ff; text-decoration-color: #0087ff\">MaxPooling2D</span>)         │ (<span style=\"color: #00d7ff; text-decoration-color: #00d7ff\">None</span>, <span style=\"color: #00af00; text-decoration-color: #00af00\">63</span>, <span style=\"color: #00af00; text-decoration-color: #00af00\">46</span>, <span style=\"color: #00af00; text-decoration-color: #00af00\">32</span>)          │               <span style=\"color: #00af00; text-decoration-color: #00af00\">0</span> │\n",
              "├──────────────────────────────────────┼─────────────────────────────┼─────────────────┤\n",
              "│ conv2d_1 (<span style=\"color: #0087ff; text-decoration-color: #0087ff\">Conv2D</span>)                    │ (<span style=\"color: #00d7ff; text-decoration-color: #00d7ff\">None</span>, <span style=\"color: #00af00; text-decoration-color: #00af00\">61</span>, <span style=\"color: #00af00; text-decoration-color: #00af00\">44</span>, <span style=\"color: #00af00; text-decoration-color: #00af00\">64</span>)          │          <span style=\"color: #00af00; text-decoration-color: #00af00\">18,496</span> │\n",
              "├──────────────────────────────────────┼─────────────────────────────┼─────────────────┤\n",
              "│ max_pooling2d_1 (<span style=\"color: #0087ff; text-decoration-color: #0087ff\">MaxPooling2D</span>)       │ (<span style=\"color: #00d7ff; text-decoration-color: #00d7ff\">None</span>, <span style=\"color: #00af00; text-decoration-color: #00af00\">30</span>, <span style=\"color: #00af00; text-decoration-color: #00af00\">22</span>, <span style=\"color: #00af00; text-decoration-color: #00af00\">64</span>)          │               <span style=\"color: #00af00; text-decoration-color: #00af00\">0</span> │\n",
              "├──────────────────────────────────────┼─────────────────────────────┼─────────────────┤\n",
              "│ conv2d_2 (<span style=\"color: #0087ff; text-decoration-color: #0087ff\">Conv2D</span>)                    │ (<span style=\"color: #00d7ff; text-decoration-color: #00d7ff\">None</span>, <span style=\"color: #00af00; text-decoration-color: #00af00\">28</span>, <span style=\"color: #00af00; text-decoration-color: #00af00\">20</span>, <span style=\"color: #00af00; text-decoration-color: #00af00\">128</span>)         │          <span style=\"color: #00af00; text-decoration-color: #00af00\">73,856</span> │\n",
              "├──────────────────────────────────────┼─────────────────────────────┼─────────────────┤\n",
              "│ max_pooling2d_2 (<span style=\"color: #0087ff; text-decoration-color: #0087ff\">MaxPooling2D</span>)       │ (<span style=\"color: #00d7ff; text-decoration-color: #00d7ff\">None</span>, <span style=\"color: #00af00; text-decoration-color: #00af00\">14</span>, <span style=\"color: #00af00; text-decoration-color: #00af00\">10</span>, <span style=\"color: #00af00; text-decoration-color: #00af00\">128</span>)         │               <span style=\"color: #00af00; text-decoration-color: #00af00\">0</span> │\n",
              "├──────────────────────────────────────┼─────────────────────────────┼─────────────────┤\n",
              "│ flatten (<span style=\"color: #0087ff; text-decoration-color: #0087ff\">Flatten</span>)                    │ (<span style=\"color: #00d7ff; text-decoration-color: #00d7ff\">None</span>, <span style=\"color: #00af00; text-decoration-color: #00af00\">17920</span>)               │               <span style=\"color: #00af00; text-decoration-color: #00af00\">0</span> │\n",
              "├──────────────────────────────────────┼─────────────────────────────┼─────────────────┤\n",
              "│ dense (<span style=\"color: #0087ff; text-decoration-color: #0087ff\">Dense</span>)                        │ (<span style=\"color: #00d7ff; text-decoration-color: #00d7ff\">None</span>, <span style=\"color: #00af00; text-decoration-color: #00af00\">128</span>)                 │       <span style=\"color: #00af00; text-decoration-color: #00af00\">2,293,888</span> │\n",
              "├──────────────────────────────────────┼─────────────────────────────┼─────────────────┤\n",
              "│ dropout (<span style=\"color: #0087ff; text-decoration-color: #0087ff\">Dropout</span>)                    │ (<span style=\"color: #00d7ff; text-decoration-color: #00d7ff\">None</span>, <span style=\"color: #00af00; text-decoration-color: #00af00\">128</span>)                 │               <span style=\"color: #00af00; text-decoration-color: #00af00\">0</span> │\n",
              "├──────────────────────────────────────┼─────────────────────────────┼─────────────────┤\n",
              "│ dense_1 (<span style=\"color: #0087ff; text-decoration-color: #0087ff\">Dense</span>)                      │ (<span style=\"color: #00d7ff; text-decoration-color: #00d7ff\">None</span>, <span style=\"color: #00af00; text-decoration-color: #00af00\">10</span>)                  │           <span style=\"color: #00af00; text-decoration-color: #00af00\">1,290</span> │\n",
              "└──────────────────────────────────────┴─────────────────────────────┴─────────────────┘\n",
              "</pre>\n"
            ]
          },
          "metadata": {}
        },
        {
          "output_type": "display_data",
          "data": {
            "text/plain": [
              "\u001b[1m Total params: \u001b[0m\u001b[38;5;34m2,387,850\u001b[0m (9.11 MB)\n"
            ],
            "text/html": [
              "<pre style=\"white-space:pre;overflow-x:auto;line-height:normal;font-family:Menlo,'DejaVu Sans Mono',consolas,'Courier New',monospace\"><span style=\"font-weight: bold\"> Total params: </span><span style=\"color: #00af00; text-decoration-color: #00af00\">2,387,850</span> (9.11 MB)\n",
              "</pre>\n"
            ]
          },
          "metadata": {}
        },
        {
          "output_type": "display_data",
          "data": {
            "text/plain": [
              "\u001b[1m Trainable params: \u001b[0m\u001b[38;5;34m2,387,850\u001b[0m (9.11 MB)\n"
            ],
            "text/html": [
              "<pre style=\"white-space:pre;overflow-x:auto;line-height:normal;font-family:Menlo,'DejaVu Sans Mono',consolas,'Courier New',monospace\"><span style=\"font-weight: bold\"> Trainable params: </span><span style=\"color: #00af00; text-decoration-color: #00af00\">2,387,850</span> (9.11 MB)\n",
              "</pre>\n"
            ]
          },
          "metadata": {}
        },
        {
          "output_type": "display_data",
          "data": {
            "text/plain": [
              "\u001b[1m Non-trainable params: \u001b[0m\u001b[38;5;34m0\u001b[0m (0.00 B)\n"
            ],
            "text/html": [
              "<pre style=\"white-space:pre;overflow-x:auto;line-height:normal;font-family:Menlo,'DejaVu Sans Mono',consolas,'Courier New',monospace\"><span style=\"font-weight: bold\"> Non-trainable params: </span><span style=\"color: #00af00; text-decoration-color: #00af00\">0</span> (0.00 B)\n",
              "</pre>\n"
            ]
          },
          "metadata": {}
        }
      ]
    },
    {
      "cell_type": "code",
      "source": [
        "model.compile(optimizer='adam',\n",
        "              loss='categorical_crossentropy',\n",
        "              metrics=['accuracy'])"
      ],
      "metadata": {
        "id": "H3QJ-N60zGpY"
      },
      "execution_count": null,
      "outputs": []
    },
    {
      "cell_type": "code",
      "source": [
        "checkpoint = ModelCheckpoint(\n",
        "    filepath=\"best_model.keras\",\n",
        "    monitor=\"loss\",            # Monitor the loss on training data\n",
        "    save_best_only=True,       # Save only the best model\n",
        "    mode=\"min\",                # Lower loss is better\n",
        "    verbose=1\n",
        ")\n",
        "\n",
        "# EarlyStopping: Stop training when loss stops improving\n",
        "early_stopping = EarlyStopping(\n",
        "    monitor=\"loss\",            # Monitor the loss on training data\n",
        "    patience=5,\n",
        "    mode=\"min\",                # Lower loss is better\n",
        "    verbose=1\n",
        ")\n"
      ],
      "metadata": {
        "id": "ko6Pt0bUvtaM"
      },
      "execution_count": null,
      "outputs": []
    },
    {
      "cell_type": "code",
      "source": [
        "history = model.fit(x_train_reshaped, y_train_encoded, epochs=50, batch_size=32,callbacks=[checkpoint, early_stopping])"
      ],
      "metadata": {
        "colab": {
          "base_uri": "https://localhost:8080/"
        },
        "id": "Tx90k1ncrahh",
        "outputId": "185b226a-f2a2-4e72-8a9f-dd437d062bc6"
      },
      "execution_count": null,
      "outputs": [
        {
          "output_type": "stream",
          "name": "stdout",
          "text": [
            "Epoch 1/50\n",
            "\u001b[1m103/103\u001b[0m \u001b[32m━━━━━━━━━━━━━━━━━━━━\u001b[0m\u001b[37m\u001b[0m \u001b[1m0s\u001b[0m 718ms/step - accuracy: 0.3914 - loss: 1.6657\n",
            "Epoch 1: loss improved from inf to 1.64509, saving model to best_model.keras\n",
            "\u001b[1m103/103\u001b[0m \u001b[32m━━━━━━━━━━━━━━━━━━━━\u001b[0m\u001b[37m\u001b[0m \u001b[1m74s\u001b[0m 719ms/step - accuracy: 0.3915 - loss: 1.6655\n",
            "Epoch 2/50\n",
            "\u001b[1m103/103\u001b[0m \u001b[32m━━━━━━━━━━━━━━━━━━━━\u001b[0m\u001b[37m\u001b[0m \u001b[1m0s\u001b[0m 751ms/step - accuracy: 0.4368 - loss: 1.5213\n",
            "Epoch 2: loss improved from 1.64509 to 1.48563, saving model to best_model.keras\n",
            "\u001b[1m103/103\u001b[0m \u001b[32m━━━━━━━━━━━━━━━━━━━━\u001b[0m\u001b[37m\u001b[0m \u001b[1m85s\u001b[0m 752ms/step - accuracy: 0.4369 - loss: 1.5210\n",
            "Epoch 3/50\n",
            "\u001b[1m103/103\u001b[0m \u001b[32m━━━━━━━━━━━━━━━━━━━━\u001b[0m\u001b[37m\u001b[0m \u001b[1m0s\u001b[0m 738ms/step - accuracy: 0.4703 - loss: 1.4078\n",
            "Epoch 3: loss improved from 1.48563 to 1.37870, saving model to best_model.keras\n",
            "\u001b[1m103/103\u001b[0m \u001b[32m━━━━━━━━━━━━━━━━━━━━\u001b[0m\u001b[37m\u001b[0m \u001b[1m81s\u001b[0m 739ms/step - accuracy: 0.4704 - loss: 1.4076\n",
            "Epoch 4/50\n",
            "\u001b[1m103/103\u001b[0m \u001b[32m━━━━━━━━━━━━━━━━━━━━\u001b[0m\u001b[37m\u001b[0m \u001b[1m0s\u001b[0m 855ms/step - accuracy: 0.4965 - loss: 1.3150\n",
            "Epoch 4: loss improved from 1.37870 to 1.30114, saving model to best_model.keras\n",
            "\u001b[1m103/103\u001b[0m \u001b[32m━━━━━━━━━━━━━━━━━━━━\u001b[0m\u001b[37m\u001b[0m \u001b[1m93s\u001b[0m 856ms/step - accuracy: 0.4965 - loss: 1.3149\n",
            "Epoch 5/50\n",
            "\u001b[1m103/103\u001b[0m \u001b[32m━━━━━━━━━━━━━━━━━━━━\u001b[0m\u001b[37m\u001b[0m \u001b[1m0s\u001b[0m 738ms/step - accuracy: 0.5307 - loss: 1.2285\n",
            "Epoch 5: loss improved from 1.30114 to 1.23920, saving model to best_model.keras\n",
            "\u001b[1m103/103\u001b[0m \u001b[32m━━━━━━━━━━━━━━━━━━━━\u001b[0m\u001b[37m\u001b[0m \u001b[1m130s\u001b[0m 739ms/step - accuracy: 0.5307 - loss: 1.2286\n",
            "Epoch 6/50\n",
            "\u001b[1m103/103\u001b[0m \u001b[32m━━━━━━━━━━━━━━━━━━━━\u001b[0m\u001b[37m\u001b[0m \u001b[1m0s\u001b[0m 717ms/step - accuracy: 0.5377 - loss: 1.1567\n",
            "Epoch 6: loss improved from 1.23920 to 1.13121, saving model to best_model.keras\n",
            "\u001b[1m103/103\u001b[0m \u001b[32m━━━━━━━━━━━━━━━━━━━━\u001b[0m\u001b[37m\u001b[0m \u001b[1m74s\u001b[0m 718ms/step - accuracy: 0.5380 - loss: 1.1565\n",
            "Epoch 7/50\n",
            "\u001b[1m103/103\u001b[0m \u001b[32m━━━━━━━━━━━━━━━━━━━━\u001b[0m\u001b[37m\u001b[0m \u001b[1m0s\u001b[0m 727ms/step - accuracy: 0.5784 - loss: 1.0750\n",
            "Epoch 7: loss improved from 1.13121 to 1.05675, saving model to best_model.keras\n",
            "\u001b[1m103/103\u001b[0m \u001b[32m━━━━━━━━━━━━━━━━━━━━\u001b[0m\u001b[37m\u001b[0m \u001b[1m83s\u001b[0m 729ms/step - accuracy: 0.5785 - loss: 1.0749\n",
            "Epoch 8/50\n",
            "\u001b[1m103/103\u001b[0m \u001b[32m━━━━━━━━━━━━━━━━━━━━\u001b[0m\u001b[37m\u001b[0m \u001b[1m0s\u001b[0m 718ms/step - accuracy: 0.5895 - loss: 1.0147\n",
            "Epoch 8: loss improved from 1.05675 to 1.00098, saving model to best_model.keras\n",
            "\u001b[1m103/103\u001b[0m \u001b[32m━━━━━━━━━━━━━━━━━━━━\u001b[0m\u001b[37m\u001b[0m \u001b[1m81s\u001b[0m 719ms/step - accuracy: 0.5897 - loss: 1.0146\n",
            "Epoch 9/50\n",
            "\u001b[1m103/103\u001b[0m \u001b[32m━━━━━━━━━━━━━━━━━━━━\u001b[0m\u001b[37m\u001b[0m \u001b[1m0s\u001b[0m 757ms/step - accuracy: 0.6517 - loss: 0.9063\n",
            "Epoch 9: loss improved from 1.00098 to 0.91604, saving model to best_model.keras\n",
            "\u001b[1m103/103\u001b[0m \u001b[32m━━━━━━━━━━━━━━━━━━━━\u001b[0m\u001b[37m\u001b[0m \u001b[1m86s\u001b[0m 758ms/step - accuracy: 0.6516 - loss: 0.9064\n",
            "Epoch 10/50\n",
            "\u001b[1m103/103\u001b[0m \u001b[32m━━━━━━━━━━━━━━━━━━━━\u001b[0m\u001b[37m\u001b[0m \u001b[1m0s\u001b[0m 725ms/step - accuracy: 0.6459 - loss: 0.8975\n",
            "Epoch 10: loss improved from 0.91604 to 0.91380, saving model to best_model.keras\n",
            "\u001b[1m103/103\u001b[0m \u001b[32m━━━━━━━━━━━━━━━━━━━━\u001b[0m\u001b[37m\u001b[0m \u001b[1m79s\u001b[0m 726ms/step - accuracy: 0.6459 - loss: 0.8976\n",
            "Epoch 11/50\n",
            "\u001b[1m103/103\u001b[0m \u001b[32m━━━━━━━━━━━━━━━━━━━━\u001b[0m\u001b[37m\u001b[0m \u001b[1m0s\u001b[0m 753ms/step - accuracy: 0.6409 - loss: 0.9066\n",
            "Epoch 11: loss improved from 0.91380 to 0.90269, saving model to best_model.keras\n",
            "\u001b[1m103/103\u001b[0m \u001b[32m━━━━━━━━━━━━━━━━━━━━\u001b[0m\u001b[37m\u001b[0m \u001b[1m85s\u001b[0m 754ms/step - accuracy: 0.6409 - loss: 0.9066\n",
            "Epoch 12/50\n",
            "\u001b[1m103/103\u001b[0m \u001b[32m━━━━━━━━━━━━━━━━━━━━\u001b[0m\u001b[37m\u001b[0m \u001b[1m0s\u001b[0m 730ms/step - accuracy: 0.6940 - loss: 0.7955\n",
            "Epoch 12: loss improved from 0.90269 to 0.74950, saving model to best_model.keras\n",
            "\u001b[1m103/103\u001b[0m \u001b[32m━━━━━━━━━━━━━━━━━━━━\u001b[0m\u001b[37m\u001b[0m \u001b[1m79s\u001b[0m 731ms/step - accuracy: 0.6941 - loss: 0.7951\n",
            "Epoch 13/50\n",
            "\u001b[1m103/103\u001b[0m \u001b[32m━━━━━━━━━━━━━━━━━━━━\u001b[0m\u001b[37m\u001b[0m \u001b[1m0s\u001b[0m 730ms/step - accuracy: 0.7029 - loss: 0.7358\n",
            "Epoch 13: loss improved from 0.74950 to 0.72977, saving model to best_model.keras\n",
            "\u001b[1m103/103\u001b[0m \u001b[32m━━━━━━━━━━━━━━━━━━━━\u001b[0m\u001b[37m\u001b[0m \u001b[1m82s\u001b[0m 732ms/step - accuracy: 0.7030 - loss: 0.7357\n",
            "Epoch 14/50\n",
            "\u001b[1m103/103\u001b[0m \u001b[32m━━━━━━━━━━━━━━━━━━━━\u001b[0m\u001b[37m\u001b[0m \u001b[1m0s\u001b[0m 732ms/step - accuracy: 0.7278 - loss: 0.6930\n",
            "Epoch 14: loss improved from 0.72977 to 0.68055, saving model to best_model.keras\n",
            "\u001b[1m103/103\u001b[0m \u001b[32m━━━━━━━━━━━━━━━━━━━━\u001b[0m\u001b[37m\u001b[0m \u001b[1m82s\u001b[0m 734ms/step - accuracy: 0.7278 - loss: 0.6929\n",
            "Epoch 15/50\n",
            "\u001b[1m103/103\u001b[0m \u001b[32m━━━━━━━━━━━━━━━━━━━━\u001b[0m\u001b[37m\u001b[0m \u001b[1m0s\u001b[0m 712ms/step - accuracy: 0.7602 - loss: 0.6136\n",
            "Epoch 15: loss improved from 0.68055 to 0.62125, saving model to best_model.keras\n",
            "\u001b[1m103/103\u001b[0m \u001b[32m━━━━━━━━━━━━━━━━━━━━\u001b[0m\u001b[37m\u001b[0m \u001b[1m156s\u001b[0m 2s/step - accuracy: 0.7602 - loss: 0.6137 \n",
            "Epoch 16/50\n",
            "\u001b[1m103/103\u001b[0m \u001b[32m━━━━━━━━━━━━━━━━━━━━\u001b[0m\u001b[37m\u001b[0m \u001b[1m0s\u001b[0m 721ms/step - accuracy: 0.7700 - loss: 0.6068\n",
            "Epoch 16: loss did not improve from 0.62125\n",
            "\u001b[1m103/103\u001b[0m \u001b[32m━━━━━━━━━━━━━━━━━━━━\u001b[0m\u001b[37m\u001b[0m \u001b[1m121s\u001b[0m 721ms/step - accuracy: 0.7700 - loss: 0.6069\n",
            "Epoch 17/50\n",
            "\u001b[1m103/103\u001b[0m \u001b[32m━━━━━━━━━━━━━━━━━━━━\u001b[0m\u001b[37m\u001b[0m \u001b[1m0s\u001b[0m 727ms/step - accuracy: 0.7804 - loss: 0.5637\n",
            "Epoch 17: loss improved from 0.62125 to 0.56200, saving model to best_model.keras\n",
            "\u001b[1m103/103\u001b[0m \u001b[32m━━━━━━━━━━━━━━━━━━━━\u001b[0m\u001b[37m\u001b[0m \u001b[1m83s\u001b[0m 729ms/step - accuracy: 0.7805 - loss: 0.5637\n",
            "Epoch 18/50\n",
            "\u001b[1m103/103\u001b[0m \u001b[32m━━━━━━━━━━━━━━━━━━━━\u001b[0m\u001b[37m\u001b[0m \u001b[1m0s\u001b[0m 727ms/step - accuracy: 0.7880 - loss: 0.5544\n",
            "Epoch 18: loss improved from 0.56200 to 0.53778, saving model to best_model.keras\n",
            "\u001b[1m103/103\u001b[0m \u001b[32m━━━━━━━━━━━━━━━━━━━━\u001b[0m\u001b[37m\u001b[0m \u001b[1m82s\u001b[0m 729ms/step - accuracy: 0.7881 - loss: 0.5543\n",
            "Epoch 19/50\n",
            "\u001b[1m103/103\u001b[0m \u001b[32m━━━━━━━━━━━━━━━━━━━━\u001b[0m\u001b[37m\u001b[0m \u001b[1m0s\u001b[0m 726ms/step - accuracy: 0.7912 - loss: 0.5313\n",
            "Epoch 19: loss did not improve from 0.53778\n",
            "\u001b[1m103/103\u001b[0m \u001b[32m━━━━━━━━━━━━━━━━━━━━\u001b[0m\u001b[37m\u001b[0m \u001b[1m75s\u001b[0m 726ms/step - accuracy: 0.7912 - loss: 0.5314\n",
            "Epoch 20/50\n",
            "\u001b[1m103/103\u001b[0m \u001b[32m━━━━━━━━━━━━━━━━━━━━\u001b[0m\u001b[37m\u001b[0m \u001b[1m0s\u001b[0m 731ms/step - accuracy: 0.8086 - loss: 0.5063\n",
            "Epoch 20: loss improved from 0.53778 to 0.49421, saving model to best_model.keras\n",
            "\u001b[1m103/103\u001b[0m \u001b[32m━━━━━━━━━━━━━━━━━━━━\u001b[0m\u001b[37m\u001b[0m \u001b[1m83s\u001b[0m 733ms/step - accuracy: 0.8086 - loss: 0.5062\n",
            "Epoch 21/50\n",
            "\u001b[1m103/103\u001b[0m \u001b[32m━━━━━━━━━━━━━━━━━━━━\u001b[0m\u001b[37m\u001b[0m \u001b[1m0s\u001b[0m 726ms/step - accuracy: 0.8491 - loss: 0.4045\n",
            "Epoch 21: loss improved from 0.49421 to 0.41628, saving model to best_model.keras\n",
            "\u001b[1m103/103\u001b[0m \u001b[32m━━━━━━━━━━━━━━━━━━━━\u001b[0m\u001b[37m\u001b[0m \u001b[1m75s\u001b[0m 728ms/step - accuracy: 0.8490 - loss: 0.4046\n",
            "Epoch 22/50\n",
            "\u001b[1m103/103\u001b[0m \u001b[32m━━━━━━━━━━━━━━━━━━━━\u001b[0m\u001b[37m\u001b[0m \u001b[1m0s\u001b[0m 733ms/step - accuracy: 0.8415 - loss: 0.4008\n",
            "Epoch 22: loss did not improve from 0.41628\n",
            "\u001b[1m103/103\u001b[0m \u001b[32m━━━━━━━━━━━━━━━━━━━━\u001b[0m\u001b[37m\u001b[0m \u001b[1m83s\u001b[0m 733ms/step - accuracy: 0.8414 - loss: 0.4012\n",
            "Epoch 23/50\n",
            "\u001b[1m103/103\u001b[0m \u001b[32m━━━━━━━━━━━━━━━━━━━━\u001b[0m\u001b[37m\u001b[0m \u001b[1m0s\u001b[0m 725ms/step - accuracy: 0.8121 - loss: 0.4856\n",
            "Epoch 23: loss did not improve from 0.41628\n",
            "\u001b[1m103/103\u001b[0m \u001b[32m━━━━━━━━━━━━━━━━━━━━\u001b[0m\u001b[37m\u001b[0m \u001b[1m81s\u001b[0m 725ms/step - accuracy: 0.8122 - loss: 0.4852\n",
            "Epoch 24/50\n",
            "\u001b[1m103/103\u001b[0m \u001b[32m━━━━━━━━━━━━━━━━━━━━\u001b[0m\u001b[37m\u001b[0m \u001b[1m0s\u001b[0m 727ms/step - accuracy: 0.8407 - loss: 0.3978\n",
            "Epoch 24: loss improved from 0.41628 to 0.38565, saving model to best_model.keras\n",
            "\u001b[1m103/103\u001b[0m \u001b[32m━━━━━━━━━━━━━━━━━━━━\u001b[0m\u001b[37m\u001b[0m \u001b[1m82s\u001b[0m 728ms/step - accuracy: 0.8409 - loss: 0.3977\n",
            "Epoch 25/50\n",
            "\u001b[1m103/103\u001b[0m \u001b[32m━━━━━━━━━━━━━━━━━━━━\u001b[0m\u001b[37m\u001b[0m \u001b[1m0s\u001b[0m 730ms/step - accuracy: 0.8285 - loss: 0.4386\n",
            "Epoch 25: loss did not improve from 0.38565\n",
            "\u001b[1m103/103\u001b[0m \u001b[32m━━━━━━━━━━━━━━━━━━━━\u001b[0m\u001b[37m\u001b[0m \u001b[1m82s\u001b[0m 730ms/step - accuracy: 0.8286 - loss: 0.4385\n",
            "Epoch 26/50\n",
            "\u001b[1m103/103\u001b[0m \u001b[32m━━━━━━━━━━━━━━━━━━━━\u001b[0m\u001b[37m\u001b[0m \u001b[1m0s\u001b[0m 721ms/step - accuracy: 0.8517 - loss: 0.3843\n",
            "Epoch 26: loss improved from 0.38565 to 0.38005, saving model to best_model.keras\n",
            "\u001b[1m103/103\u001b[0m \u001b[32m━━━━━━━━━━━━━━━━━━━━\u001b[0m\u001b[37m\u001b[0m \u001b[1m81s\u001b[0m 722ms/step - accuracy: 0.8517 - loss: 0.3843\n",
            "Epoch 27/50\n",
            "\u001b[1m103/103\u001b[0m \u001b[32m━━━━━━━━━━━━━━━━━━━━\u001b[0m\u001b[37m\u001b[0m \u001b[1m0s\u001b[0m 737ms/step - accuracy: 0.8353 - loss: 0.4309\n",
            "Epoch 27: loss did not improve from 0.38005\n",
            "\u001b[1m103/103\u001b[0m \u001b[32m━━━━━━━━━━━━━━━━━━━━\u001b[0m\u001b[37m\u001b[0m \u001b[1m76s\u001b[0m 737ms/step - accuracy: 0.8353 - loss: 0.4310\n",
            "Epoch 28/50\n",
            "\u001b[1m103/103\u001b[0m \u001b[32m━━━━━━━━━━━━━━━━━━━━\u001b[0m\u001b[37m\u001b[0m \u001b[1m0s\u001b[0m 732ms/step - accuracy: 0.8664 - loss: 0.3439\n",
            "Epoch 28: loss improved from 0.38005 to 0.34227, saving model to best_model.keras\n",
            "\u001b[1m103/103\u001b[0m \u001b[32m━━━━━━━━━━━━━━━━━━━━\u001b[0m\u001b[37m\u001b[0m \u001b[1m76s\u001b[0m 734ms/step - accuracy: 0.8664 - loss: 0.3439\n",
            "Epoch 29/50\n",
            "\u001b[1m103/103\u001b[0m \u001b[32m━━━━━━━━━━━━━━━━━━━━\u001b[0m\u001b[37m\u001b[0m \u001b[1m0s\u001b[0m 719ms/step - accuracy: 0.8664 - loss: 0.3522\n",
            "Epoch 29: loss improved from 0.34227 to 0.33306, saving model to best_model.keras\n",
            "\u001b[1m103/103\u001b[0m \u001b[32m━━━━━━━━━━━━━━━━━━━━\u001b[0m\u001b[37m\u001b[0m \u001b[1m80s\u001b[0m 720ms/step - accuracy: 0.8664 - loss: 0.3520\n",
            "Epoch 30/50\n",
            "\u001b[1m103/103\u001b[0m \u001b[32m━━━━━━━━━━━━━━━━━━━━\u001b[0m\u001b[37m\u001b[0m \u001b[1m0s\u001b[0m 723ms/step - accuracy: 0.8454 - loss: 0.3940\n",
            "Epoch 30: loss did not improve from 0.33306\n",
            "\u001b[1m103/103\u001b[0m \u001b[32m━━━━━━━━━━━━━━━━━━━━\u001b[0m\u001b[37m\u001b[0m \u001b[1m82s\u001b[0m 723ms/step - accuracy: 0.8455 - loss: 0.3938\n",
            "Epoch 31/50\n",
            "\u001b[1m103/103\u001b[0m \u001b[32m━━━━━━━━━━━━━━━━━━━━\u001b[0m\u001b[37m\u001b[0m \u001b[1m0s\u001b[0m 722ms/step - accuracy: 0.8844 - loss: 0.3117\n",
            "Epoch 31: loss improved from 0.33306 to 0.31127, saving model to best_model.keras\n",
            "\u001b[1m103/103\u001b[0m \u001b[32m━━━━━━━━━━━━━━━━━━━━\u001b[0m\u001b[37m\u001b[0m \u001b[1m74s\u001b[0m 724ms/step - accuracy: 0.8843 - loss: 0.3117\n",
            "Epoch 32/50\n",
            "\u001b[1m103/103\u001b[0m \u001b[32m━━━━━━━━━━━━━━━━━━━━\u001b[0m\u001b[37m\u001b[0m \u001b[1m0s\u001b[0m 722ms/step - accuracy: 0.8880 - loss: 0.2829\n",
            "Epoch 32: loss improved from 0.31127 to 0.30877, saving model to best_model.keras\n",
            "\u001b[1m103/103\u001b[0m \u001b[32m━━━━━━━━━━━━━━━━━━━━\u001b[0m\u001b[37m\u001b[0m \u001b[1m74s\u001b[0m 723ms/step - accuracy: 0.8880 - loss: 0.2832\n",
            "Epoch 33/50\n",
            "\u001b[1m103/103\u001b[0m \u001b[32m━━━━━━━━━━━━━━━━━━━━\u001b[0m\u001b[37m\u001b[0m \u001b[1m0s\u001b[0m 709ms/step - accuracy: 0.8966 - loss: 0.2776\n",
            "Epoch 33: loss improved from 0.30877 to 0.27833, saving model to best_model.keras\n",
            "\u001b[1m103/103\u001b[0m \u001b[32m━━━━━━━━━━━━━━━━━━━━\u001b[0m\u001b[37m\u001b[0m \u001b[1m81s\u001b[0m 710ms/step - accuracy: 0.8965 - loss: 0.2776\n",
            "Epoch 34/50\n",
            "\u001b[1m103/103\u001b[0m \u001b[32m━━━━━━━━━━━━━━━━━━━━\u001b[0m\u001b[37m\u001b[0m \u001b[1m0s\u001b[0m 716ms/step - accuracy: 0.9045 - loss: 0.2581\n",
            "Epoch 34: loss improved from 0.27833 to 0.25455, saving model to best_model.keras\n",
            "\u001b[1m103/103\u001b[0m \u001b[32m━━━━━━━━━━━━━━━━━━━━\u001b[0m\u001b[37m\u001b[0m \u001b[1m74s\u001b[0m 718ms/step - accuracy: 0.9045 - loss: 0.2580\n",
            "Epoch 35/50\n",
            "\u001b[1m103/103\u001b[0m \u001b[32m━━━━━━━━━━━━━━━━━━━━\u001b[0m\u001b[37m\u001b[0m \u001b[1m0s\u001b[0m 718ms/step - accuracy: 0.9036 - loss: 0.2669\n",
            "Epoch 35: loss did not improve from 0.25455\n",
            "\u001b[1m103/103\u001b[0m \u001b[32m━━━━━━━━━━━━━━━━━━━━\u001b[0m\u001b[37m\u001b[0m \u001b[1m82s\u001b[0m 718ms/step - accuracy: 0.9036 - loss: 0.2669\n",
            "Epoch 36/50\n",
            "\u001b[1m103/103\u001b[0m \u001b[32m━━━━━━━━━━━━━━━━━━━━\u001b[0m\u001b[37m\u001b[0m \u001b[1m0s\u001b[0m 719ms/step - accuracy: 0.8891 - loss: 0.2832\n",
            "Epoch 36: loss improved from 0.25455 to 0.24744, saving model to best_model.keras\n",
            "\u001b[1m103/103\u001b[0m \u001b[32m━━━━━━━━━━━━━━━━━━━━\u001b[0m\u001b[37m\u001b[0m \u001b[1m82s\u001b[0m 721ms/step - accuracy: 0.8892 - loss: 0.2829\n",
            "Epoch 37/50\n",
            "\u001b[1m103/103\u001b[0m \u001b[32m━━━━━━━━━━━━━━━━━━━━\u001b[0m\u001b[37m\u001b[0m \u001b[1m0s\u001b[0m 714ms/step - accuracy: 0.8952 - loss: 0.2847\n",
            "Epoch 37: loss did not improve from 0.24744\n",
            "\u001b[1m103/103\u001b[0m \u001b[32m━━━━━━━━━━━━━━━━━━━━\u001b[0m\u001b[37m\u001b[0m \u001b[1m81s\u001b[0m 714ms/step - accuracy: 0.8952 - loss: 0.2849\n",
            "Epoch 38/50\n",
            "\u001b[1m103/103\u001b[0m \u001b[32m━━━━━━━━━━━━━━━━━━━━\u001b[0m\u001b[37m\u001b[0m \u001b[1m0s\u001b[0m 712ms/step - accuracy: 0.9057 - loss: 0.2641\n",
            "Epoch 38: loss did not improve from 0.24744\n",
            "\u001b[1m103/103\u001b[0m \u001b[32m━━━━━━━━━━━━━━━━━━━━\u001b[0m\u001b[37m\u001b[0m \u001b[1m82s\u001b[0m 713ms/step - accuracy: 0.9056 - loss: 0.2643\n",
            "Epoch 39/50\n",
            "\u001b[1m103/103\u001b[0m \u001b[32m━━━━━━━━━━━━━━━━━━━━\u001b[0m\u001b[37m\u001b[0m \u001b[1m0s\u001b[0m 703ms/step - accuracy: 0.9064 - loss: 0.2526\n",
            "Epoch 39: loss did not improve from 0.24744\n",
            "\u001b[1m103/103\u001b[0m \u001b[32m━━━━━━━━━━━━━━━━━━━━\u001b[0m\u001b[37m\u001b[0m \u001b[1m81s\u001b[0m 703ms/step - accuracy: 0.9063 - loss: 0.2527\n",
            "Epoch 40/50\n",
            "\u001b[1m103/103\u001b[0m \u001b[32m━━━━━━━━━━━━━━━━━━━━\u001b[0m\u001b[37m\u001b[0m \u001b[1m0s\u001b[0m 717ms/step - accuracy: 0.9126 - loss: 0.2506\n",
            "Epoch 40: loss improved from 0.24744 to 0.24404, saving model to best_model.keras\n",
            "\u001b[1m103/103\u001b[0m \u001b[32m━━━━━━━━━━━━━━━━━━━━\u001b[0m\u001b[37m\u001b[0m \u001b[1m83s\u001b[0m 719ms/step - accuracy: 0.9126 - loss: 0.2505\n",
            "Epoch 41/50\n",
            "\u001b[1m103/103\u001b[0m \u001b[32m━━━━━━━━━━━━━━━━━━━━\u001b[0m\u001b[37m\u001b[0m \u001b[1m0s\u001b[0m 712ms/step - accuracy: 0.9129 - loss: 0.2250\n",
            "Epoch 41: loss improved from 0.24404 to 0.24216, saving model to best_model.keras\n",
            "\u001b[1m103/103\u001b[0m \u001b[32m━━━━━━━━━━━━━━━━━━━━\u001b[0m\u001b[37m\u001b[0m \u001b[1m81s\u001b[0m 713ms/step - accuracy: 0.9129 - loss: 0.2252\n",
            "Epoch 42/50\n",
            "\u001b[1m103/103\u001b[0m \u001b[32m━━━━━━━━━━━━━━━━━━━━\u001b[0m\u001b[37m\u001b[0m \u001b[1m0s\u001b[0m 715ms/step - accuracy: 0.9042 - loss: 0.2337\n",
            "Epoch 42: loss improved from 0.24216 to 0.23302, saving model to best_model.keras\n",
            "\u001b[1m103/103\u001b[0m \u001b[32m━━━━━━━━━━━━━━━━━━━━\u001b[0m\u001b[37m\u001b[0m \u001b[1m82s\u001b[0m 717ms/step - accuracy: 0.9043 - loss: 0.2337\n",
            "Epoch 43/50\n",
            "\u001b[1m103/103\u001b[0m \u001b[32m━━━━━━━━━━━━━━━━━━━━\u001b[0m\u001b[37m\u001b[0m \u001b[1m0s\u001b[0m 710ms/step - accuracy: 0.9232 - loss: 0.1949\n",
            "Epoch 43: loss did not improve from 0.23302\n",
            "\u001b[1m103/103\u001b[0m \u001b[32m━━━━━━━━━━━━━━━━━━━━\u001b[0m\u001b[37m\u001b[0m \u001b[1m82s\u001b[0m 710ms/step - accuracy: 0.9231 - loss: 0.1953\n",
            "Epoch 44/50\n",
            "\u001b[1m103/103\u001b[0m \u001b[32m━━━━━━━━━━━━━━━━━━━━\u001b[0m\u001b[37m\u001b[0m \u001b[1m0s\u001b[0m 709ms/step - accuracy: 0.8988 - loss: 0.2614\n",
            "Epoch 44: loss did not improve from 0.23302\n",
            "\u001b[1m103/103\u001b[0m \u001b[32m━━━━━━━━━━━━━━━━━━━━\u001b[0m\u001b[37m\u001b[0m \u001b[1m81s\u001b[0m 710ms/step - accuracy: 0.8989 - loss: 0.2614\n",
            "Epoch 45/50\n",
            "\u001b[1m103/103\u001b[0m \u001b[32m━━━━━━━━━━━━━━━━━━━━\u001b[0m\u001b[37m\u001b[0m \u001b[1m0s\u001b[0m 711ms/step - accuracy: 0.9155 - loss: 0.2166\n",
            "Epoch 45: loss improved from 0.23302 to 0.21439, saving model to best_model.keras\n",
            "\u001b[1m103/103\u001b[0m \u001b[32m━━━━━━━━━━━━━━━━━━━━\u001b[0m\u001b[37m\u001b[0m \u001b[1m82s\u001b[0m 712ms/step - accuracy: 0.9156 - loss: 0.2166\n",
            "Epoch 46/50\n",
            "\u001b[1m103/103\u001b[0m \u001b[32m━━━━━━━━━━━━━━━━━━━━\u001b[0m\u001b[37m\u001b[0m \u001b[1m0s\u001b[0m 712ms/step - accuracy: 0.9225 - loss: 0.2161\n",
            "Epoch 46: loss did not improve from 0.21439\n",
            "\u001b[1m103/103\u001b[0m \u001b[32m━━━━━━━━━━━━━━━━━━━━\u001b[0m\u001b[37m\u001b[0m \u001b[1m82s\u001b[0m 712ms/step - accuracy: 0.9224 - loss: 0.2162\n",
            "Epoch 47/50\n",
            "\u001b[1m103/103\u001b[0m \u001b[32m━━━━━━━━━━━━━━━━━━━━\u001b[0m\u001b[37m\u001b[0m \u001b[1m0s\u001b[0m 706ms/step - accuracy: 0.9018 - loss: 0.2660\n",
            "Epoch 47: loss did not improve from 0.21439\n",
            "\u001b[1m103/103\u001b[0m \u001b[32m━━━━━━━━━━━━━━━━━━━━\u001b[0m\u001b[37m\u001b[0m \u001b[1m82s\u001b[0m 706ms/step - accuracy: 0.9019 - loss: 0.2658\n",
            "Epoch 48/50\n",
            "\u001b[1m103/103\u001b[0m \u001b[32m━━━━━━━━━━━━━━━━━━━━\u001b[0m\u001b[37m\u001b[0m \u001b[1m0s\u001b[0m 711ms/step - accuracy: 0.9338 - loss: 0.1755\n",
            "Epoch 48: loss improved from 0.21439 to 0.18811, saving model to best_model.keras\n",
            "\u001b[1m103/103\u001b[0m \u001b[32m━━━━━━━━━━━━━━━━━━━━\u001b[0m\u001b[37m\u001b[0m \u001b[1m82s\u001b[0m 713ms/step - accuracy: 0.9338 - loss: 0.1756\n",
            "Epoch 49/50\n",
            "\u001b[1m103/103\u001b[0m \u001b[32m━━━━━━━━━━━━━━━━━━━━\u001b[0m\u001b[37m\u001b[0m \u001b[1m0s\u001b[0m 712ms/step - accuracy: 0.8586 - loss: 0.4183\n",
            "Epoch 49: loss did not improve from 0.18811\n",
            "\u001b[1m103/103\u001b[0m \u001b[32m━━━━━━━━━━━━━━━━━━━━\u001b[0m\u001b[37m\u001b[0m \u001b[1m73s\u001b[0m 712ms/step - accuracy: 0.8587 - loss: 0.4178\n",
            "Epoch 50/50\n",
            "\u001b[1m103/103\u001b[0m \u001b[32m━━━━━━━━━━━━━━━━━━━━\u001b[0m\u001b[37m\u001b[0m \u001b[1m0s\u001b[0m 712ms/step - accuracy: 0.9035 - loss: 0.2470\n",
            "Epoch 50: loss did not improve from 0.18811\n",
            "\u001b[1m103/103\u001b[0m \u001b[32m━━━━━━━━━━━━━━━━━━━━\u001b[0m\u001b[37m\u001b[0m \u001b[1m82s\u001b[0m 712ms/step - accuracy: 0.9036 - loss: 0.2466\n"
          ]
        }
      ]
    },
    {
      "cell_type": "code",
      "source": [
        "predictions  = model.predict(x_test_reshaped)"
      ],
      "metadata": {
        "colab": {
          "base_uri": "https://localhost:8080/"
        },
        "id": "XfronKrUtS-E",
        "outputId": "aa526427-08fc-4821-fcd1-e040ac8d5236"
      },
      "execution_count": null,
      "outputs": [
        {
          "output_type": "stream",
          "name": "stdout",
          "text": [
            "\u001b[1m26/26\u001b[0m \u001b[32m━━━━━━━━━━━━━━━━━━━━\u001b[0m\u001b[37m\u001b[0m \u001b[1m8s\u001b[0m 317ms/step\n"
          ]
        }
      ]
    },
    {
      "cell_type": "code",
      "source": [
        "predictions"
      ],
      "metadata": {
        "colab": {
          "base_uri": "https://localhost:8080/"
        },
        "id": "-g5MAUVSCn2o",
        "outputId": "1dd850ea-7cbe-4a19-dc6c-0b1d4a031c56"
      },
      "execution_count": null,
      "outputs": [
        {
          "output_type": "execute_result",
          "data": {
            "text/plain": [
              "array([[2.7679406e-16, 4.6485038e-13, 1.1173891e-17, ..., 4.8156588e-14,\n",
              "        5.6088791e-20, 6.9249190e-31],\n",
              "       [2.9538490e-24, 9.9999899e-01, 1.7979755e-11, ..., 1.0671048e-09,\n",
              "        6.1916209e-27, 9.8507849e-07],\n",
              "       [6.2125688e-04, 8.3675903e-17, 4.2826575e-17, ..., 8.4083727e-13,\n",
              "        8.1433300e-14, 8.7003105e-19],\n",
              "       ...,\n",
              "       [3.8162744e-09, 5.5427658e-23, 4.7135823e-10, ..., 2.4659785e-21,\n",
              "        1.2812860e-14, 6.6478902e-13],\n",
              "       [2.1358900e-07, 2.4719561e-06, 9.9956113e-01, ..., 9.5953219e-08,\n",
              "        5.3079190e-09, 1.9488469e-04],\n",
              "       [1.7471933e-03, 1.0581990e-12, 3.8658507e-10, ..., 9.3304245e-12,\n",
              "        1.2155019e-05, 2.8972799e-16]], dtype=float32)"
            ]
          },
          "metadata": {},
          "execution_count": 56
        }
      ]
    },
    {
      "cell_type": "code",
      "source": [
        "predicted_classes = np.argmax(predictions, axis=1)\n",
        "predicted_classes"
      ],
      "metadata": {
        "colab": {
          "base_uri": "https://localhost:8080/"
        },
        "id": "22oW7-hotVSE",
        "outputId": "a0c399e6-712b-4091-9247-89c918812cc0"
      },
      "execution_count": null,
      "outputs": [
        {
          "output_type": "execute_result",
          "data": {
            "text/plain": [
              "array([4, 1, 3, 7, 0, 1, 0, 8, 6, 3, 4, 6, 3, 9, 9, 6, 7, 0, 0, 0, 6, 1,\n",
              "       6, 4, 7, 0, 8, 6, 0, 8, 6, 6, 3, 5, 9, 4, 1, 0, 3, 1, 0, 3, 0, 0,\n",
              "       7, 0, 4, 3, 3, 1, 0, 6, 4, 3, 4, 6, 0, 6, 4, 2, 9, 0, 4, 0, 6, 0,\n",
              "       0, 3, 3, 0, 0, 3, 8, 6, 3, 0, 1, 1, 2, 4, 4, 0, 6, 5, 0, 0, 3, 4,\n",
              "       0, 0, 6, 0, 3, 8, 0, 0, 8, 4, 0, 2, 6, 6, 4, 5, 4, 3, 1, 4, 8, 0,\n",
              "       6, 2, 0, 6, 4, 1, 3, 0, 1, 3, 3, 4, 8, 7, 1, 0, 2, 0, 4, 9, 8, 8,\n",
              "       3, 4, 0, 0, 4, 7, 3, 0, 8, 0, 4, 2, 3, 1, 4, 4, 9, 3, 4, 7, 6, 3,\n",
              "       3, 4, 3, 0, 4, 0, 3, 2, 4, 4, 0, 0, 8, 4, 6, 5, 4, 4, 3, 2, 8, 3,\n",
              "       3, 0, 4, 3, 4, 0, 0, 2, 8, 4, 4, 4, 6, 4, 6, 4, 6, 7, 4, 2, 4, 0,\n",
              "       1, 4, 4, 8, 0, 3, 4, 4, 3, 4, 3, 7, 8, 0, 8, 0, 4, 3, 0, 3, 1, 4,\n",
              "       0, 3, 0, 6, 4, 4, 4, 4, 0, 3, 0, 3, 6, 3, 3, 0, 3, 7, 6, 0, 4, 3,\n",
              "       4, 1, 4, 7, 0, 0, 0, 0, 6, 0, 0, 3, 7, 6, 0, 0, 1, 4, 4, 3, 7, 6,\n",
              "       5, 0, 1, 0, 0, 6, 8, 6, 9, 6, 9, 0, 3, 6, 5, 6, 8, 4, 9, 3, 9, 0,\n",
              "       0, 4, 6, 3, 0, 4, 0, 2, 0, 0, 3, 0, 4, 3, 4, 7, 0, 1, 3, 7, 0, 3,\n",
              "       1, 8, 6, 4, 7, 0, 3, 0, 7, 4, 4, 6, 4, 0, 8, 3, 8, 4, 1, 6, 4, 8,\n",
              "       6, 1, 0, 2, 8, 4, 3, 0, 8, 6, 2, 3, 2, 0, 8, 4, 0, 3, 4, 4, 4, 3,\n",
              "       3, 2, 7, 3, 6, 0, 4, 4, 0, 7, 1, 5, 2, 0, 7, 7, 5, 6, 4, 4, 0, 0,\n",
              "       5, 7, 6, 3, 0, 7, 6, 0, 1, 4, 0, 5, 4, 2, 3, 3, 8, 3, 4, 0, 3, 0,\n",
              "       0, 2, 0, 4, 6, 0, 4, 9, 0, 1, 0, 7, 0, 4, 9, 9, 0, 4, 0, 0, 6, 6,\n",
              "       6, 0, 3, 0, 3, 6, 0, 3, 0, 5, 0, 8, 3, 4, 2, 0, 3, 8, 0, 0, 7, 0,\n",
              "       0, 0, 4, 8, 3, 5, 0, 0, 8, 4, 6, 1, 9, 2, 7, 4, 3, 4, 4, 4, 3, 8,\n",
              "       1, 9, 3, 0, 8, 2, 0, 0, 3, 3, 6, 4, 6, 4, 8, 3, 1, 4, 1, 3, 0, 4,\n",
              "       6, 0, 4, 5, 0, 6, 0, 4, 0, 7, 0, 0, 6, 6, 4, 3, 8, 5, 4, 7, 7, 4,\n",
              "       3, 0, 8, 9, 8, 6, 6, 3, 4, 9, 9, 0, 0, 3, 3, 8, 5, 9, 4, 4, 6, 3,\n",
              "       3, 1, 0, 6, 3, 7, 0, 3, 0, 0, 9, 3, 3, 9, 2, 4, 4, 4, 6, 8, 4, 3,\n",
              "       3, 0, 0, 7, 3, 6, 6, 3, 7, 6, 1, 1, 0, 4, 8, 0, 7, 3, 5, 5, 1, 0,\n",
              "       9, 3, 3, 0, 2, 0, 7, 6, 0, 6, 4, 4, 5, 1, 7, 1, 1, 4, 0, 9, 3, 8,\n",
              "       3, 2, 0, 6, 3, 0, 2, 3, 3, 0, 4, 0, 7, 4, 8, 6, 6, 1, 3, 4, 4, 6,\n",
              "       0, 5, 4, 3, 4, 7, 0, 3, 3, 0, 4, 4, 8, 6, 3, 5, 4, 2, 4, 4, 3, 6,\n",
              "       0, 2, 0, 3, 4, 3, 9, 7, 6, 7, 9, 4, 1, 3, 0, 0, 8, 3, 3, 0, 2, 8,\n",
              "       4, 0, 8, 0, 6, 0, 6, 6, 0, 2, 4, 0, 2, 9, 4, 4, 0, 4, 4, 0, 4, 0,\n",
              "       3, 4, 4, 0, 4, 0, 4, 0, 0, 3, 0, 3, 0, 4, 3, 6, 0, 9, 5, 7, 3, 5,\n",
              "       3, 2, 1, 0, 6, 3, 6, 0, 5, 3, 4, 0, 6, 0, 3, 0, 6, 8, 7, 4, 3, 3,\n",
              "       0, 3, 0, 9, 8, 0, 6, 1, 1, 6, 4, 5, 4, 3, 4, 2, 6, 3, 0, 8, 6, 3,\n",
              "       4, 3, 6, 3, 4, 0, 8, 3, 8, 6, 3, 0, 0, 3, 7, 5, 4, 0, 3, 4, 3, 5,\n",
              "       3, 3, 8, 7, 0, 1, 6, 0, 8, 3, 5, 7, 7, 1, 5, 0, 6, 6, 4, 3, 8, 3,\n",
              "       7, 6, 4, 8, 7, 4, 9, 2, 3, 6, 4, 6, 0, 1, 5, 4, 5, 4, 6, 4, 3, 5,\n",
              "       0, 8, 8, 6, 2, 4])"
            ]
          },
          "metadata": {},
          "execution_count": 57
        }
      ]
    },
    {
      "cell_type": "code",
      "source": [
        "loss, accuracy = model.evaluate(x_test_reshaped, y_test_encoded)\n",
        "print('Test Loss:', loss)\n",
        "print('Test Accuracy:', accuracy)"
      ],
      "metadata": {
        "colab": {
          "base_uri": "https://localhost:8080/"
        },
        "id": "7LO9LAFxuAf-",
        "outputId": "cab49619-a685-4e13-981a-630e66ac1045"
      },
      "execution_count": null,
      "outputs": [
        {
          "output_type": "stream",
          "name": "stdout",
          "text": [
            "\u001b[1m26/26\u001b[0m \u001b[32m━━━━━━━━━━━━━━━━━━━━\u001b[0m\u001b[37m\u001b[0m \u001b[1m7s\u001b[0m 251ms/step - accuracy: 0.9434 - loss: 0.1710\n",
            "Test Loss: 0.18484315276145935\n",
            "Test Accuracy: 0.9475609660148621\n"
          ]
        }
      ]
    },
    {
      "cell_type": "code",
      "source": [
        "plt.plot(history.history['loss'], color = 'r')\n",
        "plt.plot(history.history['accuracy'])"
      ],
      "metadata": {
        "colab": {
          "base_uri": "https://localhost:8080/",
          "height": 448
        },
        "id": "NLYNWS4oGgnz",
        "outputId": "19d3ba20-8067-48ab-f887-7443b929ea33"
      },
      "execution_count": null,
      "outputs": [
        {
          "output_type": "execute_result",
          "data": {
            "text/plain": [
              "[<matplotlib.lines.Line2D at 0x7b67c5fc68f0>]"
            ]
          },
          "metadata": {},
          "execution_count": 66
        },
        {
          "output_type": "display_data",
          "data": {
            "text/plain": [
              "<Figure size 640x480 with 1 Axes>"
            ],
            "image/png": "[encoded data removed]"
          },
          "metadata": {}
        }
      ]
    },
    {
      "cell_type": "code",
      "source": [
        "history.history"
      ],
      "metadata": {
        "colab": {
          "base_uri": "https://localhost:8080/"
        },
        "id": "W5M7pmZDG8uU",
        "outputId": "8f41e87f-9dbe-4cb8-f2c6-1c7d2e1a1d8b"
      },
      "execution_count": null,
      "outputs": [
        {
          "output_type": "execute_result",
          "data": {
            "text/plain": [
              "{'accuracy': [0.40323564410209656,\n",
              "  0.4444444477558136,\n",
              "  0.47954821586608887,\n",
              "  0.5024420022964478,\n",
              "  0.5332722663879395,\n",
              "  0.5604395866394043,\n",
              "  0.5876068472862244,\n",
              "  0.6025640964508057,\n",
              "  0.6492673754692078,\n",
              "  0.6440781354904175,\n",
              "  0.648962140083313,\n",
              "  0.7072649598121643,\n",
              "  0.7109279632568359,\n",
              "  0.7292429804801941,\n",
              "  0.7567155361175537,\n",
              "  0.7643467783927917,\n",
              "  0.7875458002090454,\n",
              "  0.7948718070983887,\n",
              "  0.7902930378913879,\n",
              "  0.8131868243217468,\n",
              "  0.8418803215026855,\n",
              "  0.831501841545105,\n",
              "  0.8269230723381042,\n",
              "  0.85317462682724,\n",
              "  0.8376068472862244,\n",
              "  0.8553113341331482,\n",
              "  0.8287546038627625,\n",
              "  0.8666056394577026,\n",
              "  0.8690476417541504,\n",
              "  0.8559218645095825,\n",
              "  0.8791208863258362,\n",
              "  0.882478654384613,\n",
              "  0.8946886658668518,\n",
              "  0.9029303789138794,\n",
              "  0.898962140083313,\n",
              "  0.9062881469726562,\n",
              "  0.891330897808075,\n",
              "  0.8962149024009705,\n",
              "  0.8995726704597473,\n",
              "  0.9157509207725525,\n",
              "  0.910866916179657,\n",
              "  0.9105616807937622,\n",
              "  0.9072039127349854,\n",
              "  0.9053723812103271,\n",
              "  0.9212453961372375,\n",
              "  0.9215506911277771,\n",
              "  0.906593382358551,\n",
              "  0.9328449368476868,\n",
              "  0.8742368817329407,\n",
              "  0.9191086888313293],\n",
              " 'loss': [1.645086407661438,\n",
              "  1.4856315851211548,\n",
              "  1.3786972761154175,\n",
              "  1.3011410236358643,\n",
              "  1.2392044067382812,\n",
              "  1.1312105655670166,\n",
              "  1.0567494630813599,\n",
              "  1.0009766817092896,\n",
              "  0.9160408973693848,\n",
              "  0.9138034582138062,\n",
              "  0.9026942253112793,\n",
              "  0.7494998574256897,\n",
              "  0.7297657132148743,\n",
              "  0.68055260181427,\n",
              "  0.6212496161460876,\n",
              "  0.6214768290519714,\n",
              "  0.5619972944259644,\n",
              "  0.5377804040908813,\n",
              "  0.5410565733909607,\n",
              "  0.49421173334121704,\n",
              "  0.4162762761116028,\n",
              "  0.4374760091304779,\n",
              "  0.4392772614955902,\n",
              "  0.3856451213359833,\n",
              "  0.4187355041503906,\n",
              "  0.3800508677959442,\n",
              "  0.4490812122821808,\n",
              "  0.34226861596107483,\n",
              "  0.3330576717853546,\n",
              "  0.3796302080154419,\n",
              "  0.3112695813179016,\n",
              "  0.30877071619033813,\n",
              "  0.27833491563796997,\n",
              "  0.2545466125011444,\n",
              "  0.27431806921958923,\n",
              "  0.24743792414665222,\n",
              "  0.3050689101219177,\n",
              "  0.2790837585926056,\n",
              "  0.2558402717113495,\n",
              "  0.2440352439880371,\n",
              "  0.2421567142009735,\n",
              "  0.23302403092384338,\n",
              "  0.23405025899410248,\n",
              "  0.25865164399147034,\n",
              "  0.2143852710723877,\n",
              "  0.22331394255161285,\n",
              "  0.24823208153247833,\n",
              "  0.1881120353937149,\n",
              "  0.36567220091819763,\n",
              "  0.21146167814731598]}"
            ]
          },
          "metadata": {},
          "execution_count": 67
        }
      ]
    },
    {
      "cell_type": "code",
      "source": [
        "from sklearn.metrics import confusion_matrix, ConfusionMatrixDisplay\n",
        "import matplotlib.pyplot as plt\n",
        "confusion_matrix1 = confusion_matrix(y_test, predicted_classes)\n",
        "\n",
        "ConfusionMatrixDisplay = ConfusionMatrixDisplay(confusion_matrix=confusion_matrix1, display_labels=class_list)\n",
        "fig, ax = plt.subplots(figsize=(10, 10))\n",
        "ConfusionMatrixDisplay.plot(ax=ax, cmap=\"afmhot\")\n",
        "plt.show()"
      ],
      "metadata": {
        "colab": {
          "base_uri": "https://localhost:8080/",
          "height": 815
        },
        "id": "72FurFymuDr_",
        "outputId": "0d2e4a50-1621-4605-ac04-9d58d40733aa"
      },
      "execution_count": null,
      "outputs": [
        {
          "output_type": "display_data",
          "data": {
            "text/plain": [
              "<Figure size 1000x1000 with 2 Axes>"
            ],
            "image/png": "[encoded data removed]"
          },
          "metadata": {}
        }
      ]
    },
    {
      "cell_type": "code",
      "source": [
        "f1_score(y_test, predicted_classes, average='macro')"
      ],
      "metadata": {
        "colab": {
          "base_uri": "https://localhost:8080/"
        },
        "id": "FDVuXG_CFysl",
        "outputId": "c877ad28-b611-40a8-80a8-557c3a2fbfca"
      },
      "execution_count": null,
      "outputs": [
        {
          "output_type": "execute_result",
          "data": {
            "text/plain": [
              "0.9388207326914593"
            ]
          },
          "metadata": {},
          "execution_count": 64
        }
      ]
    }
  ]
}