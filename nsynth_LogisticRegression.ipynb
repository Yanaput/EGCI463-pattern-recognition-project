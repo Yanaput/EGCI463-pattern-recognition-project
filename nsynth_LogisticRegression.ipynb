{
  "nbformat": 4,
  "nbformat_minor": 0,
  "metadata": {
    "colab": {
      "provenance": [],
      "authorship_tag": "ABX9TyNZXnoKFX4VZEfs0mO0j/dt",
      "include_colab_link": true
    },
    "kernelspec": {
      "name": "python3",
      "display_name": "Python 3"
    },
    "language_info": {
      "name": "python"
    }
  },
  "cells": [
    {
      "cell_type": "markdown",
      "metadata": {
        "id": "view-in-github",
        "colab_type": "text"
      },
      "source": [
        "<a href=\"https://colab.research.google.com/github/Yanaput/EGCI463-pattern-recognition-project/blob/main/nsynth_LogisticRegression.ipynb\" target=\"_parent\"><img src=\"https://colab.research.google.com/assets/colab-badge.svg\" alt=\"Open In Colab\"/></a>"
      ]
    },
    {
      "cell_type": "code",
      "source": [
        "# nsynth dataset(test set) from https://huggingface.co/datasets/TwinkStart/Nsynth"
      ],
      "metadata": {
        "id": "ZQKxvxRYYtgn"
      },
      "execution_count": null,
      "outputs": []
    },
    {
      "cell_type": "code",
      "source": [
        "!pip install scikeras"
      ],
      "metadata": {
        "colab": {
          "base_uri": "https://localhost:8080/"
        },
        "collapsed": true,
        "id": "HrZJcIPZx1kj",
        "outputId": "658191a0-85a4-4fdb-f061-302290a3341c"
      },
      "execution_count": null,
      "outputs": [
        {
          "output_type": "stream",
          "name": "stdout",
          "text": [
            "Requirement already satisfied: scikeras in /usr/local/lib/python3.10/dist-packages (0.13.0)\n",
            "Requirement already satisfied: keras>=3.2.0 in /usr/local/lib/python3.10/dist-packages (from scikeras) (3.5.0)\n",
            "Requirement already satisfied: scikit-learn>=1.4.2 in /usr/local/lib/python3.10/dist-packages (from scikeras) (1.5.2)\n",
            "Requirement already satisfied: absl-py in /usr/local/lib/python3.10/dist-packages (from keras>=3.2.0->scikeras) (1.4.0)\n",
            "Requirement already satisfied: numpy in /usr/local/lib/python3.10/dist-packages (from keras>=3.2.0->scikeras) (1.26.4)\n",
            "Requirement already satisfied: rich in /usr/local/lib/python3.10/dist-packages (from keras>=3.2.0->scikeras) (13.9.4)\n",
            "Requirement already satisfied: namex in /usr/local/lib/python3.10/dist-packages (from keras>=3.2.0->scikeras) (0.0.8)\n",
            "Requirement already satisfied: h5py in /usr/local/lib/python3.10/dist-packages (from keras>=3.2.0->scikeras) (3.12.1)\n",
            "Requirement already satisfied: optree in /usr/local/lib/python3.10/dist-packages (from keras>=3.2.0->scikeras) (0.13.1)\n",
            "Requirement already satisfied: ml-dtypes in /usr/local/lib/python3.10/dist-packages (from keras>=3.2.0->scikeras) (0.4.1)\n",
            "Requirement already satisfied: packaging in /usr/local/lib/python3.10/dist-packages (from keras>=3.2.0->scikeras) (24.2)\n",
            "Requirement already satisfied: scipy>=1.6.0 in /usr/local/lib/python3.10/dist-packages (from scikit-learn>=1.4.2->scikeras) (1.13.1)\n",
            "Requirement already satisfied: joblib>=1.2.0 in /usr/local/lib/python3.10/dist-packages (from scikit-learn>=1.4.2->scikeras) (1.4.2)\n",
            "Requirement already satisfied: threadpoolctl>=3.1.0 in /usr/local/lib/python3.10/dist-packages (from scikit-learn>=1.4.2->scikeras) (3.5.0)\n",
            "Requirement already satisfied: typing-extensions>=4.5.0 in /usr/local/lib/python3.10/dist-packages (from optree->keras>=3.2.0->scikeras) (4.12.2)\n",
            "Requirement already satisfied: markdown-it-py>=2.2.0 in /usr/local/lib/python3.10/dist-packages (from rich->keras>=3.2.0->scikeras) (3.0.0)\n",
            "Requirement already satisfied: pygments<3.0.0,>=2.13.0 in /usr/local/lib/python3.10/dist-packages (from rich->keras>=3.2.0->scikeras) (2.18.0)\n",
            "Requirement already satisfied: mdurl~=0.1 in /usr/local/lib/python3.10/dist-packages (from markdown-it-py>=2.2.0->rich->keras>=3.2.0->scikeras) (0.1.2)\n"
          ]
        }
      ]
    },
    {
      "cell_type": "code",
      "source": [
        "import numpy as np\n",
        "import os\n",
        "import pandas as pd\n",
        "from google.colab import drive\n",
        "drive.mount('/content/drive')"
      ],
      "metadata": {
        "id": "7VRujvENKGvs",
        "colab": {
          "base_uri": "https://localhost:8080/"
        },
        "outputId": "6a5b3d52-980b-420e-dca9-0e985cabb5f9"
      },
      "execution_count": null,
      "outputs": [
        {
          "output_type": "stream",
          "name": "stdout",
          "text": [
            "Drive already mounted at /content/drive; to attempt to forcibly remount, call drive.mount(\"/content/drive\", force_remount=True).\n"
          ]
        }
      ]
    },
    {
      "cell_type": "code",
      "source": [
        "from google.colab import userdata\n",
        "projPath  = userdata.get('driveProjDir') #replace this with your csv path"
      ],
      "metadata": {
        "id": "LGpnBOfkbdcV"
      },
      "execution_count": null,
      "outputs": []
    },
    {
      "cell_type": "code",
      "source": [
        "features_label = pd.read_csv(f\"/content/drive/MyDrive/{projPath}/features_label.csv\")"
      ],
      "metadata": {
        "id": "IR_alQ4aatKt"
      },
      "execution_count": null,
      "outputs": []
    },
    {
      "cell_type": "code",
      "source": [
        "features_label"
      ],
      "metadata": {
        "id": "7WnDmbKBb2pd",
        "colab": {
          "base_uri": "https://localhost:8080/",
          "height": 443
        },
        "outputId": "3bb1f0aa-d997-4f60-a593-5ad97adf91bf"
      },
      "execution_count": null,
      "outputs": [
        {
          "output_type": "execute_result",
          "data": {
            "text/plain": [
              "              0          1          2          3          4          5  \\\n",
              "0    -53.803909 -57.194024 -80.000000 -80.000000 -80.000000 -80.000000   \n",
              "1    -41.581627 -41.147030 -50.666237 -64.943981 -60.756839 -60.464744   \n",
              "2    -16.751124 -14.606224 -14.500415 -14.003709 -14.280511 -14.614283   \n",
              "3     -2.217868   0.000000  -2.265561  -4.262692  -5.280903  -6.297461   \n",
              "4    -39.486546 -30.101491 -29.918419 -34.714702 -49.770357 -55.999469   \n",
              "...         ...        ...        ...        ...        ...        ...   \n",
              "4091 -22.894519 -21.310778 -27.454087 -33.497683 -33.068524 -32.833817   \n",
              "4092 -50.416488 -42.023727 -39.495096 -41.555525 -51.454520 -54.918152   \n",
              "4093 -22.917634 -27.114879 -52.179479 -67.841889 -68.402644 -65.043253   \n",
              "4094 -68.290314 -59.045592 -54.324949 -57.203160 -57.954304 -56.753415   \n",
              "4095 -37.334291 -35.500615 -45.551480 -78.679007 -80.000000 -80.000000   \n",
              "\n",
              "              6          7          8          9  ...  12023  12024  12025  \\\n",
              "0    -80.000000 -80.000000 -80.000000 -80.000000  ...  -80.0  -80.0  -80.0   \n",
              "1    -60.993004 -63.912845 -61.711862 -62.382845  ...  -80.0  -80.0  -80.0   \n",
              "2    -15.854235 -16.143106 -17.500415 -20.172544  ...  -80.0  -80.0  -80.0   \n",
              "3     -7.342139  -8.409485  -9.516589 -10.664447  ...  -80.0  -80.0  -80.0   \n",
              "4    -55.860402 -53.477410 -59.263462 -60.489511  ...  -80.0  -80.0  -80.0   \n",
              "...         ...        ...        ...        ...  ...    ...    ...    ...   \n",
              "4091 -32.720519 -32.592567 -32.394799 -32.219643  ...  -80.0  -80.0  -80.0   \n",
              "4092 -60.328524 -69.375597 -73.076184 -73.600458  ...  -80.0  -80.0  -80.0   \n",
              "4093 -62.685682 -72.406796 -67.885038 -63.723752  ...  -80.0  -80.0  -80.0   \n",
              "4094 -57.259861 -60.041177 -60.289779 -60.373389  ...  -80.0  -80.0  -80.0   \n",
              "4095 -80.000000 -80.000000 -80.000000 -80.000000  ...  -80.0  -80.0  -80.0   \n",
              "\n",
              "         12026  12027  12028  12029  12030      12031  instrument_family  \n",
              "0    -80.00000  -80.0  -80.0  -80.0  -80.0 -80.000000                  3  \n",
              "1    -80.00000  -80.0  -80.0  -80.0  -80.0 -80.000000                  6  \n",
              "2    -80.00000  -80.0  -80.0  -80.0  -80.0 -74.445993                  0  \n",
              "3    -80.00000  -80.0  -80.0  -80.0  -80.0 -80.000000                  0  \n",
              "4    -80.00000  -80.0  -80.0  -80.0  -80.0 -80.000000                  4  \n",
              "...        ...    ...    ...    ...    ...        ...                ...  \n",
              "4091 -80.00000  -80.0  -80.0  -80.0  -80.0 -80.000000                  4  \n",
              "4092 -80.00000  -80.0  -80.0  -80.0  -80.0 -80.000000                  0  \n",
              "4093 -80.00000  -80.0  -80.0  -80.0  -80.0 -80.000000                  5  \n",
              "4094 -78.91858  -80.0  -80.0  -80.0  -80.0 -63.326588                  9  \n",
              "4095 -80.00000  -80.0  -80.0  -80.0  -80.0 -80.000000                  0  \n",
              "\n",
              "[4096 rows x 12033 columns]"
            ],
            "text/html": [
              "\n",
              "  <div id=\"df-f822f2ba-194a-4e5c-9bfa-6fd2ece0b57d\" class=\"colab-df-container\">\n",
              "    <div>\n",
              "<style scoped>\n",
              "    .dataframe tbody tr th:only-of-type {\n",
              "        vertical-align: middle;\n",
              "    }\n",
              "\n",
              "    .dataframe tbody tr th {\n",
              "        vertical-align: top;\n",
              "    }\n",
              "\n",
              "    .dataframe thead th {\n",
              "        text-align: right;\n",
              "    }\n",
              "</style>\n",
              "<table border=\"1\" class=\"dataframe\">\n",
              "  <thead>\n",
              "    <tr style=\"text-align: right;\">\n",
              "      <th></th>\n",
              "      <th>0</th>\n",
              "      <th>1</th>\n",
              "      <th>2</th>\n",
              "      <th>3</th>\n",
              "      <th>4</th>\n",
              "      <th>5</th>\n",
              "      <th>6</th>\n",
              "      <th>7</th>\n",
              "      <th>8</th>\n",
              "      <th>9</th>\n",
              "      <th>...</th>\n",
              "      <th>12023</th>\n",
              "      <th>12024</th>\n",
              "      <th>12025</th>\n",
              "      <th>12026</th>\n",
              "      <th>12027</th>\n",
              "      <th>12028</th>\n",
              "      <th>12029</th>\n",
              "      <th>12030</th>\n",
              "      <th>12031</th>\n",
              "      <th>instrument_family</th>\n",
              "    </tr>\n",
              "  </thead>\n",
              "  <tbody>\n",
              "    <tr>\n",
              "      <th>0</th>\n",
              "      <td>-53.803909</td>\n",
              "      <td>-57.194024</td>\n",
              "      <td>-80.000000</td>\n",
              "      <td>-80.000000</td>\n",
              "      <td>-80.000000</td>\n",
              "      <td>-80.000000</td>\n",
              "      <td>-80.000000</td>\n",
              "      <td>-80.000000</td>\n",
              "      <td>-80.000000</td>\n",
              "      <td>-80.000000</td>\n",
              "      <td>...</td>\n",
              "      <td>-80.0</td>\n",
              "      <td>-80.0</td>\n",
              "      <td>-80.0</td>\n",
              "      <td>-80.00000</td>\n",
              "      <td>-80.0</td>\n",
              "      <td>-80.0</td>\n",
              "      <td>-80.0</td>\n",
              "      <td>-80.0</td>\n",
              "      <td>-80.000000</td>\n",
              "      <td>3</td>\n",
              "    </tr>\n",
              "    <tr>\n",
              "      <th>1</th>\n",
              "      <td>-41.581627</td>\n",
              "      <td>-41.147030</td>\n",
              "      <td>-50.666237</td>\n",
              "      <td>-64.943981</td>\n",
              "      <td>-60.756839</td>\n",
              "      <td>-60.464744</td>\n",
              "      <td>-60.993004</td>\n",
              "      <td>-63.912845</td>\n",
              "      <td>-61.711862</td>\n",
              "      <td>-62.382845</td>\n",
              "      <td>...</td>\n",
              "      <td>-80.0</td>\n",
              "      <td>-80.0</td>\n",
              "      <td>-80.0</td>\n",
              "      <td>-80.00000</td>\n",
              "      <td>-80.0</td>\n",
              "      <td>-80.0</td>\n",
              "      <td>-80.0</td>\n",
              "      <td>-80.0</td>\n",
              "      <td>-80.000000</td>\n",
              "      <td>6</td>\n",
              "    </tr>\n",
              "    <tr>\n",
              "      <th>2</th>\n",
              "      <td>-16.751124</td>\n",
              "      <td>-14.606224</td>\n",
              "      <td>-14.500415</td>\n",
              "      <td>-14.003709</td>\n",
              "      <td>-14.280511</td>\n",
              "      <td>-14.614283</td>\n",
              "      <td>-15.854235</td>\n",
              "      <td>-16.143106</td>\n",
              "      <td>-17.500415</td>\n",
              "      <td>-20.172544</td>\n",
              "      <td>...</td>\n",
              "      <td>-80.0</td>\n",
              "      <td>-80.0</td>\n",
              "      <td>-80.0</td>\n",
              "      <td>-80.00000</td>\n",
              "      <td>-80.0</td>\n",
              "      <td>-80.0</td>\n",
              "      <td>-80.0</td>\n",
              "      <td>-80.0</td>\n",
              "      <td>-74.445993</td>\n",
              "      <td>0</td>\n",
              "    </tr>\n",
              "    <tr>\n",
              "      <th>3</th>\n",
              "      <td>-2.217868</td>\n",
              "      <td>0.000000</td>\n",
              "      <td>-2.265561</td>\n",
              "      <td>-4.262692</td>\n",
              "      <td>-5.280903</td>\n",
              "      <td>-6.297461</td>\n",
              "      <td>-7.342139</td>\n",
              "      <td>-8.409485</td>\n",
              "      <td>-9.516589</td>\n",
              "      <td>-10.664447</td>\n",
              "      <td>...</td>\n",
              "      <td>-80.0</td>\n",
              "      <td>-80.0</td>\n",
              "      <td>-80.0</td>\n",
              "      <td>-80.00000</td>\n",
              "      <td>-80.0</td>\n",
              "      <td>-80.0</td>\n",
              "      <td>-80.0</td>\n",
              "      <td>-80.0</td>\n",
              "      <td>-80.000000</td>\n",
              "      <td>0</td>\n",
              "    </tr>\n",
              "    <tr>\n",
              "      <th>4</th>\n",
              "      <td>-39.486546</td>\n",
              "      <td>-30.101491</td>\n",
              "      <td>-29.918419</td>\n",
              "      <td>-34.714702</td>\n",
              "      <td>-49.770357</td>\n",
              "      <td>-55.999469</td>\n",
              "      <td>-55.860402</td>\n",
              "      <td>-53.477410</td>\n",
              "      <td>-59.263462</td>\n",
              "      <td>-60.489511</td>\n",
              "      <td>...</td>\n",
              "      <td>-80.0</td>\n",
              "      <td>-80.0</td>\n",
              "      <td>-80.0</td>\n",
              "      <td>-80.00000</td>\n",
              "      <td>-80.0</td>\n",
              "      <td>-80.0</td>\n",
              "      <td>-80.0</td>\n",
              "      <td>-80.0</td>\n",
              "      <td>-80.000000</td>\n",
              "      <td>4</td>\n",
              "    </tr>\n",
              "    <tr>\n",
              "      <th>...</th>\n",
              "      <td>...</td>\n",
              "      <td>...</td>\n",
              "      <td>...</td>\n",
              "      <td>...</td>\n",
              "      <td>...</td>\n",
              "      <td>...</td>\n",
              "      <td>...</td>\n",
              "      <td>...</td>\n",
              "      <td>...</td>\n",
              "      <td>...</td>\n",
              "      <td>...</td>\n",
              "      <td>...</td>\n",
              "      <td>...</td>\n",
              "      <td>...</td>\n",
              "      <td>...</td>\n",
              "      <td>...</td>\n",
              "      <td>...</td>\n",
              "      <td>...</td>\n",
              "      <td>...</td>\n",
              "      <td>...</td>\n",
              "      <td>...</td>\n",
              "    </tr>\n",
              "    <tr>\n",
              "      <th>4091</th>\n",
              "      <td>-22.894519</td>\n",
              "      <td>-21.310778</td>\n",
              "      <td>-27.454087</td>\n",
              "      <td>-33.497683</td>\n",
              "      <td>-33.068524</td>\n",
              "      <td>-32.833817</td>\n",
              "      <td>-32.720519</td>\n",
              "      <td>-32.592567</td>\n",
              "      <td>-32.394799</td>\n",
              "      <td>-32.219643</td>\n",
              "      <td>...</td>\n",
              "      <td>-80.0</td>\n",
              "      <td>-80.0</td>\n",
              "      <td>-80.0</td>\n",
              "      <td>-80.00000</td>\n",
              "      <td>-80.0</td>\n",
              "      <td>-80.0</td>\n",
              "      <td>-80.0</td>\n",
              "      <td>-80.0</td>\n",
              "      <td>-80.000000</td>\n",
              "      <td>4</td>\n",
              "    </tr>\n",
              "    <tr>\n",
              "      <th>4092</th>\n",
              "      <td>-50.416488</td>\n",
              "      <td>-42.023727</td>\n",
              "      <td>-39.495096</td>\n",
              "      <td>-41.555525</td>\n",
              "      <td>-51.454520</td>\n",
              "      <td>-54.918152</td>\n",
              "      <td>-60.328524</td>\n",
              "      <td>-69.375597</td>\n",
              "      <td>-73.076184</td>\n",
              "      <td>-73.600458</td>\n",
              "      <td>...</td>\n",
              "      <td>-80.0</td>\n",
              "      <td>-80.0</td>\n",
              "      <td>-80.0</td>\n",
              "      <td>-80.00000</td>\n",
              "      <td>-80.0</td>\n",
              "      <td>-80.0</td>\n",
              "      <td>-80.0</td>\n",
              "      <td>-80.0</td>\n",
              "      <td>-80.000000</td>\n",
              "      <td>0</td>\n",
              "    </tr>\n",
              "    <tr>\n",
              "      <th>4093</th>\n",
              "      <td>-22.917634</td>\n",
              "      <td>-27.114879</td>\n",
              "      <td>-52.179479</td>\n",
              "      <td>-67.841889</td>\n",
              "      <td>-68.402644</td>\n",
              "      <td>-65.043253</td>\n",
              "      <td>-62.685682</td>\n",
              "      <td>-72.406796</td>\n",
              "      <td>-67.885038</td>\n",
              "      <td>-63.723752</td>\n",
              "      <td>...</td>\n",
              "      <td>-80.0</td>\n",
              "      <td>-80.0</td>\n",
              "      <td>-80.0</td>\n",
              "      <td>-80.00000</td>\n",
              "      <td>-80.0</td>\n",
              "      <td>-80.0</td>\n",
              "      <td>-80.0</td>\n",
              "      <td>-80.0</td>\n",
              "      <td>-80.000000</td>\n",
              "      <td>5</td>\n",
              "    </tr>\n",
              "    <tr>\n",
              "      <th>4094</th>\n",
              "      <td>-68.290314</td>\n",
              "      <td>-59.045592</td>\n",
              "      <td>-54.324949</td>\n",
              "      <td>-57.203160</td>\n",
              "      <td>-57.954304</td>\n",
              "      <td>-56.753415</td>\n",
              "      <td>-57.259861</td>\n",
              "      <td>-60.041177</td>\n",
              "      <td>-60.289779</td>\n",
              "      <td>-60.373389</td>\n",
              "      <td>...</td>\n",
              "      <td>-80.0</td>\n",
              "      <td>-80.0</td>\n",
              "      <td>-80.0</td>\n",
              "      <td>-78.91858</td>\n",
              "      <td>-80.0</td>\n",
              "      <td>-80.0</td>\n",
              "      <td>-80.0</td>\n",
              "      <td>-80.0</td>\n",
              "      <td>-63.326588</td>\n",
              "      <td>9</td>\n",
              "    </tr>\n",
              "    <tr>\n",
              "      <th>4095</th>\n",
              "      <td>-37.334291</td>\n",
              "      <td>-35.500615</td>\n",
              "      <td>-45.551480</td>\n",
              "      <td>-78.679007</td>\n",
              "      <td>-80.000000</td>\n",
              "      <td>-80.000000</td>\n",
              "      <td>-80.000000</td>\n",
              "      <td>-80.000000</td>\n",
              "      <td>-80.000000</td>\n",
              "      <td>-80.000000</td>\n",
              "      <td>...</td>\n",
              "      <td>-80.0</td>\n",
              "      <td>-80.0</td>\n",
              "      <td>-80.0</td>\n",
              "      <td>-80.00000</td>\n",
              "      <td>-80.0</td>\n",
              "      <td>-80.0</td>\n",
              "      <td>-80.0</td>\n",
              "      <td>-80.0</td>\n",
              "      <td>-80.000000</td>\n",
              "      <td>0</td>\n",
              "    </tr>\n",
              "  </tbody>\n",
              "</table>\n",
              "<p>4096 rows × 12033 columns</p>\n",
              "</div>\n",
              "    <div class=\"colab-df-buttons\">\n",
              "\n",
              "  <div class=\"colab-df-container\">\n",
              "    <button class=\"colab-df-convert\" onclick=\"convertToInteractive('df-f822f2ba-194a-4e5c-9bfa-6fd2ece0b57d')\"\n",
              "            title=\"Convert this dataframe to an interactive table.\"\n",
              "            style=\"display:none;\">\n",
              "\n",
              "  <svg xmlns=\"http://www.w3.org/2000/svg\" height=\"24px\" viewBox=\"0 -960 960 960\">\n",
              "    <path d=\"M120-120v-720h720v720H120Zm60-500h600v-160H180v160Zm220 220h160v-160H400v160Zm0 220h160v-160H400v160ZM180-400h160v-160H180v160Zm440 0h160v-160H620v160ZM180-180h160v-160H180v160Zm440 0h160v-160H620v160Z\"/>\n",
              "  </svg>\n",
              "    </button>\n",
              "\n",
              "  <style>\n",
              "    .colab-df-container {\n",
              "      display:flex;\n",
              "      gap: 12px;\n",
              "    }\n",
              "\n",
              "    .colab-df-convert {\n",
              "      background-color: #E8F0FE;\n",
              "      border: none;\n",
              "      border-radius: 50%;\n",
              "      cursor: pointer;\n",
              "      display: none;\n",
              "      fill: #1967D2;\n",
              "      height: 32px;\n",
              "      padding: 0 0 0 0;\n",
              "      width: 32px;\n",
              "    }\n",
              "\n",
              "    .colab-df-convert:hover {\n",
              "      background-color: #E2EBFA;\n",
              "      box-shadow: 0px 1px 2px rgba(60, 64, 67, 0.3), 0px 1px 3px 1px rgba(60, 64, 67, 0.15);\n",
              "      fill: #174EA6;\n",
              "    }\n",
              "\n",
              "    .colab-df-buttons div {\n",
              "      margin-bottom: 4px;\n",
              "    }\n",
              "\n",
              "    [theme=dark] .colab-df-convert {\n",
              "      background-color: #3B4455;\n",
              "      fill: #D2E3FC;\n",
              "    }\n",
              "\n",
              "    [theme=dark] .colab-df-convert:hover {\n",
              "      background-color: #434B5C;\n",
              "      box-shadow: 0px 1px 3px 1px rgba(0, 0, 0, 0.15);\n",
              "      filter: drop-shadow(0px 1px 2px rgba(0, 0, 0, 0.3));\n",
              "      fill: #FFFFFF;\n",
              "    }\n",
              "  </style>\n",
              "\n",
              "    <script>\n",
              "      const buttonEl =\n",
              "        document.querySelector('#df-f822f2ba-194a-4e5c-9bfa-6fd2ece0b57d button.colab-df-convert');\n",
              "      buttonEl.style.display =\n",
              "        google.colab.kernel.accessAllowed ? 'block' : 'none';\n",
              "\n",
              "      async function convertToInteractive(key) {\n",
              "        const element = document.querySelector('#df-f822f2ba-194a-4e5c-9bfa-6fd2ece0b57d');\n",
              "        const dataTable =\n",
              "          await google.colab.kernel.invokeFunction('convertToInteractive',\n",
              "                                                    [key], {});\n",
              "        if (!dataTable) return;\n",
              "\n",
              "        const docLinkHtml = 'Like what you see? Visit the ' +\n",
              "          '<a target=\"_blank\" href=https://colab.research.google.com/notebooks/data_table.ipynb>data table notebook</a>'\n",
              "          + ' to learn more about interactive tables.';\n",
              "        element.innerHTML = '';\n",
              "        dataTable['output_type'] = 'display_data';\n",
              "        await google.colab.output.renderOutput(dataTable, element);\n",
              "        const docLink = document.createElement('div');\n",
              "        docLink.innerHTML = docLinkHtml;\n",
              "        element.appendChild(docLink);\n",
              "      }\n",
              "    </script>\n",
              "  </div>\n",
              "\n",
              "\n",
              "<div id=\"df-fc7fd8c7-e9fd-45da-8ae9-a1dfd9b04395\">\n",
              "  <button class=\"colab-df-quickchart\" onclick=\"quickchart('df-fc7fd8c7-e9fd-45da-8ae9-a1dfd9b04395')\"\n",
              "            title=\"Suggest charts\"\n",
              "            style=\"display:none;\">\n",
              "\n",
              "<svg xmlns=\"http://www.w3.org/2000/svg\" height=\"24px\"viewBox=\"0 0 24 24\"\n",
              "     width=\"24px\">\n",
              "    <g>\n",
              "        <path d=\"M19 3H5c-1.1 0-2 .9-2 2v14c0 1.1.9 2 2 2h14c1.1 0 2-.9 2-2V5c0-1.1-.9-2-2-2zM9 17H7v-7h2v7zm4 0h-2V7h2v10zm4 0h-2v-4h2v4z\"/>\n",
              "    </g>\n",
              "</svg>\n",
              "  </button>\n",
              "\n",
              "<style>\n",
              "  .colab-df-quickchart {\n",
              "      --bg-color: #E8F0FE;\n",
              "      --fill-color: #1967D2;\n",
              "      --hover-bg-color: #E2EBFA;\n",
              "      --hover-fill-color: #174EA6;\n",
              "      --disabled-fill-color: #AAA;\n",
              "      --disabled-bg-color: #DDD;\n",
              "  }\n",
              "\n",
              "  [theme=dark] .colab-df-quickchart {\n",
              "      --bg-color: #3B4455;\n",
              "      --fill-color: #D2E3FC;\n",
              "      --hover-bg-color: #434B5C;\n",
              "      --hover-fill-color: #FFFFFF;\n",
              "      --disabled-bg-color: #3B4455;\n",
              "      --disabled-fill-color: #666;\n",
              "  }\n",
              "\n",
              "  .colab-df-quickchart {\n",
              "    background-color: var(--bg-color);\n",
              "    border: none;\n",
              "    border-radius: 50%;\n",
              "    cursor: pointer;\n",
              "    display: none;\n",
              "    fill: var(--fill-color);\n",
              "    height: 32px;\n",
              "    padding: 0;\n",
              "    width: 32px;\n",
              "  }\n",
              "\n",
              "  .colab-df-quickchart:hover {\n",
              "    background-color: var(--hover-bg-color);\n",
              "    box-shadow: 0 1px 2px rgba(60, 64, 67, 0.3), 0 1px 3px 1px rgba(60, 64, 67, 0.15);\n",
              "    fill: var(--button-hover-fill-color);\n",
              "  }\n",
              "\n",
              "  .colab-df-quickchart-complete:disabled,\n",
              "  .colab-df-quickchart-complete:disabled:hover {\n",
              "    background-color: var(--disabled-bg-color);\n",
              "    fill: var(--disabled-fill-color);\n",
              "    box-shadow: none;\n",
              "  }\n",
              "\n",
              "  .colab-df-spinner {\n",
              "    border: 2px solid var(--fill-color);\n",
              "    border-color: transparent;\n",
              "    border-bottom-color: var(--fill-color);\n",
              "    animation:\n",
              "      spin 1s steps(1) infinite;\n",
              "  }\n",
              "\n",
              "  @keyframes spin {\n",
              "    0% {\n",
              "      border-color: transparent;\n",
              "      border-bottom-color: var(--fill-color);\n",
              "      border-left-color: var(--fill-color);\n",
              "    }\n",
              "    20% {\n",
              "      border-color: transparent;\n",
              "      border-left-color: var(--fill-color);\n",
              "      border-top-color: var(--fill-color);\n",
              "    }\n",
              "    30% {\n",
              "      border-color: transparent;\n",
              "      border-left-color: var(--fill-color);\n",
              "      border-top-color: var(--fill-color);\n",
              "      border-right-color: var(--fill-color);\n",
              "    }\n",
              "    40% {\n",
              "      border-color: transparent;\n",
              "      border-right-color: var(--fill-color);\n",
              "      border-top-color: var(--fill-color);\n",
              "    }\n",
              "    60% {\n",
              "      border-color: transparent;\n",
              "      border-right-color: var(--fill-color);\n",
              "    }\n",
              "    80% {\n",
              "      border-color: transparent;\n",
              "      border-right-color: var(--fill-color);\n",
              "      border-bottom-color: var(--fill-color);\n",
              "    }\n",
              "    90% {\n",
              "      border-color: transparent;\n",
              "      border-bottom-color: var(--fill-color);\n",
              "    }\n",
              "  }\n",
              "</style>\n",
              "\n",
              "  <script>\n",
              "    async function quickchart(key) {\n",
              "      const quickchartButtonEl =\n",
              "        document.querySelector('#' + key + ' button');\n",
              "      quickchartButtonEl.disabled = true;  // To prevent multiple clicks.\n",
              "      quickchartButtonEl.classList.add('colab-df-spinner');\n",
              "      try {\n",
              "        const charts = await google.colab.kernel.invokeFunction(\n",
              "            'suggestCharts', [key], {});\n",
              "      } catch (error) {\n",
              "        console.error('Error during call to suggestCharts:', error);\n",
              "      }\n",
              "      quickchartButtonEl.classList.remove('colab-df-spinner');\n",
              "      quickchartButtonEl.classList.add('colab-df-quickchart-complete');\n",
              "    }\n",
              "    (() => {\n",
              "      let quickchartButtonEl =\n",
              "        document.querySelector('#df-fc7fd8c7-e9fd-45da-8ae9-a1dfd9b04395 button');\n",
              "      quickchartButtonEl.style.display =\n",
              "        google.colab.kernel.accessAllowed ? 'block' : 'none';\n",
              "    })();\n",
              "  </script>\n",
              "</div>\n",
              "\n",
              "  <div id=\"id_c1e78937-425e-4bb8-a1a8-deb62762b8c1\">\n",
              "    <style>\n",
              "      .colab-df-generate {\n",
              "        background-color: #E8F0FE;\n",
              "        border: none;\n",
              "        border-radius: 50%;\n",
              "        cursor: pointer;\n",
              "        display: none;\n",
              "        fill: #1967D2;\n",
              "        height: 32px;\n",
              "        padding: 0 0 0 0;\n",
              "        width: 32px;\n",
              "      }\n",
              "\n",
              "      .colab-df-generate:hover {\n",
              "        background-color: #E2EBFA;\n",
              "        box-shadow: 0px 1px 2px rgba(60, 64, 67, 0.3), 0px 1px 3px 1px rgba(60, 64, 67, 0.15);\n",
              "        fill: #174EA6;\n",
              "      }\n",
              "\n",
              "      [theme=dark] .colab-df-generate {\n",
              "        background-color: #3B4455;\n",
              "        fill: #D2E3FC;\n",
              "      }\n",
              "\n",
              "      [theme=dark] .colab-df-generate:hover {\n",
              "        background-color: #434B5C;\n",
              "        box-shadow: 0px 1px 3px 1px rgba(0, 0, 0, 0.15);\n",
              "        filter: drop-shadow(0px 1px 2px rgba(0, 0, 0, 0.3));\n",
              "        fill: #FFFFFF;\n",
              "      }\n",
              "    </style>\n",
              "    <button class=\"colab-df-generate\" onclick=\"generateWithVariable('features_label')\"\n",
              "            title=\"Generate code using this dataframe.\"\n",
              "            style=\"display:none;\">\n",
              "\n",
              "  <svg xmlns=\"http://www.w3.org/2000/svg\" height=\"24px\"viewBox=\"0 0 24 24\"\n",
              "       width=\"24px\">\n",
              "    <path d=\"M7,19H8.4L18.45,9,17,7.55,7,17.6ZM5,21V16.75L18.45,3.32a2,2,0,0,1,2.83,0l1.4,1.43a1.91,1.91,0,0,1,.58,1.4,1.91,1.91,0,0,1-.58,1.4L9.25,21ZM18.45,9,17,7.55Zm-12,3A5.31,5.31,0,0,0,4.9,8.1,5.31,5.31,0,0,0,1,6.5,5.31,5.31,0,0,0,4.9,4.9,5.31,5.31,0,0,0,6.5,1,5.31,5.31,0,0,0,8.1,4.9,5.31,5.31,0,0,0,12,6.5,5.46,5.46,0,0,0,6.5,12Z\"/>\n",
              "  </svg>\n",
              "    </button>\n",
              "    <script>\n",
              "      (() => {\n",
              "      const buttonEl =\n",
              "        document.querySelector('#id_c1e78937-425e-4bb8-a1a8-deb62762b8c1 button.colab-df-generate');\n",
              "      buttonEl.style.display =\n",
              "        google.colab.kernel.accessAllowed ? 'block' : 'none';\n",
              "\n",
              "      buttonEl.onclick = () => {\n",
              "        google.colab.notebook.generateWithVariable('features_label');\n",
              "      }\n",
              "      })();\n",
              "    </script>\n",
              "  </div>\n",
              "\n",
              "    </div>\n",
              "  </div>\n"
            ],
            "application/vnd.google.colaboratory.intrinsic+json": {
              "type": "dataframe",
              "variable_name": "features_label"
            }
          },
          "metadata": {},
          "execution_count": 7
        }
      ]
    },
    {
      "cell_type": "code",
      "source": [
        "class_list = ['guitar',\n",
        " 'organ',\n",
        " 'bass',\n",
        " 'keyboard',\n",
        " 'reed',\n",
        " 'string',\n",
        " 'mallet',\n",
        " 'flute',\n",
        " 'brass',\n",
        " 'vocal'\n",
        "]"
      ],
      "metadata": {
        "id": "94xHzh9vIA_c"
      },
      "execution_count": null,
      "outputs": []
    },
    {
      "cell_type": "markdown",
      "source": [
        "# Model with defualt params\n",
        "\n"
      ],
      "metadata": {
        "id": "xkGDGuhMpbwd"
      }
    },
    {
      "cell_type": "code",
      "source": [
        "from sklearn.model_selection import train_test_split, cross_val_score\n",
        "from sklearn.linear_model import LogisticRegression"
      ],
      "metadata": {
        "id": "tY1LA17zNw2C"
      },
      "execution_count": null,
      "outputs": []
    },
    {
      "cell_type": "code",
      "source": [
        "lr = LogisticRegression(max_iter=2000)"
      ],
      "metadata": {
        "id": "LcR2whAJ_NT4"
      },
      "execution_count": null,
      "outputs": []
    },
    {
      "cell_type": "code",
      "source": [
        "lr.fit(x_train, y_train)"
      ],
      "metadata": {
        "colab": {
          "base_uri": "https://localhost:8080/",
          "height": 80
        },
        "id": "AkG1rq1R_PBj",
        "outputId": "3ff55ea3-4417-450d-e1de-dd836326911c"
      },
      "execution_count": null,
      "outputs": [
        {
          "output_type": "execute_result",
          "data": {
            "text/plain": [
              "LogisticRegression(max_iter=2000)"
            ],
            "text/html": [
              "<style>#sk-container-id-1 {\n",
              "  /* Definition of color scheme common for light and dark mode */\n",
              "  --sklearn-color-text: black;\n",
              "  --sklearn-color-line: gray;\n",
              "  /* Definition of color scheme for unfitted estimators */\n",
              "  --sklearn-color-unfitted-level-0: #fff5e6;\n",
              "  --sklearn-color-unfitted-level-1: #f6e4d2;\n",
              "  --sklearn-color-unfitted-level-2: #ffe0b3;\n",
              "  --sklearn-color-unfitted-level-3: chocolate;\n",
              "  /* Definition of color scheme for fitted estimators */\n",
              "  --sklearn-color-fitted-level-0: #f0f8ff;\n",
              "  --sklearn-color-fitted-level-1: #d4ebff;\n",
              "  --sklearn-color-fitted-level-2: #b3dbfd;\n",
              "  --sklearn-color-fitted-level-3: cornflowerblue;\n",
              "\n",
              "  /* Specific color for light theme */\n",
              "  --sklearn-color-text-on-default-background: var(--sg-text-color, var(--theme-code-foreground, var(--jp-content-font-color1, black)));\n",
              "  --sklearn-color-background: var(--sg-background-color, var(--theme-background, var(--jp-layout-color0, white)));\n",
              "  --sklearn-color-border-box: var(--sg-text-color, var(--theme-code-foreground, var(--jp-content-font-color1, black)));\n",
              "  --sklearn-color-icon: #696969;\n",
              "\n",
              "  @media (prefers-color-scheme: dark) {\n",
              "    /* Redefinition of color scheme for dark theme */\n",
              "    --sklearn-color-text-on-default-background: var(--sg-text-color, var(--theme-code-foreground, var(--jp-content-font-color1, white)));\n",
              "    --sklearn-color-background: var(--sg-background-color, var(--theme-background, var(--jp-layout-color0, #111)));\n",
              "    --sklearn-color-border-box: var(--sg-text-color, var(--theme-code-foreground, var(--jp-content-font-color1, white)));\n",
              "    --sklearn-color-icon: #878787;\n",
              "  }\n",
              "}\n",
              "\n",
              "#sk-container-id-1 {\n",
              "  color: var(--sklearn-color-text);\n",
              "}\n",
              "\n",
              "#sk-container-id-1 pre {\n",
              "  padding: 0;\n",
              "}\n",
              "\n",
              "#sk-container-id-1 input.sk-hidden--visually {\n",
              "  border: 0;\n",
              "  clip: rect(1px 1px 1px 1px);\n",
              "  clip: rect(1px, 1px, 1px, 1px);\n",
              "  height: 1px;\n",
              "  margin: -1px;\n",
              "  overflow: hidden;\n",
              "  padding: 0;\n",
              "  position: absolute;\n",
              "  width: 1px;\n",
              "}\n",
              "\n",
              "#sk-container-id-1 div.sk-dashed-wrapped {\n",
              "  border: 1px dashed var(--sklearn-color-line);\n",
              "  margin: 0 0.4em 0.5em 0.4em;\n",
              "  box-sizing: border-box;\n",
              "  padding-bottom: 0.4em;\n",
              "  background-color: var(--sklearn-color-background);\n",
              "}\n",
              "\n",
              "#sk-container-id-1 div.sk-container {\n",
              "  /* jupyter's `normalize.less` sets `[hidden] { display: none; }`\n",
              "     but bootstrap.min.css set `[hidden] { display: none !important; }`\n",
              "     so we also need the `!important` here to be able to override the\n",
              "     default hidden behavior on the sphinx rendered scikit-learn.org.\n",
              "     See: https://github.com/scikit-learn/scikit-learn/issues/21755 */\n",
              "  display: inline-block !important;\n",
              "  position: relative;\n",
              "}\n",
              "\n",
              "#sk-container-id-1 div.sk-text-repr-fallback {\n",
              "  display: none;\n",
              "}\n",
              "\n",
              "div.sk-parallel-item,\n",
              "div.sk-serial,\n",
              "div.sk-item {\n",
              "  /* draw centered vertical line to link estimators */\n",
              "  background-image: linear-gradient(var(--sklearn-color-text-on-default-background), var(--sklearn-color-text-on-default-background));\n",
              "  background-size: 2px 100%;\n",
              "  background-repeat: no-repeat;\n",
              "  background-position: center center;\n",
              "}\n",
              "\n",
              "/* Parallel-specific style estimator block */\n",
              "\n",
              "#sk-container-id-1 div.sk-parallel-item::after {\n",
              "  content: \"\";\n",
              "  width: 100%;\n",
              "  border-bottom: 2px solid var(--sklearn-color-text-on-default-background);\n",
              "  flex-grow: 1;\n",
              "}\n",
              "\n",
              "#sk-container-id-1 div.sk-parallel {\n",
              "  display: flex;\n",
              "  align-items: stretch;\n",
              "  justify-content: center;\n",
              "  background-color: var(--sklearn-color-background);\n",
              "  position: relative;\n",
              "}\n",
              "\n",
              "#sk-container-id-1 div.sk-parallel-item {\n",
              "  display: flex;\n",
              "  flex-direction: column;\n",
              "}\n",
              "\n",
              "#sk-container-id-1 div.sk-parallel-item:first-child::after {\n",
              "  align-self: flex-end;\n",
              "  width: 50%;\n",
              "}\n",
              "\n",
              "#sk-container-id-1 div.sk-parallel-item:last-child::after {\n",
              "  align-self: flex-start;\n",
              "  width: 50%;\n",
              "}\n",
              "\n",
              "#sk-container-id-1 div.sk-parallel-item:only-child::after {\n",
              "  width: 0;\n",
              "}\n",
              "\n",
              "/* Serial-specific style estimator block */\n",
              "\n",
              "#sk-container-id-1 div.sk-serial {\n",
              "  display: flex;\n",
              "  flex-direction: column;\n",
              "  align-items: center;\n",
              "  background-color: var(--sklearn-color-background);\n",
              "  padding-right: 1em;\n",
              "  padding-left: 1em;\n",
              "}\n",
              "\n",
              "\n",
              "/* Toggleable style: style used for estimator/Pipeline/ColumnTransformer box that is\n",
              "clickable and can be expanded/collapsed.\n",
              "- Pipeline and ColumnTransformer use this feature and define the default style\n",
              "- Estimators will overwrite some part of the style using the `sk-estimator` class\n",
              "*/\n",
              "\n",
              "/* Pipeline and ColumnTransformer style (default) */\n",
              "\n",
              "#sk-container-id-1 div.sk-toggleable {\n",
              "  /* Default theme specific background. It is overwritten whether we have a\n",
              "  specific estimator or a Pipeline/ColumnTransformer */\n",
              "  background-color: var(--sklearn-color-background);\n",
              "}\n",
              "\n",
              "/* Toggleable label */\n",
              "#sk-container-id-1 label.sk-toggleable__label {\n",
              "  cursor: pointer;\n",
              "  display: block;\n",
              "  width: 100%;\n",
              "  margin-bottom: 0;\n",
              "  padding: 0.5em;\n",
              "  box-sizing: border-box;\n",
              "  text-align: center;\n",
              "}\n",
              "\n",
              "#sk-container-id-1 label.sk-toggleable__label-arrow:before {\n",
              "  /* Arrow on the left of the label */\n",
              "  content: \"▸\";\n",
              "  float: left;\n",
              "  margin-right: 0.25em;\n",
              "  color: var(--sklearn-color-icon);\n",
              "}\n",
              "\n",
              "#sk-container-id-1 label.sk-toggleable__label-arrow:hover:before {\n",
              "  color: var(--sklearn-color-text);\n",
              "}\n",
              "\n",
              "/* Toggleable content - dropdown */\n",
              "\n",
              "#sk-container-id-1 div.sk-toggleable__content {\n",
              "  max-height: 0;\n",
              "  max-width: 0;\n",
              "  overflow: hidden;\n",
              "  text-align: left;\n",
              "  /* unfitted */\n",
              "  background-color: var(--sklearn-color-unfitted-level-0);\n",
              "}\n",
              "\n",
              "#sk-container-id-1 div.sk-toggleable__content.fitted {\n",
              "  /* fitted */\n",
              "  background-color: var(--sklearn-color-fitted-level-0);\n",
              "}\n",
              "\n",
              "#sk-container-id-1 div.sk-toggleable__content pre {\n",
              "  margin: 0.2em;\n",
              "  border-radius: 0.25em;\n",
              "  color: var(--sklearn-color-text);\n",
              "  /* unfitted */\n",
              "  background-color: var(--sklearn-color-unfitted-level-0);\n",
              "}\n",
              "\n",
              "#sk-container-id-1 div.sk-toggleable__content.fitted pre {\n",
              "  /* unfitted */\n",
              "  background-color: var(--sklearn-color-fitted-level-0);\n",
              "}\n",
              "\n",
              "#sk-container-id-1 input.sk-toggleable__control:checked~div.sk-toggleable__content {\n",
              "  /* Expand drop-down */\n",
              "  max-height: 200px;\n",
              "  max-width: 100%;\n",
              "  overflow: auto;\n",
              "}\n",
              "\n",
              "#sk-container-id-1 input.sk-toggleable__control:checked~label.sk-toggleable__label-arrow:before {\n",
              "  content: \"▾\";\n",
              "}\n",
              "\n",
              "/* Pipeline/ColumnTransformer-specific style */\n",
              "\n",
              "#sk-container-id-1 div.sk-label input.sk-toggleable__control:checked~label.sk-toggleable__label {\n",
              "  color: var(--sklearn-color-text);\n",
              "  background-color: var(--sklearn-color-unfitted-level-2);\n",
              "}\n",
              "\n",
              "#sk-container-id-1 div.sk-label.fitted input.sk-toggleable__control:checked~label.sk-toggleable__label {\n",
              "  background-color: var(--sklearn-color-fitted-level-2);\n",
              "}\n",
              "\n",
              "/* Estimator-specific style */\n",
              "\n",
              "/* Colorize estimator box */\n",
              "#sk-container-id-1 div.sk-estimator input.sk-toggleable__control:checked~label.sk-toggleable__label {\n",
              "  /* unfitted */\n",
              "  background-color: var(--sklearn-color-unfitted-level-2);\n",
              "}\n",
              "\n",
              "#sk-container-id-1 div.sk-estimator.fitted input.sk-toggleable__control:checked~label.sk-toggleable__label {\n",
              "  /* fitted */\n",
              "  background-color: var(--sklearn-color-fitted-level-2);\n",
              "}\n",
              "\n",
              "#sk-container-id-1 div.sk-label label.sk-toggleable__label,\n",
              "#sk-container-id-1 div.sk-label label {\n",
              "  /* The background is the default theme color */\n",
              "  color: var(--sklearn-color-text-on-default-background);\n",
              "}\n",
              "\n",
              "/* On hover, darken the color of the background */\n",
              "#sk-container-id-1 div.sk-label:hover label.sk-toggleable__label {\n",
              "  color: var(--sklearn-color-text);\n",
              "  background-color: var(--sklearn-color-unfitted-level-2);\n",
              "}\n",
              "\n",
              "/* Label box, darken color on hover, fitted */\n",
              "#sk-container-id-1 div.sk-label.fitted:hover label.sk-toggleable__label.fitted {\n",
              "  color: var(--sklearn-color-text);\n",
              "  background-color: var(--sklearn-color-fitted-level-2);\n",
              "}\n",
              "\n",
              "/* Estimator label */\n",
              "\n",
              "#sk-container-id-1 div.sk-label label {\n",
              "  font-family: monospace;\n",
              "  font-weight: bold;\n",
              "  display: inline-block;\n",
              "  line-height: 1.2em;\n",
              "}\n",
              "\n",
              "#sk-container-id-1 div.sk-label-container {\n",
              "  text-align: center;\n",
              "}\n",
              "\n",
              "/* Estimator-specific */\n",
              "#sk-container-id-1 div.sk-estimator {\n",
              "  font-family: monospace;\n",
              "  border: 1px dotted var(--sklearn-color-border-box);\n",
              "  border-radius: 0.25em;\n",
              "  box-sizing: border-box;\n",
              "  margin-bottom: 0.5em;\n",
              "  /* unfitted */\n",
              "  background-color: var(--sklearn-color-unfitted-level-0);\n",
              "}\n",
              "\n",
              "#sk-container-id-1 div.sk-estimator.fitted {\n",
              "  /* fitted */\n",
              "  background-color: var(--sklearn-color-fitted-level-0);\n",
              "}\n",
              "\n",
              "/* on hover */\n",
              "#sk-container-id-1 div.sk-estimator:hover {\n",
              "  /* unfitted */\n",
              "  background-color: var(--sklearn-color-unfitted-level-2);\n",
              "}\n",
              "\n",
              "#sk-container-id-1 div.sk-estimator.fitted:hover {\n",
              "  /* fitted */\n",
              "  background-color: var(--sklearn-color-fitted-level-2);\n",
              "}\n",
              "\n",
              "/* Specification for estimator info (e.g. \"i\" and \"?\") */\n",
              "\n",
              "/* Common style for \"i\" and \"?\" */\n",
              "\n",
              ".sk-estimator-doc-link,\n",
              "a:link.sk-estimator-doc-link,\n",
              "a:visited.sk-estimator-doc-link {\n",
              "  float: right;\n",
              "  font-size: smaller;\n",
              "  line-height: 1em;\n",
              "  font-family: monospace;\n",
              "  background-color: var(--sklearn-color-background);\n",
              "  border-radius: 1em;\n",
              "  height: 1em;\n",
              "  width: 1em;\n",
              "  text-decoration: none !important;\n",
              "  margin-left: 1ex;\n",
              "  /* unfitted */\n",
              "  border: var(--sklearn-color-unfitted-level-1) 1pt solid;\n",
              "  color: var(--sklearn-color-unfitted-level-1);\n",
              "}\n",
              "\n",
              ".sk-estimator-doc-link.fitted,\n",
              "a:link.sk-estimator-doc-link.fitted,\n",
              "a:visited.sk-estimator-doc-link.fitted {\n",
              "  /* fitted */\n",
              "  border: var(--sklearn-color-fitted-level-1) 1pt solid;\n",
              "  color: var(--sklearn-color-fitted-level-1);\n",
              "}\n",
              "\n",
              "/* On hover */\n",
              "div.sk-estimator:hover .sk-estimator-doc-link:hover,\n",
              ".sk-estimator-doc-link:hover,\n",
              "div.sk-label-container:hover .sk-estimator-doc-link:hover,\n",
              ".sk-estimator-doc-link:hover {\n",
              "  /* unfitted */\n",
              "  background-color: var(--sklearn-color-unfitted-level-3);\n",
              "  color: var(--sklearn-color-background);\n",
              "  text-decoration: none;\n",
              "}\n",
              "\n",
              "div.sk-estimator.fitted:hover .sk-estimator-doc-link.fitted:hover,\n",
              ".sk-estimator-doc-link.fitted:hover,\n",
              "div.sk-label-container:hover .sk-estimator-doc-link.fitted:hover,\n",
              ".sk-estimator-doc-link.fitted:hover {\n",
              "  /* fitted */\n",
              "  background-color: var(--sklearn-color-fitted-level-3);\n",
              "  color: var(--sklearn-color-background);\n",
              "  text-decoration: none;\n",
              "}\n",
              "\n",
              "/* Span, style for the box shown on hovering the info icon */\n",
              ".sk-estimator-doc-link span {\n",
              "  display: none;\n",
              "  z-index: 9999;\n",
              "  position: relative;\n",
              "  font-weight: normal;\n",
              "  right: .2ex;\n",
              "  padding: .5ex;\n",
              "  margin: .5ex;\n",
              "  width: min-content;\n",
              "  min-width: 20ex;\n",
              "  max-width: 50ex;\n",
              "  color: var(--sklearn-color-text);\n",
              "  box-shadow: 2pt 2pt 4pt #999;\n",
              "  /* unfitted */\n",
              "  background: var(--sklearn-color-unfitted-level-0);\n",
              "  border: .5pt solid var(--sklearn-color-unfitted-level-3);\n",
              "}\n",
              "\n",
              ".sk-estimator-doc-link.fitted span {\n",
              "  /* fitted */\n",
              "  background: var(--sklearn-color-fitted-level-0);\n",
              "  border: var(--sklearn-color-fitted-level-3);\n",
              "}\n",
              "\n",
              ".sk-estimator-doc-link:hover span {\n",
              "  display: block;\n",
              "}\n",
              "\n",
              "/* \"?\"-specific style due to the `<a>` HTML tag */\n",
              "\n",
              "#sk-container-id-1 a.estimator_doc_link {\n",
              "  float: right;\n",
              "  font-size: 1rem;\n",
              "  line-height: 1em;\n",
              "  font-family: monospace;\n",
              "  background-color: var(--sklearn-color-background);\n",
              "  border-radius: 1rem;\n",
              "  height: 1rem;\n",
              "  width: 1rem;\n",
              "  text-decoration: none;\n",
              "  /* unfitted */\n",
              "  color: var(--sklearn-color-unfitted-level-1);\n",
              "  border: var(--sklearn-color-unfitted-level-1) 1pt solid;\n",
              "}\n",
              "\n",
              "#sk-container-id-1 a.estimator_doc_link.fitted {\n",
              "  /* fitted */\n",
              "  border: var(--sklearn-color-fitted-level-1) 1pt solid;\n",
              "  color: var(--sklearn-color-fitted-level-1);\n",
              "}\n",
              "\n",
              "/* On hover */\n",
              "#sk-container-id-1 a.estimator_doc_link:hover {\n",
              "  /* unfitted */\n",
              "  background-color: var(--sklearn-color-unfitted-level-3);\n",
              "  color: var(--sklearn-color-background);\n",
              "  text-decoration: none;\n",
              "}\n",
              "\n",
              "#sk-container-id-1 a.estimator_doc_link.fitted:hover {\n",
              "  /* fitted */\n",
              "  background-color: var(--sklearn-color-fitted-level-3);\n",
              "}\n",
              "</style><div id=\"sk-container-id-1\" class=\"sk-top-container\"><div class=\"sk-text-repr-fallback\"><pre>LogisticRegression(max_iter=2000)</pre><b>In a Jupyter environment, please rerun this cell to show the HTML representation or trust the notebook. <br />On GitHub, the HTML representation is unable to render, please try loading this page with nbviewer.org.</b></div><div class=\"sk-container\" hidden><div class=\"sk-item\"><div class=\"sk-estimator fitted sk-toggleable\"><input class=\"sk-toggleable__control sk-hidden--visually\" id=\"sk-estimator-id-1\" type=\"checkbox\" checked><label for=\"sk-estimator-id-1\" class=\"sk-toggleable__label fitted sk-toggleable__label-arrow fitted\">&nbsp;&nbsp;LogisticRegression<a class=\"sk-estimator-doc-link fitted\" rel=\"noreferrer\" target=\"_blank\" href=\"https://scikit-learn.org/1.5/modules/generated/sklearn.linear_model.LogisticRegression.html\">?<span>Documentation for LogisticRegression</span></a><span class=\"sk-estimator-doc-link fitted\">i<span>Fitted</span></span></label><div class=\"sk-toggleable__content fitted\"><pre>LogisticRegression(max_iter=2000)</pre></div> </div></div></div></div>"
            ]
          },
          "metadata": {},
          "execution_count": 10
        }
      ]
    },
    {
      "cell_type": "code",
      "source": [
        "pred = lr.predict(x_test)"
      ],
      "metadata": {
        "id": "SNYa8gyRBCRU"
      },
      "execution_count": null,
      "outputs": []
    },
    {
      "cell_type": "code",
      "source": [
        "lr.score(x_test, y_test)"
      ],
      "metadata": {
        "colab": {
          "base_uri": "https://localhost:8080/"
        },
        "id": "don5t3ng_QWv",
        "outputId": "5302ff1e-56ea-491f-abdd-f6c3103d055a"
      },
      "execution_count": null,
      "outputs": [
        {
          "output_type": "execute_result",
          "data": {
            "text/plain": [
              "0.8658536585365854"
            ]
          },
          "metadata": {},
          "execution_count": 13
        }
      ]
    },
    {
      "cell_type": "code",
      "source": [
        "from sklearn.metrics import confusion_matrix, ConfusionMatrixDisplay, f1_score, accuracy_score, precision_score, recall_score\n",
        "import matplotlib.pyplot as plt\n",
        "\n",
        "confusion_matrix = confusion_matrix(y_test, pred)\n",
        "ConfusionMatrixDisplay = ConfusionMatrixDisplay(confusion_matrix=confusion_matrix, display_labels=class_list)\n",
        "fig, ax = plt.subplots(figsize=(10, 10))\n",
        "ConfusionMatrixDisplay.plot(ax=ax, cmap=\"afmhot\")\n",
        "plt.xticks(rotation=45, ha='right')\n",
        "plt.show()\n"
      ],
      "metadata": {
        "colab": {
          "base_uri": "https://localhost:8080/",
          "height": 816
        },
        "id": "RqIKAt7sBacM",
        "outputId": "13c0b395-9fa3-4fa0-e627-e7de44b99605"
      },
      "execution_count": null,
      "outputs": [
        {
          "output_type": "display_data",
          "data": {
            "text/plain": [
              "<Figure size 1000x1000 with 2 Axes>"
            ],
            "image/png": "[encoded data removed]"
          },
          "metadata": {}
        }
      ]
    },
    {
      "cell_type": "code",
      "source": [
        "f1_score(y_test, pred, average='macro')"
      ],
      "metadata": {
        "colab": {
          "base_uri": "https://localhost:8080/"
        },
        "id": "aDKyTzg9F8gP",
        "outputId": "70e3cb68-6ba4-47cb-94b5-f9e2771b073d"
      },
      "execution_count": null,
      "outputs": [
        {
          "output_type": "execute_result",
          "data": {
            "text/plain": [
              "0.835885600285841"
            ]
          },
          "metadata": {},
          "execution_count": 18
        }
      ]
    },
    {
      "cell_type": "code",
      "source": [
        "accuracy_score(y_test, pred)"
      ],
      "metadata": {
        "colab": {
          "base_uri": "https://localhost:8080/"
        },
        "id": "NKOAGfItSm1_",
        "outputId": "69ed5b44-96ec-4d06-fed2-72cf013fdcbd"
      },
      "execution_count": null,
      "outputs": [
        {
          "output_type": "execute_result",
          "data": {
            "text/plain": [
              "0.8658536585365854"
            ]
          },
          "metadata": {},
          "execution_count": 19
        }
      ]
    },
    {
      "cell_type": "code",
      "source": [
        "precision_score(y_test, pred, average='macro')\n"
      ],
      "metadata": {
        "colab": {
          "base_uri": "https://localhost:8080/"
        },
        "id": "8jWZ-suWTM_h",
        "outputId": "686c75ca-74c4-4b46-9398-bc8cc7b917e8"
      },
      "execution_count": null,
      "outputs": [
        {
          "output_type": "execute_result",
          "data": {
            "text/plain": [
              "0.8419026192535934"
            ]
          },
          "metadata": {},
          "execution_count": 20
        }
      ]
    },
    {
      "cell_type": "code",
      "source": [
        "recall_score(y_test, pred, average='macro')"
      ],
      "metadata": {
        "colab": {
          "base_uri": "https://localhost:8080/"
        },
        "id": "2OST3hw5TLN_",
        "outputId": "1d2de5ba-a6d8-4dcc-9c08-d57d07361b66"
      },
      "execution_count": null,
      "outputs": [
        {
          "output_type": "execute_result",
          "data": {
            "text/plain": [
              "0.8344450136942466"
            ]
          },
          "metadata": {},
          "execution_count": 21
        }
      ]
    },
    {
      "cell_type": "markdown",
      "source": [
        "# Grid Search CV"
      ],
      "metadata": {
        "id": "3PMjFdw7xxw3"
      }
    },
    {
      "cell_type": "code",
      "source": [
        "from sklearn.model_selection import train_test_split\n",
        "from sklearn.linear_model import LogisticRegression"
      ],
      "metadata": {
        "id": "ZWX7Rqsa-nHp"
      },
      "execution_count": null,
      "outputs": []
    },
    {
      "cell_type": "code",
      "source": [
        "from scikeras.wrappers import KerasClassifier\n",
        "from scikeras.wrappers import KerasClassifier\n",
        "from sklearn.model_selection import GridSearchCV"
      ],
      "metadata": {
        "id": "oo41c9ysxxQR"
      },
      "execution_count": null,
      "outputs": []
    },
    {
      "cell_type": "code",
      "source": [
        "x_train, x_test, y_train, y_test = train_test_split(features_label.iloc[:, :-1], features_label.iloc[:,-1], test_size=0.2, random_state=3213123)"
      ],
      "metadata": {
        "id": "tDUetkmJ-gNy"
      },
      "execution_count": null,
      "outputs": []
    },
    {
      "cell_type": "code",
      "source": [
        "param_dict = {\n",
        "    'tol' : [0.005, 0.0001],\n",
        "    'solver': ['saga', 'lbfgs', 'newton-cg']\n",
        "}\n"
      ],
      "metadata": {
        "id": "rt8v8-yzyJ9r"
      },
      "execution_count": null,
      "outputs": []
    },
    {
      "cell_type": "code",
      "source": [
        "grid_lr = LogisticRegression(max_iter=2000)"
      ],
      "metadata": {
        "id": "WUSWmGOLhdQZ"
      },
      "execution_count": null,
      "outputs": []
    },
    {
      "cell_type": "code",
      "source": [
        "grid_search = GridSearchCV(\n",
        "    estimator=grid_lr,\n",
        "    param_grid=param_dict,\n",
        "    scoring='accuracy',\n",
        "    cv=3,\n",
        "    verbose=1,\n",
        "    n_jobs=-1\n",
        ")"
      ],
      "metadata": {
        "id": "qm_lYJ_k1BTK"
      },
      "execution_count": null,
      "outputs": []
    },
    {
      "cell_type": "code",
      "source": [
        "grid_result = grid_search.fit(x_train, y_train)"
      ],
      "metadata": {
        "colab": {
          "base_uri": "https://localhost:8080/"
        },
        "id": "Cw-d-70O1VP6",
        "outputId": "9140c35f-3c03-46cc-a1ad-aa29a6ec29d1"
      },
      "execution_count": null,
      "outputs": [
        {
          "output_type": "stream",
          "name": "stdout",
          "text": [
            "Fitting 3 folds for each of 6 candidates, totalling 18 fits\n"
          ]
        },
        {
          "output_type": "stream",
          "name": "stderr",
          "text": [
            "/usr/local/lib/python3.10/dist-packages/sklearn/linear_model/_sag.py:349: ConvergenceWarning: The max_iter was reached which means the coef_ did not converge\n",
            "  warnings.warn(\n"
          ]
        }
      ]
    },
    {
      "cell_type": "code",
      "source": [
        "# mean validation accuracy\n",
        "grid_result.best_score_"
      ],
      "metadata": {
        "colab": {
          "base_uri": "https://localhost:8080/"
        },
        "id": "1YDUSyUc-4M1",
        "outputId": "809bdb7a-b574-42ab-834a-3517bb057f68"
      },
      "execution_count": null,
      "outputs": [
        {
          "output_type": "execute_result",
          "data": {
            "text/plain": [
              "0.8550061050061051"
            ]
          },
          "metadata": {},
          "execution_count": 18
        }
      ]
    },
    {
      "cell_type": "code",
      "source": [
        "grid_result.best_params_"
      ],
      "metadata": {
        "colab": {
          "base_uri": "https://localhost:8080/"
        },
        "id": "5tHCgt9P-zi3",
        "outputId": "33df3671-127e-4d3f-c49a-9b3f1390376f"
      },
      "execution_count": null,
      "outputs": [
        {
          "output_type": "execute_result",
          "data": {
            "text/plain": [
              "{'solver': 'saga', 'tol': 0.0001}"
            ]
          },
          "metadata": {},
          "execution_count": 19
        }
      ]
    },
    {
      "cell_type": "code",
      "source": [
        "grid_result.cv_results_"
      ],
      "metadata": {
        "colab": {
          "base_uri": "https://localhost:8080/"
        },
        "collapsed": true,
        "id": "XBkGQC9a-6nt",
        "outputId": "5ef154b1-1c89-46c5-c490-b25d947c2c75"
      },
      "execution_count": null,
      "outputs": [
        {
          "output_type": "execute_result",
          "data": {
            "text/plain": [
              "{'mean_fit_time': array([ 308.91837319, 5066.10466957,  153.57714152,  259.68922901,\n",
              "         130.4484992 ,  198.58083312]),\n",
              " 'std_fit_time': array([ 10.60444264, 757.24573432,  32.72728066,  47.2150032 ,\n",
              "         12.5976151 ,   9.83925517]),\n",
              " 'mean_score_time': array([0.28572687, 0.19417087, 0.21038087, 0.21264672, 0.33534702,\n",
              "        0.2840577 ]),\n",
              " 'std_score_time': array([0.09127313, 0.05344985, 0.00640374, 0.00718198, 0.09397351,\n",
              "        0.09226781]),\n",
              " 'param_solver': masked_array(data=['saga', 'saga', 'lbfgs', 'lbfgs', 'newton-cg',\n",
              "                    'newton-cg'],\n",
              "              mask=[False, False, False, False, False, False],\n",
              "        fill_value='?',\n",
              "             dtype=object),\n",
              " 'param_tol': masked_array(data=[0.005, 0.0001, 0.005, 0.0001, 0.005, 0.0001],\n",
              "              mask=[False, False, False, False, False, False],\n",
              "        fill_value=1e+20),\n",
              " 'params': [{'solver': 'saga', 'tol': 0.005},\n",
              "  {'solver': 'saga', 'tol': 0.0001},\n",
              "  {'solver': 'lbfgs', 'tol': 0.005},\n",
              "  {'solver': 'lbfgs', 'tol': 0.0001},\n",
              "  {'solver': 'newton-cg', 'tol': 0.005},\n",
              "  {'solver': 'newton-cg', 'tol': 0.0001}],\n",
              " 'split0_test_score': array([0.78296703, 0.8452381 , 0.80586081, 0.82509158, 0.84340659,\n",
              "        0.83608059]),\n",
              " 'split1_test_score': array([0.80311355, 0.86813187, 0.84615385, 0.86904762, 0.86355311,\n",
              "        0.86538462]),\n",
              " 'split2_test_score': array([0.77014652, 0.85164835, 0.81684982, 0.82783883, 0.83882784,\n",
              "        0.84157509]),\n",
              " 'mean_test_score': array([0.78540904, 0.85500611, 0.82295482, 0.84065934, 0.84859585,\n",
              "        0.8476801 ]),\n",
              " 'std_test_score': array([0.01356905, 0.0096432 , 0.01700658, 0.02010485, 0.0107403 ,\n",
              "        0.01271836]),\n",
              " 'rank_test_score': array([6, 1, 5, 4, 2, 3], dtype=int32)}"
            ]
          },
          "metadata": {},
          "execution_count": 20
        }
      ]
    },
    {
      "cell_type": "code",
      "source": [
        "grid_pred = grid_result.best_estimator_.predict(x_test)\n",
        "grid_pred"
      ],
      "metadata": {
        "colab": {
          "base_uri": "https://localhost:8080/"
        },
        "collapsed": true,
        "id": "yzY6-YwL--i3",
        "outputId": "0181d8a4-311e-4c52-e772-9c3759001f5c"
      },
      "execution_count": null,
      "outputs": [
        {
          "output_type": "execute_result",
          "data": {
            "text/plain": [
              "array([4, 1, 3, 8, 0, 1, 0, 8, 6, 3, 4, 6, 4, 9, 9, 4, 7, 0, 3, 0, 6, 1,\n",
              "       2, 4, 7, 0, 8, 6, 0, 8, 6, 9, 3, 5, 9, 4, 1, 4, 4, 1, 0, 4, 0, 0,\n",
              "       7, 0, 4, 3, 3, 1, 0, 6, 4, 3, 4, 6, 0, 6, 4, 2, 9, 0, 4, 0, 6, 4,\n",
              "       0, 3, 3, 0, 0, 3, 0, 6, 3, 0, 1, 1, 2, 3, 4, 0, 2, 0, 0, 8, 3, 4,\n",
              "       0, 0, 6, 0, 3, 8, 0, 0, 8, 4, 3, 2, 4, 6, 3, 5, 4, 3, 1, 4, 8, 0,\n",
              "       6, 2, 0, 6, 4, 7, 3, 0, 1, 3, 4, 4, 8, 7, 5, 0, 2, 0, 4, 9, 8, 8,\n",
              "       6, 4, 0, 0, 4, 7, 3, 0, 4, 0, 4, 2, 3, 1, 4, 4, 9, 3, 4, 7, 8, 3,\n",
              "       3, 4, 3, 0, 4, 0, 3, 2, 4, 4, 0, 0, 8, 4, 6, 3, 4, 4, 3, 2, 8, 3,\n",
              "       3, 0, 4, 3, 4, 0, 0, 2, 8, 3, 3, 4, 6, 3, 6, 4, 6, 7, 4, 2, 5, 0,\n",
              "       7, 4, 4, 8, 3, 3, 4, 4, 3, 4, 3, 7, 8, 0, 8, 0, 4, 3, 0, 0, 1, 3,\n",
              "       0, 6, 0, 6, 4, 4, 4, 4, 0, 3, 0, 3, 6, 3, 3, 0, 4, 7, 7, 0, 4, 3,\n",
              "       4, 1, 4, 7, 0, 0, 0, 0, 6, 0, 0, 3, 7, 6, 0, 0, 1, 4, 4, 4, 7, 4,\n",
              "       5, 0, 1, 0, 0, 6, 8, 6, 9, 6, 9, 0, 3, 6, 5, 6, 8, 4, 9, 3, 9, 3,\n",
              "       0, 4, 6, 3, 0, 0, 0, 2, 0, 0, 3, 0, 4, 3, 4, 7, 0, 2, 5, 7, 0, 3,\n",
              "       1, 8, 6, 4, 7, 0, 3, 0, 7, 4, 4, 6, 4, 3, 0, 3, 8, 4, 1, 6, 4, 1,\n",
              "       6, 1, 0, 2, 8, 4, 3, 1, 8, 6, 6, 3, 2, 1, 8, 4, 0, 3, 0, 4, 4, 3,\n",
              "       3, 2, 1, 3, 6, 0, 4, 4, 0, 7, 7, 5, 2, 0, 7, 1, 5, 6, 4, 4, 0, 0,\n",
              "       1, 7, 6, 3, 0, 7, 6, 0, 1, 4, 0, 3, 4, 2, 3, 3, 8, 3, 4, 0, 3, 0,\n",
              "       5, 2, 0, 4, 6, 0, 4, 9, 0, 1, 0, 8, 0, 4, 9, 9, 0, 3, 0, 0, 6, 6,\n",
              "       6, 0, 0, 0, 3, 6, 0, 3, 0, 5, 0, 8, 3, 4, 2, 0, 3, 8, 0, 0, 2, 0,\n",
              "       0, 0, 4, 8, 3, 5, 0, 0, 8, 4, 6, 1, 9, 2, 7, 4, 3, 4, 4, 4, 3, 8,\n",
              "       7, 9, 4, 0, 8, 2, 0, 0, 3, 4, 6, 4, 6, 4, 3, 7, 1, 4, 1, 3, 3, 4,\n",
              "       6, 0, 4, 5, 0, 6, 0, 3, 0, 1, 0, 0, 6, 6, 4, 3, 8, 5, 4, 7, 4, 4,\n",
              "       4, 0, 8, 8, 8, 4, 6, 3, 4, 9, 9, 0, 0, 3, 3, 8, 5, 9, 4, 4, 6, 5,\n",
              "       3, 1, 0, 6, 3, 8, 0, 3, 0, 0, 9, 3, 3, 9, 2, 4, 4, 3, 6, 8, 4, 3,\n",
              "       3, 0, 0, 7, 4, 6, 0, 3, 7, 6, 1, 1, 0, 4, 8, 0, 8, 3, 5, 3, 1, 0,\n",
              "       9, 3, 3, 0, 2, 0, 7, 6, 0, 6, 4, 4, 5, 1, 1, 1, 1, 4, 0, 9, 3, 8,\n",
              "       3, 2, 0, 6, 4, 0, 2, 3, 3, 0, 4, 4, 1, 4, 8, 6, 6, 1, 3, 4, 4, 6,\n",
              "       0, 5, 4, 3, 4, 8, 0, 3, 3, 0, 4, 4, 7, 6, 3, 5, 4, 2, 4, 4, 3, 6,\n",
              "       0, 2, 0, 3, 4, 3, 9, 8, 2, 7, 9, 4, 1, 4, 0, 0, 8, 3, 3, 0, 2, 8,\n",
              "       4, 0, 1, 0, 7, 0, 6, 6, 0, 3, 4, 0, 2, 9, 4, 5, 0, 4, 4, 0, 4, 0,\n",
              "       4, 4, 4, 3, 4, 0, 4, 0, 0, 3, 8, 3, 0, 4, 3, 6, 0, 9, 3, 7, 3, 3,\n",
              "       3, 2, 0, 0, 6, 4, 6, 1, 5, 3, 4, 0, 6, 0, 3, 0, 6, 0, 7, 4, 3, 3,\n",
              "       0, 3, 0, 9, 8, 0, 6, 1, 1, 6, 4, 3, 4, 3, 4, 2, 9, 3, 0, 8, 6, 3,\n",
              "       4, 3, 6, 3, 4, 0, 3, 3, 8, 4, 3, 0, 0, 3, 7, 5, 4, 0, 3, 4, 3, 5,\n",
              "       3, 3, 8, 7, 0, 1, 6, 0, 8, 3, 5, 7, 0, 1, 3, 0, 6, 6, 4, 3, 8, 4,\n",
              "       7, 6, 4, 1, 7, 4, 9, 2, 3, 6, 4, 6, 0, 1, 6, 4, 3, 4, 6, 4, 3, 5,\n",
              "       0, 8, 8, 6, 2, 4])"
            ]
          },
          "metadata": {},
          "execution_count": 23
        }
      ]
    },
    {
      "cell_type": "code",
      "source": [
        "from sklearn.metrics import confusion_matrix, ConfusionMatrixDisplay, f1_score, accuracy_score, precision_score, recall_score\n",
        "import matplotlib.pyplot as plt\n",
        "\n",
        "confusion_matrix = confusion_matrix(y_test, grid_pred)\n",
        "ConfusionMatrixDisplay = ConfusionMatrixDisplay(confusion_matrix=confusion_matrix, display_labels=class_list)\n",
        "fig, ax = plt.subplots(figsize=(10, 10))\n",
        "ConfusionMatrixDisplay.plot(ax=ax, cmap=\"afmhot\")\n",
        "plt.xticks(rotation=45, ha='right')\n",
        "plt.show()"
      ],
      "metadata": {
        "colab": {
          "base_uri": "https://localhost:8080/",
          "height": 816
        },
        "id": "oj6WDSWUXJhd",
        "outputId": "b091233c-9cd3-47f4-8ed0-2893a7893714"
      },
      "execution_count": null,
      "outputs": [
        {
          "output_type": "display_data",
          "data": {
            "text/plain": [
              "<Figure size 1000x1000 with 2 Axes>"
            ],
            "image/png": "[encoded data removed]"
          },
          "metadata": {}
        }
      ]
    },
    {
      "cell_type": "code",
      "source": [
        "f1_score(y_test, grid_pred, average='macro')"
      ],
      "metadata": {
        "colab": {
          "base_uri": "https://localhost:8080/"
        },
        "id": "mwn9VqbsXsQo",
        "outputId": "86b1a46a-9082-4615-82e6-451c79cd4388"
      },
      "execution_count": null,
      "outputs": [
        {
          "output_type": "execute_result",
          "data": {
            "text/plain": [
              "0.8532999283468007"
            ]
          },
          "metadata": {},
          "execution_count": 28
        }
      ]
    },
    {
      "cell_type": "code",
      "source": [
        "accuracy_score(y_test, grid_pred)"
      ],
      "metadata": {
        "colab": {
          "base_uri": "https://localhost:8080/"
        },
        "id": "pkIFMRrfXt93",
        "outputId": "01436e31-7bbe-48e0-878e-557edb6c5f31"
      },
      "execution_count": null,
      "outputs": [
        {
          "output_type": "execute_result",
          "data": {
            "text/plain": [
              "0.8792682926829268"
            ]
          },
          "metadata": {},
          "execution_count": 29
        }
      ]
    },
    {
      "cell_type": "code",
      "source": [
        "precision_score(y_test, grid_pred, average='macro')"
      ],
      "metadata": {
        "colab": {
          "base_uri": "https://localhost:8080/"
        },
        "id": "hjsajh3VXxP2",
        "outputId": "6b489a1b-fdde-4483-9f3a-9ede5f10dd39"
      },
      "execution_count": null,
      "outputs": [
        {
          "output_type": "execute_result",
          "data": {
            "text/plain": [
              "0.8596408693559621"
            ]
          },
          "metadata": {},
          "execution_count": 31
        }
      ]
    },
    {
      "cell_type": "code",
      "source": [
        "recall_score(y_test, grid_pred, average='macro')"
      ],
      "metadata": {
        "colab": {
          "base_uri": "https://localhost:8080/"
        },
        "id": "jhw8jsHOXvvr",
        "outputId": "44155101-eacc-435f-b55c-3a6c2a45b753"
      },
      "execution_count": null,
      "outputs": [
        {
          "output_type": "execute_result",
          "data": {
            "text/plain": [
              "0.850468954853852"
            ]
          },
          "metadata": {},
          "execution_count": 30
        }
      ]
    },
    {
      "cell_type": "code",
      "source": [
        "import joblib\n",
        "joblib.dump(grid_result.best_estimator_, 'lr_grid_model-acc0.87-f10.85.pkl')"
      ],
      "metadata": {
        "colab": {
          "base_uri": "https://localhost:8080/"
        },
        "id": "VBQtu9haYA7R",
        "outputId": "82f59adc-5856-4c8f-b919-e1f2d4fbd8c8"
      },
      "execution_count": null,
      "outputs": [
        {
          "output_type": "execute_result",
          "data": {
            "text/plain": [
              "['lr_grid_model-acc0.87-f10.85.pkl']"
            ]
          },
          "metadata": {},
          "execution_count": 32
        }
      ]
    }
  ]
}