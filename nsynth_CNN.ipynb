{
  "nbformat": 4,
  "nbformat_minor": 0,
  "metadata": {
    "colab": {
      "provenance": [],
      "gpuType": "T4",
      "authorship_tag": "ABX9TyPVAba2cJZ7RrzxSF/9mfZA",
      "include_colab_link": true
    },
    "kernelspec": {
      "name": "python3",
      "display_name": "Python 3"
    },
    "language_info": {
      "name": "python"
    },
    "accelerator": "GPU"
  },
  "cells": [
    {
      "cell_type": "markdown",
      "metadata": {
        "id": "view-in-github",
        "colab_type": "text"
      },
      "source": [
        "<a href=\"https://colab.research.google.com/github/Yanaput/EGCI463-pattern-recognition-project/blob/main/nsynth_CNN.ipynb\" target=\"_parent\"><img src=\"https://colab.research.google.com/assets/colab-badge.svg\" alt=\"Open In Colab\"/></a>"
      ]
    },
    {
      "cell_type": "code",
      "source": [
        "# https://huggingface.co/datasets/TwinkStart/Nsynth"
      ],
      "metadata": {
        "id": "ZQKxvxRYYtgn"
      },
      "execution_count": null,
      "outputs": []
    },
    {
      "cell_type": "code",
      "source": [
        "import numpy as np\n",
        "import os\n",
        "import pandas as pd\n",
        "from google.colab import drive\n",
        "drive.mount('/content/drive')"
      ],
      "metadata": {
        "id": "7VRujvENKGvs",
        "colab": {
          "base_uri": "https://localhost:8080/"
        },
        "outputId": "673e03b5-fff5-4870-97b6-19b0b1c22bc4"
      },
      "execution_count": 1,
      "outputs": [
        {
          "output_type": "stream",
          "name": "stdout",
          "text": [
            "Mounted at /content/drive\n"
          ]
        }
      ]
    },
    {
      "cell_type": "code",
      "source": [
        "!pip install keras tensorflow scikeras scikit-learn"
      ],
      "metadata": {
        "colab": {
          "base_uri": "https://localhost:8080/"
        },
        "id": "5NoCQvz8YbQ3",
        "outputId": "d0d00e1e-5080-4278-b632-e3f8ada9c424",
        "collapsed": true
      },
      "execution_count": 2,
      "outputs": [
        {
          "output_type": "stream",
          "name": "stdout",
          "text": [
            "Requirement already satisfied: keras in /usr/local/lib/python3.10/dist-packages (3.5.0)\n",
            "Requirement already satisfied: tensorflow in /usr/local/lib/python3.10/dist-packages (2.17.1)\n",
            "Collecting scikeras\n",
            "  Downloading scikeras-0.13.0-py3-none-any.whl.metadata (3.1 kB)\n",
            "Requirement already satisfied: scikit-learn in /usr/local/lib/python3.10/dist-packages (1.5.2)\n",
            "Requirement already satisfied: absl-py in /usr/local/lib/python3.10/dist-packages (from keras) (1.4.0)\n",
            "Requirement already satisfied: numpy in /usr/local/lib/python3.10/dist-packages (from keras) (1.26.4)\n",
            "Requirement already satisfied: rich in /usr/local/lib/python3.10/dist-packages (from keras) (13.9.4)\n",
            "Requirement already satisfied: namex in /usr/local/lib/python3.10/dist-packages (from keras) (0.0.8)\n",
            "Requirement already satisfied: h5py in /usr/local/lib/python3.10/dist-packages (from keras) (3.12.1)\n",
            "Requirement already satisfied: optree in /usr/local/lib/python3.10/dist-packages (from keras) (0.13.1)\n",
            "Requirement already satisfied: ml-dtypes in /usr/local/lib/python3.10/dist-packages (from keras) (0.4.1)\n",
            "Requirement already satisfied: packaging in /usr/local/lib/python3.10/dist-packages (from keras) (24.2)\n",
            "Requirement already satisfied: astunparse>=1.6.0 in /usr/local/lib/python3.10/dist-packages (from tensorflow) (1.6.3)\n",
            "Requirement already satisfied: flatbuffers>=24.3.25 in /usr/local/lib/python3.10/dist-packages (from tensorflow) (24.3.25)\n",
            "Requirement already satisfied: gast!=0.5.0,!=0.5.1,!=0.5.2,>=0.2.1 in /usr/local/lib/python3.10/dist-packages (from tensorflow) (0.6.0)\n",
            "Requirement already satisfied: google-pasta>=0.1.1 in /usr/local/lib/python3.10/dist-packages (from tensorflow) (0.2.0)\n",
            "Requirement already satisfied: libclang>=13.0.0 in /usr/local/lib/python3.10/dist-packages (from tensorflow) (18.1.1)\n",
            "Requirement already satisfied: opt-einsum>=2.3.2 in /usr/local/lib/python3.10/dist-packages (from tensorflow) (3.4.0)\n",
            "Requirement already satisfied: protobuf!=4.21.0,!=4.21.1,!=4.21.2,!=4.21.3,!=4.21.4,!=4.21.5,<5.0.0dev,>=3.20.3 in /usr/local/lib/python3.10/dist-packages (from tensorflow) (4.25.5)\n",
            "Requirement already satisfied: requests<3,>=2.21.0 in /usr/local/lib/python3.10/dist-packages (from tensorflow) (2.32.3)\n",
            "Requirement already satisfied: setuptools in /usr/local/lib/python3.10/dist-packages (from tensorflow) (75.1.0)\n",
            "Requirement already satisfied: six>=1.12.0 in /usr/local/lib/python3.10/dist-packages (from tensorflow) (1.16.0)\n",
            "Requirement already satisfied: termcolor>=1.1.0 in /usr/local/lib/python3.10/dist-packages (from tensorflow) (2.5.0)\n",
            "Requirement already satisfied: typing-extensions>=3.6.6 in /usr/local/lib/python3.10/dist-packages (from tensorflow) (4.12.2)\n",
            "Requirement already satisfied: wrapt>=1.11.0 in /usr/local/lib/python3.10/dist-packages (from tensorflow) (1.16.0)\n",
            "Requirement already satisfied: grpcio<2.0,>=1.24.3 in /usr/local/lib/python3.10/dist-packages (from tensorflow) (1.68.0)\n",
            "Requirement already satisfied: tensorboard<2.18,>=2.17 in /usr/local/lib/python3.10/dist-packages (from tensorflow) (2.17.1)\n",
            "Requirement already satisfied: tensorflow-io-gcs-filesystem>=0.23.1 in /usr/local/lib/python3.10/dist-packages (from tensorflow) (0.37.1)\n",
            "Requirement already satisfied: scipy>=1.6.0 in /usr/local/lib/python3.10/dist-packages (from scikit-learn) (1.13.1)\n",
            "Requirement already satisfied: joblib>=1.2.0 in /usr/local/lib/python3.10/dist-packages (from scikit-learn) (1.4.2)\n",
            "Requirement already satisfied: threadpoolctl>=3.1.0 in /usr/local/lib/python3.10/dist-packages (from scikit-learn) (3.5.0)\n",
            "Requirement already satisfied: wheel<1.0,>=0.23.0 in /usr/local/lib/python3.10/dist-packages (from astunparse>=1.6.0->tensorflow) (0.45.0)\n",
            "Requirement already satisfied: charset-normalizer<4,>=2 in /usr/local/lib/python3.10/dist-packages (from requests<3,>=2.21.0->tensorflow) (3.4.0)\n",
            "Requirement already satisfied: idna<4,>=2.5 in /usr/local/lib/python3.10/dist-packages (from requests<3,>=2.21.0->tensorflow) (3.10)\n",
            "Requirement already satisfied: urllib3<3,>=1.21.1 in /usr/local/lib/python3.10/dist-packages (from requests<3,>=2.21.0->tensorflow) (2.2.3)\n",
            "Requirement already satisfied: certifi>=2017.4.17 in /usr/local/lib/python3.10/dist-packages (from requests<3,>=2.21.0->tensorflow) (2024.8.30)\n",
            "Requirement already satisfied: markdown>=2.6.8 in /usr/local/lib/python3.10/dist-packages (from tensorboard<2.18,>=2.17->tensorflow) (3.7)\n",
            "Requirement already satisfied: tensorboard-data-server<0.8.0,>=0.7.0 in /usr/local/lib/python3.10/dist-packages (from tensorboard<2.18,>=2.17->tensorflow) (0.7.2)\n",
            "Requirement already satisfied: werkzeug>=1.0.1 in /usr/local/lib/python3.10/dist-packages (from tensorboard<2.18,>=2.17->tensorflow) (3.1.3)\n",
            "Requirement already satisfied: markdown-it-py>=2.2.0 in /usr/local/lib/python3.10/dist-packages (from rich->keras) (3.0.0)\n",
            "Requirement already satisfied: pygments<3.0.0,>=2.13.0 in /usr/local/lib/python3.10/dist-packages (from rich->keras) (2.18.0)\n",
            "Requirement already satisfied: mdurl~=0.1 in /usr/local/lib/python3.10/dist-packages (from markdown-it-py>=2.2.0->rich->keras) (0.1.2)\n",
            "Requirement already satisfied: MarkupSafe>=2.1.1 in /usr/local/lib/python3.10/dist-packages (from werkzeug>=1.0.1->tensorboard<2.18,>=2.17->tensorflow) (3.0.2)\n",
            "Downloading scikeras-0.13.0-py3-none-any.whl (26 kB)\n",
            "Installing collected packages: scikeras\n",
            "Successfully installed scikeras-0.13.0\n"
          ]
        }
      ]
    },
    {
      "cell_type": "markdown",
      "source": [
        "# Load dataset"
      ],
      "metadata": {
        "id": "2K90UWNdpQjY"
      }
    },
    {
      "cell_type": "code",
      "source": [
        "from google.colab import userdata\n",
        "projPath  = userdata.get('driveProjDir') #replace this with your csv path"
      ],
      "metadata": {
        "id": "LGSp0ovNk6f3"
      },
      "execution_count": 3,
      "outputs": []
    },
    {
      "cell_type": "code",
      "source": [
        "features_label = pd.read_csv(f\"/content/drive/MyDrive/{projPath}/features_label.csv\")\n",
        "features_label"
      ],
      "metadata": {
        "colab": {
          "base_uri": "https://localhost:8080/",
          "height": 443
        },
        "id": "Pmn3zHZSk7dk",
        "outputId": "baf42e47-f1df-4111-a055-09a21aa0ea6c"
      },
      "execution_count": 4,
      "outputs": [
        {
          "output_type": "execute_result",
          "data": {
            "text/plain": [
              "              0          1          2          3          4          5  \\\n",
              "0    -53.803909 -57.194024 -80.000000 -80.000000 -80.000000 -80.000000   \n",
              "1    -41.581627 -41.147030 -50.666237 -64.943981 -60.756839 -60.464744   \n",
              "2    -16.751124 -14.606224 -14.500415 -14.003709 -14.280511 -14.614283   \n",
              "3     -2.217868   0.000000  -2.265561  -4.262692  -5.280903  -6.297461   \n",
              "4    -39.486546 -30.101491 -29.918419 -34.714702 -49.770357 -55.999469   \n",
              "...         ...        ...        ...        ...        ...        ...   \n",
              "4091 -22.894519 -21.310778 -27.454087 -33.497683 -33.068524 -32.833817   \n",
              "4092 -50.416488 -42.023727 -39.495096 -41.555525 -51.454520 -54.918152   \n",
              "4093 -22.917634 -27.114879 -52.179479 -67.841889 -68.402644 -65.043253   \n",
              "4094 -68.290314 -59.045592 -54.324949 -57.203160 -57.954304 -56.753415   \n",
              "4095 -37.334291 -35.500615 -45.551480 -78.679007 -80.000000 -80.000000   \n",
              "\n",
              "              6          7          8          9  ...  12023  12024  12025  \\\n",
              "0    -80.000000 -80.000000 -80.000000 -80.000000  ...  -80.0  -80.0  -80.0   \n",
              "1    -60.993004 -63.912845 -61.711862 -62.382845  ...  -80.0  -80.0  -80.0   \n",
              "2    -15.854235 -16.143106 -17.500415 -20.172544  ...  -80.0  -80.0  -80.0   \n",
              "3     -7.342139  -8.409485  -9.516589 -10.664447  ...  -80.0  -80.0  -80.0   \n",
              "4    -55.860402 -53.477410 -59.263462 -60.489511  ...  -80.0  -80.0  -80.0   \n",
              "...         ...        ...        ...        ...  ...    ...    ...    ...   \n",
              "4091 -32.720519 -32.592567 -32.394799 -32.219643  ...  -80.0  -80.0  -80.0   \n",
              "4092 -60.328524 -69.375597 -73.076184 -73.600458  ...  -80.0  -80.0  -80.0   \n",
              "4093 -62.685682 -72.406796 -67.885038 -63.723752  ...  -80.0  -80.0  -80.0   \n",
              "4094 -57.259861 -60.041177 -60.289779 -60.373389  ...  -80.0  -80.0  -80.0   \n",
              "4095 -80.000000 -80.000000 -80.000000 -80.000000  ...  -80.0  -80.0  -80.0   \n",
              "\n",
              "         12026  12027  12028  12029  12030      12031  instrument_family  \n",
              "0    -80.00000  -80.0  -80.0  -80.0  -80.0 -80.000000                  3  \n",
              "1    -80.00000  -80.0  -80.0  -80.0  -80.0 -80.000000                  6  \n",
              "2    -80.00000  -80.0  -80.0  -80.0  -80.0 -74.445993                  0  \n",
              "3    -80.00000  -80.0  -80.0  -80.0  -80.0 -80.000000                  0  \n",
              "4    -80.00000  -80.0  -80.0  -80.0  -80.0 -80.000000                  4  \n",
              "...        ...    ...    ...    ...    ...        ...                ...  \n",
              "4091 -80.00000  -80.0  -80.0  -80.0  -80.0 -80.000000                  4  \n",
              "4092 -80.00000  -80.0  -80.0  -80.0  -80.0 -80.000000                  0  \n",
              "4093 -80.00000  -80.0  -80.0  -80.0  -80.0 -80.000000                  5  \n",
              "4094 -78.91858  -80.0  -80.0  -80.0  -80.0 -63.326588                  9  \n",
              "4095 -80.00000  -80.0  -80.0  -80.0  -80.0 -80.000000                  0  \n",
              "\n",
              "[4096 rows x 12033 columns]"
            ],
            "text/html": [
              "\n",
              "  <div id=\"df-f8f08549-6b22-4878-bafa-595e4ecd353b\" class=\"colab-df-container\">\n",
              "    <div>\n",
              "<style scoped>\n",
              "    .dataframe tbody tr th:only-of-type {\n",
              "        vertical-align: middle;\n",
              "    }\n",
              "\n",
              "    .dataframe tbody tr th {\n",
              "        vertical-align: top;\n",
              "    }\n",
              "\n",
              "    .dataframe thead th {\n",
              "        text-align: right;\n",
              "    }\n",
              "</style>\n",
              "<table border=\"1\" class=\"dataframe\">\n",
              "  <thead>\n",
              "    <tr style=\"text-align: right;\">\n",
              "      <th></th>\n",
              "      <th>0</th>\n",
              "      <th>1</th>\n",
              "      <th>2</th>\n",
              "      <th>3</th>\n",
              "      <th>4</th>\n",
              "      <th>5</th>\n",
              "      <th>6</th>\n",
              "      <th>7</th>\n",
              "      <th>8</th>\n",
              "      <th>9</th>\n",
              "      <th>...</th>\n",
              "      <th>12023</th>\n",
              "      <th>12024</th>\n",
              "      <th>12025</th>\n",
              "      <th>12026</th>\n",
              "      <th>12027</th>\n",
              "      <th>12028</th>\n",
              "      <th>12029</th>\n",
              "      <th>12030</th>\n",
              "      <th>12031</th>\n",
              "      <th>instrument_family</th>\n",
              "    </tr>\n",
              "  </thead>\n",
              "  <tbody>\n",
              "    <tr>\n",
              "      <th>0</th>\n",
              "      <td>-53.803909</td>\n",
              "      <td>-57.194024</td>\n",
              "      <td>-80.000000</td>\n",
              "      <td>-80.000000</td>\n",
              "      <td>-80.000000</td>\n",
              "      <td>-80.000000</td>\n",
              "      <td>-80.000000</td>\n",
              "      <td>-80.000000</td>\n",
              "      <td>-80.000000</td>\n",
              "      <td>-80.000000</td>\n",
              "      <td>...</td>\n",
              "      <td>-80.0</td>\n",
              "      <td>-80.0</td>\n",
              "      <td>-80.0</td>\n",
              "      <td>-80.00000</td>\n",
              "      <td>-80.0</td>\n",
              "      <td>-80.0</td>\n",
              "      <td>-80.0</td>\n",
              "      <td>-80.0</td>\n",
              "      <td>-80.000000</td>\n",
              "      <td>3</td>\n",
              "    </tr>\n",
              "    <tr>\n",
              "      <th>1</th>\n",
              "      <td>-41.581627</td>\n",
              "      <td>-41.147030</td>\n",
              "      <td>-50.666237</td>\n",
              "      <td>-64.943981</td>\n",
              "      <td>-60.756839</td>\n",
              "      <td>-60.464744</td>\n",
              "      <td>-60.993004</td>\n",
              "      <td>-63.912845</td>\n",
              "      <td>-61.711862</td>\n",
              "      <td>-62.382845</td>\n",
              "      <td>...</td>\n",
              "      <td>-80.0</td>\n",
              "      <td>-80.0</td>\n",
              "      <td>-80.0</td>\n",
              "      <td>-80.00000</td>\n",
              "      <td>-80.0</td>\n",
              "      <td>-80.0</td>\n",
              "      <td>-80.0</td>\n",
              "      <td>-80.0</td>\n",
              "      <td>-80.000000</td>\n",
              "      <td>6</td>\n",
              "    </tr>\n",
              "    <tr>\n",
              "      <th>2</th>\n",
              "      <td>-16.751124</td>\n",
              "      <td>-14.606224</td>\n",
              "      <td>-14.500415</td>\n",
              "      <td>-14.003709</td>\n",
              "      <td>-14.280511</td>\n",
              "      <td>-14.614283</td>\n",
              "      <td>-15.854235</td>\n",
              "      <td>-16.143106</td>\n",
              "      <td>-17.500415</td>\n",
              "      <td>-20.172544</td>\n",
              "      <td>...</td>\n",
              "      <td>-80.0</td>\n",
              "      <td>-80.0</td>\n",
              "      <td>-80.0</td>\n",
              "      <td>-80.00000</td>\n",
              "      <td>-80.0</td>\n",
              "      <td>-80.0</td>\n",
              "      <td>-80.0</td>\n",
              "      <td>-80.0</td>\n",
              "      <td>-74.445993</td>\n",
              "      <td>0</td>\n",
              "    </tr>\n",
              "    <tr>\n",
              "      <th>3</th>\n",
              "      <td>-2.217868</td>\n",
              "      <td>0.000000</td>\n",
              "      <td>-2.265561</td>\n",
              "      <td>-4.262692</td>\n",
              "      <td>-5.280903</td>\n",
              "      <td>-6.297461</td>\n",
              "      <td>-7.342139</td>\n",
              "      <td>-8.409485</td>\n",
              "      <td>-9.516589</td>\n",
              "      <td>-10.664447</td>\n",
              "      <td>...</td>\n",
              "      <td>-80.0</td>\n",
              "      <td>-80.0</td>\n",
              "      <td>-80.0</td>\n",
              "      <td>-80.00000</td>\n",
              "      <td>-80.0</td>\n",
              "      <td>-80.0</td>\n",
              "      <td>-80.0</td>\n",
              "      <td>-80.0</td>\n",
              "      <td>-80.000000</td>\n",
              "      <td>0</td>\n",
              "    </tr>\n",
              "    <tr>\n",
              "      <th>4</th>\n",
              "      <td>-39.486546</td>\n",
              "      <td>-30.101491</td>\n",
              "      <td>-29.918419</td>\n",
              "      <td>-34.714702</td>\n",
              "      <td>-49.770357</td>\n",
              "      <td>-55.999469</td>\n",
              "      <td>-55.860402</td>\n",
              "      <td>-53.477410</td>\n",
              "      <td>-59.263462</td>\n",
              "      <td>-60.489511</td>\n",
              "      <td>...</td>\n",
              "      <td>-80.0</td>\n",
              "      <td>-80.0</td>\n",
              "      <td>-80.0</td>\n",
              "      <td>-80.00000</td>\n",
              "      <td>-80.0</td>\n",
              "      <td>-80.0</td>\n",
              "      <td>-80.0</td>\n",
              "      <td>-80.0</td>\n",
              "      <td>-80.000000</td>\n",
              "      <td>4</td>\n",
              "    </tr>\n",
              "    <tr>\n",
              "      <th>...</th>\n",
              "      <td>...</td>\n",
              "      <td>...</td>\n",
              "      <td>...</td>\n",
              "      <td>...</td>\n",
              "      <td>...</td>\n",
              "      <td>...</td>\n",
              "      <td>...</td>\n",
              "      <td>...</td>\n",
              "      <td>...</td>\n",
              "      <td>...</td>\n",
              "      <td>...</td>\n",
              "      <td>...</td>\n",
              "      <td>...</td>\n",
              "      <td>...</td>\n",
              "      <td>...</td>\n",
              "      <td>...</td>\n",
              "      <td>...</td>\n",
              "      <td>...</td>\n",
              "      <td>...</td>\n",
              "      <td>...</td>\n",
              "      <td>...</td>\n",
              "    </tr>\n",
              "    <tr>\n",
              "      <th>4091</th>\n",
              "      <td>-22.894519</td>\n",
              "      <td>-21.310778</td>\n",
              "      <td>-27.454087</td>\n",
              "      <td>-33.497683</td>\n",
              "      <td>-33.068524</td>\n",
              "      <td>-32.833817</td>\n",
              "      <td>-32.720519</td>\n",
              "      <td>-32.592567</td>\n",
              "      <td>-32.394799</td>\n",
              "      <td>-32.219643</td>\n",
              "      <td>...</td>\n",
              "      <td>-80.0</td>\n",
              "      <td>-80.0</td>\n",
              "      <td>-80.0</td>\n",
              "      <td>-80.00000</td>\n",
              "      <td>-80.0</td>\n",
              "      <td>-80.0</td>\n",
              "      <td>-80.0</td>\n",
              "      <td>-80.0</td>\n",
              "      <td>-80.000000</td>\n",
              "      <td>4</td>\n",
              "    </tr>\n",
              "    <tr>\n",
              "      <th>4092</th>\n",
              "      <td>-50.416488</td>\n",
              "      <td>-42.023727</td>\n",
              "      <td>-39.495096</td>\n",
              "      <td>-41.555525</td>\n",
              "      <td>-51.454520</td>\n",
              "      <td>-54.918152</td>\n",
              "      <td>-60.328524</td>\n",
              "      <td>-69.375597</td>\n",
              "      <td>-73.076184</td>\n",
              "      <td>-73.600458</td>\n",
              "      <td>...</td>\n",
              "      <td>-80.0</td>\n",
              "      <td>-80.0</td>\n",
              "      <td>-80.0</td>\n",
              "      <td>-80.00000</td>\n",
              "      <td>-80.0</td>\n",
              "      <td>-80.0</td>\n",
              "      <td>-80.0</td>\n",
              "      <td>-80.0</td>\n",
              "      <td>-80.000000</td>\n",
              "      <td>0</td>\n",
              "    </tr>\n",
              "    <tr>\n",
              "      <th>4093</th>\n",
              "      <td>-22.917634</td>\n",
              "      <td>-27.114879</td>\n",
              "      <td>-52.179479</td>\n",
              "      <td>-67.841889</td>\n",
              "      <td>-68.402644</td>\n",
              "      <td>-65.043253</td>\n",
              "      <td>-62.685682</td>\n",
              "      <td>-72.406796</td>\n",
              "      <td>-67.885038</td>\n",
              "      <td>-63.723752</td>\n",
              "      <td>...</td>\n",
              "      <td>-80.0</td>\n",
              "      <td>-80.0</td>\n",
              "      <td>-80.0</td>\n",
              "      <td>-80.00000</td>\n",
              "      <td>-80.0</td>\n",
              "      <td>-80.0</td>\n",
              "      <td>-80.0</td>\n",
              "      <td>-80.0</td>\n",
              "      <td>-80.000000</td>\n",
              "      <td>5</td>\n",
              "    </tr>\n",
              "    <tr>\n",
              "      <th>4094</th>\n",
              "      <td>-68.290314</td>\n",
              "      <td>-59.045592</td>\n",
              "      <td>-54.324949</td>\n",
              "      <td>-57.203160</td>\n",
              "      <td>-57.954304</td>\n",
              "      <td>-56.753415</td>\n",
              "      <td>-57.259861</td>\n",
              "      <td>-60.041177</td>\n",
              "      <td>-60.289779</td>\n",
              "      <td>-60.373389</td>\n",
              "      <td>...</td>\n",
              "      <td>-80.0</td>\n",
              "      <td>-80.0</td>\n",
              "      <td>-80.0</td>\n",
              "      <td>-78.91858</td>\n",
              "      <td>-80.0</td>\n",
              "      <td>-80.0</td>\n",
              "      <td>-80.0</td>\n",
              "      <td>-80.0</td>\n",
              "      <td>-63.326588</td>\n",
              "      <td>9</td>\n",
              "    </tr>\n",
              "    <tr>\n",
              "      <th>4095</th>\n",
              "      <td>-37.334291</td>\n",
              "      <td>-35.500615</td>\n",
              "      <td>-45.551480</td>\n",
              "      <td>-78.679007</td>\n",
              "      <td>-80.000000</td>\n",
              "      <td>-80.000000</td>\n",
              "      <td>-80.000000</td>\n",
              "      <td>-80.000000</td>\n",
              "      <td>-80.000000</td>\n",
              "      <td>-80.000000</td>\n",
              "      <td>...</td>\n",
              "      <td>-80.0</td>\n",
              "      <td>-80.0</td>\n",
              "      <td>-80.0</td>\n",
              "      <td>-80.00000</td>\n",
              "      <td>-80.0</td>\n",
              "      <td>-80.0</td>\n",
              "      <td>-80.0</td>\n",
              "      <td>-80.0</td>\n",
              "      <td>-80.000000</td>\n",
              "      <td>0</td>\n",
              "    </tr>\n",
              "  </tbody>\n",
              "</table>\n",
              "<p>4096 rows × 12033 columns</p>\n",
              "</div>\n",
              "    <div class=\"colab-df-buttons\">\n",
              "\n",
              "  <div class=\"colab-df-container\">\n",
              "    <button class=\"colab-df-convert\" onclick=\"convertToInteractive('df-f8f08549-6b22-4878-bafa-595e4ecd353b')\"\n",
              "            title=\"Convert this dataframe to an interactive table.\"\n",
              "            style=\"display:none;\">\n",
              "\n",
              "  <svg xmlns=\"http://www.w3.org/2000/svg\" height=\"24px\" viewBox=\"0 -960 960 960\">\n",
              "    <path d=\"M120-120v-720h720v720H120Zm60-500h600v-160H180v160Zm220 220h160v-160H400v160Zm0 220h160v-160H400v160ZM180-400h160v-160H180v160Zm440 0h160v-160H620v160ZM180-180h160v-160H180v160Zm440 0h160v-160H620v160Z\"/>\n",
              "  </svg>\n",
              "    </button>\n",
              "\n",
              "  <style>\n",
              "    .colab-df-container {\n",
              "      display:flex;\n",
              "      gap: 12px;\n",
              "    }\n",
              "\n",
              "    .colab-df-convert {\n",
              "      background-color: #E8F0FE;\n",
              "      border: none;\n",
              "      border-radius: 50%;\n",
              "      cursor: pointer;\n",
              "      display: none;\n",
              "      fill: #1967D2;\n",
              "      height: 32px;\n",
              "      padding: 0 0 0 0;\n",
              "      width: 32px;\n",
              "    }\n",
              "\n",
              "    .colab-df-convert:hover {\n",
              "      background-color: #E2EBFA;\n",
              "      box-shadow: 0px 1px 2px rgba(60, 64, 67, 0.3), 0px 1px 3px 1px rgba(60, 64, 67, 0.15);\n",
              "      fill: #174EA6;\n",
              "    }\n",
              "\n",
              "    .colab-df-buttons div {\n",
              "      margin-bottom: 4px;\n",
              "    }\n",
              "\n",
              "    [theme=dark] .colab-df-convert {\n",
              "      background-color: #3B4455;\n",
              "      fill: #D2E3FC;\n",
              "    }\n",
              "\n",
              "    [theme=dark] .colab-df-convert:hover {\n",
              "      background-color: #434B5C;\n",
              "      box-shadow: 0px 1px 3px 1px rgba(0, 0, 0, 0.15);\n",
              "      filter: drop-shadow(0px 1px 2px rgba(0, 0, 0, 0.3));\n",
              "      fill: #FFFFFF;\n",
              "    }\n",
              "  </style>\n",
              "\n",
              "    <script>\n",
              "      const buttonEl =\n",
              "        document.querySelector('#df-f8f08549-6b22-4878-bafa-595e4ecd353b button.colab-df-convert');\n",
              "      buttonEl.style.display =\n",
              "        google.colab.kernel.accessAllowed ? 'block' : 'none';\n",
              "\n",
              "      async function convertToInteractive(key) {\n",
              "        const element = document.querySelector('#df-f8f08549-6b22-4878-bafa-595e4ecd353b');\n",
              "        const dataTable =\n",
              "          await google.colab.kernel.invokeFunction('convertToInteractive',\n",
              "                                                    [key], {});\n",
              "        if (!dataTable) return;\n",
              "\n",
              "        const docLinkHtml = 'Like what you see? Visit the ' +\n",
              "          '<a target=\"_blank\" href=https://colab.research.google.com/notebooks/data_table.ipynb>data table notebook</a>'\n",
              "          + ' to learn more about interactive tables.';\n",
              "        element.innerHTML = '';\n",
              "        dataTable['output_type'] = 'display_data';\n",
              "        await google.colab.output.renderOutput(dataTable, element);\n",
              "        const docLink = document.createElement('div');\n",
              "        docLink.innerHTML = docLinkHtml;\n",
              "        element.appendChild(docLink);\n",
              "      }\n",
              "    </script>\n",
              "  </div>\n",
              "\n",
              "\n",
              "<div id=\"df-7928da79-82cb-482b-bf26-3a6a01cef66f\">\n",
              "  <button class=\"colab-df-quickchart\" onclick=\"quickchart('df-7928da79-82cb-482b-bf26-3a6a01cef66f')\"\n",
              "            title=\"Suggest charts\"\n",
              "            style=\"display:none;\">\n",
              "\n",
              "<svg xmlns=\"http://www.w3.org/2000/svg\" height=\"24px\"viewBox=\"0 0 24 24\"\n",
              "     width=\"24px\">\n",
              "    <g>\n",
              "        <path d=\"M19 3H5c-1.1 0-2 .9-2 2v14c0 1.1.9 2 2 2h14c1.1 0 2-.9 2-2V5c0-1.1-.9-2-2-2zM9 17H7v-7h2v7zm4 0h-2V7h2v10zm4 0h-2v-4h2v4z\"/>\n",
              "    </g>\n",
              "</svg>\n",
              "  </button>\n",
              "\n",
              "<style>\n",
              "  .colab-df-quickchart {\n",
              "      --bg-color: #E8F0FE;\n",
              "      --fill-color: #1967D2;\n",
              "      --hover-bg-color: #E2EBFA;\n",
              "      --hover-fill-color: #174EA6;\n",
              "      --disabled-fill-color: #AAA;\n",
              "      --disabled-bg-color: #DDD;\n",
              "  }\n",
              "\n",
              "  [theme=dark] .colab-df-quickchart {\n",
              "      --bg-color: #3B4455;\n",
              "      --fill-color: #D2E3FC;\n",
              "      --hover-bg-color: #434B5C;\n",
              "      --hover-fill-color: #FFFFFF;\n",
              "      --disabled-bg-color: #3B4455;\n",
              "      --disabled-fill-color: #666;\n",
              "  }\n",
              "\n",
              "  .colab-df-quickchart {\n",
              "    background-color: var(--bg-color);\n",
              "    border: none;\n",
              "    border-radius: 50%;\n",
              "    cursor: pointer;\n",
              "    display: none;\n",
              "    fill: var(--fill-color);\n",
              "    height: 32px;\n",
              "    padding: 0;\n",
              "    width: 32px;\n",
              "  }\n",
              "\n",
              "  .colab-df-quickchart:hover {\n",
              "    background-color: var(--hover-bg-color);\n",
              "    box-shadow: 0 1px 2px rgba(60, 64, 67, 0.3), 0 1px 3px 1px rgba(60, 64, 67, 0.15);\n",
              "    fill: var(--button-hover-fill-color);\n",
              "  }\n",
              "\n",
              "  .colab-df-quickchart-complete:disabled,\n",
              "  .colab-df-quickchart-complete:disabled:hover {\n",
              "    background-color: var(--disabled-bg-color);\n",
              "    fill: var(--disabled-fill-color);\n",
              "    box-shadow: none;\n",
              "  }\n",
              "\n",
              "  .colab-df-spinner {\n",
              "    border: 2px solid var(--fill-color);\n",
              "    border-color: transparent;\n",
              "    border-bottom-color: var(--fill-color);\n",
              "    animation:\n",
              "      spin 1s steps(1) infinite;\n",
              "  }\n",
              "\n",
              "  @keyframes spin {\n",
              "    0% {\n",
              "      border-color: transparent;\n",
              "      border-bottom-color: var(--fill-color);\n",
              "      border-left-color: var(--fill-color);\n",
              "    }\n",
              "    20% {\n",
              "      border-color: transparent;\n",
              "      border-left-color: var(--fill-color);\n",
              "      border-top-color: var(--fill-color);\n",
              "    }\n",
              "    30% {\n",
              "      border-color: transparent;\n",
              "      border-left-color: var(--fill-color);\n",
              "      border-top-color: var(--fill-color);\n",
              "      border-right-color: var(--fill-color);\n",
              "    }\n",
              "    40% {\n",
              "      border-color: transparent;\n",
              "      border-right-color: var(--fill-color);\n",
              "      border-top-color: var(--fill-color);\n",
              "    }\n",
              "    60% {\n",
              "      border-color: transparent;\n",
              "      border-right-color: var(--fill-color);\n",
              "    }\n",
              "    80% {\n",
              "      border-color: transparent;\n",
              "      border-right-color: var(--fill-color);\n",
              "      border-bottom-color: var(--fill-color);\n",
              "    }\n",
              "    90% {\n",
              "      border-color: transparent;\n",
              "      border-bottom-color: var(--fill-color);\n",
              "    }\n",
              "  }\n",
              "</style>\n",
              "\n",
              "  <script>\n",
              "    async function quickchart(key) {\n",
              "      const quickchartButtonEl =\n",
              "        document.querySelector('#' + key + ' button');\n",
              "      quickchartButtonEl.disabled = true;  // To prevent multiple clicks.\n",
              "      quickchartButtonEl.classList.add('colab-df-spinner');\n",
              "      try {\n",
              "        const charts = await google.colab.kernel.invokeFunction(\n",
              "            'suggestCharts', [key], {});\n",
              "      } catch (error) {\n",
              "        console.error('Error during call to suggestCharts:', error);\n",
              "      }\n",
              "      quickchartButtonEl.classList.remove('colab-df-spinner');\n",
              "      quickchartButtonEl.classList.add('colab-df-quickchart-complete');\n",
              "    }\n",
              "    (() => {\n",
              "      let quickchartButtonEl =\n",
              "        document.querySelector('#df-7928da79-82cb-482b-bf26-3a6a01cef66f button');\n",
              "      quickchartButtonEl.style.display =\n",
              "        google.colab.kernel.accessAllowed ? 'block' : 'none';\n",
              "    })();\n",
              "  </script>\n",
              "</div>\n",
              "\n",
              "  <div id=\"id_1662aa00-c941-42b0-85f9-95b2a32c213a\">\n",
              "    <style>\n",
              "      .colab-df-generate {\n",
              "        background-color: #E8F0FE;\n",
              "        border: none;\n",
              "        border-radius: 50%;\n",
              "        cursor: pointer;\n",
              "        display: none;\n",
              "        fill: #1967D2;\n",
              "        height: 32px;\n",
              "        padding: 0 0 0 0;\n",
              "        width: 32px;\n",
              "      }\n",
              "\n",
              "      .colab-df-generate:hover {\n",
              "        background-color: #E2EBFA;\n",
              "        box-shadow: 0px 1px 2px rgba(60, 64, 67, 0.3), 0px 1px 3px 1px rgba(60, 64, 67, 0.15);\n",
              "        fill: #174EA6;\n",
              "      }\n",
              "\n",
              "      [theme=dark] .colab-df-generate {\n",
              "        background-color: #3B4455;\n",
              "        fill: #D2E3FC;\n",
              "      }\n",
              "\n",
              "      [theme=dark] .colab-df-generate:hover {\n",
              "        background-color: #434B5C;\n",
              "        box-shadow: 0px 1px 3px 1px rgba(0, 0, 0, 0.15);\n",
              "        filter: drop-shadow(0px 1px 2px rgba(0, 0, 0, 0.3));\n",
              "        fill: #FFFFFF;\n",
              "      }\n",
              "    </style>\n",
              "    <button class=\"colab-df-generate\" onclick=\"generateWithVariable('features_label')\"\n",
              "            title=\"Generate code using this dataframe.\"\n",
              "            style=\"display:none;\">\n",
              "\n",
              "  <svg xmlns=\"http://www.w3.org/2000/svg\" height=\"24px\"viewBox=\"0 0 24 24\"\n",
              "       width=\"24px\">\n",
              "    <path d=\"M7,19H8.4L18.45,9,17,7.55,7,17.6ZM5,21V16.75L18.45,3.32a2,2,0,0,1,2.83,0l1.4,1.43a1.91,1.91,0,0,1,.58,1.4,1.91,1.91,0,0,1-.58,1.4L9.25,21ZM18.45,9,17,7.55Zm-12,3A5.31,5.31,0,0,0,4.9,8.1,5.31,5.31,0,0,0,1,6.5,5.31,5.31,0,0,0,4.9,4.9,5.31,5.31,0,0,0,6.5,1,5.31,5.31,0,0,0,8.1,4.9,5.31,5.31,0,0,0,12,6.5,5.46,5.46,0,0,0,6.5,12Z\"/>\n",
              "  </svg>\n",
              "    </button>\n",
              "    <script>\n",
              "      (() => {\n",
              "      const buttonEl =\n",
              "        document.querySelector('#id_1662aa00-c941-42b0-85f9-95b2a32c213a button.colab-df-generate');\n",
              "      buttonEl.style.display =\n",
              "        google.colab.kernel.accessAllowed ? 'block' : 'none';\n",
              "\n",
              "      buttonEl.onclick = () => {\n",
              "        google.colab.notebook.generateWithVariable('features_label');\n",
              "      }\n",
              "      })();\n",
              "    </script>\n",
              "  </div>\n",
              "\n",
              "    </div>\n",
              "  </div>\n"
            ],
            "application/vnd.google.colaboratory.intrinsic+json": {
              "type": "dataframe",
              "variable_name": "features_label"
            }
          },
          "metadata": {},
          "execution_count": 4
        }
      ]
    },
    {
      "cell_type": "code",
      "source": [
        "class_list = ['guitar',\n",
        " 'organ',\n",
        " 'bass',\n",
        " 'keyboard',\n",
        " 'reed',\n",
        " 'string',\n",
        " 'mallet',\n",
        " 'flute',\n",
        " 'brass',\n",
        " 'vocal'\n",
        "]"
      ],
      "metadata": {
        "id": "alsb4gjVIErY"
      },
      "execution_count": 5,
      "outputs": []
    },
    {
      "cell_type": "markdown",
      "source": [
        "# Deeplearning model\n"
      ],
      "metadata": {
        "id": "jyLFwG8cpiIb"
      }
    },
    {
      "cell_type": "code",
      "source": [
        "from sklearn.model_selection import train_test_split"
      ],
      "metadata": {
        "id": "ZWX7Rqsa-nHp"
      },
      "execution_count": 6,
      "outputs": []
    },
    {
      "cell_type": "code",
      "source": [
        "x_train, x_test, y_train, y_test = train_test_split(features_label.iloc[:, :-1], features_label.iloc[:,-1], test_size=0.2, random_state=3213123)"
      ],
      "metadata": {
        "id": "tDUetkmJ-gNy"
      },
      "execution_count": 7,
      "outputs": []
    },
    {
      "cell_type": "code",
      "source": [
        "import tensorflow as tf\n",
        "from tensorflow.keras import models\n",
        "from tensorflow.keras.layers import Conv2D, MaxPooling2D, Flatten, Dense, Dropout, Input\n",
        "from keras.utils import to_categorical\n",
        "from keras.callbacks import EarlyStopping, ModelCheckpoint"
      ],
      "metadata": {
        "id": "sZOX5WPuqGD7"
      },
      "execution_count": 8,
      "outputs": []
    },
    {
      "cell_type": "code",
      "source": [
        "# covert back into (number of train/test), height, width, channels(greyscale) for CNN\n",
        "x_train_reshaped = x_train.values.reshape(-1, 128, 94, 1)\n",
        "x_test_reshaped = x_test.values.reshape(-1, 128, 94, 1)"
      ],
      "metadata": {
        "id": "q3spNnuBqQ9h"
      },
      "execution_count": 9,
      "outputs": []
    },
    {
      "cell_type": "code",
      "source": [
        "np.shape(x_train_reshaped)"
      ],
      "metadata": {
        "colab": {
          "base_uri": "https://localhost:8080/"
        },
        "id": "YppwCJ1tYG0e",
        "outputId": "9bd13cca-516f-493a-f8b9-3731afa802e3"
      },
      "execution_count": 10,
      "outputs": [
        {
          "output_type": "execute_result",
          "data": {
            "text/plain": [
              "(3276, 128, 94, 1)"
            ]
          },
          "metadata": {},
          "execution_count": 10
        }
      ]
    },
    {
      "cell_type": "code",
      "source": [
        "num_labels = len(class_list)\n",
        "# one hot encoding using to_categorical\n",
        "y_train_encoded = tf.keras.utils.to_categorical(y_train, num_classes=num_labels)\n",
        "y_test_encoded = tf.keras.utils.to_categorical(y_test, num_classes=num_labels)"
      ],
      "metadata": {
        "id": "OdcyMXREC9dz"
      },
      "execution_count": 58,
      "outputs": []
    },
    {
      "cell_type": "code",
      "source": [
        "# shape of each row\n",
        "input_shape = x_train_reshaped.shape[1:]"
      ],
      "metadata": {
        "id": "gdI2ZyXxyeZG"
      },
      "execution_count": 59,
      "outputs": []
    },
    {
      "cell_type": "code",
      "source": [
        "model = models.Sequential([\n",
        "    # Input layer\n",
        "    Conv2D(filters=32, kernel_size=(3, 3), activation='relu',input_shape = input_shape),\n",
        "    MaxPooling2D(pool_size=(2, 2)),\n",
        "\n",
        "    # Hidden Conv2D layer\n",
        "    Conv2D(filters=64, kernel_size=(3, 3), activation='relu'),\n",
        "    MaxPooling2D(pool_size=(2, 2)),\n",
        "\n",
        "    # Hidden Conv2D layer\n",
        "    Conv2D(filters=128, kernel_size=(3, 3), activation='relu'),\n",
        "    MaxPooling2D(pool_size=(2, 2)),\n",
        "\n",
        "    # Flatten and dense layers\n",
        "    Flatten(),\n",
        "    Dense(128, activation='relu'),\n",
        "    Dropout(0.5),  # Prevent overfitting\n",
        "    Dense(10, activation='softmax')  # Output layer for 10 classes\n",
        "])"
      ],
      "metadata": {
        "id": "ggoqpc5yhBPz"
      },
      "execution_count": 116,
      "outputs": []
    },
    {
      "cell_type": "code",
      "source": [
        "model.summary()"
      ],
      "metadata": {
        "colab": {
          "base_uri": "https://localhost:8080/",
          "height": 459
        },
        "id": "LdicB3GaqVdz",
        "outputId": "8fb56317-70c1-4b1a-c386-29d9202e646f"
      },
      "execution_count": 117,
      "outputs": [
        {
          "output_type": "display_data",
          "data": {
            "text/plain": [
              "\u001b[1mModel: \"sequential_10\"\u001b[0m\n"
            ],
            "text/html": [
              "<pre style=\"white-space:pre;overflow-x:auto;line-height:normal;font-family:Menlo,'DejaVu Sans Mono',consolas,'Courier New',monospace\"><span style=\"font-weight: bold\">Model: \"sequential_10\"</span>\n",
              "</pre>\n"
            ]
          },
          "metadata": {}
        },
        {
          "output_type": "display_data",
          "data": {
            "text/plain": [
              "┏━━━━━━━━━━━━━━━━━━━━━━━━━━━━━━━━━━━━━━┳━━━━━━━━━━━━━━━━━━━━━━━━━━━━━┳━━━━━━━━━━━━━━━━━┓\n",
              "┃\u001b[1m \u001b[0m\u001b[1mLayer (type)                        \u001b[0m\u001b[1m \u001b[0m┃\u001b[1m \u001b[0m\u001b[1mOutput Shape               \u001b[0m\u001b[1m \u001b[0m┃\u001b[1m \u001b[0m\u001b[1m        Param #\u001b[0m\u001b[1m \u001b[0m┃\n",
              "┡━━━━━━━━━━━━━━━━━━━━━━━━━━━━━━━━━━━━━━╇━━━━━━━━━━━━━━━━━━━━━━━━━━━━━╇━━━━━━━━━━━━━━━━━┩\n",
              "│ conv2d_30 (\u001b[38;5;33mConv2D\u001b[0m)                   │ (\u001b[38;5;45mNone\u001b[0m, \u001b[38;5;34m126\u001b[0m, \u001b[38;5;34m92\u001b[0m, \u001b[38;5;34m32\u001b[0m)         │             \u001b[38;5;34m320\u001b[0m │\n",
              "├──────────────────────────────────────┼─────────────────────────────┼─────────────────┤\n",
              "│ max_pooling2d_30 (\u001b[38;5;33mMaxPooling2D\u001b[0m)      │ (\u001b[38;5;45mNone\u001b[0m, \u001b[38;5;34m63\u001b[0m, \u001b[38;5;34m46\u001b[0m, \u001b[38;5;34m32\u001b[0m)          │               \u001b[38;5;34m0\u001b[0m │\n",
              "├──────────────────────────────────────┼─────────────────────────────┼─────────────────┤\n",
              "│ conv2d_31 (\u001b[38;5;33mConv2D\u001b[0m)                   │ (\u001b[38;5;45mNone\u001b[0m, \u001b[38;5;34m61\u001b[0m, \u001b[38;5;34m44\u001b[0m, \u001b[38;5;34m64\u001b[0m)          │          \u001b[38;5;34m18,496\u001b[0m │\n",
              "├──────────────────────────────────────┼─────────────────────────────┼─────────────────┤\n",
              "│ max_pooling2d_31 (\u001b[38;5;33mMaxPooling2D\u001b[0m)      │ (\u001b[38;5;45mNone\u001b[0m, \u001b[38;5;34m30\u001b[0m, \u001b[38;5;34m22\u001b[0m, \u001b[38;5;34m64\u001b[0m)          │               \u001b[38;5;34m0\u001b[0m │\n",
              "├──────────────────────────────────────┼─────────────────────────────┼─────────────────┤\n",
              "│ conv2d_32 (\u001b[38;5;33mConv2D\u001b[0m)                   │ (\u001b[38;5;45mNone\u001b[0m, \u001b[38;5;34m28\u001b[0m, \u001b[38;5;34m20\u001b[0m, \u001b[38;5;34m128\u001b[0m)         │          \u001b[38;5;34m73,856\u001b[0m │\n",
              "├──────────────────────────────────────┼─────────────────────────────┼─────────────────┤\n",
              "│ max_pooling2d_32 (\u001b[38;5;33mMaxPooling2D\u001b[0m)      │ (\u001b[38;5;45mNone\u001b[0m, \u001b[38;5;34m14\u001b[0m, \u001b[38;5;34m10\u001b[0m, \u001b[38;5;34m128\u001b[0m)         │               \u001b[38;5;34m0\u001b[0m │\n",
              "├──────────────────────────────────────┼─────────────────────────────┼─────────────────┤\n",
              "│ flatten_10 (\u001b[38;5;33mFlatten\u001b[0m)                 │ (\u001b[38;5;45mNone\u001b[0m, \u001b[38;5;34m17920\u001b[0m)               │               \u001b[38;5;34m0\u001b[0m │\n",
              "├──────────────────────────────────────┼─────────────────────────────┼─────────────────┤\n",
              "│ dense_20 (\u001b[38;5;33mDense\u001b[0m)                     │ (\u001b[38;5;45mNone\u001b[0m, \u001b[38;5;34m128\u001b[0m)                 │       \u001b[38;5;34m2,293,888\u001b[0m │\n",
              "├──────────────────────────────────────┼─────────────────────────────┼─────────────────┤\n",
              "│ dropout_10 (\u001b[38;5;33mDropout\u001b[0m)                 │ (\u001b[38;5;45mNone\u001b[0m, \u001b[38;5;34m128\u001b[0m)                 │               \u001b[38;5;34m0\u001b[0m │\n",
              "├──────────────────────────────────────┼─────────────────────────────┼─────────────────┤\n",
              "│ dense_21 (\u001b[38;5;33mDense\u001b[0m)                     │ (\u001b[38;5;45mNone\u001b[0m, \u001b[38;5;34m10\u001b[0m)                  │           \u001b[38;5;34m1,290\u001b[0m │\n",
              "└──────────────────────────────────────┴─────────────────────────────┴─────────────────┘\n"
            ],
            "text/html": [
              "<pre style=\"white-space:pre;overflow-x:auto;line-height:normal;font-family:Menlo,'DejaVu Sans Mono',consolas,'Courier New',monospace\">┏━━━━━━━━━━━━━━━━━━━━━━━━━━━━━━━━━━━━━━┳━━━━━━━━━━━━━━━━━━━━━━━━━━━━━┳━━━━━━━━━━━━━━━━━┓\n",
              "┃<span style=\"font-weight: bold\"> Layer (type)                         </span>┃<span style=\"font-weight: bold\"> Output Shape                </span>┃<span style=\"font-weight: bold\">         Param # </span>┃\n",
              "┡━━━━━━━━━━━━━━━━━━━━━━━━━━━━━━━━━━━━━━╇━━━━━━━━━━━━━━━━━━━━━━━━━━━━━╇━━━━━━━━━━━━━━━━━┩\n",
              "│ conv2d_30 (<span style=\"color: #0087ff; text-decoration-color: #0087ff\">Conv2D</span>)                   │ (<span style=\"color: #00d7ff; text-decoration-color: #00d7ff\">None</span>, <span style=\"color: #00af00; text-decoration-color: #00af00\">126</span>, <span style=\"color: #00af00; text-decoration-color: #00af00\">92</span>, <span style=\"color: #00af00; text-decoration-color: #00af00\">32</span>)         │             <span style=\"color: #00af00; text-decoration-color: #00af00\">320</span> │\n",
              "├──────────────────────────────────────┼─────────────────────────────┼─────────────────┤\n",
              "│ max_pooling2d_30 (<span style=\"color: #0087ff; text-decoration-color: #0087ff\">MaxPooling2D</span>)      │ (<span style=\"color: #00d7ff; text-decoration-color: #00d7ff\">None</span>, <span style=\"color: #00af00; text-decoration-color: #00af00\">63</span>, <span style=\"color: #00af00; text-decoration-color: #00af00\">46</span>, <span style=\"color: #00af00; text-decoration-color: #00af00\">32</span>)          │               <span style=\"color: #00af00; text-decoration-color: #00af00\">0</span> │\n",
              "├──────────────────────────────────────┼─────────────────────────────┼─────────────────┤\n",
              "│ conv2d_31 (<span style=\"color: #0087ff; text-decoration-color: #0087ff\">Conv2D</span>)                   │ (<span style=\"color: #00d7ff; text-decoration-color: #00d7ff\">None</span>, <span style=\"color: #00af00; text-decoration-color: #00af00\">61</span>, <span style=\"color: #00af00; text-decoration-color: #00af00\">44</span>, <span style=\"color: #00af00; text-decoration-color: #00af00\">64</span>)          │          <span style=\"color: #00af00; text-decoration-color: #00af00\">18,496</span> │\n",
              "├──────────────────────────────────────┼─────────────────────────────┼─────────────────┤\n",
              "│ max_pooling2d_31 (<span style=\"color: #0087ff; text-decoration-color: #0087ff\">MaxPooling2D</span>)      │ (<span style=\"color: #00d7ff; text-decoration-color: #00d7ff\">None</span>, <span style=\"color: #00af00; text-decoration-color: #00af00\">30</span>, <span style=\"color: #00af00; text-decoration-color: #00af00\">22</span>, <span style=\"color: #00af00; text-decoration-color: #00af00\">64</span>)          │               <span style=\"color: #00af00; text-decoration-color: #00af00\">0</span> │\n",
              "├──────────────────────────────────────┼─────────────────────────────┼─────────────────┤\n",
              "│ conv2d_32 (<span style=\"color: #0087ff; text-decoration-color: #0087ff\">Conv2D</span>)                   │ (<span style=\"color: #00d7ff; text-decoration-color: #00d7ff\">None</span>, <span style=\"color: #00af00; text-decoration-color: #00af00\">28</span>, <span style=\"color: #00af00; text-decoration-color: #00af00\">20</span>, <span style=\"color: #00af00; text-decoration-color: #00af00\">128</span>)         │          <span style=\"color: #00af00; text-decoration-color: #00af00\">73,856</span> │\n",
              "├──────────────────────────────────────┼─────────────────────────────┼─────────────────┤\n",
              "│ max_pooling2d_32 (<span style=\"color: #0087ff; text-decoration-color: #0087ff\">MaxPooling2D</span>)      │ (<span style=\"color: #00d7ff; text-decoration-color: #00d7ff\">None</span>, <span style=\"color: #00af00; text-decoration-color: #00af00\">14</span>, <span style=\"color: #00af00; text-decoration-color: #00af00\">10</span>, <span style=\"color: #00af00; text-decoration-color: #00af00\">128</span>)         │               <span style=\"color: #00af00; text-decoration-color: #00af00\">0</span> │\n",
              "├──────────────────────────────────────┼─────────────────────────────┼─────────────────┤\n",
              "│ flatten_10 (<span style=\"color: #0087ff; text-decoration-color: #0087ff\">Flatten</span>)                 │ (<span style=\"color: #00d7ff; text-decoration-color: #00d7ff\">None</span>, <span style=\"color: #00af00; text-decoration-color: #00af00\">17920</span>)               │               <span style=\"color: #00af00; text-decoration-color: #00af00\">0</span> │\n",
              "├──────────────────────────────────────┼─────────────────────────────┼─────────────────┤\n",
              "│ dense_20 (<span style=\"color: #0087ff; text-decoration-color: #0087ff\">Dense</span>)                     │ (<span style=\"color: #00d7ff; text-decoration-color: #00d7ff\">None</span>, <span style=\"color: #00af00; text-decoration-color: #00af00\">128</span>)                 │       <span style=\"color: #00af00; text-decoration-color: #00af00\">2,293,888</span> │\n",
              "├──────────────────────────────────────┼─────────────────────────────┼─────────────────┤\n",
              "│ dropout_10 (<span style=\"color: #0087ff; text-decoration-color: #0087ff\">Dropout</span>)                 │ (<span style=\"color: #00d7ff; text-decoration-color: #00d7ff\">None</span>, <span style=\"color: #00af00; text-decoration-color: #00af00\">128</span>)                 │               <span style=\"color: #00af00; text-decoration-color: #00af00\">0</span> │\n",
              "├──────────────────────────────────────┼─────────────────────────────┼─────────────────┤\n",
              "│ dense_21 (<span style=\"color: #0087ff; text-decoration-color: #0087ff\">Dense</span>)                     │ (<span style=\"color: #00d7ff; text-decoration-color: #00d7ff\">None</span>, <span style=\"color: #00af00; text-decoration-color: #00af00\">10</span>)                  │           <span style=\"color: #00af00; text-decoration-color: #00af00\">1,290</span> │\n",
              "└──────────────────────────────────────┴─────────────────────────────┴─────────────────┘\n",
              "</pre>\n"
            ]
          },
          "metadata": {}
        },
        {
          "output_type": "display_data",
          "data": {
            "text/plain": [
              "\u001b[1m Total params: \u001b[0m\u001b[38;5;34m2,387,850\u001b[0m (9.11 MB)\n"
            ],
            "text/html": [
              "<pre style=\"white-space:pre;overflow-x:auto;line-height:normal;font-family:Menlo,'DejaVu Sans Mono',consolas,'Courier New',monospace\"><span style=\"font-weight: bold\"> Total params: </span><span style=\"color: #00af00; text-decoration-color: #00af00\">2,387,850</span> (9.11 MB)\n",
              "</pre>\n"
            ]
          },
          "metadata": {}
        },
        {
          "output_type": "display_data",
          "data": {
            "text/plain": [
              "\u001b[1m Trainable params: \u001b[0m\u001b[38;5;34m2,387,850\u001b[0m (9.11 MB)\n"
            ],
            "text/html": [
              "<pre style=\"white-space:pre;overflow-x:auto;line-height:normal;font-family:Menlo,'DejaVu Sans Mono',consolas,'Courier New',monospace\"><span style=\"font-weight: bold\"> Trainable params: </span><span style=\"color: #00af00; text-decoration-color: #00af00\">2,387,850</span> (9.11 MB)\n",
              "</pre>\n"
            ]
          },
          "metadata": {}
        },
        {
          "output_type": "display_data",
          "data": {
            "text/plain": [
              "\u001b[1m Non-trainable params: \u001b[0m\u001b[38;5;34m0\u001b[0m (0.00 B)\n"
            ],
            "text/html": [
              "<pre style=\"white-space:pre;overflow-x:auto;line-height:normal;font-family:Menlo,'DejaVu Sans Mono',consolas,'Courier New',monospace\"><span style=\"font-weight: bold\"> Non-trainable params: </span><span style=\"color: #00af00; text-decoration-color: #00af00\">0</span> (0.00 B)\n",
              "</pre>\n"
            ]
          },
          "metadata": {}
        }
      ]
    },
    {
      "cell_type": "code",
      "source": [
        "checkpoint = ModelCheckpoint(\n",
        "    filepath=\"weights-{epoch:02d}-loss{loss:.2f}-acc{accuracy:.2f}.keras\",\n",
        "    monitor=\"val_accuracy\",\n",
        "    save_best_only=True,       # Save only the best model\n",
        "    mode=\"max\",\n",
        ")\n",
        "\n",
        "early_stopping = EarlyStopping(\n",
        "    monitor=\"val_loss\",            # Monitor the loss on training data\n",
        "    patience=5,\n",
        "    mode=\"min\",\n",
        "    verbose=1\n",
        ")\n"
      ],
      "metadata": {
        "id": "ko6Pt0bUvtaM"
      },
      "execution_count": 118,
      "outputs": []
    },
    {
      "cell_type": "code",
      "source": [
        "model.compile(optimizer='adam',\n",
        "              loss='categorical_crossentropy',\n",
        "              metrics=['accuracy'])"
      ],
      "metadata": {
        "id": "H3QJ-N60zGpY"
      },
      "execution_count": 119,
      "outputs": []
    },
    {
      "cell_type": "code",
      "source": [
        "import random\n",
        "np.random.seed(875)\n",
        "random.seed(443)\n",
        "tf.random.set_seed(3213)"
      ],
      "metadata": {
        "id": "swKwTvLeAN95"
      },
      "execution_count": 120,
      "outputs": []
    },
    {
      "cell_type": "code",
      "source": [
        "gpu = tf.config.list_physical_devices('GPU')\n",
        "if gpu:\n",
        "  try:\n",
        "    with tf.device('/device:GPU:0'):\n",
        "      print(\"Training on GPU\")\n",
        "      history = model.fit(x_train_reshaped, y_train_encoded, epochs=50, batch_size=32,callbacks=[checkpoint],validation_split=0.2)\n",
        "  except RuntimeError as e:\n",
        "    print(e)\n",
        "else:\n",
        "  print(\"Training on CPU\")\n",
        "  history = model.fit(x_train_reshaped, y_train_encoded, epochs=50, batch_size=32,callbacks=[checkpoint],validation_split=0.2)"
      ],
      "metadata": {
        "colab": {
          "base_uri": "https://localhost:8080/"
        },
        "id": "Tx90k1ncrahh",
        "outputId": "3947bf95-cc96-4177-e873-4e9b2bae042a"
      },
      "execution_count": 121,
      "outputs": [
        {
          "output_type": "stream",
          "name": "stdout",
          "text": [
            "Training on GPU\n",
            "Epoch 1/50\n",
            "\u001b[1m82/82\u001b[0m \u001b[32m━━━━━━━━━━━━━━━━━━━━\u001b[0m\u001b[37m\u001b[0m \u001b[1m7s\u001b[0m 47ms/step - accuracy: 0.1761 - loss: 7.5716 - val_accuracy: 0.3750 - val_loss: 1.8720\n",
            "Epoch 2/50\n",
            "\u001b[1m82/82\u001b[0m \u001b[32m━━━━━━━━━━━━━━━━━━━━\u001b[0m\u001b[37m\u001b[0m \u001b[1m1s\u001b[0m 15ms/step - accuracy: 0.3241 - loss: 1.8884 - val_accuracy: 0.4055 - val_loss: 1.6941\n",
            "Epoch 3/50\n",
            "\u001b[1m82/82\u001b[0m \u001b[32m━━━━━━━━━━━━━━━━━━━━\u001b[0m\u001b[37m\u001b[0m \u001b[1m1s\u001b[0m 15ms/step - accuracy: 0.3816 - loss: 1.7643 - val_accuracy: 0.4756 - val_loss: 1.4639\n",
            "Epoch 4/50\n",
            "\u001b[1m82/82\u001b[0m \u001b[32m━━━━━━━━━━━━━━━━━━━━\u001b[0m\u001b[37m\u001b[0m \u001b[1m1s\u001b[0m 12ms/step - accuracy: 0.4039 - loss: 1.6331 - val_accuracy: 0.4741 - val_loss: 1.3709\n",
            "Epoch 5/50\n",
            "\u001b[1m82/82\u001b[0m \u001b[32m━━━━━━━━━━━━━━━━━━━━\u001b[0m\u001b[37m\u001b[0m \u001b[1m1s\u001b[0m 14ms/step - accuracy: 0.4331 - loss: 1.5412 - val_accuracy: 0.5107 - val_loss: 1.3674\n",
            "Epoch 6/50\n",
            "\u001b[1m82/82\u001b[0m \u001b[32m━━━━━━━━━━━━━━━━━━━━\u001b[0m\u001b[37m\u001b[0m \u001b[1m1s\u001b[0m 14ms/step - accuracy: 0.4705 - loss: 1.4250 - val_accuracy: 0.5351 - val_loss: 1.2751\n",
            "Epoch 7/50\n",
            "\u001b[1m82/82\u001b[0m \u001b[32m━━━━━━━━━━━━━━━━━━━━\u001b[0m\u001b[37m\u001b[0m \u001b[1m1s\u001b[0m 14ms/step - accuracy: 0.5015 - loss: 1.3650 - val_accuracy: 0.5640 - val_loss: 1.1679\n",
            "Epoch 8/50\n",
            "\u001b[1m82/82\u001b[0m \u001b[32m━━━━━━━━━━━━━━━━━━━━\u001b[0m\u001b[37m\u001b[0m \u001b[1m1s\u001b[0m 15ms/step - accuracy: 0.5318 - loss: 1.2601 - val_accuracy: 0.5595 - val_loss: 1.1996\n",
            "Epoch 9/50\n",
            "\u001b[1m82/82\u001b[0m \u001b[32m━━━━━━━━━━━━━━━━━━━━\u001b[0m\u001b[37m\u001b[0m \u001b[1m1s\u001b[0m 16ms/step - accuracy: 0.5481 - loss: 1.2023 - val_accuracy: 0.6143 - val_loss: 1.0640\n",
            "Epoch 10/50\n",
            "\u001b[1m82/82\u001b[0m \u001b[32m━━━━━━━━━━━━━━━━━━━━\u001b[0m\u001b[37m\u001b[0m \u001b[1m1s\u001b[0m 16ms/step - accuracy: 0.5373 - loss: 1.2086 - val_accuracy: 0.6204 - val_loss: 0.9522\n",
            "Epoch 11/50\n",
            "\u001b[1m82/82\u001b[0m \u001b[32m━━━━━━━━━━━━━━━━━━━━\u001b[0m\u001b[37m\u001b[0m \u001b[1m1s\u001b[0m 15ms/step - accuracy: 0.5947 - loss: 1.0686 - val_accuracy: 0.6463 - val_loss: 0.9425\n",
            "Epoch 12/50\n",
            "\u001b[1m82/82\u001b[0m \u001b[32m━━━━━━━━━━━━━━━━━━━━\u001b[0m\u001b[37m\u001b[0m \u001b[1m1s\u001b[0m 14ms/step - accuracy: 0.6426 - loss: 0.9695 - val_accuracy: 0.6784 - val_loss: 0.8379\n",
            "Epoch 13/50\n",
            "\u001b[1m82/82\u001b[0m \u001b[32m━━━━━━━━━━━━━━━━━━━━\u001b[0m\u001b[37m\u001b[0m \u001b[1m1s\u001b[0m 15ms/step - accuracy: 0.6594 - loss: 0.9135 - val_accuracy: 0.6982 - val_loss: 0.7597\n",
            "Epoch 14/50\n",
            "\u001b[1m82/82\u001b[0m \u001b[32m━━━━━━━━━━━━━━━━━━━━\u001b[0m\u001b[37m\u001b[0m \u001b[1m1s\u001b[0m 13ms/step - accuracy: 0.6733 - loss: 0.8919 - val_accuracy: 0.6951 - val_loss: 0.8006\n",
            "Epoch 15/50\n",
            "\u001b[1m82/82\u001b[0m \u001b[32m━━━━━━━━━━━━━━━━━━━━\u001b[0m\u001b[37m\u001b[0m \u001b[1m1s\u001b[0m 14ms/step - accuracy: 0.6785 - loss: 0.8559 - val_accuracy: 0.7348 - val_loss: 0.6904\n",
            "Epoch 16/50\n",
            "\u001b[1m82/82\u001b[0m \u001b[32m━━━━━━━━━━━━━━━━━━━━\u001b[0m\u001b[37m\u001b[0m \u001b[1m1s\u001b[0m 14ms/step - accuracy: 0.7024 - loss: 0.8253 - val_accuracy: 0.7424 - val_loss: 0.6890\n",
            "Epoch 17/50\n",
            "\u001b[1m82/82\u001b[0m \u001b[32m━━━━━━━━━━━━━━━━━━━━\u001b[0m\u001b[37m\u001b[0m \u001b[1m1s\u001b[0m 12ms/step - accuracy: 0.7198 - loss: 0.7834 - val_accuracy: 0.7409 - val_loss: 0.6412\n",
            "Epoch 18/50\n",
            "\u001b[1m82/82\u001b[0m \u001b[32m━━━━━━━━━━━━━━━━━━━━\u001b[0m\u001b[37m\u001b[0m \u001b[1m1s\u001b[0m 15ms/step - accuracy: 0.7026 - loss: 0.7567 - val_accuracy: 0.7607 - val_loss: 0.5926\n",
            "Epoch 19/50\n",
            "\u001b[1m82/82\u001b[0m \u001b[32m━━━━━━━━━━━━━━━━━━━━\u001b[0m\u001b[37m\u001b[0m \u001b[1m1s\u001b[0m 15ms/step - accuracy: 0.7522 - loss: 0.6645 - val_accuracy: 0.7866 - val_loss: 0.5704\n",
            "Epoch 20/50\n",
            "\u001b[1m82/82\u001b[0m \u001b[32m━━━━━━━━━━━━━━━━━━━━\u001b[0m\u001b[37m\u001b[0m \u001b[1m1s\u001b[0m 16ms/step - accuracy: 0.7661 - loss: 0.6557 - val_accuracy: 0.8079 - val_loss: 0.5074\n",
            "Epoch 21/50\n",
            "\u001b[1m82/82\u001b[0m \u001b[32m━━━━━━━━━━━━━━━━━━━━\u001b[0m\u001b[37m\u001b[0m \u001b[1m1s\u001b[0m 14ms/step - accuracy: 0.7857 - loss: 0.5784 - val_accuracy: 0.7698 - val_loss: 0.5674\n",
            "Epoch 22/50\n",
            "\u001b[1m82/82\u001b[0m \u001b[32m━━━━━━━━━━━━━━━━━━━━\u001b[0m\u001b[37m\u001b[0m \u001b[1m1s\u001b[0m 14ms/step - accuracy: 0.7783 - loss: 0.5828 - val_accuracy: 0.7637 - val_loss: 0.5670\n",
            "Epoch 23/50\n",
            "\u001b[1m82/82\u001b[0m \u001b[32m━━━━━━━━━━━━━━━━━━━━\u001b[0m\u001b[37m\u001b[0m \u001b[1m1s\u001b[0m 14ms/step - accuracy: 0.7656 - loss: 0.6094 - val_accuracy: 0.8262 - val_loss: 0.4766\n",
            "Epoch 24/50\n",
            "\u001b[1m82/82\u001b[0m \u001b[32m━━━━━━━━━━━━━━━━━━━━\u001b[0m\u001b[37m\u001b[0m \u001b[1m1s\u001b[0m 12ms/step - accuracy: 0.8168 - loss: 0.5007 - val_accuracy: 0.8095 - val_loss: 0.5162\n",
            "Epoch 25/50\n",
            "\u001b[1m82/82\u001b[0m \u001b[32m━━━━━━━━━━━━━━━━━━━━\u001b[0m\u001b[37m\u001b[0m \u001b[1m1s\u001b[0m 12ms/step - accuracy: 0.7964 - loss: 0.5438 - val_accuracy: 0.8034 - val_loss: 0.5202\n",
            "Epoch 26/50\n",
            "\u001b[1m82/82\u001b[0m \u001b[32m━━━━━━━━━━━━━━━━━━━━\u001b[0m\u001b[37m\u001b[0m \u001b[1m1s\u001b[0m 14ms/step - accuracy: 0.7935 - loss: 0.5568 - val_accuracy: 0.8537 - val_loss: 0.4001\n",
            "Epoch 27/50\n",
            "\u001b[1m82/82\u001b[0m \u001b[32m━━━━━━━━━━━━━━━━━━━━\u001b[0m\u001b[37m\u001b[0m \u001b[1m1s\u001b[0m 12ms/step - accuracy: 0.8119 - loss: 0.4811 - val_accuracy: 0.8460 - val_loss: 0.4111\n",
            "Epoch 28/50\n",
            "\u001b[1m82/82\u001b[0m \u001b[32m━━━━━━━━━━━━━━━━━━━━\u001b[0m\u001b[37m\u001b[0m \u001b[1m1s\u001b[0m 14ms/step - accuracy: 0.8285 - loss: 0.4441 - val_accuracy: 0.8628 - val_loss: 0.3684\n",
            "Epoch 29/50\n",
            "\u001b[1m82/82\u001b[0m \u001b[32m━━━━━━━━━━━━━━━━━━━━\u001b[0m\u001b[37m\u001b[0m \u001b[1m1s\u001b[0m 12ms/step - accuracy: 0.8563 - loss: 0.3996 - val_accuracy: 0.8262 - val_loss: 0.4350\n",
            "Epoch 30/50\n",
            "\u001b[1m82/82\u001b[0m \u001b[32m━━━━━━━━━━━━━━━━━━━━\u001b[0m\u001b[37m\u001b[0m \u001b[1m1s\u001b[0m 13ms/step - accuracy: 0.8250 - loss: 0.4631 - val_accuracy: 0.8338 - val_loss: 0.4493\n",
            "Epoch 31/50\n",
            "\u001b[1m82/82\u001b[0m \u001b[32m━━━━━━━━━━━━━━━━━━━━\u001b[0m\u001b[37m\u001b[0m \u001b[1m1s\u001b[0m 14ms/step - accuracy: 0.8238 - loss: 0.4540 - val_accuracy: 0.8598 - val_loss: 0.3755\n",
            "Epoch 32/50\n",
            "\u001b[1m82/82\u001b[0m \u001b[32m━━━━━━━━━━━━━━━━━━━━\u001b[0m\u001b[37m\u001b[0m \u001b[1m1s\u001b[0m 14ms/step - accuracy: 0.8524 - loss: 0.3859 - val_accuracy: 0.8369 - val_loss: 0.4097\n",
            "Epoch 33/50\n",
            "\u001b[1m82/82\u001b[0m \u001b[32m━━━━━━━━━━━━━━━━━━━━\u001b[0m\u001b[37m\u001b[0m \u001b[1m1s\u001b[0m 15ms/step - accuracy: 0.8562 - loss: 0.3881 - val_accuracy: 0.8674 - val_loss: 0.3432\n",
            "Epoch 34/50\n",
            "\u001b[1m82/82\u001b[0m \u001b[32m━━━━━━━━━━━━━━━━━━━━\u001b[0m\u001b[37m\u001b[0m \u001b[1m1s\u001b[0m 12ms/step - accuracy: 0.8508 - loss: 0.4150 - val_accuracy: 0.8613 - val_loss: 0.3725\n",
            "Epoch 35/50\n",
            "\u001b[1m82/82\u001b[0m \u001b[32m━━━━━━━━━━━━━━━━━━━━\u001b[0m\u001b[37m\u001b[0m \u001b[1m1s\u001b[0m 12ms/step - accuracy: 0.8641 - loss: 0.4070 - val_accuracy: 0.8552 - val_loss: 0.3518\n",
            "Epoch 36/50\n",
            "\u001b[1m82/82\u001b[0m \u001b[32m━━━━━━━━━━━━━━━━━━━━\u001b[0m\u001b[37m\u001b[0m \u001b[1m1s\u001b[0m 14ms/step - accuracy: 0.8687 - loss: 0.3588 - val_accuracy: 0.8735 - val_loss: 0.3185\n",
            "Epoch 37/50\n",
            "\u001b[1m82/82\u001b[0m \u001b[32m━━━━━━━━━━━━━━━━━━━━\u001b[0m\u001b[37m\u001b[0m \u001b[1m1s\u001b[0m 14ms/step - accuracy: 0.8294 - loss: 0.4893 - val_accuracy: 0.8780 - val_loss: 0.3677\n",
            "Epoch 38/50\n",
            "\u001b[1m82/82\u001b[0m \u001b[32m━━━━━━━━━━━━━━━━━━━━\u001b[0m\u001b[37m\u001b[0m \u001b[1m1s\u001b[0m 14ms/step - accuracy: 0.8688 - loss: 0.3468 - val_accuracy: 0.8841 - val_loss: 0.3387\n",
            "Epoch 39/50\n",
            "\u001b[1m82/82\u001b[0m \u001b[32m━━━━━━━━━━━━━━━━━━━━\u001b[0m\u001b[37m\u001b[0m \u001b[1m1s\u001b[0m 13ms/step - accuracy: 0.8605 - loss: 0.3832 - val_accuracy: 0.8826 - val_loss: 0.3217\n",
            "Epoch 40/50\n",
            "\u001b[1m82/82\u001b[0m \u001b[32m━━━━━━━━━━━━━━━━━━━━\u001b[0m\u001b[37m\u001b[0m \u001b[1m1s\u001b[0m 13ms/step - accuracy: 0.8929 - loss: 0.2835 - val_accuracy: 0.8720 - val_loss: 0.3592\n",
            "Epoch 41/50\n",
            "\u001b[1m82/82\u001b[0m \u001b[32m━━━━━━━━━━━━━━━━━━━━\u001b[0m\u001b[37m\u001b[0m \u001b[1m1s\u001b[0m 13ms/step - accuracy: 0.8847 - loss: 0.2862 - val_accuracy: 0.8582 - val_loss: 0.4007\n",
            "Epoch 42/50\n",
            "\u001b[1m82/82\u001b[0m \u001b[32m━━━━━━━━━━━━━━━━━━━━\u001b[0m\u001b[37m\u001b[0m \u001b[1m2s\u001b[0m 16ms/step - accuracy: 0.8847 - loss: 0.3268 - val_accuracy: 0.8887 - val_loss: 0.3239\n",
            "Epoch 43/50\n",
            "\u001b[1m82/82\u001b[0m \u001b[32m━━━━━━━━━━━━━━━━━━━━\u001b[0m\u001b[37m\u001b[0m \u001b[1m2s\u001b[0m 13ms/step - accuracy: 0.8888 - loss: 0.3258 - val_accuracy: 0.8857 - val_loss: 0.3434\n",
            "Epoch 44/50\n",
            "\u001b[1m82/82\u001b[0m \u001b[32m━━━━━━━━━━━━━━━━━━━━\u001b[0m\u001b[37m\u001b[0m \u001b[1m1s\u001b[0m 14ms/step - accuracy: 0.8920 - loss: 0.2594 - val_accuracy: 0.9040 - val_loss: 0.2802\n",
            "Epoch 45/50\n",
            "\u001b[1m82/82\u001b[0m \u001b[32m━━━━━━━━━━━━━━━━━━━━\u001b[0m\u001b[37m\u001b[0m \u001b[1m1s\u001b[0m 13ms/step - accuracy: 0.9057 - loss: 0.2530 - val_accuracy: 0.8735 - val_loss: 0.3700\n",
            "Epoch 46/50\n",
            "\u001b[1m82/82\u001b[0m \u001b[32m━━━━━━━━━━━━━━━━━━━━\u001b[0m\u001b[37m\u001b[0m \u001b[1m1s\u001b[0m 12ms/step - accuracy: 0.8782 - loss: 0.3241 - val_accuracy: 0.8720 - val_loss: 0.3888\n",
            "Epoch 47/50\n",
            "\u001b[1m82/82\u001b[0m \u001b[32m━━━━━━━━━━━━━━━━━━━━\u001b[0m\u001b[37m\u001b[0m \u001b[1m1s\u001b[0m 13ms/step - accuracy: 0.9062 - loss: 0.2507 - val_accuracy: 0.8963 - val_loss: 0.3044\n",
            "Epoch 48/50\n",
            "\u001b[1m82/82\u001b[0m \u001b[32m━━━━━━━━━━━━━━━━━━━━\u001b[0m\u001b[37m\u001b[0m \u001b[1m1s\u001b[0m 16ms/step - accuracy: 0.9057 - loss: 0.2474 - val_accuracy: 0.8948 - val_loss: 0.2824\n",
            "Epoch 49/50\n",
            "\u001b[1m82/82\u001b[0m \u001b[32m━━━━━━━━━━━━━━━━━━━━\u001b[0m\u001b[37m\u001b[0m \u001b[1m3s\u001b[0m 20ms/step - accuracy: 0.9082 - loss: 0.2488 - val_accuracy: 0.8994 - val_loss: 0.3270\n",
            "Epoch 50/50\n",
            "\u001b[1m82/82\u001b[0m \u001b[32m━━━━━━━━━━━━━━━━━━━━\u001b[0m\u001b[37m\u001b[0m \u001b[1m1s\u001b[0m 13ms/step - accuracy: 0.9107 - loss: 0.2322 - val_accuracy: 0.8659 - val_loss: 0.4186\n"
          ]
        }
      ]
    },
    {
      "cell_type": "code",
      "source": [
        "predictions  = model.predict(x_test_reshaped)"
      ],
      "metadata": {
        "colab": {
          "base_uri": "https://localhost:8080/"
        },
        "id": "XfronKrUtS-E",
        "outputId": "65c07596-8e10-4449-9f9a-5fce87e104fe"
      },
      "execution_count": 122,
      "outputs": [
        {
          "output_type": "stream",
          "name": "stdout",
          "text": [
            "\u001b[1m26/26\u001b[0m \u001b[32m━━━━━━━━━━━━━━━━━━━━\u001b[0m\u001b[37m\u001b[0m \u001b[1m0s\u001b[0m 10ms/step\n"
          ]
        }
      ]
    },
    {
      "cell_type": "code",
      "source": [
        "predictions"
      ],
      "metadata": {
        "colab": {
          "base_uri": "https://localhost:8080/"
        },
        "id": "-g5MAUVSCn2o",
        "outputId": "511bb983-6e91-48bb-fbc3-14f2e798c7ce",
        "collapsed": true
      },
      "execution_count": 123,
      "outputs": [
        {
          "output_type": "execute_result",
          "data": {
            "text/plain": [
              "array([[9.2428899e-14, 6.5734234e-13, 7.6576553e-37, ..., 1.1404502e-13,\n",
              "        1.4159156e-19, 1.2953408e-30],\n",
              "       [0.0000000e+00, 1.0000000e+00, 0.0000000e+00, ..., 0.0000000e+00,\n",
              "        0.0000000e+00, 1.4808162e-30],\n",
              "       [6.4551248e-03, 7.2920633e-14, 6.3627374e-18, ..., 9.5067590e-15,\n",
              "        8.8390452e-18, 3.8915383e-27],\n",
              "       ...,\n",
              "       [2.1111442e-05, 5.2127851e-14, 7.8219191e-09, ..., 3.0611842e-14,\n",
              "        5.2423700e-04, 4.9970419e-09],\n",
              "       [3.9974631e-11, 2.8477769e-08, 1.6367726e-03, ..., 1.2695336e-14,\n",
              "        3.9555255e-07, 9.9836260e-01],\n",
              "       [1.9604820e-03, 1.4475901e-08, 4.9737622e-07, ..., 1.4656580e-07,\n",
              "        9.1160393e-05, 1.7871406e-11]], dtype=float32)"
            ]
          },
          "metadata": {},
          "execution_count": 123
        }
      ]
    },
    {
      "cell_type": "code",
      "source": [
        "predicted_classes = np.argmax(predictions, axis=1)\n",
        "predicted_classes"
      ],
      "metadata": {
        "colab": {
          "base_uri": "https://localhost:8080/"
        },
        "id": "22oW7-hotVSE",
        "outputId": "093dc8bf-a3e3-4862-817e-7f236a3c6683"
      },
      "execution_count": 124,
      "outputs": [
        {
          "output_type": "execute_result",
          "data": {
            "text/plain": [
              "array([4, 1, 3, 9, 0, 1, 0, 8, 6, 4, 4, 6, 3, 9, 9, 8, 7, 0, 0, 0, 6, 1,\n",
              "       6, 4, 7, 0, 8, 6, 0, 8, 6, 6, 3, 5, 9, 4, 1, 4, 3, 1, 0, 4, 0, 0,\n",
              "       7, 0, 4, 3, 3, 1, 0, 6, 4, 3, 4, 6, 0, 6, 4, 8, 0, 0, 4, 0, 6, 0,\n",
              "       0, 3, 3, 0, 0, 3, 0, 2, 3, 0, 1, 1, 2, 4, 4, 0, 6, 5, 0, 0, 3, 4,\n",
              "       0, 0, 6, 0, 3, 8, 0, 0, 0, 4, 3, 1, 4, 6, 4, 5, 4, 3, 1, 4, 8, 0,\n",
              "       8, 8, 0, 6, 4, 1, 3, 0, 7, 3, 4, 4, 6, 7, 1, 0, 2, 0, 4, 8, 8, 9,\n",
              "       2, 4, 0, 0, 4, 7, 3, 0, 8, 0, 4, 2, 3, 1, 4, 4, 9, 3, 4, 7, 8, 3,\n",
              "       3, 4, 3, 0, 4, 0, 3, 6, 4, 0, 0, 0, 8, 4, 2, 5, 4, 4, 3, 2, 8, 3,\n",
              "       3, 0, 4, 3, 4, 0, 0, 2, 8, 4, 8, 4, 6, 3, 6, 4, 6, 7, 4, 2, 4, 0,\n",
              "       1, 3, 4, 8, 0, 3, 4, 4, 3, 4, 3, 7, 8, 3, 8, 0, 4, 3, 0, 3, 1, 4,\n",
              "       0, 3, 0, 8, 4, 4, 4, 4, 0, 3, 0, 3, 6, 3, 3, 0, 3, 7, 7, 0, 4, 3,\n",
              "       4, 1, 4, 7, 0, 0, 0, 0, 6, 0, 0, 3, 7, 1, 0, 0, 1, 4, 4, 3, 7, 4,\n",
              "       5, 0, 1, 0, 0, 6, 8, 6, 9, 6, 9, 0, 4, 6, 5, 6, 8, 4, 9, 3, 9, 0,\n",
              "       0, 4, 6, 3, 0, 4, 0, 2, 0, 0, 3, 0, 3, 3, 4, 7, 0, 1, 3, 7, 0, 3,\n",
              "       1, 8, 2, 4, 7, 0, 3, 0, 7, 4, 4, 6, 4, 0, 8, 3, 8, 4, 1, 6, 4, 8,\n",
              "       6, 1, 0, 2, 8, 4, 3, 0, 8, 6, 7, 4, 2, 0, 8, 4, 0, 3, 4, 4, 4, 3,\n",
              "       3, 8, 1, 3, 6, 0, 4, 4, 0, 7, 1, 5, 8, 0, 7, 7, 5, 6, 4, 4, 0, 0,\n",
              "       5, 7, 6, 3, 0, 7, 6, 0, 1, 4, 6, 0, 4, 2, 4, 3, 8, 3, 4, 0, 3, 0,\n",
              "       0, 6, 0, 4, 6, 0, 4, 9, 0, 1, 6, 7, 0, 4, 9, 9, 0, 4, 0, 0, 6, 6,\n",
              "       6, 0, 0, 0, 3, 6, 0, 3, 0, 5, 0, 8, 3, 4, 2, 0, 3, 8, 0, 3, 7, 0,\n",
              "       0, 3, 4, 8, 3, 5, 0, 0, 0, 4, 6, 1, 9, 2, 7, 4, 3, 4, 4, 4, 3, 8,\n",
              "       1, 9, 4, 0, 8, 2, 0, 0, 3, 0, 6, 4, 6, 4, 3, 3, 1, 4, 1, 4, 0, 4,\n",
              "       6, 0, 4, 5, 0, 6, 4, 8, 0, 1, 0, 0, 6, 6, 4, 3, 8, 5, 4, 7, 7, 4,\n",
              "       3, 0, 8, 7, 8, 4, 6, 3, 4, 9, 9, 0, 0, 3, 4, 8, 5, 9, 4, 4, 6, 4,\n",
              "       3, 1, 0, 6, 3, 7, 0, 3, 0, 0, 9, 4, 3, 9, 2, 4, 4, 4, 6, 8, 4, 0,\n",
              "       3, 0, 0, 7, 3, 1, 6, 3, 1, 6, 1, 1, 0, 4, 8, 0, 7, 3, 5, 5, 1, 0,\n",
              "       9, 3, 3, 0, 2, 0, 7, 6, 0, 6, 4, 7, 0, 1, 1, 7, 1, 4, 3, 9, 3, 0,\n",
              "       3, 2, 0, 6, 3, 0, 2, 3, 3, 0, 4, 4, 7, 4, 8, 6, 6, 1, 3, 4, 4, 6,\n",
              "       0, 5, 4, 4, 4, 7, 0, 3, 3, 0, 4, 4, 6, 6, 3, 7, 4, 2, 4, 4, 3, 6,\n",
              "       0, 2, 0, 3, 4, 3, 8, 7, 6, 7, 9, 4, 1, 3, 0, 0, 6, 3, 3, 0, 2, 8,\n",
              "       4, 0, 8, 0, 9, 0, 6, 6, 0, 2, 4, 3, 2, 9, 4, 4, 0, 4, 4, 0, 4, 0,\n",
              "       3, 4, 4, 3, 4, 0, 4, 0, 0, 3, 0, 3, 0, 4, 3, 6, 0, 9, 5, 7, 8, 5,\n",
              "       3, 2, 1, 0, 6, 3, 8, 1, 5, 3, 4, 0, 6, 0, 4, 0, 8, 8, 7, 4, 3, 3,\n",
              "       0, 3, 0, 9, 0, 0, 6, 1, 1, 6, 4, 5, 4, 3, 4, 2, 6, 3, 0, 8, 6, 3,\n",
              "       4, 3, 6, 3, 4, 0, 8, 3, 8, 4, 3, 0, 0, 3, 8, 0, 4, 0, 3, 4, 3, 3,\n",
              "       3, 3, 8, 7, 0, 1, 6, 0, 8, 3, 5, 7, 7, 1, 3, 0, 6, 6, 3, 3, 8, 3,\n",
              "       7, 6, 4, 8, 1, 4, 9, 2, 3, 6, 4, 6, 0, 1, 3, 4, 3, 4, 6, 4, 3, 4,\n",
              "       0, 0, 8, 6, 9, 4])"
            ]
          },
          "metadata": {},
          "execution_count": 124
        }
      ]
    },
    {
      "cell_type": "code",
      "source": [
        "loss, accuracy = model.evaluate(x_test_reshaped, y_test_encoded)\n",
        "print('Test Loss:', loss)\n",
        "print('Test Accuracy:', accuracy)"
      ],
      "metadata": {
        "colab": {
          "base_uri": "https://localhost:8080/"
        },
        "id": "7LO9LAFxuAf-",
        "outputId": "f622c52b-4e11-491e-cc75-9b12e9330226"
      },
      "execution_count": 125,
      "outputs": [
        {
          "output_type": "stream",
          "name": "stdout",
          "text": [
            "\u001b[1m26/26\u001b[0m \u001b[32m━━━━━━━━━━━━━━━━━━━━\u001b[0m\u001b[37m\u001b[0m \u001b[1m0s\u001b[0m 15ms/step - accuracy: 0.8899 - loss: 0.4112\n",
            "Test Loss: 0.4656526446342468\n",
            "Test Accuracy: 0.8817073106765747\n"
          ]
        }
      ]
    },
    {
      "cell_type": "code",
      "source": [
        "import matplotlib.pyplot as plt"
      ],
      "metadata": {
        "id": "wf9rutbgOC31"
      },
      "execution_count": 126,
      "outputs": []
    },
    {
      "cell_type": "code",
      "source": [
        "plt.plot(history.history['val_loss'], label=\"val_loss\")\n",
        "plt.plot(history.history['val_accuracy'], label='val_accuracy')\n",
        "plt.legend()\n",
        "plt.show()"
      ],
      "metadata": {
        "colab": {
          "base_uri": "https://localhost:8080/",
          "height": 430
        },
        "id": "h6qj59z7RSi3",
        "outputId": "40dc0a59-4256-43fa-de32-06a1fd112bc5"
      },
      "execution_count": 130,
      "outputs": [
        {
          "output_type": "display_data",
          "data": {
            "text/plain": [
              "<Figure size 640x480 with 1 Axes>"
            ],
            "image/png": "[encoded data removed]"
          },
          "metadata": {}
        }
      ]
    },
    {
      "cell_type": "code",
      "source": [
        "plt.plot(history.history['loss'], label=\"loss\")\n",
        "plt.plot(history.history['accuracy'], label='accuracy')\n",
        "plt.legend()\n",
        "plt.show()"
      ],
      "metadata": {
        "colab": {
          "base_uri": "https://localhost:8080/",
          "height": 430
        },
        "id": "NLYNWS4oGgnz",
        "outputId": "dcfa9055-7c5f-434e-8095-aaaf70740828"
      },
      "execution_count": 127,
      "outputs": [
        {
          "output_type": "display_data",
          "data": {
            "text/plain": [
              "<Figure size 640x480 with 1 Axes>"
            ],
            "image/png": "[encoded data removed]"
          },
          "metadata": {}
        }
      ]
    },
    {
      "cell_type": "code",
      "source": [
        "plt.plot(history.history['loss'], label='loss')\n",
        "plt.plot(history.history['val_loss'], label='val_loss')\n",
        "plt.legend()\n",
        "plt.show()"
      ],
      "metadata": {
        "colab": {
          "base_uri": "https://localhost:8080/",
          "height": 430
        },
        "id": "dsWvp6T-N7xe",
        "outputId": "e6e5275e-4e6f-446c-a48c-0e486d6606bd"
      },
      "execution_count": 128,
      "outputs": [
        {
          "output_type": "display_data",
          "data": {
            "text/plain": [
              "<Figure size 640x480 with 1 Axes>"
            ],
            "image/png": "[encoded data removed]"
          },
          "metadata": {}
        }
      ]
    },
    {
      "cell_type": "code",
      "source": [
        "plt.plot(history.history['accuracy'], label='accuracy')\n",
        "plt.plot(history.history['val_accuracy'], label='val_accuracy')\n",
        "plt.legend()\n",
        "plt.show()"
      ],
      "metadata": {
        "colab": {
          "base_uri": "https://localhost:8080/",
          "height": 430
        },
        "id": "yAGt6dlmOKWx",
        "outputId": "d53770f8-9c24-4f32-82bc-96b4ae6543df"
      },
      "execution_count": 129,
      "outputs": [
        {
          "output_type": "display_data",
          "data": {
            "text/plain": [
              "<Figure size 640x480 with 1 Axes>"
            ],
            "image/png": "[encoded data removed]"
          },
          "metadata": {}
        }
      ]
    },
    {
      "cell_type": "code",
      "source": [
        "from sklearn.metrics import confusion_matrix, ConfusionMatrixDisplay, f1_score, accuracy_score, precision_score, recall_score\n",
        "import matplotlib.pyplot as plt\n",
        "confusion_matrix1 = confusion_matrix(y_test, predicted_classes)\n",
        "\n",
        "ConfusionMatrixDisplay = ConfusionMatrixDisplay(confusion_matrix=confusion_matrix1, display_labels=class_list)\n",
        "fig, ax = plt.subplots(figsize=(10, 10))\n",
        "ConfusionMatrixDisplay.plot(ax=ax, cmap=\"afmhot\")\n",
        "plt.show()"
      ],
      "metadata": {
        "colab": {
          "base_uri": "https://localhost:8080/",
          "height": 660
        },
        "id": "72FurFymuDr_",
        "outputId": "7c411b50-2094-456d-d5de-df11e8dd514e"
      },
      "execution_count": 75,
      "outputs": [
        {
          "output_type": "display_data",
          "data": {
            "text/plain": [
              "<Figure size 1000x1000 with 2 Axes>"
            ],
            "image/png": "[encoded data removed]"
          },
          "metadata": {}
        }
      ]
    },
    {
      "cell_type": "code",
      "source": [
        "f1_score(y_test, predicted_classes, average='macro')"
      ],
      "metadata": {
        "colab": {
          "base_uri": "https://localhost:8080/"
        },
        "id": "FDVuXG_CFysl",
        "outputId": "839dd108-6bae-4eec-e4ff-d6415968e3bf"
      },
      "execution_count": 76,
      "outputs": [
        {
          "output_type": "execute_result",
          "data": {
            "text/plain": [
              "0.8337123695512109"
            ]
          },
          "metadata": {},
          "execution_count": 76
        }
      ]
    },
    {
      "cell_type": "code",
      "source": [
        "accuracy_score(y_test, predicted_classes)"
      ],
      "metadata": {
        "colab": {
          "base_uri": "https://localhost:8080/"
        },
        "id": "8sLrauuanMfy",
        "outputId": "09721335-8f75-4bf1-ab1f-5290f7fda812"
      },
      "execution_count": 77,
      "outputs": [
        {
          "output_type": "execute_result",
          "data": {
            "text/plain": [
              "0.8585365853658536"
            ]
          },
          "metadata": {},
          "execution_count": 77
        }
      ]
    },
    {
      "cell_type": "code",
      "source": [
        "precision_score(y_test, predicted_classes, average='macro')"
      ],
      "metadata": {
        "colab": {
          "base_uri": "https://localhost:8080/"
        },
        "id": "2fhYOh4UnRZV",
        "outputId": "49e7121a-beb1-4fa6-eac0-6967e1a478ef"
      },
      "execution_count": 78,
      "outputs": [
        {
          "output_type": "execute_result",
          "data": {
            "text/plain": [
              "0.8475350743045589"
            ]
          },
          "metadata": {},
          "execution_count": 78
        }
      ]
    },
    {
      "cell_type": "code",
      "source": [
        "recall_score(y_test, predicted_classes, average='macro')"
      ],
      "metadata": {
        "colab": {
          "base_uri": "https://localhost:8080/"
        },
        "id": "QuWK7FYFnUon",
        "outputId": "01bb982a-b8b8-46c5-9411-55ea5592e3ed"
      },
      "execution_count": 79,
      "outputs": [
        {
          "output_type": "execute_result",
          "data": {
            "text/plain": [
              "0.8246711229538748"
            ]
          },
          "metadata": {},
          "execution_count": 79
        }
      ]
    },
    {
      "cell_type": "markdown",
      "source": [
        "# Grid search CV"
      ],
      "metadata": {
        "id": "7_GHtw5CG3o7"
      }
    },
    {
      "cell_type": "code",
      "source": [
        "from scikeras.wrappers import KerasClassifier\n",
        "from scikeras.wrappers import KerasClassifier\n",
        "from sklearn.model_selection import GridSearchCV"
      ],
      "metadata": {
        "id": "taJKISw1O5kR"
      },
      "execution_count": 80,
      "outputs": []
    },
    {
      "cell_type": "code",
      "source": [
        "def create_network(optimizer=\"rmsprop\"):\n",
        "    print(\"Creating network\")\n",
        "    model = models.Sequential([\n",
        "        # Input layer\n",
        "        Conv2D(filters=32, kernel_size=(3, 3), activation='relu',input_shape = input_shape),\n",
        "        MaxPooling2D(pool_size=(2, 2)),\n",
        "\n",
        "        # Hidden Conv2D layer\n",
        "        Conv2D(filters=64, kernel_size=(3, 3), activation='relu'),\n",
        "        MaxPooling2D(pool_size=(2, 2)),\n",
        "\n",
        "        # Hidden Conv2D layer\n",
        "        Conv2D(filters=128, kernel_size=(3, 3), activation='relu'),\n",
        "        MaxPooling2D(pool_size=(2, 2)),\n",
        "\n",
        "        # Flatten and dense layers\n",
        "        Flatten(),\n",
        "        Dense(128, activation='relu'),\n",
        "        Dropout(0.5),  # Prevent overfitting\n",
        "        Dense(10, activation='softmax')  # Output layer for 10 classes\n",
        "    ])\n",
        "    model.compile(loss='categorical_crossentropy', optimizer=optimizer, metrics=[\"accuracy\"])\n",
        "    return model"
      ],
      "metadata": {
        "id": "MmqZDsJTPAPQ"
      },
      "execution_count": 81,
      "outputs": []
    },
    {
      "cell_type": "code",
      "source": [
        "network=KerasClassifier(build_fn=create_network,verbose=1)\n",
        "epochs=[30,50,60]\n",
        "batches=[10,30,50]\n",
        "optimizer=[\"rmsprop\",\"adam\"]\n",
        "\n",
        "\n",
        "param_grid = dict(epochs=epochs,batch_size=batches,optimizer=optimizer)\n",
        "grid = GridSearchCV(estimator=network, param_grid=param_grid, n_jobs=-1, cv = 3)\n",
        "\n",
        "gpu = tf.config.list_physical_devices('GPU')\n",
        "if gpu:\n",
        "  try:\n",
        "    with tf.device('/device:GPU:0'):\n",
        "      print(\"Training on GPU\")\n",
        "      grid_result = grid.fit(x_train_reshaped, y_train_encoded)\n",
        "  except RuntimeError as e:\n",
        "    print(e)\n",
        "else:\n",
        "  print(\"Training on CPU\")\n",
        "  grid_result = grid.fit(x_train_reshaped, y_train_encoded)"
      ],
      "metadata": {
        "colab": {
          "base_uri": "https://localhost:8080/"
        },
        "id": "WQeASHAhPabr",
        "outputId": "95eb86d6-f04b-4e48-cfda-52278ec0908c"
      },
      "execution_count": 82,
      "outputs": [
        {
          "output_type": "stream",
          "name": "stdout",
          "text": [
            "Training on GPU\n"
          ]
        },
        {
          "output_type": "stream",
          "name": "stderr",
          "text": [
            "/usr/local/lib/python3.10/dist-packages/joblib/externals/loky/process_executor.py:752: UserWarning: A worker stopped while some jobs were given to the executor. This can be caused by a too short worker timeout or by a memory leak.\n",
            "  warnings.warn(\n",
            "/usr/local/lib/python3.10/dist-packages/scikeras/wrappers.py:925: UserWarning: ``build_fn`` will be renamed to ``model`` in a future release, at which point use of ``build_fn`` will raise an Error instead.\n",
            "  X, y = self._initialize(X, y)\n",
            "/usr/local/lib/python3.10/dist-packages/keras/src/layers/convolutional/base_conv.py:107: UserWarning: Do not pass an `input_shape`/`input_dim` argument to a layer. When using Sequential models, prefer using an `Input(shape)` object as the first layer in the model instead.\n",
            "  super().__init__(activity_regularizer=activity_regularizer, **kwargs)\n"
          ]
        },
        {
          "output_type": "stream",
          "name": "stdout",
          "text": [
            "Creating network\n",
            "Epoch 1/50\n",
            "\u001b[1m110/110\u001b[0m \u001b[32m━━━━━━━━━━━━━━━━━━━━\u001b[0m\u001b[37m\u001b[0m \u001b[1m7s\u001b[0m 28ms/step - accuracy: 0.1735 - loss: 13.5272\n",
            "Epoch 2/50\n",
            "\u001b[1m110/110\u001b[0m \u001b[32m━━━━━━━━━━━━━━━━━━━━\u001b[0m\u001b[37m\u001b[0m \u001b[1m1s\u001b[0m 10ms/step - accuracy: 0.2660 - loss: 2.0595\n",
            "Epoch 3/50\n",
            "\u001b[1m110/110\u001b[0m \u001b[32m━━━━━━━━━━━━━━━━━━━━\u001b[0m\u001b[37m\u001b[0m \u001b[1m1s\u001b[0m 10ms/step - accuracy: 0.4144 - loss: 1.6293\n",
            "Epoch 4/50\n",
            "\u001b[1m110/110\u001b[0m \u001b[32m━━━━━━━━━━━━━━━━━━━━\u001b[0m\u001b[37m\u001b[0m \u001b[1m1s\u001b[0m 10ms/step - accuracy: 0.5437 - loss: 1.3263\n",
            "Epoch 5/50\n",
            "\u001b[1m110/110\u001b[0m \u001b[32m━━━━━━━━━━━━━━━━━━━━\u001b[0m\u001b[37m\u001b[0m \u001b[1m1s\u001b[0m 10ms/step - accuracy: 0.6376 - loss: 1.0447\n",
            "Epoch 6/50\n",
            "\u001b[1m110/110\u001b[0m \u001b[32m━━━━━━━━━━━━━━━━━━━━\u001b[0m\u001b[37m\u001b[0m \u001b[1m1s\u001b[0m 11ms/step - accuracy: 0.6789 - loss: 0.9189\n",
            "Epoch 7/50\n",
            "\u001b[1m110/110\u001b[0m \u001b[32m━━━━━━━━━━━━━━━━━━━━\u001b[0m\u001b[37m\u001b[0m \u001b[1m1s\u001b[0m 11ms/step - accuracy: 0.7560 - loss: 0.7368\n",
            "Epoch 8/50\n",
            "\u001b[1m110/110\u001b[0m \u001b[32m━━━━━━━━━━━━━━━━━━━━\u001b[0m\u001b[37m\u001b[0m \u001b[1m1s\u001b[0m 11ms/step - accuracy: 0.7738 - loss: 0.6387\n",
            "Epoch 9/50\n",
            "\u001b[1m110/110\u001b[0m \u001b[32m━━━━━━━━━━━━━━━━━━━━\u001b[0m\u001b[37m\u001b[0m \u001b[1m1s\u001b[0m 11ms/step - accuracy: 0.8312 - loss: 0.4930\n",
            "Epoch 10/50\n",
            "\u001b[1m110/110\u001b[0m \u001b[32m━━━━━━━━━━━━━━━━━━━━\u001b[0m\u001b[37m\u001b[0m \u001b[1m2s\u001b[0m 10ms/step - accuracy: 0.8552 - loss: 0.4197\n",
            "Epoch 11/50\n",
            "\u001b[1m110/110\u001b[0m \u001b[32m━━━━━━━━━━━━━━━━━━━━\u001b[0m\u001b[37m\u001b[0m \u001b[1m1s\u001b[0m 10ms/step - accuracy: 0.8760 - loss: 0.3732\n",
            "Epoch 12/50\n",
            "\u001b[1m110/110\u001b[0m \u001b[32m━━━━━━━━━━━━━━━━━━━━\u001b[0m\u001b[37m\u001b[0m \u001b[1m1s\u001b[0m 10ms/step - accuracy: 0.8777 - loss: 0.4094\n",
            "Epoch 13/50\n",
            "\u001b[1m110/110\u001b[0m \u001b[32m━━━━━━━━━━━━━━━━━━━━\u001b[0m\u001b[37m\u001b[0m \u001b[1m1s\u001b[0m 10ms/step - accuracy: 0.9172 - loss: 0.2580\n",
            "Epoch 14/50\n",
            "\u001b[1m110/110\u001b[0m \u001b[32m━━━━━━━━━━━━━━━━━━━━\u001b[0m\u001b[37m\u001b[0m \u001b[1m1s\u001b[0m 10ms/step - accuracy: 0.9075 - loss: 0.4288\n",
            "Epoch 15/50\n",
            "\u001b[1m110/110\u001b[0m \u001b[32m━━━━━━━━━━━━━━━━━━━━\u001b[0m\u001b[37m\u001b[0m \u001b[1m1s\u001b[0m 10ms/step - accuracy: 0.9372 - loss: 0.2233\n",
            "Epoch 16/50\n",
            "\u001b[1m110/110\u001b[0m \u001b[32m━━━━━━━━━━━━━━━━━━━━\u001b[0m\u001b[37m\u001b[0m \u001b[1m1s\u001b[0m 10ms/step - accuracy: 0.9298 - loss: 0.2302\n",
            "Epoch 17/50\n",
            "\u001b[1m110/110\u001b[0m \u001b[32m━━━━━━━━━━━━━━━━━━━━\u001b[0m\u001b[37m\u001b[0m \u001b[1m1s\u001b[0m 11ms/step - accuracy: 0.9329 - loss: 0.2395\n",
            "Epoch 18/50\n",
            "\u001b[1m110/110\u001b[0m \u001b[32m━━━━━━━━━━━━━━━━━━━━\u001b[0m\u001b[37m\u001b[0m \u001b[1m1s\u001b[0m 12ms/step - accuracy: 0.9405 - loss: 0.2274\n",
            "Epoch 19/50\n",
            "\u001b[1m110/110\u001b[0m \u001b[32m━━━━━━━━━━━━━━━━━━━━\u001b[0m\u001b[37m\u001b[0m \u001b[1m1s\u001b[0m 11ms/step - accuracy: 0.9537 - loss: 0.1545\n",
            "Epoch 20/50\n",
            "\u001b[1m110/110\u001b[0m \u001b[32m━━━━━━━━━━━━━━━━━━━━\u001b[0m\u001b[37m\u001b[0m \u001b[1m1s\u001b[0m 11ms/step - accuracy: 0.9405 - loss: 0.1817\n",
            "Epoch 21/50\n",
            "\u001b[1m110/110\u001b[0m \u001b[32m━━━━━━━━━━━━━━━━━━━━\u001b[0m\u001b[37m\u001b[0m \u001b[1m1s\u001b[0m 10ms/step - accuracy: 0.9541 - loss: 0.1845\n",
            "Epoch 22/50\n",
            "\u001b[1m110/110\u001b[0m \u001b[32m━━━━━━━━━━━━━━━━━━━━\u001b[0m\u001b[37m\u001b[0m \u001b[1m1s\u001b[0m 10ms/step - accuracy: 0.9470 - loss: 0.2060\n",
            "Epoch 23/50\n",
            "\u001b[1m110/110\u001b[0m \u001b[32m━━━━━━━━━━━━━━━━━━━━\u001b[0m\u001b[37m\u001b[0m \u001b[1m1s\u001b[0m 10ms/step - accuracy: 0.9426 - loss: 0.2059\n",
            "Epoch 24/50\n",
            "\u001b[1m110/110\u001b[0m \u001b[32m━━━━━━━━━━━━━━━━━━━━\u001b[0m\u001b[37m\u001b[0m \u001b[1m1s\u001b[0m 10ms/step - accuracy: 0.9595 - loss: 0.1323\n",
            "Epoch 25/50\n",
            "\u001b[1m110/110\u001b[0m \u001b[32m━━━━━━━━━━━━━━━━━━━━\u001b[0m\u001b[37m\u001b[0m \u001b[1m1s\u001b[0m 10ms/step - accuracy: 0.9623 - loss: 0.1340\n",
            "Epoch 26/50\n",
            "\u001b[1m110/110\u001b[0m \u001b[32m━━━━━━━━━━━━━━━━━━━━\u001b[0m\u001b[37m\u001b[0m \u001b[1m1s\u001b[0m 10ms/step - accuracy: 0.9503 - loss: 0.1968\n",
            "Epoch 27/50\n",
            "\u001b[1m110/110\u001b[0m \u001b[32m━━━━━━━━━━━━━━━━━━━━\u001b[0m\u001b[37m\u001b[0m \u001b[1m1s\u001b[0m 10ms/step - accuracy: 0.9568 - loss: 0.1656\n",
            "Epoch 28/50\n",
            "\u001b[1m110/110\u001b[0m \u001b[32m━━━━━━━━━━━━━━━━━━━━\u001b[0m\u001b[37m\u001b[0m \u001b[1m1s\u001b[0m 10ms/step - accuracy: 0.9582 - loss: 0.1812\n",
            "Epoch 29/50\n",
            "\u001b[1m110/110\u001b[0m \u001b[32m━━━━━━━━━━━━━━━━━━━━\u001b[0m\u001b[37m\u001b[0m \u001b[1m1s\u001b[0m 11ms/step - accuracy: 0.9705 - loss: 0.1104\n",
            "Epoch 30/50\n",
            "\u001b[1m110/110\u001b[0m \u001b[32m━━━━━━━━━━━━━━━━━━━━\u001b[0m\u001b[37m\u001b[0m \u001b[1m3s\u001b[0m 11ms/step - accuracy: 0.9609 - loss: 0.1850\n",
            "Epoch 31/50\n",
            "\u001b[1m110/110\u001b[0m \u001b[32m━━━━━━━━━━━━━━━━━━━━\u001b[0m\u001b[37m\u001b[0m \u001b[1m1s\u001b[0m 10ms/step - accuracy: 0.9691 - loss: 0.1326\n",
            "Epoch 32/50\n",
            "\u001b[1m110/110\u001b[0m \u001b[32m━━━━━━━━━━━━━━━━━━━━\u001b[0m\u001b[37m\u001b[0m \u001b[1m1s\u001b[0m 10ms/step - accuracy: 0.9628 - loss: 0.1294\n",
            "Epoch 33/50\n",
            "\u001b[1m110/110\u001b[0m \u001b[32m━━━━━━━━━━━━━━━━━━━━\u001b[0m\u001b[37m\u001b[0m \u001b[1m1s\u001b[0m 10ms/step - accuracy: 0.9607 - loss: 0.2181\n",
            "Epoch 34/50\n",
            "\u001b[1m110/110\u001b[0m \u001b[32m━━━━━━━━━━━━━━━━━━━━\u001b[0m\u001b[37m\u001b[0m \u001b[1m1s\u001b[0m 10ms/step - accuracy: 0.9660 - loss: 0.1592\n",
            "Epoch 35/50\n",
            "\u001b[1m110/110\u001b[0m \u001b[32m━━━━━━━━━━━━━━━━━━━━\u001b[0m\u001b[37m\u001b[0m \u001b[1m1s\u001b[0m 10ms/step - accuracy: 0.9732 - loss: 0.1217\n",
            "Epoch 36/50\n",
            "\u001b[1m110/110\u001b[0m \u001b[32m━━━━━━━━━━━━━━━━━━━━\u001b[0m\u001b[37m\u001b[0m \u001b[1m1s\u001b[0m 10ms/step - accuracy: 0.9709 - loss: 0.1396\n",
            "Epoch 37/50\n",
            "\u001b[1m110/110\u001b[0m \u001b[32m━━━━━━━━━━━━━━━━━━━━\u001b[0m\u001b[37m\u001b[0m \u001b[1m1s\u001b[0m 10ms/step - accuracy: 0.9594 - loss: 0.1654\n",
            "Epoch 38/50\n",
            "\u001b[1m110/110\u001b[0m \u001b[32m━━━━━━━━━━━━━━━━━━━━\u001b[0m\u001b[37m\u001b[0m \u001b[1m1s\u001b[0m 10ms/step - accuracy: 0.9659 - loss: 0.1710\n",
            "Epoch 39/50\n",
            "\u001b[1m110/110\u001b[0m \u001b[32m━━━━━━━━━━━━━━━━━━━━\u001b[0m\u001b[37m\u001b[0m \u001b[1m1s\u001b[0m 11ms/step - accuracy: 0.9613 - loss: 0.1708\n",
            "Epoch 40/50\n",
            "\u001b[1m110/110\u001b[0m \u001b[32m━━━━━━━━━━━━━━━━━━━━\u001b[0m\u001b[37m\u001b[0m \u001b[1m1s\u001b[0m 11ms/step - accuracy: 0.9701 - loss: 0.1081\n",
            "Epoch 41/50\n",
            "\u001b[1m110/110\u001b[0m \u001b[32m━━━━━━━━━━━━━━━━━━━━\u001b[0m\u001b[37m\u001b[0m \u001b[1m1s\u001b[0m 11ms/step - accuracy: 0.9704 - loss: 0.1473\n",
            "Epoch 42/50\n",
            "\u001b[1m110/110\u001b[0m \u001b[32m━━━━━━━━━━━━━━━━━━━━\u001b[0m\u001b[37m\u001b[0m \u001b[1m2s\u001b[0m 10ms/step - accuracy: 0.9649 - loss: 0.1935\n",
            "Epoch 43/50\n",
            "\u001b[1m110/110\u001b[0m \u001b[32m━━━━━━━━━━━━━━━━━━━━\u001b[0m\u001b[37m\u001b[0m \u001b[1m1s\u001b[0m 10ms/step - accuracy: 0.9668 - loss: 0.1412\n",
            "Epoch 44/50\n",
            "\u001b[1m110/110\u001b[0m \u001b[32m━━━━━━━━━━━━━━━━━━━━\u001b[0m\u001b[37m\u001b[0m \u001b[1m1s\u001b[0m 10ms/step - accuracy: 0.9668 - loss: 0.1598\n",
            "Epoch 45/50\n",
            "\u001b[1m110/110\u001b[0m \u001b[32m━━━━━━━━━━━━━━━━━━━━\u001b[0m\u001b[37m\u001b[0m \u001b[1m1s\u001b[0m 10ms/step - accuracy: 0.9734 - loss: 0.1559\n",
            "Epoch 46/50\n",
            "\u001b[1m110/110\u001b[0m \u001b[32m━━━━━━━━━━━━━━━━━━━━\u001b[0m\u001b[37m\u001b[0m \u001b[1m1s\u001b[0m 10ms/step - accuracy: 0.9656 - loss: 0.2140\n",
            "Epoch 47/50\n",
            "\u001b[1m110/110\u001b[0m \u001b[32m━━━━━━━━━━━━━━━━━━━━\u001b[0m\u001b[37m\u001b[0m \u001b[1m1s\u001b[0m 10ms/step - accuracy: 0.9678 - loss: 0.2056\n",
            "Epoch 48/50\n",
            "\u001b[1m110/110\u001b[0m \u001b[32m━━━━━━━━━━━━━━━━━━━━\u001b[0m\u001b[37m\u001b[0m \u001b[1m1s\u001b[0m 10ms/step - accuracy: 0.9692 - loss: 0.1813\n",
            "Epoch 49/50\n",
            "\u001b[1m110/110\u001b[0m \u001b[32m━━━━━━━━━━━━━━━━━━━━\u001b[0m\u001b[37m\u001b[0m \u001b[1m1s\u001b[0m 10ms/step - accuracy: 0.9791 - loss: 0.1098\n",
            "Epoch 50/50\n",
            "\u001b[1m110/110\u001b[0m \u001b[32m━━━━━━━━━━━━━━━━━━━━\u001b[0m\u001b[37m\u001b[0m \u001b[1m1s\u001b[0m 11ms/step - accuracy: 0.9779 - loss: 0.0966\n"
          ]
        }
      ]
    },
    {
      "cell_type": "code",
      "source": [
        "grid_result.best_params_"
      ],
      "metadata": {
        "colab": {
          "base_uri": "https://localhost:8080/"
        },
        "id": "yfXjpwlwbgDp",
        "outputId": "5088cfe3-087e-4c1e-f261-f358cd3da59e"
      },
      "execution_count": 83,
      "outputs": [
        {
          "output_type": "execute_result",
          "data": {
            "text/plain": [
              "{'batch_size': 30, 'epochs': 50, 'optimizer': 'rmsprop'}"
            ]
          },
          "metadata": {},
          "execution_count": 83
        }
      ]
    },
    {
      "cell_type": "code",
      "source": [
        "grid_result.best_estimator_"
      ],
      "metadata": {
        "colab": {
          "base_uri": "https://localhost:8080/",
          "height": 257
        },
        "id": "QzHHKJ7TbhmO",
        "outputId": "0ce1ee97-acf1-4159-ca89-3c560abe9786"
      },
      "execution_count": 84,
      "outputs": [
        {
          "output_type": "execute_result",
          "data": {
            "text/plain": [
              "KerasClassifier(\n",
              "\tmodel=None\n",
              "\tbuild_fn=<function create_network at 0x7b43a35ebeb0>\n",
              "\twarm_start=False\n",
              "\trandom_state=None\n",
              "\toptimizer=rmsprop\n",
              "\tloss=None\n",
              "\tmetrics=None\n",
              "\tbatch_size=30\n",
              "\tvalidation_batch_size=None\n",
              "\tverbose=1\n",
              "\tcallbacks=None\n",
              "\tvalidation_split=0.0\n",
              "\tshuffle=True\n",
              "\trun_eagerly=False\n",
              "\tepochs=50\n",
              "\tclass_weight=None\n",
              ")"
            ],
            "text/html": [
              "<style>#sk-container-id-1 {\n",
              "  /* Definition of color scheme common for light and dark mode */\n",
              "  --sklearn-color-text: black;\n",
              "  --sklearn-color-line: gray;\n",
              "  /* Definition of color scheme for unfitted estimators */\n",
              "  --sklearn-color-unfitted-level-0: #fff5e6;\n",
              "  --sklearn-color-unfitted-level-1: #f6e4d2;\n",
              "  --sklearn-color-unfitted-level-2: #ffe0b3;\n",
              "  --sklearn-color-unfitted-level-3: chocolate;\n",
              "  /* Definition of color scheme for fitted estimators */\n",
              "  --sklearn-color-fitted-level-0: #f0f8ff;\n",
              "  --sklearn-color-fitted-level-1: #d4ebff;\n",
              "  --sklearn-color-fitted-level-2: #b3dbfd;\n",
              "  --sklearn-color-fitted-level-3: cornflowerblue;\n",
              "\n",
              "  /* Specific color for light theme */\n",
              "  --sklearn-color-text-on-default-background: var(--sg-text-color, var(--theme-code-foreground, var(--jp-content-font-color1, black)));\n",
              "  --sklearn-color-background: var(--sg-background-color, var(--theme-background, var(--jp-layout-color0, white)));\n",
              "  --sklearn-color-border-box: var(--sg-text-color, var(--theme-code-foreground, var(--jp-content-font-color1, black)));\n",
              "  --sklearn-color-icon: #696969;\n",
              "\n",
              "  @media (prefers-color-scheme: dark) {\n",
              "    /* Redefinition of color scheme for dark theme */\n",
              "    --sklearn-color-text-on-default-background: var(--sg-text-color, var(--theme-code-foreground, var(--jp-content-font-color1, white)));\n",
              "    --sklearn-color-background: var(--sg-background-color, var(--theme-background, var(--jp-layout-color0, #111)));\n",
              "    --sklearn-color-border-box: var(--sg-text-color, var(--theme-code-foreground, var(--jp-content-font-color1, white)));\n",
              "    --sklearn-color-icon: #878787;\n",
              "  }\n",
              "}\n",
              "\n",
              "#sk-container-id-1 {\n",
              "  color: var(--sklearn-color-text);\n",
              "}\n",
              "\n",
              "#sk-container-id-1 pre {\n",
              "  padding: 0;\n",
              "}\n",
              "\n",
              "#sk-container-id-1 input.sk-hidden--visually {\n",
              "  border: 0;\n",
              "  clip: rect(1px 1px 1px 1px);\n",
              "  clip: rect(1px, 1px, 1px, 1px);\n",
              "  height: 1px;\n",
              "  margin: -1px;\n",
              "  overflow: hidden;\n",
              "  padding: 0;\n",
              "  position: absolute;\n",
              "  width: 1px;\n",
              "}\n",
              "\n",
              "#sk-container-id-1 div.sk-dashed-wrapped {\n",
              "  border: 1px dashed var(--sklearn-color-line);\n",
              "  margin: 0 0.4em 0.5em 0.4em;\n",
              "  box-sizing: border-box;\n",
              "  padding-bottom: 0.4em;\n",
              "  background-color: var(--sklearn-color-background);\n",
              "}\n",
              "\n",
              "#sk-container-id-1 div.sk-container {\n",
              "  /* jupyter's `normalize.less` sets `[hidden] { display: none; }`\n",
              "     but bootstrap.min.css set `[hidden] { display: none !important; }`\n",
              "     so we also need the `!important` here to be able to override the\n",
              "     default hidden behavior on the sphinx rendered scikit-learn.org.\n",
              "     See: https://github.com/scikit-learn/scikit-learn/issues/21755 */\n",
              "  display: inline-block !important;\n",
              "  position: relative;\n",
              "}\n",
              "\n",
              "#sk-container-id-1 div.sk-text-repr-fallback {\n",
              "  display: none;\n",
              "}\n",
              "\n",
              "div.sk-parallel-item,\n",
              "div.sk-serial,\n",
              "div.sk-item {\n",
              "  /* draw centered vertical line to link estimators */\n",
              "  background-image: linear-gradient(var(--sklearn-color-text-on-default-background), var(--sklearn-color-text-on-default-background));\n",
              "  background-size: 2px 100%;\n",
              "  background-repeat: no-repeat;\n",
              "  background-position: center center;\n",
              "}\n",
              "\n",
              "/* Parallel-specific style estimator block */\n",
              "\n",
              "#sk-container-id-1 div.sk-parallel-item::after {\n",
              "  content: \"\";\n",
              "  width: 100%;\n",
              "  border-bottom: 2px solid var(--sklearn-color-text-on-default-background);\n",
              "  flex-grow: 1;\n",
              "}\n",
              "\n",
              "#sk-container-id-1 div.sk-parallel {\n",
              "  display: flex;\n",
              "  align-items: stretch;\n",
              "  justify-content: center;\n",
              "  background-color: var(--sklearn-color-background);\n",
              "  position: relative;\n",
              "}\n",
              "\n",
              "#sk-container-id-1 div.sk-parallel-item {\n",
              "  display: flex;\n",
              "  flex-direction: column;\n",
              "}\n",
              "\n",
              "#sk-container-id-1 div.sk-parallel-item:first-child::after {\n",
              "  align-self: flex-end;\n",
              "  width: 50%;\n",
              "}\n",
              "\n",
              "#sk-container-id-1 div.sk-parallel-item:last-child::after {\n",
              "  align-self: flex-start;\n",
              "  width: 50%;\n",
              "}\n",
              "\n",
              "#sk-container-id-1 div.sk-parallel-item:only-child::after {\n",
              "  width: 0;\n",
              "}\n",
              "\n",
              "/* Serial-specific style estimator block */\n",
              "\n",
              "#sk-container-id-1 div.sk-serial {\n",
              "  display: flex;\n",
              "  flex-direction: column;\n",
              "  align-items: center;\n",
              "  background-color: var(--sklearn-color-background);\n",
              "  padding-right: 1em;\n",
              "  padding-left: 1em;\n",
              "}\n",
              "\n",
              "\n",
              "/* Toggleable style: style used for estimator/Pipeline/ColumnTransformer box that is\n",
              "clickable and can be expanded/collapsed.\n",
              "- Pipeline and ColumnTransformer use this feature and define the default style\n",
              "- Estimators will overwrite some part of the style using the `sk-estimator` class\n",
              "*/\n",
              "\n",
              "/* Pipeline and ColumnTransformer style (default) */\n",
              "\n",
              "#sk-container-id-1 div.sk-toggleable {\n",
              "  /* Default theme specific background. It is overwritten whether we have a\n",
              "  specific estimator or a Pipeline/ColumnTransformer */\n",
              "  background-color: var(--sklearn-color-background);\n",
              "}\n",
              "\n",
              "/* Toggleable label */\n",
              "#sk-container-id-1 label.sk-toggleable__label {\n",
              "  cursor: pointer;\n",
              "  display: block;\n",
              "  width: 100%;\n",
              "  margin-bottom: 0;\n",
              "  padding: 0.5em;\n",
              "  box-sizing: border-box;\n",
              "  text-align: center;\n",
              "}\n",
              "\n",
              "#sk-container-id-1 label.sk-toggleable__label-arrow:before {\n",
              "  /* Arrow on the left of the label */\n",
              "  content: \"▸\";\n",
              "  float: left;\n",
              "  margin-right: 0.25em;\n",
              "  color: var(--sklearn-color-icon);\n",
              "}\n",
              "\n",
              "#sk-container-id-1 label.sk-toggleable__label-arrow:hover:before {\n",
              "  color: var(--sklearn-color-text);\n",
              "}\n",
              "\n",
              "/* Toggleable content - dropdown */\n",
              "\n",
              "#sk-container-id-1 div.sk-toggleable__content {\n",
              "  max-height: 0;\n",
              "  max-width: 0;\n",
              "  overflow: hidden;\n",
              "  text-align: left;\n",
              "  /* unfitted */\n",
              "  background-color: var(--sklearn-color-unfitted-level-0);\n",
              "}\n",
              "\n",
              "#sk-container-id-1 div.sk-toggleable__content.fitted {\n",
              "  /* fitted */\n",
              "  background-color: var(--sklearn-color-fitted-level-0);\n",
              "}\n",
              "\n",
              "#sk-container-id-1 div.sk-toggleable__content pre {\n",
              "  margin: 0.2em;\n",
              "  border-radius: 0.25em;\n",
              "  color: var(--sklearn-color-text);\n",
              "  /* unfitted */\n",
              "  background-color: var(--sklearn-color-unfitted-level-0);\n",
              "}\n",
              "\n",
              "#sk-container-id-1 div.sk-toggleable__content.fitted pre {\n",
              "  /* unfitted */\n",
              "  background-color: var(--sklearn-color-fitted-level-0);\n",
              "}\n",
              "\n",
              "#sk-container-id-1 input.sk-toggleable__control:checked~div.sk-toggleable__content {\n",
              "  /* Expand drop-down */\n",
              "  max-height: 200px;\n",
              "  max-width: 100%;\n",
              "  overflow: auto;\n",
              "}\n",
              "\n",
              "#sk-container-id-1 input.sk-toggleable__control:checked~label.sk-toggleable__label-arrow:before {\n",
              "  content: \"▾\";\n",
              "}\n",
              "\n",
              "/* Pipeline/ColumnTransformer-specific style */\n",
              "\n",
              "#sk-container-id-1 div.sk-label input.sk-toggleable__control:checked~label.sk-toggleable__label {\n",
              "  color: var(--sklearn-color-text);\n",
              "  background-color: var(--sklearn-color-unfitted-level-2);\n",
              "}\n",
              "\n",
              "#sk-container-id-1 div.sk-label.fitted input.sk-toggleable__control:checked~label.sk-toggleable__label {\n",
              "  background-color: var(--sklearn-color-fitted-level-2);\n",
              "}\n",
              "\n",
              "/* Estimator-specific style */\n",
              "\n",
              "/* Colorize estimator box */\n",
              "#sk-container-id-1 div.sk-estimator input.sk-toggleable__control:checked~label.sk-toggleable__label {\n",
              "  /* unfitted */\n",
              "  background-color: var(--sklearn-color-unfitted-level-2);\n",
              "}\n",
              "\n",
              "#sk-container-id-1 div.sk-estimator.fitted input.sk-toggleable__control:checked~label.sk-toggleable__label {\n",
              "  /* fitted */\n",
              "  background-color: var(--sklearn-color-fitted-level-2);\n",
              "}\n",
              "\n",
              "#sk-container-id-1 div.sk-label label.sk-toggleable__label,\n",
              "#sk-container-id-1 div.sk-label label {\n",
              "  /* The background is the default theme color */\n",
              "  color: var(--sklearn-color-text-on-default-background);\n",
              "}\n",
              "\n",
              "/* On hover, darken the color of the background */\n",
              "#sk-container-id-1 div.sk-label:hover label.sk-toggleable__label {\n",
              "  color: var(--sklearn-color-text);\n",
              "  background-color: var(--sklearn-color-unfitted-level-2);\n",
              "}\n",
              "\n",
              "/* Label box, darken color on hover, fitted */\n",
              "#sk-container-id-1 div.sk-label.fitted:hover label.sk-toggleable__label.fitted {\n",
              "  color: var(--sklearn-color-text);\n",
              "  background-color: var(--sklearn-color-fitted-level-2);\n",
              "}\n",
              "\n",
              "/* Estimator label */\n",
              "\n",
              "#sk-container-id-1 div.sk-label label {\n",
              "  font-family: monospace;\n",
              "  font-weight: bold;\n",
              "  display: inline-block;\n",
              "  line-height: 1.2em;\n",
              "}\n",
              "\n",
              "#sk-container-id-1 div.sk-label-container {\n",
              "  text-align: center;\n",
              "}\n",
              "\n",
              "/* Estimator-specific */\n",
              "#sk-container-id-1 div.sk-estimator {\n",
              "  font-family: monospace;\n",
              "  border: 1px dotted var(--sklearn-color-border-box);\n",
              "  border-radius: 0.25em;\n",
              "  box-sizing: border-box;\n",
              "  margin-bottom: 0.5em;\n",
              "  /* unfitted */\n",
              "  background-color: var(--sklearn-color-unfitted-level-0);\n",
              "}\n",
              "\n",
              "#sk-container-id-1 div.sk-estimator.fitted {\n",
              "  /* fitted */\n",
              "  background-color: var(--sklearn-color-fitted-level-0);\n",
              "}\n",
              "\n",
              "/* on hover */\n",
              "#sk-container-id-1 div.sk-estimator:hover {\n",
              "  /* unfitted */\n",
              "  background-color: var(--sklearn-color-unfitted-level-2);\n",
              "}\n",
              "\n",
              "#sk-container-id-1 div.sk-estimator.fitted:hover {\n",
              "  /* fitted */\n",
              "  background-color: var(--sklearn-color-fitted-level-2);\n",
              "}\n",
              "\n",
              "/* Specification for estimator info (e.g. \"i\" and \"?\") */\n",
              "\n",
              "/* Common style for \"i\" and \"?\" */\n",
              "\n",
              ".sk-estimator-doc-link,\n",
              "a:link.sk-estimator-doc-link,\n",
              "a:visited.sk-estimator-doc-link {\n",
              "  float: right;\n",
              "  font-size: smaller;\n",
              "  line-height: 1em;\n",
              "  font-family: monospace;\n",
              "  background-color: var(--sklearn-color-background);\n",
              "  border-radius: 1em;\n",
              "  height: 1em;\n",
              "  width: 1em;\n",
              "  text-decoration: none !important;\n",
              "  margin-left: 1ex;\n",
              "  /* unfitted */\n",
              "  border: var(--sklearn-color-unfitted-level-1) 1pt solid;\n",
              "  color: var(--sklearn-color-unfitted-level-1);\n",
              "}\n",
              "\n",
              ".sk-estimator-doc-link.fitted,\n",
              "a:link.sk-estimator-doc-link.fitted,\n",
              "a:visited.sk-estimator-doc-link.fitted {\n",
              "  /* fitted */\n",
              "  border: var(--sklearn-color-fitted-level-1) 1pt solid;\n",
              "  color: var(--sklearn-color-fitted-level-1);\n",
              "}\n",
              "\n",
              "/* On hover */\n",
              "div.sk-estimator:hover .sk-estimator-doc-link:hover,\n",
              ".sk-estimator-doc-link:hover,\n",
              "div.sk-label-container:hover .sk-estimator-doc-link:hover,\n",
              ".sk-estimator-doc-link:hover {\n",
              "  /* unfitted */\n",
              "  background-color: var(--sklearn-color-unfitted-level-3);\n",
              "  color: var(--sklearn-color-background);\n",
              "  text-decoration: none;\n",
              "}\n",
              "\n",
              "div.sk-estimator.fitted:hover .sk-estimator-doc-link.fitted:hover,\n",
              ".sk-estimator-doc-link.fitted:hover,\n",
              "div.sk-label-container:hover .sk-estimator-doc-link.fitted:hover,\n",
              ".sk-estimator-doc-link.fitted:hover {\n",
              "  /* fitted */\n",
              "  background-color: var(--sklearn-color-fitted-level-3);\n",
              "  color: var(--sklearn-color-background);\n",
              "  text-decoration: none;\n",
              "}\n",
              "\n",
              "/* Span, style for the box shown on hovering the info icon */\n",
              ".sk-estimator-doc-link span {\n",
              "  display: none;\n",
              "  z-index: 9999;\n",
              "  position: relative;\n",
              "  font-weight: normal;\n",
              "  right: .2ex;\n",
              "  padding: .5ex;\n",
              "  margin: .5ex;\n",
              "  width: min-content;\n",
              "  min-width: 20ex;\n",
              "  max-width: 50ex;\n",
              "  color: var(--sklearn-color-text);\n",
              "  box-shadow: 2pt 2pt 4pt #999;\n",
              "  /* unfitted */\n",
              "  background: var(--sklearn-color-unfitted-level-0);\n",
              "  border: .5pt solid var(--sklearn-color-unfitted-level-3);\n",
              "}\n",
              "\n",
              ".sk-estimator-doc-link.fitted span {\n",
              "  /* fitted */\n",
              "  background: var(--sklearn-color-fitted-level-0);\n",
              "  border: var(--sklearn-color-fitted-level-3);\n",
              "}\n",
              "\n",
              ".sk-estimator-doc-link:hover span {\n",
              "  display: block;\n",
              "}\n",
              "\n",
              "/* \"?\"-specific style due to the `<a>` HTML tag */\n",
              "\n",
              "#sk-container-id-1 a.estimator_doc_link {\n",
              "  float: right;\n",
              "  font-size: 1rem;\n",
              "  line-height: 1em;\n",
              "  font-family: monospace;\n",
              "  background-color: var(--sklearn-color-background);\n",
              "  border-radius: 1rem;\n",
              "  height: 1rem;\n",
              "  width: 1rem;\n",
              "  text-decoration: none;\n",
              "  /* unfitted */\n",
              "  color: var(--sklearn-color-unfitted-level-1);\n",
              "  border: var(--sklearn-color-unfitted-level-1) 1pt solid;\n",
              "}\n",
              "\n",
              "#sk-container-id-1 a.estimator_doc_link.fitted {\n",
              "  /* fitted */\n",
              "  border: var(--sklearn-color-fitted-level-1) 1pt solid;\n",
              "  color: var(--sklearn-color-fitted-level-1);\n",
              "}\n",
              "\n",
              "/* On hover */\n",
              "#sk-container-id-1 a.estimator_doc_link:hover {\n",
              "  /* unfitted */\n",
              "  background-color: var(--sklearn-color-unfitted-level-3);\n",
              "  color: var(--sklearn-color-background);\n",
              "  text-decoration: none;\n",
              "}\n",
              "\n",
              "#sk-container-id-1 a.estimator_doc_link.fitted:hover {\n",
              "  /* fitted */\n",
              "  background-color: var(--sklearn-color-fitted-level-3);\n",
              "}\n",
              "</style><div id=\"sk-container-id-1\" class=\"sk-top-container\"><div class=\"sk-text-repr-fallback\"><pre>KerasClassifier(\n",
              "\tmodel=None\n",
              "\tbuild_fn=&lt;function create_network at 0x7b43a35ebeb0&gt;\n",
              "\twarm_start=False\n",
              "\trandom_state=None\n",
              "\toptimizer=rmsprop\n",
              "\tloss=None\n",
              "\tmetrics=None\n",
              "\tbatch_size=30\n",
              "\tvalidation_batch_size=None\n",
              "\tverbose=1\n",
              "\tcallbacks=None\n",
              "\tvalidation_split=0.0\n",
              "\tshuffle=True\n",
              "\trun_eagerly=False\n",
              "\tepochs=50\n",
              "\tclass_weight=None\n",
              ")</pre><b>In a Jupyter environment, please rerun this cell to show the HTML representation or trust the notebook. <br />On GitHub, the HTML representation is unable to render, please try loading this page with nbviewer.org.</b></div><div class=\"sk-container\" hidden><div class=\"sk-item\"><div class=\"sk-estimator fitted sk-toggleable\"><input class=\"sk-toggleable__control sk-hidden--visually\" id=\"sk-estimator-id-1\" type=\"checkbox\" checked><label for=\"sk-estimator-id-1\" class=\"sk-toggleable__label fitted sk-toggleable__label-arrow fitted\">&nbsp;KerasClassifier<span class=\"sk-estimator-doc-link fitted\">i<span>Fitted</span></span></label><div class=\"sk-toggleable__content fitted\"><pre>KerasClassifier(\n",
              "\tmodel=None\n",
              "\tbuild_fn=&lt;function create_network at 0x7b43a35ebeb0&gt;\n",
              "\twarm_start=False\n",
              "\trandom_state=None\n",
              "\toptimizer=rmsprop\n",
              "\tloss=None\n",
              "\tmetrics=None\n",
              "\tbatch_size=30\n",
              "\tvalidation_batch_size=None\n",
              "\tverbose=1\n",
              "\tcallbacks=None\n",
              "\tvalidation_split=0.0\n",
              "\tshuffle=True\n",
              "\trun_eagerly=False\n",
              "\tepochs=50\n",
              "\tclass_weight=None\n",
              ")</pre></div> </div></div></div></div>"
            ]
          },
          "metadata": {},
          "execution_count": 84
        }
      ]
    },
    {
      "cell_type": "code",
      "source": [
        "# Mean cross-validated score of the best_estimator\n",
        "grid_result.best_score_"
      ],
      "metadata": {
        "colab": {
          "base_uri": "https://localhost:8080/"
        },
        "id": "dkGhdawsbnGI",
        "outputId": "e6014f2b-b39c-4260-c34d-f53b5df41933"
      },
      "execution_count": 86,
      "outputs": [
        {
          "output_type": "execute_result",
          "data": {
            "text/plain": [
              "0.9328449328449328"
            ]
          },
          "metadata": {},
          "execution_count": 86
        }
      ]
    },
    {
      "cell_type": "code",
      "source": [
        "print(grid_result.cv_results_)"
      ],
      "metadata": {
        "colab": {
          "base_uri": "https://localhost:8080/"
        },
        "id": "WX6H2pkDfg-E",
        "outputId": "15fce319-8a7c-4301-d6ac-9a6552f4a16c"
      },
      "execution_count": 89,
      "outputs": [
        {
          "output_type": "stream",
          "name": "stdout",
          "text": [
            "{'mean_fit_time': array([ 83.50585286,  73.04085215, 117.00468111, 108.92437283,\n",
            "       134.13737265, 129.91213981,  57.60602347,  57.52098123,\n",
            "        81.49974839,  84.49069961, 102.93400908,  96.76621771,\n",
            "        54.14923278,  47.31269066,  86.30591408,  74.31753333,\n",
            "        93.0385112 , 100.55675904]), 'std_fit_time': array([ 6.93966446,  1.20173298,  5.24326792,  5.04609729,  3.389858  ,\n",
            "        6.66719381,  7.27466723, 13.84331524,  3.99750303,  1.51908473,\n",
            "       14.10652133,  7.29981628, 10.22745664,  4.74253506,  7.61306731,\n",
            "        1.76608279,  8.20278322, 13.40429558]), 'mean_score_time': array([2.20223339, 1.60952942, 2.75349474, 1.42998616, 1.52472448,\n",
            "       1.74947826, 2.65979441, 1.73971725, 1.65432596, 1.30266078,\n",
            "       1.80357472, 1.5926768 , 4.1038607 , 1.16646433, 2.55848503,\n",
            "       1.35130692, 1.08425522, 2.0820454 ]), 'std_score_time': array([0.96834347, 0.096523  , 0.63704033, 0.15609941, 0.00754073,\n",
            "       0.79827086, 0.34811762, 0.79598728, 1.09890004, 0.30903837,\n",
            "       0.82343038, 0.08065151, 1.8034731 , 0.26275044, 1.96686905,\n",
            "       0.32085039, 0.31147929, 0.46933355]), 'param_batch_size': masked_array(data=[10, 10, 10, 10, 10, 10, 30, 30, 30, 30, 30, 30, 50, 50,\n",
            "                   50, 50, 50, 50],\n",
            "             mask=[False, False, False, False, False, False, False, False,\n",
            "                   False, False, False, False, False, False, False, False,\n",
            "                   False, False],\n",
            "       fill_value=999999), 'param_epochs': masked_array(data=[30, 30, 50, 50, 60, 60, 30, 30, 50, 50, 60, 60, 30, 30,\n",
            "                   50, 50, 60, 60],\n",
            "             mask=[False, False, False, False, False, False, False, False,\n",
            "                   False, False, False, False, False, False, False, False,\n",
            "                   False, False],\n",
            "       fill_value=999999), 'param_optimizer': masked_array(data=['rmsprop', 'adam', 'rmsprop', 'adam', 'rmsprop',\n",
            "                   'adam', 'rmsprop', 'adam', 'rmsprop', 'adam',\n",
            "                   'rmsprop', 'adam', 'rmsprop', 'adam', 'rmsprop',\n",
            "                   'adam', 'rmsprop', 'adam'],\n",
            "             mask=[False, False, False, False, False, False, False, False,\n",
            "                   False, False, False, False, False, False, False, False,\n",
            "                   False, False],\n",
            "       fill_value='?',\n",
            "            dtype=object), 'params': [{'batch_size': 10, 'epochs': 30, 'optimizer': 'rmsprop'}, {'batch_size': 10, 'epochs': 30, 'optimizer': 'adam'}, {'batch_size': 10, 'epochs': 50, 'optimizer': 'rmsprop'}, {'batch_size': 10, 'epochs': 50, 'optimizer': 'adam'}, {'batch_size': 10, 'epochs': 60, 'optimizer': 'rmsprop'}, {'batch_size': 10, 'epochs': 60, 'optimizer': 'adam'}, {'batch_size': 30, 'epochs': 30, 'optimizer': 'rmsprop'}, {'batch_size': 30, 'epochs': 30, 'optimizer': 'adam'}, {'batch_size': 30, 'epochs': 50, 'optimizer': 'rmsprop'}, {'batch_size': 30, 'epochs': 50, 'optimizer': 'adam'}, {'batch_size': 30, 'epochs': 60, 'optimizer': 'rmsprop'}, {'batch_size': 30, 'epochs': 60, 'optimizer': 'adam'}, {'batch_size': 50, 'epochs': 30, 'optimizer': 'rmsprop'}, {'batch_size': 50, 'epochs': 30, 'optimizer': 'adam'}, {'batch_size': 50, 'epochs': 50, 'optimizer': 'rmsprop'}, {'batch_size': 50, 'epochs': 50, 'optimizer': 'adam'}, {'batch_size': 50, 'epochs': 60, 'optimizer': 'rmsprop'}, {'batch_size': 50, 'epochs': 60, 'optimizer': 'adam'}], 'split0_test_score': array([0.91025641, 0.85897436, 0.94322344, 0.89102564, 0.87728938,\n",
            "       0.92673993, 0.87545788, 0.94047619, 0.93498168, 0.91117216,\n",
            "       0.91025641, 0.92673993, 0.91849817, 0.91941392, 0.83241758,\n",
            "       0.92032967, 0.91117216, 0.92490842]), 'split1_test_score': array([0.92857143, 0.94047619, 0.91391941, 0.93772894, 0.93498168,\n",
            "       0.94505495, 0.91391941, 0.90842491, 0.93589744, 0.91300366,\n",
            "       0.93315018, 0.93406593, 0.77838828, 0.8992674 , 0.86630037,\n",
            "       0.91941392, 0.93131868, 0.94139194]), 'split2_test_score': array([0.91849817, 0.85989011, 0.93406593, 0.86721612, 0.91208791,\n",
            "       0.90018315, 0.88278388, 0.92948718, 0.92765568, 0.92673993,\n",
            "       0.94047619, 0.91117216, 0.88003663, 0.91941392, 0.92032967,\n",
            "       0.93864469, 0.93498168, 0.91666667]), 'mean_test_score': array([0.91910867, 0.88644689, 0.93040293, 0.8986569 , 0.90811966,\n",
            "       0.92399267, 0.89072039, 0.92612943, 0.93284493, 0.91697192,\n",
            "       0.92796093, 0.92399267, 0.85897436, 0.91269841, 0.87301587,\n",
            "       0.92612943, 0.92582418, 0.92765568]), 'std_test_score': array([0.00748953, 0.03820632, 0.0122405 , 0.02928813, 0.02371934,\n",
            "       0.01842155, 0.0166746 , 0.01329855, 0.00368835, 0.00694738,\n",
            "       0.01287129, 0.00954609, 0.05910674, 0.00949716, 0.03620274,\n",
            "       0.00885752, 0.0104679 , 0.01027928]), 'rank_test_score': array([10, 16,  2, 14, 13,  8, 15,  5,  1, 11,  3,  8, 18, 12, 17,  5,  7,\n",
            "        4], dtype=int32)}\n"
          ]
        }
      ]
    },
    {
      "cell_type": "code",
      "source": [
        "best_grid_model = grid_result.best_estimator_.model_\n",
        "best_grid_model.summary()"
      ],
      "metadata": {
        "colab": {
          "base_uri": "https://localhost:8080/",
          "height": 475
        },
        "id": "IFfAF9gJfkdw",
        "outputId": "3aa3b6d4-0c99-4feb-aa78-734eda2032f0"
      },
      "execution_count": 90,
      "outputs": [
        {
          "output_type": "display_data",
          "data": {
            "text/plain": [
              "\u001b[1mModel: \"sequential_4\"\u001b[0m\n"
            ],
            "text/html": [
              "<pre style=\"white-space:pre;overflow-x:auto;line-height:normal;font-family:Menlo,'DejaVu Sans Mono',consolas,'Courier New',monospace\"><span style=\"font-weight: bold\">Model: \"sequential_4\"</span>\n",
              "</pre>\n"
            ]
          },
          "metadata": {}
        },
        {
          "output_type": "display_data",
          "data": {
            "text/plain": [
              "┏━━━━━━━━━━━━━━━━━━━━━━━━━━━━━━━━━━━━━━┳━━━━━━━━━━━━━━━━━━━━━━━━━━━━━┳━━━━━━━━━━━━━━━━━┓\n",
              "┃\u001b[1m \u001b[0m\u001b[1mLayer (type)                        \u001b[0m\u001b[1m \u001b[0m┃\u001b[1m \u001b[0m\u001b[1mOutput Shape               \u001b[0m\u001b[1m \u001b[0m┃\u001b[1m \u001b[0m\u001b[1m        Param #\u001b[0m\u001b[1m \u001b[0m┃\n",
              "┡━━━━━━━━━━━━━━━━━━━━━━━━━━━━━━━━━━━━━━╇━━━━━━━━━━━━━━━━━━━━━━━━━━━━━╇━━━━━━━━━━━━━━━━━┩\n",
              "│ conv2d_12 (\u001b[38;5;33mConv2D\u001b[0m)                   │ (\u001b[38;5;45mNone\u001b[0m, \u001b[38;5;34m126\u001b[0m, \u001b[38;5;34m92\u001b[0m, \u001b[38;5;34m32\u001b[0m)         │             \u001b[38;5;34m320\u001b[0m │\n",
              "├──────────────────────────────────────┼─────────────────────────────┼─────────────────┤\n",
              "│ max_pooling2d_12 (\u001b[38;5;33mMaxPooling2D\u001b[0m)      │ (\u001b[38;5;45mNone\u001b[0m, \u001b[38;5;34m63\u001b[0m, \u001b[38;5;34m46\u001b[0m, \u001b[38;5;34m32\u001b[0m)          │               \u001b[38;5;34m0\u001b[0m │\n",
              "├──────────────────────────────────────┼─────────────────────────────┼─────────────────┤\n",
              "│ conv2d_13 (\u001b[38;5;33mConv2D\u001b[0m)                   │ (\u001b[38;5;45mNone\u001b[0m, \u001b[38;5;34m61\u001b[0m, \u001b[38;5;34m44\u001b[0m, \u001b[38;5;34m64\u001b[0m)          │          \u001b[38;5;34m18,496\u001b[0m │\n",
              "├──────────────────────────────────────┼─────────────────────────────┼─────────────────┤\n",
              "│ max_pooling2d_13 (\u001b[38;5;33mMaxPooling2D\u001b[0m)      │ (\u001b[38;5;45mNone\u001b[0m, \u001b[38;5;34m30\u001b[0m, \u001b[38;5;34m22\u001b[0m, \u001b[38;5;34m64\u001b[0m)          │               \u001b[38;5;34m0\u001b[0m │\n",
              "├──────────────────────────────────────┼─────────────────────────────┼─────────────────┤\n",
              "│ conv2d_14 (\u001b[38;5;33mConv2D\u001b[0m)                   │ (\u001b[38;5;45mNone\u001b[0m, \u001b[38;5;34m28\u001b[0m, \u001b[38;5;34m20\u001b[0m, \u001b[38;5;34m128\u001b[0m)         │          \u001b[38;5;34m73,856\u001b[0m │\n",
              "├──────────────────────────────────────┼─────────────────────────────┼─────────────────┤\n",
              "│ max_pooling2d_14 (\u001b[38;5;33mMaxPooling2D\u001b[0m)      │ (\u001b[38;5;45mNone\u001b[0m, \u001b[38;5;34m14\u001b[0m, \u001b[38;5;34m10\u001b[0m, \u001b[38;5;34m128\u001b[0m)         │               \u001b[38;5;34m0\u001b[0m │\n",
              "├──────────────────────────────────────┼─────────────────────────────┼─────────────────┤\n",
              "│ flatten_4 (\u001b[38;5;33mFlatten\u001b[0m)                  │ (\u001b[38;5;45mNone\u001b[0m, \u001b[38;5;34m17920\u001b[0m)               │               \u001b[38;5;34m0\u001b[0m │\n",
              "├──────────────────────────────────────┼─────────────────────────────┼─────────────────┤\n",
              "│ dense_8 (\u001b[38;5;33mDense\u001b[0m)                      │ (\u001b[38;5;45mNone\u001b[0m, \u001b[38;5;34m128\u001b[0m)                 │       \u001b[38;5;34m2,293,888\u001b[0m │\n",
              "├──────────────────────────────────────┼─────────────────────────────┼─────────────────┤\n",
              "│ dropout_4 (\u001b[38;5;33mDropout\u001b[0m)                  │ (\u001b[38;5;45mNone\u001b[0m, \u001b[38;5;34m128\u001b[0m)                 │               \u001b[38;5;34m0\u001b[0m │\n",
              "├──────────────────────────────────────┼─────────────────────────────┼─────────────────┤\n",
              "│ dense_9 (\u001b[38;5;33mDense\u001b[0m)                      │ (\u001b[38;5;45mNone\u001b[0m, \u001b[38;5;34m10\u001b[0m)                  │           \u001b[38;5;34m1,290\u001b[0m │\n",
              "└──────────────────────────────────────┴─────────────────────────────┴─────────────────┘\n"
            ],
            "text/html": [
              "<pre style=\"white-space:pre;overflow-x:auto;line-height:normal;font-family:Menlo,'DejaVu Sans Mono',consolas,'Courier New',monospace\">┏━━━━━━━━━━━━━━━━━━━━━━━━━━━━━━━━━━━━━━┳━━━━━━━━━━━━━━━━━━━━━━━━━━━━━┳━━━━━━━━━━━━━━━━━┓\n",
              "┃<span style=\"font-weight: bold\"> Layer (type)                         </span>┃<span style=\"font-weight: bold\"> Output Shape                </span>┃<span style=\"font-weight: bold\">         Param # </span>┃\n",
              "┡━━━━━━━━━━━━━━━━━━━━━━━━━━━━━━━━━━━━━━╇━━━━━━━━━━━━━━━━━━━━━━━━━━━━━╇━━━━━━━━━━━━━━━━━┩\n",
              "│ conv2d_12 (<span style=\"color: #0087ff; text-decoration-color: #0087ff\">Conv2D</span>)                   │ (<span style=\"color: #00d7ff; text-decoration-color: #00d7ff\">None</span>, <span style=\"color: #00af00; text-decoration-color: #00af00\">126</span>, <span style=\"color: #00af00; text-decoration-color: #00af00\">92</span>, <span style=\"color: #00af00; text-decoration-color: #00af00\">32</span>)         │             <span style=\"color: #00af00; text-decoration-color: #00af00\">320</span> │\n",
              "├──────────────────────────────────────┼─────────────────────────────┼─────────────────┤\n",
              "│ max_pooling2d_12 (<span style=\"color: #0087ff; text-decoration-color: #0087ff\">MaxPooling2D</span>)      │ (<span style=\"color: #00d7ff; text-decoration-color: #00d7ff\">None</span>, <span style=\"color: #00af00; text-decoration-color: #00af00\">63</span>, <span style=\"color: #00af00; text-decoration-color: #00af00\">46</span>, <span style=\"color: #00af00; text-decoration-color: #00af00\">32</span>)          │               <span style=\"color: #00af00; text-decoration-color: #00af00\">0</span> │\n",
              "├──────────────────────────────────────┼─────────────────────────────┼─────────────────┤\n",
              "│ conv2d_13 (<span style=\"color: #0087ff; text-decoration-color: #0087ff\">Conv2D</span>)                   │ (<span style=\"color: #00d7ff; text-decoration-color: #00d7ff\">None</span>, <span style=\"color: #00af00; text-decoration-color: #00af00\">61</span>, <span style=\"color: #00af00; text-decoration-color: #00af00\">44</span>, <span style=\"color: #00af00; text-decoration-color: #00af00\">64</span>)          │          <span style=\"color: #00af00; text-decoration-color: #00af00\">18,496</span> │\n",
              "├──────────────────────────────────────┼─────────────────────────────┼─────────────────┤\n",
              "│ max_pooling2d_13 (<span style=\"color: #0087ff; text-decoration-color: #0087ff\">MaxPooling2D</span>)      │ (<span style=\"color: #00d7ff; text-decoration-color: #00d7ff\">None</span>, <span style=\"color: #00af00; text-decoration-color: #00af00\">30</span>, <span style=\"color: #00af00; text-decoration-color: #00af00\">22</span>, <span style=\"color: #00af00; text-decoration-color: #00af00\">64</span>)          │               <span style=\"color: #00af00; text-decoration-color: #00af00\">0</span> │\n",
              "├──────────────────────────────────────┼─────────────────────────────┼─────────────────┤\n",
              "│ conv2d_14 (<span style=\"color: #0087ff; text-decoration-color: #0087ff\">Conv2D</span>)                   │ (<span style=\"color: #00d7ff; text-decoration-color: #00d7ff\">None</span>, <span style=\"color: #00af00; text-decoration-color: #00af00\">28</span>, <span style=\"color: #00af00; text-decoration-color: #00af00\">20</span>, <span style=\"color: #00af00; text-decoration-color: #00af00\">128</span>)         │          <span style=\"color: #00af00; text-decoration-color: #00af00\">73,856</span> │\n",
              "├──────────────────────────────────────┼─────────────────────────────┼─────────────────┤\n",
              "│ max_pooling2d_14 (<span style=\"color: #0087ff; text-decoration-color: #0087ff\">MaxPooling2D</span>)      │ (<span style=\"color: #00d7ff; text-decoration-color: #00d7ff\">None</span>, <span style=\"color: #00af00; text-decoration-color: #00af00\">14</span>, <span style=\"color: #00af00; text-decoration-color: #00af00\">10</span>, <span style=\"color: #00af00; text-decoration-color: #00af00\">128</span>)         │               <span style=\"color: #00af00; text-decoration-color: #00af00\">0</span> │\n",
              "├──────────────────────────────────────┼─────────────────────────────┼─────────────────┤\n",
              "│ flatten_4 (<span style=\"color: #0087ff; text-decoration-color: #0087ff\">Flatten</span>)                  │ (<span style=\"color: #00d7ff; text-decoration-color: #00d7ff\">None</span>, <span style=\"color: #00af00; text-decoration-color: #00af00\">17920</span>)               │               <span style=\"color: #00af00; text-decoration-color: #00af00\">0</span> │\n",
              "├──────────────────────────────────────┼─────────────────────────────┼─────────────────┤\n",
              "│ dense_8 (<span style=\"color: #0087ff; text-decoration-color: #0087ff\">Dense</span>)                      │ (<span style=\"color: #00d7ff; text-decoration-color: #00d7ff\">None</span>, <span style=\"color: #00af00; text-decoration-color: #00af00\">128</span>)                 │       <span style=\"color: #00af00; text-decoration-color: #00af00\">2,293,888</span> │\n",
              "├──────────────────────────────────────┼─────────────────────────────┼─────────────────┤\n",
              "│ dropout_4 (<span style=\"color: #0087ff; text-decoration-color: #0087ff\">Dropout</span>)                  │ (<span style=\"color: #00d7ff; text-decoration-color: #00d7ff\">None</span>, <span style=\"color: #00af00; text-decoration-color: #00af00\">128</span>)                 │               <span style=\"color: #00af00; text-decoration-color: #00af00\">0</span> │\n",
              "├──────────────────────────────────────┼─────────────────────────────┼─────────────────┤\n",
              "│ dense_9 (<span style=\"color: #0087ff; text-decoration-color: #0087ff\">Dense</span>)                      │ (<span style=\"color: #00d7ff; text-decoration-color: #00d7ff\">None</span>, <span style=\"color: #00af00; text-decoration-color: #00af00\">10</span>)                  │           <span style=\"color: #00af00; text-decoration-color: #00af00\">1,290</span> │\n",
              "└──────────────────────────────────────┴─────────────────────────────┴─────────────────┘\n",
              "</pre>\n"
            ]
          },
          "metadata": {}
        },
        {
          "output_type": "display_data",
          "data": {
            "text/plain": [
              "\u001b[1m Total params: \u001b[0m\u001b[38;5;34m4,775,702\u001b[0m (18.22 MB)\n"
            ],
            "text/html": [
              "<pre style=\"white-space:pre;overflow-x:auto;line-height:normal;font-family:Menlo,'DejaVu Sans Mono',consolas,'Courier New',monospace\"><span style=\"font-weight: bold\"> Total params: </span><span style=\"color: #00af00; text-decoration-color: #00af00\">4,775,702</span> (18.22 MB)\n",
              "</pre>\n"
            ]
          },
          "metadata": {}
        },
        {
          "output_type": "display_data",
          "data": {
            "text/plain": [
              "\u001b[1m Trainable params: \u001b[0m\u001b[38;5;34m2,387,850\u001b[0m (9.11 MB)\n"
            ],
            "text/html": [
              "<pre style=\"white-space:pre;overflow-x:auto;line-height:normal;font-family:Menlo,'DejaVu Sans Mono',consolas,'Courier New',monospace\"><span style=\"font-weight: bold\"> Trainable params: </span><span style=\"color: #00af00; text-decoration-color: #00af00\">2,387,850</span> (9.11 MB)\n",
              "</pre>\n"
            ]
          },
          "metadata": {}
        },
        {
          "output_type": "display_data",
          "data": {
            "text/plain": [
              "\u001b[1m Non-trainable params: \u001b[0m\u001b[38;5;34m0\u001b[0m (0.00 B)\n"
            ],
            "text/html": [
              "<pre style=\"white-space:pre;overflow-x:auto;line-height:normal;font-family:Menlo,'DejaVu Sans Mono',consolas,'Courier New',monospace\"><span style=\"font-weight: bold\"> Non-trainable params: </span><span style=\"color: #00af00; text-decoration-color: #00af00\">0</span> (0.00 B)\n",
              "</pre>\n"
            ]
          },
          "metadata": {}
        },
        {
          "output_type": "display_data",
          "data": {
            "text/plain": [
              "\u001b[1m Optimizer params: \u001b[0m\u001b[38;5;34m2,387,852\u001b[0m (9.11 MB)\n"
            ],
            "text/html": [
              "<pre style=\"white-space:pre;overflow-x:auto;line-height:normal;font-family:Menlo,'DejaVu Sans Mono',consolas,'Courier New',monospace\"><span style=\"font-weight: bold\"> Optimizer params: </span><span style=\"color: #00af00; text-decoration-color: #00af00\">2,387,852</span> (9.11 MB)\n",
              "</pre>\n"
            ]
          },
          "metadata": {}
        }
      ]
    },
    {
      "cell_type": "code",
      "source": [
        "predictions  = best_grid_model.predict(x_test_reshaped)"
      ],
      "metadata": {
        "colab": {
          "base_uri": "https://localhost:8080/"
        },
        "id": "tg-G_nmwb39V",
        "outputId": "cc85a9f1-bf25-4c3b-9730-f27aa01595d1"
      },
      "execution_count": 91,
      "outputs": [
        {
          "output_type": "stream",
          "name": "stdout",
          "text": [
            "\u001b[1m26/26\u001b[0m \u001b[32m━━━━━━━━━━━━━━━━━━━━\u001b[0m\u001b[37m\u001b[0m \u001b[1m0s\u001b[0m 9ms/step\n"
          ]
        }
      ]
    },
    {
      "cell_type": "code",
      "source": [
        "loss, accuracy = best_grid_model.evaluate(x_test_reshaped, y_test_encoded)\n",
        "\n",
        "print('Test Loss:', loss)\n",
        "print('Test Accuracy:', accuracy)"
      ],
      "metadata": {
        "colab": {
          "base_uri": "https://localhost:8080/"
        },
        "id": "6q-NJ8LEcuPp",
        "outputId": "78aca0b7-cae4-47b8-8d05-aea6b7d5541f"
      },
      "execution_count": 92,
      "outputs": [
        {
          "output_type": "stream",
          "name": "stdout",
          "text": [
            "\u001b[1m26/26\u001b[0m \u001b[32m━━━━━━━━━━━━━━━━━━━━\u001b[0m\u001b[37m\u001b[0m \u001b[1m1s\u001b[0m 20ms/step - accuracy: 0.9796 - loss: 0.4788\n",
            "Test Loss: 0.4919234812259674\n",
            "Test Accuracy: 0.964634120464325\n"
          ]
        }
      ]
    },
    {
      "cell_type": "code",
      "source": [
        "predicted_classes = np.argmax(predictions, axis=1)\n",
        "predicted_classes"
      ],
      "metadata": {
        "colab": {
          "base_uri": "https://localhost:8080/"
        },
        "collapsed": true,
        "id": "sZk2gUtgcgWP",
        "outputId": "2a55e9eb-35b5-4299-a549-dd7c03f87029"
      },
      "execution_count": 93,
      "outputs": [
        {
          "output_type": "execute_result",
          "data": {
            "text/plain": [
              "array([4, 1, 3, 8, 0, 1, 0, 8, 6, 3, 4, 6, 3, 9, 9, 2, 7, 0, 0, 0, 6, 1,\n",
              "       6, 4, 7, 0, 8, 6, 0, 8, 6, 6, 3, 5, 9, 4, 1, 4, 4, 1, 0, 4, 0, 0,\n",
              "       7, 0, 4, 3, 3, 1, 0, 6, 4, 3, 4, 6, 0, 6, 4, 2, 9, 0, 4, 0, 6, 0,\n",
              "       0, 3, 3, 0, 0, 3, 0, 6, 3, 0, 1, 1, 2, 3, 4, 0, 6, 5, 0, 0, 3, 4,\n",
              "       0, 0, 6, 0, 3, 8, 0, 0, 8, 4, 3, 2, 4, 6, 4, 5, 4, 3, 1, 4, 8, 0,\n",
              "       6, 2, 0, 6, 4, 1, 3, 0, 7, 3, 4, 4, 8, 7, 1, 0, 2, 0, 4, 9, 8, 8,\n",
              "       3, 4, 0, 0, 4, 7, 3, 0, 2, 0, 4, 2, 3, 1, 4, 4, 9, 3, 4, 7, 6, 3,\n",
              "       3, 4, 3, 0, 4, 0, 3, 2, 4, 4, 0, 0, 8, 4, 6, 5, 4, 4, 3, 2, 8, 3,\n",
              "       3, 0, 4, 3, 4, 0, 0, 2, 8, 4, 4, 4, 6, 4, 6, 4, 6, 7, 4, 2, 4, 0,\n",
              "       1, 4, 4, 8, 0, 3, 4, 4, 3, 4, 3, 7, 8, 0, 8, 0, 4, 3, 0, 0, 1, 4,\n",
              "       0, 3, 0, 6, 4, 4, 4, 4, 0, 3, 0, 3, 6, 3, 3, 0, 3, 7, 7, 0, 4, 3,\n",
              "       4, 1, 4, 7, 0, 0, 0, 0, 6, 0, 0, 3, 1, 6, 0, 0, 1, 4, 4, 3, 7, 4,\n",
              "       5, 0, 1, 0, 0, 6, 8, 6, 9, 6, 9, 0, 3, 6, 5, 6, 8, 4, 9, 3, 9, 3,\n",
              "       0, 4, 6, 3, 0, 4, 0, 2, 0, 0, 3, 0, 4, 3, 4, 7, 0, 1, 3, 7, 0, 3,\n",
              "       1, 8, 6, 4, 7, 0, 5, 0, 7, 4, 4, 6, 4, 0, 8, 3, 8, 4, 1, 6, 4, 8,\n",
              "       6, 1, 0, 2, 8, 4, 3, 0, 8, 6, 2, 3, 2, 0, 8, 3, 0, 3, 4, 4, 4, 3,\n",
              "       3, 2, 1, 3, 6, 0, 4, 4, 0, 7, 1, 5, 2, 0, 7, 7, 5, 6, 4, 4, 0, 0,\n",
              "       5, 7, 6, 3, 0, 7, 6, 0, 1, 4, 0, 5, 4, 2, 3, 3, 8, 3, 4, 0, 3, 0,\n",
              "       4, 2, 0, 4, 6, 0, 4, 9, 0, 1, 0, 7, 0, 4, 9, 9, 0, 6, 0, 0, 6, 6,\n",
              "       6, 0, 0, 0, 3, 6, 0, 4, 0, 5, 0, 8, 3, 4, 2, 0, 3, 8, 0, 0, 7, 0,\n",
              "       0, 0, 4, 8, 3, 5, 0, 0, 8, 4, 6, 1, 9, 2, 7, 4, 3, 4, 4, 4, 3, 8,\n",
              "       1, 9, 5, 0, 8, 2, 0, 0, 3, 0, 6, 4, 6, 4, 3, 3, 1, 4, 1, 3, 0, 4,\n",
              "       6, 0, 4, 5, 0, 6, 0, 4, 0, 7, 0, 0, 6, 6, 4, 4, 8, 5, 4, 7, 7, 4,\n",
              "       3, 0, 8, 1, 8, 3, 6, 3, 4, 9, 9, 0, 0, 3, 4, 8, 5, 9, 4, 4, 6, 4,\n",
              "       3, 1, 0, 6, 3, 1, 0, 3, 0, 0, 9, 3, 3, 9, 2, 4, 4, 4, 6, 8, 4, 3,\n",
              "       3, 0, 8, 7, 3, 6, 6, 3, 7, 6, 1, 1, 0, 4, 8, 0, 7, 3, 5, 5, 1, 0,\n",
              "       9, 3, 3, 0, 2, 0, 7, 6, 0, 6, 4, 4, 5, 1, 1, 1, 1, 4, 0, 9, 3, 8,\n",
              "       3, 2, 0, 6, 3, 0, 2, 3, 5, 0, 4, 0, 7, 4, 8, 6, 6, 1, 3, 4, 4, 6,\n",
              "       0, 5, 4, 3, 4, 8, 0, 3, 3, 0, 4, 4, 8, 6, 3, 5, 4, 2, 4, 4, 3, 6,\n",
              "       0, 2, 0, 3, 4, 3, 6, 7, 2, 7, 9, 4, 1, 3, 0, 0, 8, 3, 3, 0, 2, 8,\n",
              "       4, 0, 8, 0, 7, 0, 6, 6, 0, 2, 4, 0, 2, 9, 4, 4, 0, 4, 4, 0, 4, 0,\n",
              "       3, 4, 4, 0, 4, 0, 4, 0, 0, 3, 0, 3, 0, 4, 3, 6, 0, 9, 5, 7, 3, 5,\n",
              "       3, 2, 1, 0, 6, 4, 6, 1, 5, 3, 4, 0, 6, 0, 4, 0, 6, 8, 7, 0, 3, 3,\n",
              "       0, 3, 0, 9, 8, 0, 6, 1, 1, 6, 4, 5, 4, 3, 4, 2, 6, 3, 0, 8, 6, 3,\n",
              "       4, 3, 6, 3, 4, 0, 8, 3, 8, 3, 4, 0, 0, 3, 7, 5, 4, 0, 3, 4, 3, 5,\n",
              "       3, 3, 8, 7, 0, 1, 6, 0, 8, 3, 5, 7, 7, 1, 5, 0, 6, 6, 4, 3, 8, 3,\n",
              "       7, 6, 4, 8, 1, 4, 9, 2, 3, 6, 4, 6, 0, 1, 6, 4, 5, 4, 6, 4, 3, 5,\n",
              "       0, 8, 8, 6, 2, 4])"
            ]
          },
          "metadata": {},
          "execution_count": 93
        }
      ]
    },
    {
      "cell_type": "code",
      "source": [
        "best_grid_model.save(\"/content/grid_model-loss0.94-acc0.96.keras\")"
      ],
      "metadata": {
        "id": "lqhEIl5tf9bg"
      },
      "execution_count": 94,
      "outputs": []
    },
    {
      "cell_type": "code",
      "source": [
        "from sklearn.metrics import confusion_matrix, ConfusionMatrixDisplay\n",
        "import matplotlib.pyplot as plt\n",
        "confusion_matrix1 = confusion_matrix(y_test, predicted_classes)\n",
        "\n",
        "ConfusionMatrixDisplay = ConfusionMatrixDisplay(confusion_matrix=confusion_matrix1, display_labels=class_list)\n",
        "fig, ax = plt.subplots(figsize=(10, 10))\n",
        "ConfusionMatrixDisplay.plot(ax=ax, cmap=\"afmhot\")\n",
        "plt.show()"
      ],
      "metadata": {
        "colab": {
          "base_uri": "https://localhost:8080/",
          "height": 660
        },
        "id": "xQ41C4WWcqBX",
        "outputId": "14a84722-cabb-4b77-b380-4351cff46463"
      },
      "execution_count": 95,
      "outputs": [
        {
          "output_type": "display_data",
          "data": {
            "text/plain": [
              "<Figure size 1000x1000 with 2 Axes>"
            ],
            "image/png": "[encoded data removed]"
          },
          "metadata": {}
        }
      ]
    },
    {
      "cell_type": "code",
      "source": [
        "f1_score(y_test, predicted_classes, average='macro')"
      ],
      "metadata": {
        "colab": {
          "base_uri": "https://localhost:8080/"
        },
        "id": "asD_kBsUh17Z",
        "outputId": "0a0f88de-b16a-40a6-f806-6c36ee573a79"
      },
      "execution_count": 96,
      "outputs": [
        {
          "output_type": "execute_result",
          "data": {
            "text/plain": [
              "0.961770000395904"
            ]
          },
          "metadata": {},
          "execution_count": 96
        }
      ]
    },
    {
      "cell_type": "code",
      "source": [
        "accuracy_score(y_test, predicted_classes)"
      ],
      "metadata": {
        "colab": {
          "base_uri": "https://localhost:8080/"
        },
        "id": "e1VBh1dWnqka",
        "outputId": "12b50cce-7a50-49cb-b14c-330fb2e42b8f"
      },
      "execution_count": 97,
      "outputs": [
        {
          "output_type": "execute_result",
          "data": {
            "text/plain": [
              "0.9646341463414634"
            ]
          },
          "metadata": {},
          "execution_count": 97
        }
      ]
    },
    {
      "cell_type": "code",
      "source": [
        "precision_score(y_test, predicted_classes, average='macro')"
      ],
      "metadata": {
        "colab": {
          "base_uri": "https://localhost:8080/"
        },
        "id": "BAVsP-8nnxuY",
        "outputId": "6a32d6ad-0bd6-4a47-e1c5-9116d353d0f3"
      },
      "execution_count": 98,
      "outputs": [
        {
          "output_type": "execute_result",
          "data": {
            "text/plain": [
              "0.9629869459366127"
            ]
          },
          "metadata": {},
          "execution_count": 98
        }
      ]
    },
    {
      "cell_type": "code",
      "source": [
        "recall_score(y_test, predicted_classes, average='macro')"
      ],
      "metadata": {
        "colab": {
          "base_uri": "https://localhost:8080/"
        },
        "id": "6PO_VbqZnyq_",
        "outputId": "e4f6dc9a-6f43-4c82-8f22-9a250711b191"
      },
      "execution_count": 99,
      "outputs": [
        {
          "output_type": "execute_result",
          "data": {
            "text/plain": [
              "0.9617081264123586"
            ]
          },
          "metadata": {},
          "execution_count": 99
        }
      ]
    },
    {
      "cell_type": "markdown",
      "source": [
        "# Re-train for traning history"
      ],
      "metadata": {
        "id": "n_4hbo2pNpUf"
      }
    },
    {
      "cell_type": "code",
      "source": [
        "re_model = models.Sequential([\n",
        "        # Input layer\n",
        "        Conv2D(filters=32, kernel_size=(3, 3), activation='relu',input_shape = input_shape),\n",
        "        MaxPooling2D(pool_size=(2, 2)),\n",
        "\n",
        "        # Hidden Conv2D layer\n",
        "        Conv2D(filters=64, kernel_size=(3, 3), activation='relu'),\n",
        "        MaxPooling2D(pool_size=(2, 2)),\n",
        "\n",
        "        # Hidden Conv2D layer\n",
        "        Conv2D(filters=128, kernel_size=(3, 3), activation='relu'),\n",
        "        MaxPooling2D(pool_size=(2, 2)),\n",
        "\n",
        "        # Flatten and dense layers\n",
        "        Flatten(),\n",
        "        Dense(128, activation='relu'),\n",
        "        Dropout(0.5),  # Prevent overfitting\n",
        "        Dense(10, activation='softmax')  # Output layer for 10 classes\n",
        "    ])\n",
        "re_model.compile(loss='categorical_crossentropy', optimizer=grid_result.best_params_['optimizer'], metrics=[\"accuracy\"])"
      ],
      "metadata": {
        "id": "kRS04KYHOUg2"
      },
      "execution_count": 108,
      "outputs": []
    },
    {
      "cell_type": "code",
      "source": [
        "gpu = tf.config.list_physical_devices('GPU')\n",
        "if gpu:\n",
        "  try:\n",
        "    with tf.device('/device:GPU:0'):\n",
        "      print(\"Training on GPU\")\n",
        "      grid_history = re_model.fit(x_train_reshaped, y_train_encoded, epochs=grid_result.best_params_['epochs'],\n",
        "                              batch_size=grid_result.best_params_['batch_size'], validation_split=0.2)\n",
        "  except RuntimeError as e:\n",
        "    print(e)\n",
        "else:\n",
        "  print(\"Training on CPU\")\n",
        "  grid_history = re_model.fit(x_train_reshaped, y_train_encoded, epochs=grid_result.best_params_['epochs'],\n",
        "                              batch_size=grid_result.best_params_['batch_size'], validation_split=0.2)"
      ],
      "metadata": {
        "colab": {
          "base_uri": "https://localhost:8080/"
        },
        "id": "QsdYNgaaO7yR",
        "outputId": "92f5f062-001a-4bba-e448-78aee46cb8eb"
      },
      "execution_count": 109,
      "outputs": [
        {
          "output_type": "stream",
          "name": "stdout",
          "text": [
            "Training on GPU\n",
            "Epoch 1/50\n",
            "\u001b[1m88/88\u001b[0m \u001b[32m━━━━━━━━━━━━━━━━━━━━\u001b[0m\u001b[37m\u001b[0m \u001b[1m5s\u001b[0m 34ms/step - accuracy: 0.1511 - loss: 12.0573 - val_accuracy: 0.1921 - val_loss: 2.2895\n",
            "Epoch 2/50\n",
            "\u001b[1m88/88\u001b[0m \u001b[32m━━━━━━━━━━━━━━━━━━━━\u001b[0m\u001b[37m\u001b[0m \u001b[1m1s\u001b[0m 12ms/step - accuracy: 0.2154 - loss: 2.2375 - val_accuracy: 0.2530 - val_loss: 2.2022\n",
            "Epoch 3/50\n",
            "\u001b[1m88/88\u001b[0m \u001b[32m━━━━━━━━━━━━━━━━━━━━\u001b[0m\u001b[37m\u001b[0m \u001b[1m1s\u001b[0m 11ms/step - accuracy: 0.2660 - loss: 1.9981 - val_accuracy: 0.3201 - val_loss: 1.9466\n",
            "Epoch 4/50\n",
            "\u001b[1m88/88\u001b[0m \u001b[32m━━━━━━━━━━━━━━━━━━━━\u001b[0m\u001b[37m\u001b[0m \u001b[1m1s\u001b[0m 13ms/step - accuracy: 0.3924 - loss: 1.7080 - val_accuracy: 0.4924 - val_loss: 1.3964\n",
            "Epoch 5/50\n",
            "\u001b[1m88/88\u001b[0m \u001b[32m━━━━━━━━━━━━━━━━━━━━\u001b[0m\u001b[37m\u001b[0m \u001b[1m1s\u001b[0m 13ms/step - accuracy: 0.4923 - loss: 1.4544 - val_accuracy: 0.5412 - val_loss: 1.2668\n",
            "Epoch 6/50\n",
            "\u001b[1m88/88\u001b[0m \u001b[32m━━━━━━━━━━━━━━━━━━━━\u001b[0m\u001b[37m\u001b[0m \u001b[1m1s\u001b[0m 13ms/step - accuracy: 0.5518 - loss: 1.3180 - val_accuracy: 0.5716 - val_loss: 1.1469\n",
            "Epoch 7/50\n",
            "\u001b[1m88/88\u001b[0m \u001b[32m━━━━━━━━━━━━━━━━━━━━\u001b[0m\u001b[37m\u001b[0m \u001b[1m1s\u001b[0m 14ms/step - accuracy: 0.6081 - loss: 1.0471 - val_accuracy: 0.5854 - val_loss: 1.0969\n",
            "Epoch 8/50\n",
            "\u001b[1m88/88\u001b[0m \u001b[32m━━━━━━━━━━━━━━━━━━━━\u001b[0m\u001b[37m\u001b[0m \u001b[1m1s\u001b[0m 12ms/step - accuracy: 0.6884 - loss: 0.9029 - val_accuracy: 0.7713 - val_loss: 0.6478\n",
            "Epoch 9/50\n",
            "\u001b[1m88/88\u001b[0m \u001b[32m━━━━━━━━━━━━━━━━━━━━\u001b[0m\u001b[37m\u001b[0m \u001b[1m1s\u001b[0m 12ms/step - accuracy: 0.7374 - loss: 0.7704 - val_accuracy: 0.7713 - val_loss: 0.6588\n",
            "Epoch 10/50\n",
            "\u001b[1m88/88\u001b[0m \u001b[32m━━━━━━━━━━━━━━━━━━━━\u001b[0m\u001b[37m\u001b[0m \u001b[1m1s\u001b[0m 12ms/step - accuracy: 0.7918 - loss: 0.6341 - val_accuracy: 0.8308 - val_loss: 0.5148\n",
            "Epoch 11/50\n",
            "\u001b[1m88/88\u001b[0m \u001b[32m━━━━━━━━━━━━━━━━━━━━\u001b[0m\u001b[37m\u001b[0m \u001b[1m1s\u001b[0m 12ms/step - accuracy: 0.8319 - loss: 0.5158 - val_accuracy: 0.7332 - val_loss: 0.7179\n",
            "Epoch 12/50\n",
            "\u001b[1m88/88\u001b[0m \u001b[32m━━━━━━━━━━━━━━━━━━━━\u001b[0m\u001b[37m\u001b[0m \u001b[1m1s\u001b[0m 12ms/step - accuracy: 0.8300 - loss: 0.4673 - val_accuracy: 0.8384 - val_loss: 0.4758\n",
            "Epoch 13/50\n",
            "\u001b[1m88/88\u001b[0m \u001b[32m━━━━━━━━━━━━━━━━━━━━\u001b[0m\u001b[37m\u001b[0m \u001b[1m1s\u001b[0m 12ms/step - accuracy: 0.8583 - loss: 0.4217 - val_accuracy: 0.8963 - val_loss: 0.3236\n",
            "Epoch 14/50\n",
            "\u001b[1m88/88\u001b[0m \u001b[32m━━━━━━━━━━━━━━━━━━━━\u001b[0m\u001b[37m\u001b[0m \u001b[1m1s\u001b[0m 12ms/step - accuracy: 0.8687 - loss: 0.3737 - val_accuracy: 0.8613 - val_loss: 0.4686\n",
            "Epoch 15/50\n",
            "\u001b[1m88/88\u001b[0m \u001b[32m━━━━━━━━━━━━━━━━━━━━\u001b[0m\u001b[37m\u001b[0m \u001b[1m1s\u001b[0m 12ms/step - accuracy: 0.8905 - loss: 0.3236 - val_accuracy: 0.8079 - val_loss: 0.5962\n",
            "Epoch 16/50\n",
            "\u001b[1m88/88\u001b[0m \u001b[32m━━━━━━━━━━━━━━━━━━━━\u001b[0m\u001b[37m\u001b[0m \u001b[1m1s\u001b[0m 12ms/step - accuracy: 0.8999 - loss: 0.3033 - val_accuracy: 0.9101 - val_loss: 0.3968\n",
            "Epoch 17/50\n",
            "\u001b[1m88/88\u001b[0m \u001b[32m━━━━━━━━━━━━━━━━━━━━\u001b[0m\u001b[37m\u001b[0m \u001b[1m1s\u001b[0m 13ms/step - accuracy: 0.9127 - loss: 0.3109 - val_accuracy: 0.8521 - val_loss: 0.5342\n",
            "Epoch 18/50\n",
            "\u001b[1m88/88\u001b[0m \u001b[32m━━━━━━━━━━━━━━━━━━━━\u001b[0m\u001b[37m\u001b[0m \u001b[1m1s\u001b[0m 14ms/step - accuracy: 0.9103 - loss: 0.2644 - val_accuracy: 0.8186 - val_loss: 0.6894\n",
            "Epoch 19/50\n",
            "\u001b[1m88/88\u001b[0m \u001b[32m━━━━━━━━━━━━━━━━━━━━\u001b[0m\u001b[37m\u001b[0m \u001b[1m1s\u001b[0m 12ms/step - accuracy: 0.9118 - loss: 0.2762 - val_accuracy: 0.8537 - val_loss: 0.4902\n",
            "Epoch 20/50\n",
            "\u001b[1m88/88\u001b[0m \u001b[32m━━━━━━━━━━━━━━━━━━━━\u001b[0m\u001b[37m\u001b[0m \u001b[1m1s\u001b[0m 11ms/step - accuracy: 0.9109 - loss: 0.2754 - val_accuracy: 0.9360 - val_loss: 0.2363\n",
            "Epoch 21/50\n",
            "\u001b[1m88/88\u001b[0m \u001b[32m━━━━━━━━━━━━━━━━━━━━\u001b[0m\u001b[37m\u001b[0m \u001b[1m1s\u001b[0m 12ms/step - accuracy: 0.9307 - loss: 0.2284 - val_accuracy: 0.8598 - val_loss: 0.4281\n",
            "Epoch 22/50\n",
            "\u001b[1m88/88\u001b[0m \u001b[32m━━━━━━━━━━━━━━━━━━━━\u001b[0m\u001b[37m\u001b[0m \u001b[1m1s\u001b[0m 12ms/step - accuracy: 0.9484 - loss: 0.2072 - val_accuracy: 0.9284 - val_loss: 0.2182\n",
            "Epoch 23/50\n",
            "\u001b[1m88/88\u001b[0m \u001b[32m━━━━━━━━━━━━━━━━━━━━\u001b[0m\u001b[37m\u001b[0m \u001b[1m1s\u001b[0m 11ms/step - accuracy: 0.9413 - loss: 0.1820 - val_accuracy: 0.9085 - val_loss: 0.3657\n",
            "Epoch 24/50\n",
            "\u001b[1m88/88\u001b[0m \u001b[32m━━━━━━━━━━━━━━━━━━━━\u001b[0m\u001b[37m\u001b[0m \u001b[1m1s\u001b[0m 11ms/step - accuracy: 0.9435 - loss: 0.2238 - val_accuracy: 0.9055 - val_loss: 0.3295\n",
            "Epoch 25/50\n",
            "\u001b[1m88/88\u001b[0m \u001b[32m━━━━━━━━━━━━━━━━━━━━\u001b[0m\u001b[37m\u001b[0m \u001b[1m1s\u001b[0m 11ms/step - accuracy: 0.9297 - loss: 0.2242 - val_accuracy: 0.9070 - val_loss: 0.3986\n",
            "Epoch 26/50\n",
            "\u001b[1m88/88\u001b[0m \u001b[32m━━━━━━━━━━━━━━━━━━━━\u001b[0m\u001b[37m\u001b[0m \u001b[1m2s\u001b[0m 19ms/step - accuracy: 0.9297 - loss: 0.2391 - val_accuracy: 0.9207 - val_loss: 0.3561\n",
            "Epoch 27/50\n",
            "\u001b[1m88/88\u001b[0m \u001b[32m━━━━━━━━━━━━━━━━━━━━\u001b[0m\u001b[37m\u001b[0m \u001b[1m2s\u001b[0m 14ms/step - accuracy: 0.9422 - loss: 0.2078 - val_accuracy: 0.9238 - val_loss: 0.3041\n",
            "Epoch 28/50\n",
            "\u001b[1m88/88\u001b[0m \u001b[32m━━━━━━━━━━━━━━━━━━━━\u001b[0m\u001b[37m\u001b[0m \u001b[1m2s\u001b[0m 12ms/step - accuracy: 0.9600 - loss: 0.1540 - val_accuracy: 0.9238 - val_loss: 0.3092\n",
            "Epoch 29/50\n",
            "\u001b[1m88/88\u001b[0m \u001b[32m━━━━━━━━━━━━━━━━━━━━\u001b[0m\u001b[37m\u001b[0m \u001b[1m1s\u001b[0m 11ms/step - accuracy: 0.9562 - loss: 0.1613 - val_accuracy: 0.9146 - val_loss: 0.2991\n",
            "Epoch 30/50\n",
            "\u001b[1m88/88\u001b[0m \u001b[32m━━━━━━━━━━━━━━━━━━━━\u001b[0m\u001b[37m\u001b[0m \u001b[1m1s\u001b[0m 12ms/step - accuracy: 0.9394 - loss: 0.1914 - val_accuracy: 0.9466 - val_loss: 0.2784\n",
            "Epoch 31/50\n",
            "\u001b[1m88/88\u001b[0m \u001b[32m━━━━━━━━━━━━━━━━━━━━\u001b[0m\u001b[37m\u001b[0m \u001b[1m1s\u001b[0m 11ms/step - accuracy: 0.9510 - loss: 0.1555 - val_accuracy: 0.9405 - val_loss: 0.2671\n",
            "Epoch 32/50\n",
            "\u001b[1m88/88\u001b[0m \u001b[32m━━━━━━━━━━━━━━━━━━━━\u001b[0m\u001b[37m\u001b[0m \u001b[1m1s\u001b[0m 11ms/step - accuracy: 0.9484 - loss: 0.1970 - val_accuracy: 0.9131 - val_loss: 0.3785\n",
            "Epoch 33/50\n",
            "\u001b[1m88/88\u001b[0m \u001b[32m━━━━━━━━━━━━━━━━━━━━\u001b[0m\u001b[37m\u001b[0m \u001b[1m1s\u001b[0m 11ms/step - accuracy: 0.9582 - loss: 0.1345 - val_accuracy: 0.9497 - val_loss: 0.1985\n",
            "Epoch 34/50\n",
            "\u001b[1m88/88\u001b[0m \u001b[32m━━━━━━━━━━━━━━━━━━━━\u001b[0m\u001b[37m\u001b[0m \u001b[1m1s\u001b[0m 12ms/step - accuracy: 0.9452 - loss: 0.2016 - val_accuracy: 0.9482 - val_loss: 0.2053\n",
            "Epoch 35/50\n",
            "\u001b[1m88/88\u001b[0m \u001b[32m━━━━━━━━━━━━━━━━━━━━\u001b[0m\u001b[37m\u001b[0m \u001b[1m1s\u001b[0m 11ms/step - accuracy: 0.9630 - loss: 0.1615 - val_accuracy: 0.9329 - val_loss: 0.3509\n",
            "Epoch 36/50\n",
            "\u001b[1m88/88\u001b[0m \u001b[32m━━━━━━━━━━━━━━━━━━━━\u001b[0m\u001b[37m\u001b[0m \u001b[1m1s\u001b[0m 11ms/step - accuracy: 0.9648 - loss: 0.1476 - val_accuracy: 0.9527 - val_loss: 0.2659\n",
            "Epoch 37/50\n",
            "\u001b[1m88/88\u001b[0m \u001b[32m━━━━━━━━━━━━━━━━━━━━\u001b[0m\u001b[37m\u001b[0m \u001b[1m1s\u001b[0m 13ms/step - accuracy: 0.9674 - loss: 0.1168 - val_accuracy: 0.9360 - val_loss: 0.2364\n",
            "Epoch 38/50\n",
            "\u001b[1m88/88\u001b[0m \u001b[32m━━━━━━━━━━━━━━━━━━━━\u001b[0m\u001b[37m\u001b[0m \u001b[1m1s\u001b[0m 13ms/step - accuracy: 0.9678 - loss: 0.1360 - val_accuracy: 0.9223 - val_loss: 0.3251\n",
            "Epoch 39/50\n",
            "\u001b[1m88/88\u001b[0m \u001b[32m━━━━━━━━━━━━━━━━━━━━\u001b[0m\u001b[37m\u001b[0m \u001b[1m1s\u001b[0m 13ms/step - accuracy: 0.9657 - loss: 0.1407 - val_accuracy: 0.9436 - val_loss: 0.2945\n",
            "Epoch 40/50\n",
            "\u001b[1m88/88\u001b[0m \u001b[32m━━━━━━━━━━━━━━━━━━━━\u001b[0m\u001b[37m\u001b[0m \u001b[1m1s\u001b[0m 12ms/step - accuracy: 0.9647 - loss: 0.1203 - val_accuracy: 0.9512 - val_loss: 0.2532\n",
            "Epoch 41/50\n",
            "\u001b[1m88/88\u001b[0m \u001b[32m━━━━━━━━━━━━━━━━━━━━\u001b[0m\u001b[37m\u001b[0m \u001b[1m1s\u001b[0m 11ms/step - accuracy: 0.9592 - loss: 0.1760 - val_accuracy: 0.9375 - val_loss: 0.4067\n",
            "Epoch 42/50\n",
            "\u001b[1m88/88\u001b[0m \u001b[32m━━━━━━━━━━━━━━━━━━━━\u001b[0m\u001b[37m\u001b[0m \u001b[1m1s\u001b[0m 11ms/step - accuracy: 0.9686 - loss: 0.1435 - val_accuracy: 0.9405 - val_loss: 0.2611\n",
            "Epoch 43/50\n",
            "\u001b[1m88/88\u001b[0m \u001b[32m━━━━━━━━━━━━━━━━━━━━\u001b[0m\u001b[37m\u001b[0m \u001b[1m1s\u001b[0m 12ms/step - accuracy: 0.9712 - loss: 0.1159 - val_accuracy: 0.9421 - val_loss: 0.3759\n",
            "Epoch 44/50\n",
            "\u001b[1m88/88\u001b[0m \u001b[32m━━━━━━━━━━━━━━━━━━━━\u001b[0m\u001b[37m\u001b[0m \u001b[1m1s\u001b[0m 12ms/step - accuracy: 0.9560 - loss: 0.1468 - val_accuracy: 0.9360 - val_loss: 0.2822\n",
            "Epoch 45/50\n",
            "\u001b[1m88/88\u001b[0m \u001b[32m━━━━━━━━━━━━━━━━━━━━\u001b[0m\u001b[37m\u001b[0m \u001b[1m1s\u001b[0m 12ms/step - accuracy: 0.9679 - loss: 0.1815 - val_accuracy: 0.9543 - val_loss: 0.2447\n",
            "Epoch 46/50\n",
            "\u001b[1m88/88\u001b[0m \u001b[32m━━━━━━━━━━━━━━━━━━━━\u001b[0m\u001b[37m\u001b[0m \u001b[1m2s\u001b[0m 17ms/step - accuracy: 0.9661 - loss: 0.1330 - val_accuracy: 0.9375 - val_loss: 0.3854\n",
            "Epoch 47/50\n",
            "\u001b[1m88/88\u001b[0m \u001b[32m━━━━━━━━━━━━━━━━━━━━\u001b[0m\u001b[37m\u001b[0m \u001b[1m2s\u001b[0m 12ms/step - accuracy: 0.9641 - loss: 0.1866 - val_accuracy: 0.9436 - val_loss: 0.3788\n",
            "Epoch 48/50\n",
            "\u001b[1m88/88\u001b[0m \u001b[32m━━━━━━━━━━━━━━━━━━━━\u001b[0m\u001b[37m\u001b[0m \u001b[1m1s\u001b[0m 13ms/step - accuracy: 0.9585 - loss: 0.2277 - val_accuracy: 0.9238 - val_loss: 0.3593\n",
            "Epoch 49/50\n",
            "\u001b[1m88/88\u001b[0m \u001b[32m━━━━━━━━━━━━━━━━━━━━\u001b[0m\u001b[37m\u001b[0m \u001b[1m1s\u001b[0m 13ms/step - accuracy: 0.9568 - loss: 0.1747 - val_accuracy: 0.9192 - val_loss: 0.7396\n",
            "Epoch 50/50\n",
            "\u001b[1m88/88\u001b[0m \u001b[32m━━━━━━━━━━━━━━━━━━━━\u001b[0m\u001b[37m\u001b[0m \u001b[1m1s\u001b[0m 13ms/step - accuracy: 0.9561 - loss: 0.2039 - val_accuracy: 0.9360 - val_loss: 0.3240\n"
          ]
        }
      ]
    },
    {
      "cell_type": "code",
      "source": [
        "plt.plot(grid_history.history['val_loss'], label=\"val_loss\")\n",
        "plt.plot(grid_history.history['val_accuracy'], label='val_accuracy')\n",
        "plt.legend()\n",
        "plt.show()"
      ],
      "metadata": {
        "colab": {
          "base_uri": "https://localhost:8080/",
          "height": 430
        },
        "id": "khyHw5mGPbSc",
        "outputId": "c776e8e9-5b01-4c79-8005-b9068882c600"
      },
      "execution_count": 111,
      "outputs": [
        {
          "output_type": "display_data",
          "data": {
            "text/plain": [
              "<Figure size 640x480 with 1 Axes>"
            ],
            "image/png": "[encoded data removed]"
          },
          "metadata": {}
        }
      ]
    },
    {
      "cell_type": "code",
      "source": [
        "plt.plot(grid_history.history['loss'], label=\"loss\")\n",
        "plt.plot(grid_history.history['accuracy'], label='accuracy')\n",
        "plt.legend()\n",
        "plt.show()"
      ],
      "metadata": {
        "colab": {
          "base_uri": "https://localhost:8080/",
          "height": 430
        },
        "id": "ucfoOZTxRZM6",
        "outputId": "2dba4f23-c0bb-46e5-fbae-d35a0897747c"
      },
      "execution_count": 131,
      "outputs": [
        {
          "output_type": "display_data",
          "data": {
            "text/plain": [
              "<Figure size 640x480 with 1 Axes>"
            ],
            "image/png": "[encoded data removed]"
          },
          "metadata": {}
        }
      ]
    },
    {
      "cell_type": "code",
      "source": [
        "plt.plot(grid_history.history['accuracy'], label=\"accuracy\")\n",
        "plt.plot(grid_history.history['val_accuracy'], label='val_accuracy')\n",
        "plt.legend()\n",
        "plt.show()"
      ],
      "metadata": {
        "colab": {
          "base_uri": "https://localhost:8080/",
          "height": 431
        },
        "id": "uJRk7sGVPj7E",
        "outputId": "9d8a5685-2c64-4006-9d3a-532f8b220217"
      },
      "execution_count": 112,
      "outputs": [
        {
          "output_type": "display_data",
          "data": {
            "text/plain": [
              "<Figure size 640x480 with 1 Axes>"
            ],
            "image/png": "[encoded data removed]"
          },
          "metadata": {}
        }
      ]
    },
    {
      "cell_type": "code",
      "source": [
        "plt.plot(grid_history.history['loss'], label='loss')\n",
        "plt.plot(grid_history.history['val_loss'], label='val_loss')\n",
        "plt.legend()\n",
        "plt.show()"
      ],
      "metadata": {
        "colab": {
          "base_uri": "https://localhost:8080/",
          "height": 430
        },
        "id": "wIpXA4T4PsMw",
        "outputId": "c1991d73-6772-4c2f-8d27-b26c34c0f9f2"
      },
      "execution_count": 115,
      "outputs": [
        {
          "output_type": "display_data",
          "data": {
            "text/plain": [
              "<Figure size 640x480 with 1 Axes>"
            ],
            "image/png": "[encoded data removed]"
          },
          "metadata": {}
        }
      ]
    }
  ]
}